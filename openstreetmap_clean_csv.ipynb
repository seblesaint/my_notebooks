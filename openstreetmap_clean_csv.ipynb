{
 "cells": [
  {
   "cell_type": "markdown",
   "metadata": {},
   "source": [
    "# CSV tags cleaning"
   ]
  },
  {
   "cell_type": "markdown",
   "metadata": {},
   "source": [
    "## street type naming"
   ]
  },
  {
   "cell_type": "code",
   "execution_count": 1,
   "metadata": {},
   "outputs": [],
   "source": [
    "import os, re, sqlite3, time, pandas, csv, codecs\n",
    "project_path = \"C:\\\\Users\\\\TO72078\\\\Documents\\\\BIG_DATA\\\\UDACITY\\\\projects\\\\openstreetmap\"\n",
    "db_name = 'toulouse'"
   ]
  },
  {
   "cell_type": "markdown",
   "metadata": {},
   "source": [
    "As for previous step (OSM2CVS and CSV2SQL), defining some helpful functions for CSV reading/writing management with Unicode support:"
   ]
  },
  {
   "cell_type": "code",
   "execution_count": 2,
   "metadata": {},
   "outputs": [],
   "source": [
    "def lazyread_csv_data(csv_path):\n",
    "    \"\"\"build a CSV row generator\"\"\"\n",
    "    with open(csv_path, 'rU') as data:\n",
    "        reader = csv.DictReader(data)\n",
    "        for row in reader:\n",
    "            # yealding instead of returning avoids in-memory work\n",
    "            yield {k: str_encode(v) for k, v in row.iteritems()}\n",
    "\n",
    "            \n",
    "def str_encode(v):\n",
    "    \"\"\"Return string object properly encoded if necessary\"\"\"\n",
    "    return v.encode('utf-8') if isinstance(v, unicode) else str(v)\n",
    "\n",
    "class UnicodeDictWriter(csv.DictWriter, object):\n",
    "    \"\"\"Extend csv.DictWriter to handle Unicode input\"\"\"\n",
    "\n",
    "    def writerow(self, row):\n",
    "        super(UnicodeDictWriter, self).writerow({\n",
    "            k: str_encode(v) for k, v in row.iteritems()\n",
    "        })"
   ]
  },
  {
   "cell_type": "markdown",
   "metadata": {},
   "source": [
    "writing function for cleaning street names:"
   ]
  },
  {
   "cell_type": "code",
   "execution_count": 3,
   "metadata": {},
   "outputs": [],
   "source": [
    "def capitalize_streetname(name):\n",
    "    # this function capitalizes every word except junction words\n",
    "    # words are separated by white spaces, dash, point...\n",
    "    \n",
    "    # initialize with lowering full name\n",
    "    s0 = name.lower()\n",
    "    # 1st step: capitalize first letter of every word\n",
    "    s1 = re.sub(r'((^|[\\.\\'\\s-])\\w{1})', lambda pattern: pattern.group(1).upper(), s0)\n",
    "    # 2d step: lower case of every junction word, such as 'le', 'la'...\n",
    "    s2 = re.sub(r'([DLE][aeut]?[s]?[\\'\\s-])', lambda pattern: pattern.group(1).lower(), s1)\n",
    "    return s2"
   ]
  },
  {
   "cell_type": "markdown",
   "metadata": {},
   "source": [
    "validating functions with fake names:"
   ]
  },
  {
   "cell_type": "code",
   "execution_count": 4,
   "metadata": {},
   "outputs": [
    {
     "name": "stdout",
     "output_type": "stream",
     "text": [
      "rue du Rendez-vous de l'estrapade ==> Rue du Rendez-Vous de l'Estrapade\n",
      "rue de la dalbade ==> Rue de la Dalbade\n",
      "AVENUE JEAN RIEUX du t.o.E.c ==> Avenue Jean Rieux du T.O.E.C\n"
     ]
    }
   ],
   "source": [
    "stest = [\"rue du Rendez-vous de l'estrapade\", \"rue de la dalbade\", \"AVENUE JEAN RIEUX du t.o.E.c\"]\n",
    "for s in stest:\n",
    "    print '%s ==> %s' % (s, capitalize_streetname(s))"
   ]
  },
  {
   "cell_type": "markdown",
   "metadata": {},
   "source": [
    "## zipcodes"
   ]
  },
  {
   "cell_type": "code",
   "execution_count": 5,
   "metadata": {},
   "outputs": [],
   "source": [
    "def standardize_zipcode(code):\n",
    "    \"\"\"\n",
    "    Standardizes the zipcode\n",
    "    Extracts or completes the given string to get the standard 5 digits code\n",
    "    \n",
    "    Args:\n",
    "        code: a string that must include at least two digits (french departments numbering)\n",
    "    Returns:\n",
    "        a string made of 5 digits\n",
    "        an empty string if given code did not contain the sequence '31'\n",
    "    Examples:\n",
    "        '31000'         ==> '31000'\n",
    "        '31'            ==> '31000'\n",
    "        ' 31200 blabla' ==> '31200'\n",
    "        'blabla3'       ==> ''\n",
    "    \"\"\"\n",
    "    \n",
    "    # searching for 2 to 5 digits\n",
    "    mysearch = re.search(r'(\\d{2,5})',code)\n",
    "    if mysearch:\n",
    "        scode = mysearch.group(1)\n",
    "        for i in range(len(scode), 5): scode += '0'\n",
    "    else:\n",
    "        scode = ''\n",
    "        \n",
    "    return scode"
   ]
  },
  {
   "cell_type": "markdown",
   "metadata": {},
   "source": [
    "Validating zipcode cleaning function: "
   ]
  },
  {
   "cell_type": "code",
   "execution_count": 6,
   "metadata": {},
   "outputs": [
    {
     "name": "stdout",
     "output_type": "stream",
     "text": [
      "'31000' ==> '31000'\n",
      "'31' ==> '31000'\n",
      "' 31200 blabla' ==> '31200'\n",
      "'blabla3' ==> ''\n"
     ]
    }
   ],
   "source": [
    "for code in ('31000', '31', ' 31200 blabla', 'blabla3'):\n",
    "    print '%s ==> %s' % (repr(code), repr(standardize_zipcode(code)))"
   ]
  },
  {
   "cell_type": "markdown",
   "metadata": {},
   "source": [
    "## Cities"
   ]
  },
  {
   "cell_type": "code",
   "execution_count": 7,
   "metadata": {},
   "outputs": [],
   "source": [
    "RE_CITYMAP = {\n",
    "    'Toulouse': re.compile(r'.*toulouse.*', re.I),\n",
    "    'Ramonville-Saint-Agne': re.compile(r'.*ramonville.*', re.I),\n",
    "    'Rouffiac-Tolosan': re.compile(r'.*rouffiac.*', re.I),\n",
    "    'Saint-Orens-de-Gameville': re.compile(r'.*saint.*orens.*', re.I)\n",
    "}"
   ]
  },
  {
   "cell_type": "code",
   "execution_count": 8,
   "metadata": {},
   "outputs": [],
   "source": [
    "def map_city(name):\n",
    "    'replace given name by mapping dict key if given name matches mapping dict corresponding regexp'\n",
    "    for k,v in RE_CITYMAP.items():\n",
    "        if v.match(name): return k\n",
    "    return name"
   ]
  },
  {
   "cell_type": "code",
   "execution_count": 9,
   "metadata": {},
   "outputs": [
    {
     "name": "stdout",
     "output_type": "stream",
     "text": [
      "'Ramonville st agne' ==> 'Ramonville-Saint-Agne'\n",
      "'Rouffiac' ==> 'Rouffiac-Tolosan'\n",
      "'saint orens' ==> 'Saint-Orens-de-Gameville'\n",
      "'Toulouse' ==> 'Toulouse'\n"
     ]
    }
   ],
   "source": [
    "for city in ('Ramonville st agne', 'Rouffiac', 'saint orens', 'Toulouse'):\n",
    "    print '%s ==> %s' % (repr(city), repr(map_city(city)))"
   ]
  },
  {
   "cell_type": "markdown",
   "metadata": {},
   "source": [
    "## applying cleaning procedure to all node and way tags with type `addr`:"
   ]
  },
  {
   "cell_type": "code",
   "execution_count": 12,
   "metadata": {},
   "outputs": [],
   "source": [
    "def clean_data(input_path, output_path):\n",
    "    \"\"\"Clean csv street types (limited to tags of type 'addr' and key 'street')\"\"\"\n",
    "    igenerator = lazyread_csv_data(input_path)\n",
    "    with codecs.open(output_path, 'w') as ofile:\n",
    "        owriter = UnicodeDictWriter(ofile, ['id', 'key', 'value', 'type', 'valid'])\n",
    "        owriter.writeheader()\n",
    "        for i, row in enumerate(igenerator):\n",
    "            if row['type'] == 'addr':\n",
    "                value = row['value']\n",
    "                if row['key'] == 'street':\n",
    "                    row['value'] = capitalize_streetname(value)\n",
    "                elif row['key'] == 'postcode':\n",
    "                    row['value'] = standardize_zipcode(value)\n",
    "                elif row['key'] == 'city':\n",
    "                    row['value'] = map_city(value)\n",
    "                if row['value'] != value: print '%s ==> %s' % (value, row['value'])\n",
    "            owriter.writerow(row)"
   ]
  },
  {
   "cell_type": "code",
   "execution_count": 13,
   "metadata": {},
   "outputs": [
    {
     "name": "stdout",
     "output_type": "stream",
     "text": [
      "********* Cleaning node_tags ***********\n",
      "31000;31100;31200;31300;31400;31500 ==> 31000\n",
      "toulouse ==> Toulouse\n",
      "31000;31100;31200;31300;31400;31500 ==> 31000\n",
      "TOULOUSE ==> Toulouse\n",
      "TOULOUSE ==> Toulouse\n",
      "31200‎ ==> 31200\n",
      "31200‎ ==> 31200\n",
      "TOULOUSE ==> Toulouse\n",
      "31520 Ramonville Saint Agne ==> 31520\n",
      "Vieille-Toulouse ==> Toulouse\n",
      "Vieille-Toulouse ==> Toulouse\n",
      "Vieille-Toulouse ==> Toulouse\n",
      "Vieille-Toulouse ==> Toulouse\n",
      "Vieille-Toulouse ==> Toulouse\n",
      "Vieille-Toulouse ==> Toulouse\n",
      "toulouse ==> Toulouse\n",
      "Ramonville ==> Ramonville-Saint-Agne\n",
      "Ramonville ==> Ramonville-Saint-Agne\n",
      "Ramonville ==> Ramonville-Saint-Agne\n",
      "Ramonville ==> Ramonville-Saint-Agne\n",
      "Ramonville ==> Ramonville-Saint-Agne\n",
      "Ramonville ==> Ramonville-Saint-Agne\n",
      "Ramonville ==> Ramonville-Saint-Agne\n",
      "Ramonville ==> Ramonville-Saint-Agne\n",
      "Ramonville ==> Ramonville-Saint-Agne\n",
      "TOULOUSE ==> Toulouse\n",
      "TOULOUSE ==> Toulouse\n",
      "Ramonville Saint Agne ==> Ramonville-Saint-Agne\n",
      "Toulouse Cedex 1 ==> Toulouse\n",
      "Toulouse Cedex 1 ==> Toulouse\n",
      "TOULOUSE ==> Toulouse\n",
      "********* Cleaning way_tags ***********\n",
      "TOULOUSE ==> Toulouse\n",
      "TOULOUSE ==> Toulouse\n",
      "TOULOUSE ==> Toulouse\n",
      "toulouse ==> Toulouse\n",
      "31700 BLAGNAC ==> 31700\n",
      "toulouse ==> Toulouse\n",
      "Ramonville ST Agne ==> Ramonville-Saint-Agne\n",
      "Ramonville Saint-Agne ==> Ramonville-Saint-Agne\n",
      "Ramonville Saint Agne ==> Ramonville-Saint-Agne\n",
      "saint orens ==> Saint-Orens-de-Gameville\n",
      "3140 ==> 31400\n",
      "Rouffiac ==> Rouffiac-Tolosan\n",
      "TOULOUSE Cedex 5 ==> Toulouse\n",
      "31000;31100;31200;31300;31400;31500 ==> 31000\n",
      "Ramonville Saint Agne ==> Ramonville-Saint-Agne\n"
     ]
    }
   ],
   "source": [
    "for table_name in ('node_tags', 'way_tags'):\n",
    "    print '********* Cleaning %s ***********' % table_name\n",
    "    input_file = os.path.join(project_path, \"%s_%s.csv\" % (db_name, table_name))\n",
    "    output_file = os.path.join(project_path, \"%s_%s_clean.csv\" % (db_name, table_name))\n",
    "    clean_data(input_file, output_file)"
   ]
  },
  {
   "cell_type": "code",
   "execution_count": null,
   "metadata": {},
   "outputs": [],
   "source": []
  }
 ],
 "metadata": {
  "kernelspec": {
   "display_name": "Python 2",
   "language": "python",
   "name": "python2"
  },
  "language_info": {
   "codemirror_mode": {
    "name": "ipython",
    "version": 2
   },
   "file_extension": ".py",
   "mimetype": "text/x-python",
   "name": "python",
   "nbconvert_exporter": "python",
   "pygments_lexer": "ipython2",
   "version": "2.7.14"
  }
 },
 "nbformat": 4,
 "nbformat_minor": 2
}
