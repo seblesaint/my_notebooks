{
 "cells": [
  {
   "cell_type": "code",
   "execution_count": 1,
   "metadata": {
    "collapsed": true
   },
   "outputs": [],
   "source": [
    "import os\n",
    "from bs4 import BeautifulSoup\n",
    "html_page = os.path.join('data', 'DataWrangling', \"FL-ATL.html\")\n",
    "\n",
    "with open(html_page, \"r\") as html:\n",
    "    soup = BeautifulSoup(html, \"html5lib\")"
   ]
  },
  {
   "cell_type": "code",
   "execution_count": 4,
   "metadata": {
    "collapsed": true
   },
   "outputs": [],
   "source": [
    "table = soup.find('table', attrs={\"class\":u\"dataTDRight\"})"
   ]
  },
  {
   "cell_type": "code",
   "execution_count": 7,
   "metadata": {
    "collapsed": true
   },
   "outputs": [],
   "source": [
    "rows = table.find_all('tr', attrs={\"class\":u\"dataTDRight\"})"
   ]
  },
  {
   "cell_type": "code",
   "execution_count": 8,
   "metadata": {},
   "outputs": [
    {
     "data": {
      "text/plain": [
       "<tr class=\"dataTDRight\">\\n\\t\\t<td style=\"font-family: Verdana, Geneva, Arial, Helvetica, sans-serif;\">2002</td><td style=\"font-family: Verdana, Geneva, Arial, Helvetica, sans-serif;\">10</td><td style=\"font-family: Verdana, Geneva, Arial, Helvetica, sans-serif;\">815,489</td><td style=\"font-family: Verdana, Geneva, Arial, Helvetica, sans-serif;\">92,565</td><td style=\"font-family: Verdana, Geneva, Arial, Helvetica, sans-serif;\">908,054</td>\\n\\t</tr>"
      ]
     },
     "execution_count": 8,
     "metadata": {},
     "output_type": "execute_result"
    }
   ],
   "source": [
    "rows[0]"
   ]
  },
  {
   "cell_type": "code",
   "execution_count": 9,
   "metadata": {},
   "outputs": [
    {
     "data": {
      "text/plain": [
       "[<td style=\"font-family: Verdana, Geneva, Arial, Helvetica, sans-serif;\">2002</td>,\n",
       " <td style=\"font-family: Verdana, Geneva, Arial, Helvetica, sans-serif;\">10</td>,\n",
       " <td style=\"font-family: Verdana, Geneva, Arial, Helvetica, sans-serif;\">815,489</td>,\n",
       " <td style=\"font-family: Verdana, Geneva, Arial, Helvetica, sans-serif;\">92,565</td>,\n",
       " <td style=\"font-family: Verdana, Geneva, Arial, Helvetica, sans-serif;\">908,054</td>]"
      ]
     },
     "execution_count": 9,
     "metadata": {},
     "output_type": "execute_result"
    }
   ],
   "source": [
    "rows[0].find_all('td')"
   ]
  },
  {
   "cell_type": "code",
   "execution_count": 18,
   "metadata": {},
   "outputs": [
    {
     "name": "stdout",
     "output_type": "stream",
     "text": [
      "{'INTERNATIONAL': 92565, 'TOTAL': 908054, 'month': 10, 'DOMESTIC': 815489, 'year': 2002}\n",
      "{'INTERNATIONAL': 91342, 'TOTAL': 858117, 'month': 11, 'DOMESTIC': 766775, 'year': 2002}\n",
      "{'INTERNATIONAL': 96881, 'TOTAL': 879056, 'month': 12, 'DOMESTIC': 782175, 'year': 2002}\n",
      "{'INTERNATIONAL': 1023994, 'TOTAL': 9109077, 'month': u'TOTAL', 'DOMESTIC': 8085083, 'year': 2002}\n",
      "{'INTERNATIONAL': 98053, 'TOTAL': 883704, 'month': 1, 'DOMESTIC': 785651, 'year': 2003}\n",
      "{'INTERNATIONAL': 85965, 'TOTAL': 776715, 'month': 2, 'DOMESTIC': 690750, 'year': 2003}\n",
      "{'INTERNATIONAL': 97929, 'TOTAL': 895563, 'month': 3, 'DOMESTIC': 797634, 'year': 2003}\n",
      "{'INTERNATIONAL': 89398, 'TOTAL': 856037, 'month': 4, 'DOMESTIC': 766639, 'year': 2003}\n",
      "{'INTERNATIONAL': 87671, 'TOTAL': 877528, 'month': 5, 'DOMESTIC': 789857, 'year': 2003}\n",
      "{'INTERNATIONAL': 95435, 'TOTAL': 894276, 'month': 6, 'DOMESTIC': 798841, 'year': 2003}\n",
      "{'INTERNATIONAL': 102795, 'TOTAL': 934870, 'month': 7, 'DOMESTIC': 832075, 'year': 2003}\n",
      "{'INTERNATIONAL': 102145, 'TOTAL': 933330, 'month': 8, 'DOMESTIC': 831185, 'year': 2003}\n",
      "{'INTERNATIONAL': 90681, 'TOTAL': 872945, 'month': 9, 'DOMESTIC': 782264, 'year': 2003}\n",
      "{'INTERNATIONAL': 91820, 'TOTAL': 910597, 'month': 10, 'DOMESTIC': 818777, 'year': 2003}\n",
      "{'INTERNATIONAL': 91004, 'TOTAL': 857270, 'month': 11, 'DOMESTIC': 766266, 'year': 2003}\n",
      "{'INTERNATIONAL': 97094, 'TOTAL': 895973, 'month': 12, 'DOMESTIC': 798879, 'year': 2003}\n",
      "{'INTERNATIONAL': 1129990, 'TOTAL': 10588808, 'month': u'TOTAL', 'DOMESTIC': 9458818, 'year': 2003}\n"
     ]
    }
   ],
   "source": [
    "header = ['year', 'month','DOMESTIC','INTERNATIONAL','TOTAL']\n",
    "for row in rows:\n",
    "    cells = row.find_all('td')\n",
    "    cells_dict=dict()\n",
    "    for i,cell in enumerate(cells):\n",
    "        try:\n",
    "            cells_dict[header[i]] = int(cell.text.replace(',',''))\n",
    "        except:\n",
    "            cells_dict[header[i]] = cell.text\n",
    "    print cells_dict"
   ]
  },
  {
   "cell_type": "code",
   "execution_count": null,
   "metadata": {
    "collapsed": true
   },
   "outputs": [],
   "source": []
  }
 ],
 "metadata": {
  "kernelspec": {
   "display_name": "Python 2",
   "language": "python",
   "name": "python2"
  },
  "language_info": {
   "codemirror_mode": {
    "name": "ipython",
    "version": 2
   },
   "file_extension": ".py",
   "mimetype": "text/x-python",
   "name": "python",
   "nbconvert_exporter": "python",
   "pygments_lexer": "ipython2",
   "version": "2.7.14"
  }
 },
 "nbformat": 4,
 "nbformat_minor": 2
}
