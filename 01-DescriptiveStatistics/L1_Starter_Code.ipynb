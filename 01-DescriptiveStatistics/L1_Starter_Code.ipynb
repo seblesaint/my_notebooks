{
 "cells": [
  {
   "cell_type": "markdown",
   "metadata": {},
   "source": [
    "Before we get started, a couple of reminders to keep in mind when using iPython notebooks:\n",
    "\n",
    "- Remember that you can see from the left side of a code cell when it was last run if there is a number within the brackets.\n",
    "- When you start a new notebook session, make sure you run all of the cells up to the point where you last left off. Even if the output is still visible from when you ran the cells in your previous session, the kernel starts in a fresh state so you'll need to reload the data, etc. on a new session.\n",
    "- The previous point is useful to keep in mind if your answers do not match what is expected in the lesson's quizzes. Try reloading the data and run all of the processing steps one by one in order to make sure that you are working with the same variables and data that are at each quiz stage.\n",
    "\n",
    "\n",
    "## Load Data from CSVs"
   ]
  },
  {
   "cell_type": "code",
   "execution_count": 1,
   "metadata": {
    "collapsed": true
   },
   "outputs": [],
   "source": [
    "import os\n",
    "csv_path = os.path.join('..', '2_IntroDataAnalysis')"
   ]
  },
  {
   "cell_type": "code",
   "execution_count": 2,
   "metadata": {
    "collapsed": true
   },
   "outputs": [],
   "source": [
    "import unicodecsv\n",
    "\n",
    "## Longer version of code (replaced with shorter, equivalent version below)\n",
    "\n",
    "# enrollments = []\n",
    "# f = open('enrollments.csv', 'rb')\n",
    "# reader = unicodecsv.DictReader(f)\n",
    "# for row in reader:\n",
    "#     enrollments.append(row)\n",
    "# f.close()\n",
    "\n",
    "with open(os.path.join(csv_path, 'enrollments.csv'), 'rb') as f:\n",
    "    reader = unicodecsv.DictReader(f)\n",
    "    enrollments = list(reader)"
   ]
  },
  {
   "cell_type": "code",
   "execution_count": 3,
   "metadata": {
    "collapsed": true
   },
   "outputs": [],
   "source": [
    "def read_csv(filepath):\n",
    "    with open(filepath, 'rb') as f:\n",
    "        reader = unicodecsv.DictReader(f)\n",
    "        rows = list(reader)\n",
    "    return rows"
   ]
  },
  {
   "cell_type": "code",
   "execution_count": 4,
   "metadata": {},
   "outputs": [
    {
     "name": "stdout",
     "output_type": "stream",
     "text": [
      "{u'status': u'canceled', u'is_udacity': u'True', u'is_canceled': u'True', u'join_date': u'2014-11-10', u'account_key': u'448', u'cancel_date': u'2015-01-14', u'days_to_cancel': u'65'}\n",
      "{u'lessons_completed': u'0.0', u'num_courses_visited': u'1.0', u'total_minutes_visited': u'11.6793745', u'projects_completed': u'0.0', u'acct': u'0', u'utc_date': u'2015-01-09'}\n",
      "{u'lesson_key': u'3176718735', u'processing_state': u'EVALUATED', u'account_key': u'256', u'assigned_rating': u'UNGRADED', u'completion_date': u'2015-01-16', u'creation_date': u'2015-01-14'}\n"
     ]
    }
   ],
   "source": [
    "#####################################\n",
    "#                 1                 #\n",
    "#####################################\n",
    "\n",
    "## Read in the data from daily_engagement.csv and project_submissions.csv \n",
    "## and store the results in the below variables.\n",
    "## Then look at the first row of each table.\n",
    "\n",
    "daily_engagement = read_csv(os.path.join(csv_path, 'daily_engagement.csv'))\n",
    "project_submissions = read_csv(os.path.join(csv_path, 'project_submissions.csv'))\n",
    "\n",
    "print(enrollments[0])\n",
    "print(daily_engagement[0])\n",
    "print(project_submissions[0])"
   ]
  },
  {
   "cell_type": "markdown",
   "metadata": {},
   "source": [
    "## Fixing Data Types"
   ]
  },
  {
   "cell_type": "code",
   "execution_count": 5,
   "metadata": {},
   "outputs": [
    {
     "data": {
      "text/plain": [
       "{u'account_key': u'448',\n",
       " u'cancel_date': datetime.datetime(2015, 1, 14, 0, 0),\n",
       " u'days_to_cancel': 65,\n",
       " u'is_canceled': True,\n",
       " u'is_udacity': True,\n",
       " u'join_date': datetime.datetime(2014, 11, 10, 0, 0),\n",
       " u'status': u'canceled'}"
      ]
     },
     "execution_count": 5,
     "metadata": {},
     "output_type": "execute_result"
    }
   ],
   "source": [
    "from datetime import datetime as dt\n",
    "\n",
    "# Takes a date as a string, and returns a Python datetime object. \n",
    "# If there is no date given, returns None\n",
    "def parse_date(date):\n",
    "    if date == '':\n",
    "        return None\n",
    "    else:\n",
    "        return dt.strptime(date, '%Y-%m-%d')\n",
    "    \n",
    "# Takes a string which is either an empty string or represents an integer,\n",
    "# and returns an int or None.\n",
    "def parse_maybe_int(i):\n",
    "    if i == '':\n",
    "        return None\n",
    "    else:\n",
    "        return int(i)\n",
    "\n",
    "# Clean up the data types in the enrollments table\n",
    "for enrollment in enrollments:\n",
    "    enrollment['cancel_date'] = parse_date(enrollment['cancel_date'])\n",
    "    enrollment['days_to_cancel'] = parse_maybe_int(enrollment['days_to_cancel'])\n",
    "    enrollment['is_canceled'] = enrollment['is_canceled'] == 'True'\n",
    "    enrollment['is_udacity'] = enrollment['is_udacity'] == 'True'\n",
    "    enrollment['join_date'] = parse_date(enrollment['join_date'])\n",
    "    \n",
    "enrollments[0]"
   ]
  },
  {
   "cell_type": "code",
   "execution_count": 6,
   "metadata": {},
   "outputs": [
    {
     "data": {
      "text/plain": [
       "{u'acct': u'0',\n",
       " u'lessons_completed': 0,\n",
       " u'num_courses_visited': 1,\n",
       " u'projects_completed': 0,\n",
       " u'total_minutes_visited': 11.6793745,\n",
       " u'utc_date': datetime.datetime(2015, 1, 9, 0, 0)}"
      ]
     },
     "execution_count": 6,
     "metadata": {},
     "output_type": "execute_result"
    }
   ],
   "source": [
    "# Clean up the data types in the engagement table\n",
    "for engagement_record in daily_engagement:\n",
    "    engagement_record['lessons_completed'] = int(float(engagement_record['lessons_completed']))\n",
    "    engagement_record['num_courses_visited'] = int(float(engagement_record['num_courses_visited']))\n",
    "    engagement_record['projects_completed'] = int(float(engagement_record['projects_completed']))\n",
    "    engagement_record['total_minutes_visited'] = float(engagement_record['total_minutes_visited'])\n",
    "    engagement_record['utc_date'] = parse_date(engagement_record['utc_date'])\n",
    "    \n",
    "daily_engagement[0]"
   ]
  },
  {
   "cell_type": "code",
   "execution_count": 7,
   "metadata": {},
   "outputs": [
    {
     "data": {
      "text/plain": [
       "{u'account_key': u'256',\n",
       " u'assigned_rating': u'UNGRADED',\n",
       " u'completion_date': datetime.datetime(2015, 1, 16, 0, 0),\n",
       " u'creation_date': datetime.datetime(2015, 1, 14, 0, 0),\n",
       " u'lesson_key': u'3176718735',\n",
       " u'processing_state': u'EVALUATED'}"
      ]
     },
     "execution_count": 7,
     "metadata": {},
     "output_type": "execute_result"
    }
   ],
   "source": [
    "# Clean up the data types in the submissions table\n",
    "for submission in project_submissions:\n",
    "    submission['completion_date'] = parse_date(submission['completion_date'])\n",
    "    submission['creation_date'] = parse_date(submission['creation_date'])\n",
    "\n",
    "project_submissions[0]"
   ]
  },
  {
   "cell_type": "markdown",
   "metadata": {},
   "source": [
    "Note when running the above cells that we are actively changing the contents of our data variables. If you try to run these cells multiple times in the same session, an error will occur.\n",
    "\n",
    "## Investigating the Data"
   ]
  },
  {
   "cell_type": "code",
   "execution_count": 8,
   "metadata": {},
   "outputs": [
    {
     "name": "stdout",
     "output_type": "stream",
     "text": [
      "(1640, 1302)\n",
      "(136240, 1237)\n",
      "(3642, 743)\n"
     ]
    }
   ],
   "source": [
    "#####################################\n",
    "#                 2                 #\n",
    "#####################################\n",
    "\n",
    "## Find the total number of rows and the number of unique students (account keys)\n",
    "## in each table.\n",
    "\n",
    "def count_students_with_set(csv_list, account_key):\n",
    "    accounts_set = set()\n",
    "    for row in csv_list:\n",
    "        accounts_set.add(row[account_key])\n",
    "    return len(csv_list), len(accounts_set)\n",
    "\n",
    "enrollment_num_rows, enrollment_num_unique_students = count_students_with_set(enrollments, 'account_key') \n",
    "engagement_num_rows, engagement_num_unique_students = count_students_with_set(daily_engagement, 'acct')\n",
    "submission_num_rows, submission_num_unique_students = count_students_with_set(project_submissions, 'account_key')\n",
    "\n",
    "print(enrollment_num_rows, enrollment_num_unique_students)\n",
    "print(engagement_num_rows, engagement_num_unique_students)\n",
    "print(submission_num_rows, submission_num_unique_students)"
   ]
  },
  {
   "cell_type": "markdown",
   "metadata": {},
   "source": [
    "## Problems in the Data"
   ]
  },
  {
   "cell_type": "code",
   "execution_count": 9,
   "metadata": {
    "collapsed": true
   },
   "outputs": [],
   "source": [
    "#####################################\n",
    "#                 3                 #\n",
    "#####################################\n",
    "\n",
    "## Rename the \"acct\" column in the daily_engagement table to \"account_key\".\n",
    "\n",
    "for row in daily_engagement:\n",
    "    row[u'account_key'] = row.pop('acct', None)\n"
   ]
  },
  {
   "cell_type": "code",
   "execution_count": 10,
   "metadata": {},
   "outputs": [
    {
     "name": "stdout",
     "output_type": "stream",
     "text": [
      "0\n"
     ]
    }
   ],
   "source": [
    "print daily_engagement[0]['account_key']"
   ]
  },
  {
   "cell_type": "markdown",
   "metadata": {},
   "source": [
    "Let's simplify the function!"
   ]
  },
  {
   "cell_type": "code",
   "execution_count": 11,
   "metadata": {
    "collapsed": true
   },
   "outputs": [],
   "source": [
    "def get_unique_students(csv_list):\n",
    "    accounts_set = set()\n",
    "    for row in csv_list:\n",
    "        accounts_set.add(row['account_key'])\n",
    "    return accounts_set"
   ]
  },
  {
   "cell_type": "code",
   "execution_count": 12,
   "metadata": {},
   "outputs": [
    {
     "name": "stdout",
     "output_type": "stream",
     "text": [
      "1302\n",
      "1237\n",
      "743\n"
     ]
    }
   ],
   "source": [
    "unique_enrolled_students = get_unique_students(enrollments)\n",
    "print(len(unique_enrolled_students))\n",
    "unique_engagement_students = get_unique_students(daily_engagement)\n",
    "print(len(unique_engagement_students))\n",
    "unique_project_submitters = get_unique_students(project_submissions)\n",
    "print(len(unique_project_submitters))"
   ]
  },
  {
   "cell_type": "markdown",
   "metadata": {},
   "source": [
    "## Missing Engagement Records"
   ]
  },
  {
   "cell_type": "code",
   "execution_count": 13,
   "metadata": {},
   "outputs": [
    {
     "name": "stdout",
     "output_type": "stream",
     "text": [
      "{u'status': u'canceled', u'is_udacity': False, u'is_canceled': True, u'join_date': datetime.datetime(2014, 11, 12, 0, 0), u'account_key': u'1219', u'cancel_date': datetime.datetime(2014, 11, 12, 0, 0), u'days_to_cancel': 0}\n"
     ]
    }
   ],
   "source": [
    "#####################################\n",
    "#                 4                 #\n",
    "#####################################\n",
    "\n",
    "## Find any one student enrollments where the student is missing from the daily engagement table.\n",
    "## Output that enrollment.\n",
    "for student in enrollments:\n",
    "    if student['account_key'] not in unique_engagement_students:\n",
    "        print student\n",
    "        break"
   ]
  },
  {
   "cell_type": "markdown",
   "metadata": {},
   "source": [
    "## Checking for More Problem Records"
   ]
  },
  {
   "cell_type": "code",
   "execution_count": 14,
   "metadata": {},
   "outputs": [
    {
     "name": "stdout",
     "output_type": "stream",
     "text": [
      "{u'status': u'canceled', u'is_udacity': True, u'is_canceled': True, u'join_date': datetime.datetime(2015, 1, 10, 0, 0), u'account_key': u'1304', u'cancel_date': datetime.datetime(2015, 3, 10, 0, 0), u'days_to_cancel': 59}\n",
      "{u'status': u'canceled', u'is_udacity': True, u'is_canceled': True, u'join_date': datetime.datetime(2015, 3, 10, 0, 0), u'account_key': u'1304', u'cancel_date': datetime.datetime(2015, 6, 17, 0, 0), u'days_to_cancel': 99}\n",
      "{u'status': u'current', u'is_udacity': True, u'is_canceled': False, u'join_date': datetime.datetime(2015, 2, 25, 0, 0), u'account_key': u'1101', u'cancel_date': None, u'days_to_cancel': None}\n",
      "3\n"
     ]
    }
   ],
   "source": [
    "#####################################\n",
    "#                 5                 #\n",
    "#####################################\n",
    "\n",
    "## Find the number of surprising data points (enrollments missing from\n",
    "## the engagement table) that remain, if any.\n",
    "nb_surprising_points = 0\n",
    "for student in enrollments:\n",
    "    if student['account_key'] not in unique_engagement_students:\n",
    "        if student['days_to_cancel'] > 0 or student['days_to_cancel'] is None:\n",
    "            print student\n",
    "            nb_surprising_points += 1\n",
    "print nb_surprising_points\n",
    "        "
   ]
  },
  {
   "cell_type": "markdown",
   "metadata": {},
   "source": [
    "## Tracking Down the Remaining Problems"
   ]
  },
  {
   "cell_type": "code",
   "execution_count": 15,
   "metadata": {},
   "outputs": [
    {
     "data": {
      "text/plain": [
       "6"
      ]
     },
     "execution_count": 15,
     "metadata": {},
     "output_type": "execute_result"
    }
   ],
   "source": [
    "# Create a set of the account keys for all Udacity test accounts\n",
    "udacity_test_accounts = set()\n",
    "for enrollment in enrollments:\n",
    "    if enrollment['is_udacity']:\n",
    "        udacity_test_accounts.add(enrollment['account_key'])\n",
    "len(udacity_test_accounts)"
   ]
  },
  {
   "cell_type": "code",
   "execution_count": 16,
   "metadata": {
    "collapsed": true
   },
   "outputs": [],
   "source": [
    "# Given some data with an account_key field, removes any records corresponding to Udacity test accounts\n",
    "def remove_udacity_accounts(data):\n",
    "    non_udacity_data = []\n",
    "    for data_point in data:\n",
    "        if data_point['account_key'] not in udacity_test_accounts:\n",
    "            non_udacity_data.append(data_point)\n",
    "    return non_udacity_data"
   ]
  },
  {
   "cell_type": "code",
   "execution_count": 17,
   "metadata": {},
   "outputs": [
    {
     "name": "stdout",
     "output_type": "stream",
     "text": [
      "1622\n",
      "135656\n",
      "3634\n"
     ]
    }
   ],
   "source": [
    "# Remove Udacity test accounts from all three tables\n",
    "non_udacity_enrollments = remove_udacity_accounts(enrollments)\n",
    "non_udacity_engagement = remove_udacity_accounts(daily_engagement)\n",
    "non_udacity_submissions = remove_udacity_accounts(project_submissions)\n",
    "\n",
    "print len(non_udacity_enrollments)\n",
    "print len(non_udacity_engagement)\n",
    "print len(non_udacity_submissions)"
   ]
  },
  {
   "cell_type": "markdown",
   "metadata": {},
   "source": [
    "## Refining the Question"
   ]
  },
  {
   "cell_type": "code",
   "execution_count": 18,
   "metadata": {},
   "outputs": [
    {
     "name": "stdout",
     "output_type": "stream",
     "text": [
      "995\n"
     ]
    }
   ],
   "source": [
    "#####################################\n",
    "#                 6                 #\n",
    "#####################################\n",
    "\n",
    "## Create a dictionary named paid_students containing all students who either\n",
    "## haven't canceled yet or who remained enrolled for more than 7 days. The keys\n",
    "## should be account keys, and the values should be the date the student enrolled.\n",
    "\n",
    "paid_students = dict()\n",
    "for student in non_udacity_enrollments:\n",
    "    if student['days_to_cancel'] > 7 or not student['is_canceled']:\n",
    "        account_key = student['account_key']\n",
    "        join_date = student['join_date']\n",
    "        if account_key not in paid_students or join_date > paid_students[account_key]:\n",
    "            paid_students[account_key] = join_date\n",
    "print len(paid_students.keys())\n",
    "        "
   ]
  },
  {
   "cell_type": "code",
   "execution_count": 19,
   "metadata": {},
   "outputs": [
    {
     "name": "stdout",
     "output_type": "stream",
     "text": [
      "1293\n",
      "134549\n",
      "3618\n"
     ]
    }
   ],
   "source": [
    "def remove_free_trials(data):\n",
    "    new_data = list()\n",
    "    for row in data:\n",
    "        if row['account_key'] in paid_students:\n",
    "            new_data.append(row)\n",
    "    return new_data\n",
    "\n",
    "paid_enrollments = remove_free_trials(non_udacity_enrollments)\n",
    "paid_engagement = remove_free_trials(non_udacity_engagement)\n",
    "paid_submissions = remove_free_trials(non_udacity_submissions)\n",
    "\n",
    "print len(paid_enrollments)\n",
    "print len(paid_engagement)\n",
    "print len(paid_submissions)"
   ]
  },
  {
   "cell_type": "code",
   "execution_count": 20,
   "metadata": {
    "collapsed": true
   },
   "outputs": [],
   "source": [
    "\n",
    "for record in paid_engagement:\n",
    "    if record['num_courses_visited'] > 0:\n",
    "        record['has_visited'] = 1\n",
    "    else:\n",
    "        record['has_visited'] = 0"
   ]
  },
  {
   "cell_type": "markdown",
   "metadata": {},
   "source": [
    "## Getting Data from First Week"
   ]
  },
  {
   "cell_type": "code",
   "execution_count": 21,
   "metadata": {
    "collapsed": true
   },
   "outputs": [],
   "source": [
    "# Takes a student's join date and the date of a specific engagement record,\n",
    "# and returns True if that engagement record happened within one week\n",
    "# of the student joining.\n",
    "def within_one_week(join_date, engagement_date):\n",
    "    time_delta = engagement_date - join_date\n",
    "    return time_delta.days < 7 and time_delta.days >=0"
   ]
  },
  {
   "cell_type": "code",
   "execution_count": 22,
   "metadata": {},
   "outputs": [
    {
     "data": {
      "text/plain": [
       "6919"
      ]
     },
     "execution_count": 22,
     "metadata": {},
     "output_type": "execute_result"
    }
   ],
   "source": [
    "#####################################\n",
    "#                 7                 #\n",
    "#####################################\n",
    "\n",
    "## Create a list of rows from the engagement table including only rows where\n",
    "## the student is one of the paid students you just found, and the date is within\n",
    "## one week of the student's join date.\n",
    "\n",
    "paid_engagement_in_first_week = list()\n",
    "for engagement in paid_engagement:\n",
    "    account_key = engagement['account_key']\n",
    "    engagement_date = engagement['utc_date']\n",
    "    if within_one_week(paid_students[account_key], engagement_date):\n",
    "        paid_engagement_in_first_week.append(engagement)\n",
    "\n",
    "len(paid_engagement_in_first_week)"
   ]
  },
  {
   "cell_type": "markdown",
   "metadata": {},
   "source": [
    "## Exploring Student Engagement"
   ]
  },
  {
   "cell_type": "code",
   "execution_count": 23,
   "metadata": {},
   "outputs": [
    {
     "data": {
      "text/plain": [
       "995"
      ]
     },
     "execution_count": 23,
     "metadata": {},
     "output_type": "execute_result"
    }
   ],
   "source": [
    "from collections import defaultdict\n",
    "\n",
    "# Create a dictionary of engagement grouped by student.\n",
    "# The keys are account keys, and the values are lists of engagement records.\n",
    "engagement_by_account = defaultdict(list)\n",
    "for engagement_record in paid_engagement_in_first_week:\n",
    "    account_key = engagement_record['account_key']\n",
    "    engagement_by_account[account_key].append(engagement_record)\n",
    "\n",
    "len(engagement_by_account.keys())"
   ]
  },
  {
   "cell_type": "code",
   "execution_count": 24,
   "metadata": {
    "collapsed": true
   },
   "outputs": [],
   "source": [
    "# Create a dictionary with the total minutes each student spent in the classroom during the first week.\n",
    "# The keys are account keys, and the values are numbers (total minutes)\n",
    "total_minutes_by_account = {}\n",
    "for account_key, engagement_for_student in engagement_by_account.items():\n",
    "    total_minutes = 0\n",
    "    for engagement_record in engagement_for_student:\n",
    "        total_minutes += engagement_record['total_minutes_visited']\n",
    "    total_minutes_by_account[account_key] = total_minutes\n",
    "    if total_minutes > 7*24*60:\n",
    "        print len(engagement_by_account[account_key])\n",
    "        for engagement_record in engagement_for_student:\n",
    "            print engagement_record['utc_date'] - paid_students[account_key]\n",
    " \n",
    "                \n",
    "       "
   ]
  },
  {
   "cell_type": "code",
   "execution_count": 25,
   "metadata": {},
   "outputs": [
    {
     "name": "stdout",
     "output_type": "stream",
     "text": [
      "Mean: 306.708326753\n",
      "Standard deviation: 412.996933409\n",
      "Minimum: 0.0\n",
      "Maximum: 3564.7332645\n"
     ]
    }
   ],
   "source": [
    "import numpy as np\n",
    "\n",
    "# Summarize the data about minutes spent in the classroom\n",
    "total_minutes = total_minutes_by_account.values()\n",
    "print 'Mean:', np.mean(total_minutes)\n",
    "print 'Standard deviation:', np.std(total_minutes)\n",
    "print 'Minimum:', np.min(total_minutes)\n",
    "print 'Maximum:', np.max(total_minutes)"
   ]
  },
  {
   "cell_type": "markdown",
   "metadata": {},
   "source": [
    "## Debugging Data Analysis Code"
   ]
  },
  {
   "cell_type": "code",
   "execution_count": 26,
   "metadata": {
    "collapsed": true
   },
   "outputs": [],
   "source": [
    "#####################################\n",
    "#                 8                 #\n",
    "#####################################\n",
    "\n",
    "## Go through a similar process as before to see if there is a problem.\n",
    "## Locate at least one surprising piece of data, output it, and take a look at it.\n",
    "\n",
    "## account_key 108 joined and cancelled a lot of time, needed to fix within_one_week function"
   ]
  },
  {
   "cell_type": "markdown",
   "metadata": {},
   "source": [
    "## Lessons Completed in First Week"
   ]
  },
  {
   "cell_type": "code",
   "execution_count": 27,
   "metadata": {},
   "outputs": [
    {
     "name": "stdout",
     "output_type": "stream",
     "text": [
      "Mean: 306.708326753\n",
      "Standard deviation: 412.996933409\n",
      "Minimum: 0.0\n",
      "Maximum: 3564.7332645\n",
      "Mean: 1.63618090452\n",
      "Standard deviation: 3.00256129983\n",
      "Minimum: 0\n",
      "Maximum: 36\n"
     ]
    }
   ],
   "source": [
    "#####################################\n",
    "#                 9                 #\n",
    "#####################################\n",
    "\n",
    "## Adapt the code above to find the mean, standard deviation, minimum, and maximum for\n",
    "## the number of lessons completed by each student during the first week. Try creating\n",
    "## one or more functions to re-use the code above.\n",
    "\n",
    "def group_data(data, key_name):\n",
    "    grouped_data = defaultdict(list)\n",
    "    for data_record in data:\n",
    "        value = data_record[key_name]\n",
    "        grouped_data[value].append(data_record)\n",
    "    return grouped_data\n",
    "\n",
    "        \n",
    "def sum_grouped_items(grouped_data, field_name):\n",
    "    summed_data = {}\n",
    "    for key, grouped_values in grouped_data.items():\n",
    "        total = 0\n",
    "        for record in grouped_values:\n",
    "            total += record[field_name]\n",
    "        summed_data[key] = total\n",
    "    return summed_data\n",
    "\n",
    "def extract_data(total_object):\n",
    "    if type(total_object) == dict:\n",
    "        values = total_object.values()\n",
    "    else:\n",
    "        values = total_object\n",
    "    return (np.mean(values),np.std(values),np.min(values),np.max(values))\n",
    "\n",
    "\n",
    "def describe_data(total_object):\n",
    "    stats = extract_data(total_object)\n",
    "    print 'Mean:', stats[0]\n",
    "    print 'Standard deviation:', stats[1]\n",
    "    print 'Minimum:', stats[2]\n",
    "    print 'Maximum:', stats[3]\n",
    "    \n",
    "\n",
    "engagement_by_account = group_data(paid_engagement_in_first_week, 'account_key')\n",
    "\n",
    "total_minutes_by_account = sum_grouped_items(engagement_by_account, 'total_minutes_visited')\n",
    "describe_data(total_minutes_by_account)\n",
    "\n",
    "total_number_lessons_by_account = sum_grouped_items(engagement_by_account, 'lessons_completed')\n",
    "describe_data(total_number_lessons_by_account)\n",
    "\n",
    "\n"
   ]
  },
  {
   "cell_type": "markdown",
   "metadata": {},
   "source": [
    "## Number of Visits in First Week"
   ]
  },
  {
   "cell_type": "code",
   "execution_count": 28,
   "metadata": {},
   "outputs": [
    {
     "name": "stdout",
     "output_type": "stream",
     "text": [
      "Mean: 2.86733668342\n",
      "Standard deviation: 2.25519800292\n",
      "Minimum: 0\n",
      "Maximum: 7\n"
     ]
    }
   ],
   "source": [
    "######################################\n",
    "#                 10                 #\n",
    "######################################\n",
    "\n",
    "## Find the mean, standard deviation, minimum, and maximum for the number of\n",
    "## days each student visits the classroom during the first week.\n",
    "\n",
    "\n",
    "total_num_days_of_visit = sum_grouped_items(engagement_by_account, 'has_visited')\n",
    "describe_data(total_num_days_of_visit)"
   ]
  },
  {
   "cell_type": "markdown",
   "metadata": {},
   "source": [
    "## Splitting out Passing Students"
   ]
  },
  {
   "cell_type": "code",
   "execution_count": 29,
   "metadata": {},
   "outputs": [
    {
     "name": "stdout",
     "output_type": "stream",
     "text": [
      "(4527, 2392)\n"
     ]
    }
   ],
   "source": [
    "######################################\n",
    "#                 11                 #\n",
    "######################################\n",
    "\n",
    "## Create two lists of engagement data for paid students in the first week.\n",
    "## The first list should contain data for students who eventually pass the\n",
    "## subway project, and the second list should contain data for students\n",
    "## who do not.\n",
    "\n",
    "subway_project_lesson_keys = ['746169184', '3176718735']\n",
    "\n",
    "subway_passed = set()\n",
    "for submission_record in paid_submissions:\n",
    "    account = submission_record['account_key']\n",
    "    grade = submission_record['assigned_rating']\n",
    "    project = submission_record['lesson_key']\n",
    "    if project in subway_project_lesson_keys:\n",
    "        if grade in ('PASSED', 'DISTINCTION'):\n",
    "            subway_passed.add(account)\n",
    "\n",
    "passing_engagement = list()\n",
    "non_passing_engagement = list()\n",
    "\n",
    "for account, records in engagement_by_account.items():\n",
    "    if account in subway_passed:\n",
    "        passing_engagement.extend(records)\n",
    "    else:\n",
    "        non_passing_engagement.extend(records)\n",
    "\n",
    "print(len(passing_engagement), len(non_passing_engagement))\n",
    "    \n",
    "    "
   ]
  },
  {
   "cell_type": "markdown",
   "metadata": {},
   "source": [
    "## Comparing the Two Student Groups"
   ]
  },
  {
   "cell_type": "code",
   "execution_count": 30,
   "metadata": {},
   "outputs": [
    {
     "name": "stdout",
     "output_type": "stream",
     "text": [
      "Mean: 394.586046484\n",
      "Standard deviation: 448.499519327\n",
      "Minimum: 0.0\n",
      "Maximum: 3564.7332645\n"
     ]
    },
    {
     "ename": "TypeError",
     "evalue": "'NoneType' object is not iterable",
     "output_type": "error",
     "traceback": [
      "\u001b[1;31m---------------------------------------------------------------------------\u001b[0m",
      "\u001b[1;31mTypeError\u001b[0m                                 Traceback (most recent call last)",
      "\u001b[1;32m<ipython-input-30-e76470a459f5>\u001b[0m in \u001b[0;36m<module>\u001b[1;34m()\u001b[0m\n\u001b[0;32m     18\u001b[0m             \u001b[0mmetrics_by_non_passing_account\u001b[0m\u001b[1;33m[\u001b[0m\u001b[0maccount\u001b[0m\u001b[1;33m]\u001b[0m \u001b[1;33m=\u001b[0m \u001b[0mtotal_metrics\u001b[0m\u001b[1;33m\u001b[0m\u001b[0m\n\u001b[0;32m     19\u001b[0m \u001b[1;33m\u001b[0m\u001b[0m\n\u001b[1;32m---> 20\u001b[1;33m     \u001b[1;33m(\u001b[0m\u001b[0mpassing_mean\u001b[0m\u001b[1;33m,\u001b[0m \u001b[0mpassing_stdev\u001b[0m\u001b[1;33m,\u001b[0m \u001b[0mpassin_min\u001b[0m\u001b[1;33m,\u001b[0m \u001b[0mpassing_max\u001b[0m\u001b[1;33m)\u001b[0m \u001b[1;33m=\u001b[0m \u001b[0mdescribe_data\u001b[0m\u001b[1;33m(\u001b[0m\u001b[0mmetrics_by_passing_account\u001b[0m\u001b[1;33m)\u001b[0m\u001b[1;33m\u001b[0m\u001b[0m\n\u001b[0m\u001b[0;32m     21\u001b[0m     \u001b[1;33m(\u001b[0m\u001b[0mnon_passing_mean\u001b[0m\u001b[1;33m,\u001b[0m \u001b[0mnon_passing_stdev\u001b[0m\u001b[1;33m,\u001b[0m \u001b[0mnon_passin_min\u001b[0m\u001b[1;33m,\u001b[0m \u001b[0mnon_passing_max\u001b[0m\u001b[1;33m)\u001b[0m \u001b[1;33m=\u001b[0m \u001b[0mdescribe_data\u001b[0m\u001b[1;33m(\u001b[0m\u001b[0mmetrics_by_non_passing_account\u001b[0m\u001b[1;33m)\u001b[0m\u001b[1;33m\u001b[0m\u001b[0m\n\u001b[0;32m     22\u001b[0m \u001b[1;33m\u001b[0m\u001b[0m\n",
      "\u001b[1;31mTypeError\u001b[0m: 'NoneType' object is not iterable"
     ]
    }
   ],
   "source": [
    "######################################\n",
    "#                 12                 #\n",
    "######################################\n",
    "\n",
    "## Compute some metrics you're interested in and see how they differ for\n",
    "## students who pass the subway project vs. students who don't. A good\n",
    "## starting point would be the metrics we looked at earlier (minutes spent\n",
    "## in the classroom, lessons completed, and days visited).\n",
    "\n",
    "for metrics_by_account in (total_minutes_by_account, total_number_lessons_by_account, total_num_days_of_visit):\n",
    "    metrics_by_passing_account = dict()\n",
    "    metrics_by_non_passing_account = dict()\n",
    "    \n",
    "    for account, total_metrics in metrics_by_account.items():\n",
    "        if account in subway_passed:\n",
    "            metrics_by_passing_account[account] = total_metrics\n",
    "        else:\n",
    "            metrics_by_non_passing_account[account] = total_metrics\n",
    "\n",
    "    (passing_mean, passing_stdev, passin_min, passing_max) = describe_data(metrics_by_passing_account)\n",
    "    (non_passing_mean, non_passing_stdev, non_passin_min, non_passing_max) = describe_data(metrics_by_non_passing_account)\n",
    "\n",
    "    print (passing_mean - non_passing_mean)\n",
    "    print '%.0f%%' % ((passing_mean - non_passing_mean) / non_passing_mean * 100)\n"
   ]
  },
  {
   "cell_type": "code",
   "execution_count": 31,
   "metadata": {
    "collapsed": true
   },
   "outputs": [],
   "source": [
    "passing_engagement_by_account = group_data(passing_engagement, 'account_key')\n",
    "total_minutes_by_passing_account = sum_grouped_items(passing_engagement_by_account, 'total_minutes_visited')\n",
    "total_number_lessons_by_passing_account = sum_grouped_items(passing_engagement_by_account, 'lessons_completed')\n",
    "total_num_days_of_visit_by_passing_account = sum_grouped_items(passing_engagement_by_account, 'has_visited')\n",
    "\n",
    "non_passing_engagement_by_account = group_data(non_passing_engagement, 'account_key')\n",
    "total_minutes_by_non_passing_account = sum_grouped_items(non_passing_engagement_by_account, 'total_minutes_visited')\n",
    "total_number_lessons_by_non_passing_account = sum_grouped_items(non_passing_engagement_by_account, 'lessons_completed')\n",
    "total_num_days_of_visit_by_non_passing_account = sum_grouped_items(non_passing_engagement_by_account, 'has_visited')"
   ]
  },
  {
   "cell_type": "code",
   "execution_count": 32,
   "metadata": {},
   "outputs": [
    {
     "name": "stdout",
     "output_type": "stream",
     "text": [
      "Statistics:           mean, stdev, min, max\n",
      "Minutes spent:\n",
      "passing students    : 394.6, 448.5, 0.0, 3564.733264\n",
      "non passing students: 143.3, 269.5, 0.0, 1768.522749\n",
      "Number of lessons:\n",
      "passing students    : 2.1, 3.1, 0.0, 36.000000\n",
      "non passing students: 0.9, 2.5, 0.0, 27.000000\n",
      "Number of days:\n",
      "passing students    : 3.4, 2.3, 0.0, 7.000000\n",
      "non passing students: 1.9, 1.9, 0.0, 7.000000\n"
     ]
    }
   ],
   "source": [
    "print 'Statistics:           mean, stdev, min, max'\n",
    "print 'Minutes spent:'\n",
    "print 'passing students    : %.1f, %.1f, %.1f, %1f' % extract_data(total_minutes_by_passing_account)\n",
    "print 'non passing students: %.1f, %.1f, %.1f, %1f' % extract_data(total_minutes_by_non_passing_account)\n",
    "print 'Number of lessons:'\n",
    "print 'passing students    : %.1f, %.1f, %.1f, %1f' % extract_data(total_number_lessons_by_passing_account)\n",
    "print 'non passing students: %.1f, %.1f, %.1f, %1f' % extract_data(total_number_lessons_by_non_passing_account)\n",
    "print 'Number of days:'\n",
    "print 'passing students    : %.1f, %.1f, %.1f, %1f' % extract_data(total_num_days_of_visit_by_passing_account)\n",
    "print 'non passing students: %.1f, %.1f, %.1f, %1f' % extract_data(total_num_days_of_visit_by_non_passing_account)"
   ]
  },
  {
   "cell_type": "markdown",
   "metadata": {},
   "source": [
    "## Making Histograms"
   ]
  },
  {
   "cell_type": "code",
   "execution_count": 33,
   "metadata": {},
   "outputs": [
    {
     "name": "stdout",
     "output_type": "stream",
     "text": [
      "Statistics:           mean, stdev, min, max\n",
      "Minutes spent:\n",
      "passing students    : 394.6, 448.5, 0.0, 3564.733264\n",
      "non passing students: 143.3, 269.5, 0.0, 1768.522749\n"
     ]
    },
    {
     "data": {
      "text/plain": [
       "<matplotlib.text.Text at 0x1499ce80>"
      ]
     },
     "execution_count": 33,
     "metadata": {},
     "output_type": "execute_result"
    },
    {
     "data": {
      "image/png": "[encoded data removed]",
      "text/plain": [
       "<matplotlib.figure.Figure at 0x1477bf28>"
      ]
     },
     "metadata": {},
     "output_type": "display_data"
    }
   ],
   "source": [
    "######################################\n",
    "#                 13                 #\n",
    "######################################\n",
    "\n",
    "## Make histograms of the three metrics we looked at earlier for both\n",
    "## students who passed the subway project and students who didn't. You\n",
    "## might also want to make histograms of any other metrics you examined.\n",
    "%matplotlib inline\n",
    "import matplotlib.pyplot as plt\n",
    "print 'Statistics:           mean, stdev, min, max'\n",
    "print 'Minutes spent:'\n",
    "print 'passing students    : %.1f, %.1f, %.1f, %1f' % extract_data(total_minutes_by_passing_account)\n",
    "print 'non passing students: %.1f, %.1f, %.1f, %1f' % extract_data(total_minutes_by_non_passing_account)\n",
    "plt.hist(total_minutes_by_passing_account.values())\n",
    "plt.hist(total_minutes_by_non_passing_account.values())\n",
    "plt.xlabel('Minutes spent')\n",
    "plt.ylabel('Number of students')"
   ]
  },
  {
   "cell_type": "code",
   "execution_count": 104,
   "metadata": {},
   "outputs": [
    {
     "name": "stdout",
     "output_type": "stream",
     "text": [
      "Number of lessons:\n",
      "passing students    : 2.1, 3.1, 0.0, 36.000000\n",
      "non passing students: 0.9, 2.5, 0.0, 27.000000\n"
     ]
    },
    {
     "data": {
      "text/plain": [
       "(array([ 302.,   15.,   12.,    5.,    2.,    4.,    3.,    1.,    1.,\n",
       "           0.,    0.,    1.,    0.,    0.,    1.,    0.,    0.,    0.,\n",
       "           0.,    1.]),\n",
       " array([  0.  ,   1.35,   2.7 ,   4.05,   5.4 ,   6.75,   8.1 ,   9.45,\n",
       "         10.8 ,  12.15,  13.5 ,  14.85,  16.2 ,  17.55,  18.9 ,  20.25,\n",
       "         21.6 ,  22.95,  24.3 ,  25.65,  27.  ]),\n",
       " <a list of 20 Patch objects>)"
      ]
     },
     "execution_count": 104,
     "metadata": {},
     "output_type": "execute_result"
    },
    {
     "data": {
      "image/png": "[encoded data removed]",
      "text/plain": [
       "<matplotlib.figure.Figure at 0xf21ce10>"
      ]
     },
     "metadata": {},
     "output_type": "display_data"
    }
   ],
   "source": [
    "print 'Number of lessons:'\n",
    "print 'passing students    : %.1f, %.1f, %.1f, %1f' % extract_data(total_number_lessons_by_passing_account)\n",
    "print 'non passing students: %.1f, %.1f, %.1f, %1f' % extract_data(total_number_lessons_by_non_passing_account)\n",
    "plt.hist(total_number_lessons_by_passing_account.values(), bins=20)\n",
    "plt.hist(total_number_lessons_by_non_passing_account.values(), bins=20)"
   ]
  },
  {
   "cell_type": "code",
   "execution_count": 105,
   "metadata": {},
   "outputs": [
    {
     "name": "stdout",
     "output_type": "stream",
     "text": [
      "Number of days:\n",
      "passing students    : 3.4, 2.3, 0.0, 7.000000\n",
      "non passing students: 1.9, 1.9, 0.0, 7.000000\n"
     ]
    },
    {
     "data": {
      "text/plain": [
       "(array([ 97.,  90.,  56.,  41.,  15.,  24.,  25.]),\n",
       " array([ 0.,  1.,  2.,  3.,  4.,  5.,  6.,  7.]),\n",
       " <a list of 7 Patch objects>)"
      ]
     },
     "execution_count": 105,
     "metadata": {},
     "output_type": "execute_result"
    },
    {
     "data": {
      "image/png": "[encoded data removed]",
      "text/plain": [
       "<matplotlib.figure.Figure at 0xf21c978>"
      ]
     },
     "metadata": {},
     "output_type": "display_data"
    }
   ],
   "source": [
    "print 'Number of days:'\n",
    "print 'passing students    : %.1f, %.1f, %.1f, %1f' % extract_data(total_num_days_of_visit_by_passing_account)\n",
    "print 'non passing students: %.1f, %.1f, %.1f, %1f' % extract_data(total_num_days_of_visit_by_non_passing_account)\n",
    "plt.hist(total_num_days_of_visit_by_passing_account.values(), bins=7)\n",
    "plt.hist(total_num_days_of_visit_by_non_passing_account.values(), bins=7)"
   ]
  },
  {
   "cell_type": "markdown",
   "metadata": {},
   "source": [
    "## Improving Plots and Sharing Findings"
   ]
  },
  {
   "cell_type": "code",
   "execution_count": 106,
   "metadata": {},
   "outputs": [
    {
     "data": {
      "text/plain": [
       "<matplotlib.axes._subplots.AxesSubplot at 0x12edec2b0>"
      ]
     },
     "execution_count": 106,
     "metadata": {},
     "output_type": "execute_result"
    },
    {
     "data": {
      "image/png": "[encoded data removed]",
      "text/plain": [
       "<matplotlib.figure.Figure at 0xf21c898>"
      ]
     },
     "metadata": {},
     "output_type": "display_data"
    }
   ],
   "source": [
    "######################################\n",
    "#                 14                 #\n",
    "######################################\n",
    "\n",
    "## Make a more polished version of at least one of your visualizations\n",
    "## from earlier. Try importing the seaborn library to make the visualization\n",
    "## look better, adding axis labels and a title, and changing one or more\n",
    "## arguments to the hist() function.\n",
    "\n",
    "import seaborn as sns\n",
    "\n",
    "x = total_number_lessons_by_passing_account.values()\n",
    "\n",
    "sns.set()\n",
    "#plt.hist(x, bins=20)\n",
    "sns.distplot(x, bins=20)"
   ]
  },
  {
   "cell_type": "code",
   "execution_count": 107,
   "metadata": {},
   "outputs": [
    {
     "data": {
      "image/png": "[encoded data removed]",
      "text/plain": [
       "<matplotlib.figure.Figure at 0x130bbc518>"
      ]
     },
     "metadata": {},
     "output_type": "display_data"
    }
   ],
   "source": [
    "sns.distplot(x, kde=False, rug=True, bins=50);"
   ]
  },
  {
   "cell_type": "code",
   "execution_count": 108,
   "metadata": {},
   "outputs": [
    {
     "data": {
      "image/png": "[encoded data removed]",
      "text/plain": [
       "<matplotlib.figure.Figure at 0x130bbcac8>"
      ]
     },
     "metadata": {},
     "output_type": "display_data"
    }
   ],
   "source": [
    "import pandas as pd\n",
    "x = total_number_lessons_by_passing_account.values()\n",
    "y = total_minutes_by_passing_account.values()\n",
    "data = np.column_stack((x,y))\n",
    "df = pd.DataFrame(data, columns=[\"lessons\", \"minutes\"])\n",
    "sns.jointplot(x=\"lessons\", y=\"minutes\", data=df, kind='kde');"
   ]
  },
  {
   "cell_type": "code",
   "execution_count": 109,
   "metadata": {},
   "outputs": [
    {
     "data": {
      "text/plain": [
       "<seaborn.axisgrid.PairGrid at 0x12bf2fc50>"
      ]
     },
     "execution_count": 109,
     "metadata": {},
     "output_type": "execute_result"
    },
    {
     "data": {
      "image/png": "[encoded data removed]",
      "text/plain": [
       "<matplotlib.figure.Figure at 0x130bbc438>"
      ]
     },
     "metadata": {},
     "output_type": "display_data"
    }
   ],
   "source": [
    "sns.pairplot(df)"
   ]
  },
  {
   "cell_type": "markdown",
   "metadata": {},
   "source": [
    "# using Pandas"
   ]
  },
  {
   "cell_type": "markdown",
   "metadata": {},
   "source": [
    "### pandas much quicker that open + unicode.ReaderDict !!!"
   ]
  },
  {
   "cell_type": "code",
   "execution_count": 110,
   "metadata": {
    "collapsed": true
   },
   "outputs": [],
   "source": [
    "daily_engagement_full = read_csv(os.path.join(csv_path, 'daily_engagement_full.csv'))"
   ]
  },
  {
   "cell_type": "code",
   "execution_count": 111,
   "metadata": {
    "collapsed": true
   },
   "outputs": [],
   "source": [
    "daily_engagement_full = pd.read_csv(os.path.join(csv_path, 'daily_engagement_full.csv'))"
   ]
  },
  {
   "cell_type": "markdown",
   "metadata": {},
   "source": [
    "### pandas handles struct arrays !!!"
   ]
  },
  {
   "cell_type": "code",
   "execution_count": 112,
   "metadata": {},
   "outputs": [
    {
     "data": {
      "text/html": [
       "<div>\n",
       "<style>\n",
       "    .dataframe thead tr:only-child th {\n",
       "        text-align: right;\n",
       "    }\n",
       "\n",
       "    .dataframe thead th {\n",
       "        text-align: left;\n",
       "    }\n",
       "\n",
       "    .dataframe tbody tr th {\n",
       "        vertical-align: top;\n",
       "    }\n",
       "</style>\n",
       "<table border=\"1\" class=\"dataframe\">\n",
       "  <thead>\n",
       "    <tr style=\"text-align: right;\">\n",
       "      <th></th>\n",
       "      <th>utc_date</th>\n",
       "      <th>acct</th>\n",
       "      <th>registration_date</th>\n",
       "      <th>subscription_start</th>\n",
       "      <th>course_key</th>\n",
       "      <th>sibling_key</th>\n",
       "      <th>course_title</th>\n",
       "      <th>has_visited</th>\n",
       "      <th>total_minutes_visited</th>\n",
       "      <th>lessons_completed</th>\n",
       "      <th>projects_completed</th>\n",
       "      <th>account_key</th>\n",
       "    </tr>\n",
       "  </thead>\n",
       "  <tbody>\n",
       "    <tr>\n",
       "      <th>0</th>\n",
       "      <td>2014-11-05</td>\n",
       "      <td>448</td>\n",
       "      <td>2014-08-05</td>\n",
       "      <td>2014-11-05</td>\n",
       "      <td>ud359-nd</td>\n",
       "      <td>ud359</td>\n",
       "      <td>Intro to Data Science</td>\n",
       "      <td>0.0</td>\n",
       "      <td>0.000000</td>\n",
       "      <td>0.0</td>\n",
       "      <td>0.0</td>\n",
       "      <td>2257038596</td>\n",
       "    </tr>\n",
       "    <tr>\n",
       "      <th>1</th>\n",
       "      <td>2014-11-05</td>\n",
       "      <td>448</td>\n",
       "      <td>2014-08-05</td>\n",
       "      <td>2014-11-05</td>\n",
       "      <td>ud120-nd</td>\n",
       "      <td>ud120</td>\n",
       "      <td>Intro to Machine Learning</td>\n",
       "      <td>0.0</td>\n",
       "      <td>0.000000</td>\n",
       "      <td>0.0</td>\n",
       "      <td>0.0</td>\n",
       "      <td>2257038596</td>\n",
       "    </tr>\n",
       "    <tr>\n",
       "      <th>2</th>\n",
       "      <td>2014-11-05</td>\n",
       "      <td>448</td>\n",
       "      <td>2014-08-05</td>\n",
       "      <td>2014-11-05</td>\n",
       "      <td>ud651-nd</td>\n",
       "      <td>ud651</td>\n",
       "      <td>Data Analysis with R</td>\n",
       "      <td>0.0</td>\n",
       "      <td>0.000000</td>\n",
       "      <td>0.0</td>\n",
       "      <td>0.0</td>\n",
       "      <td>2257038596</td>\n",
       "    </tr>\n",
       "    <tr>\n",
       "      <th>3</th>\n",
       "      <td>2014-11-05</td>\n",
       "      <td>448</td>\n",
       "      <td>2014-08-05</td>\n",
       "      <td>2014-11-05</td>\n",
       "      <td>ud507-nd</td>\n",
       "      <td>ud507</td>\n",
       "      <td>Data Visualization and D3.js</td>\n",
       "      <td>0.0</td>\n",
       "      <td>0.000000</td>\n",
       "      <td>0.0</td>\n",
       "      <td>0.0</td>\n",
       "      <td>2257038596</td>\n",
       "    </tr>\n",
       "    <tr>\n",
       "      <th>4</th>\n",
       "      <td>2014-11-05</td>\n",
       "      <td>448</td>\n",
       "      <td>2014-08-05</td>\n",
       "      <td>2014-11-05</td>\n",
       "      <td>ud651</td>\n",
       "      <td>ud651</td>\n",
       "      <td>Data Analysis with R</td>\n",
       "      <td>0.0</td>\n",
       "      <td>0.000000</td>\n",
       "      <td>0.0</td>\n",
       "      <td>0.0</td>\n",
       "      <td>2257038596</td>\n",
       "    </tr>\n",
       "    <tr>\n",
       "      <th>5</th>\n",
       "      <td>2014-11-05</td>\n",
       "      <td>448</td>\n",
       "      <td>2014-08-05</td>\n",
       "      <td>2014-11-05</td>\n",
       "      <td>ud804-nd</td>\n",
       "      <td>ud804</td>\n",
       "      <td>JavaScript Basics</td>\n",
       "      <td>0.0</td>\n",
       "      <td>0.000000</td>\n",
       "      <td>0.0</td>\n",
       "      <td>0.0</td>\n",
       "      <td>2257038596</td>\n",
       "    </tr>\n",
       "    <tr>\n",
       "      <th>6</th>\n",
       "      <td>2014-11-05</td>\n",
       "      <td>448</td>\n",
       "      <td>2014-08-05</td>\n",
       "      <td>2014-11-05</td>\n",
       "      <td>ud032-nd</td>\n",
       "      <td>ud032</td>\n",
       "      <td>Data Wrangling with MongoDB</td>\n",
       "      <td>0.0</td>\n",
       "      <td>0.000000</td>\n",
       "      <td>0.0</td>\n",
       "      <td>0.0</td>\n",
       "      <td>2257038596</td>\n",
       "    </tr>\n",
       "    <tr>\n",
       "      <th>7</th>\n",
       "      <td>2014-11-05</td>\n",
       "      <td>448</td>\n",
       "      <td>2014-08-05</td>\n",
       "      <td>2014-11-05</td>\n",
       "      <td>ud304-nd</td>\n",
       "      <td>ud304</td>\n",
       "      <td>Intro to HTML and CSS</td>\n",
       "      <td>0.0</td>\n",
       "      <td>0.000000</td>\n",
       "      <td>0.0</td>\n",
       "      <td>0.0</td>\n",
       "      <td>2257038596</td>\n",
       "    </tr>\n",
       "    <tr>\n",
       "      <th>8</th>\n",
       "      <td>2014-11-05</td>\n",
       "      <td>448</td>\n",
       "      <td>2014-08-05</td>\n",
       "      <td>2014-11-05</td>\n",
       "      <td>ud120</td>\n",
       "      <td>ud120</td>\n",
       "      <td>Intro to Machine Learning</td>\n",
       "      <td>0.0</td>\n",
       "      <td>0.000000</td>\n",
       "      <td>0.0</td>\n",
       "      <td>0.0</td>\n",
       "      <td>2257038596</td>\n",
       "    </tr>\n",
       "    <tr>\n",
       "      <th>9</th>\n",
       "      <td>2014-11-05</td>\n",
       "      <td>448</td>\n",
       "      <td>2014-08-05</td>\n",
       "      <td>2014-11-05</td>\n",
       "      <td>ud359</td>\n",
       "      <td>ud359</td>\n",
       "      <td>Intro to Data Science</td>\n",
       "      <td>0.0</td>\n",
       "      <td>0.000000</td>\n",
       "      <td>0.0</td>\n",
       "      <td>0.0</td>\n",
       "      <td>2257038596</td>\n",
       "    </tr>\n",
       "    <tr>\n",
       "      <th>10</th>\n",
       "      <td>2014-11-05</td>\n",
       "      <td>448</td>\n",
       "      <td>2014-08-05</td>\n",
       "      <td>2014-11-05</td>\n",
       "      <td>ud032</td>\n",
       "      <td>ud032</td>\n",
       "      <td>Data Wrangling with MongoDB</td>\n",
       "      <td>0.0</td>\n",
       "      <td>0.000000</td>\n",
       "      <td>0.0</td>\n",
       "      <td>0.0</td>\n",
       "      <td>2257038596</td>\n",
       "    </tr>\n",
       "    <tr>\n",
       "      <th>11</th>\n",
       "      <td>2014-11-05</td>\n",
       "      <td>448</td>\n",
       "      <td>2014-08-05</td>\n",
       "      <td>2014-11-05</td>\n",
       "      <td>ud507</td>\n",
       "      <td>ud507</td>\n",
       "      <td>Data Visualization and D3.js</td>\n",
       "      <td>0.0</td>\n",
       "      <td>0.000000</td>\n",
       "      <td>0.0</td>\n",
       "      <td>0.0</td>\n",
       "      <td>2257038596</td>\n",
       "    </tr>\n",
       "    <tr>\n",
       "      <th>12</th>\n",
       "      <td>2014-11-05</td>\n",
       "      <td>448</td>\n",
       "      <td>2014-08-05</td>\n",
       "      <td>2014-11-05</td>\n",
       "      <td>ud304</td>\n",
       "      <td>ud304</td>\n",
       "      <td>Intro to HTML and CSS</td>\n",
       "      <td>0.0</td>\n",
       "      <td>0.000000</td>\n",
       "      <td>0.0</td>\n",
       "      <td>0.0</td>\n",
       "      <td>2257038596</td>\n",
       "    </tr>\n",
       "    <tr>\n",
       "      <th>13</th>\n",
       "      <td>2014-11-05</td>\n",
       "      <td>448</td>\n",
       "      <td>2014-08-05</td>\n",
       "      <td>2014-11-05</td>\n",
       "      <td>ud804</td>\n",
       "      <td>ud804</td>\n",
       "      <td>JavaScript Basics</td>\n",
       "      <td>0.0</td>\n",
       "      <td>0.000000</td>\n",
       "      <td>0.0</td>\n",
       "      <td>0.0</td>\n",
       "      <td>2257038596</td>\n",
       "    </tr>\n",
       "    <tr>\n",
       "      <th>14</th>\n",
       "      <td>2014-11-05</td>\n",
       "      <td>448</td>\n",
       "      <td>2014-08-05</td>\n",
       "      <td>2014-11-05</td>\n",
       "      <td>nd002</td>\n",
       "      <td>nd002</td>\n",
       "      <td>Data Analyst Nanodegree</td>\n",
       "      <td>0.0</td>\n",
       "      <td>0.000000</td>\n",
       "      <td>0.0</td>\n",
       "      <td>0.0</td>\n",
       "      <td>2257038596</td>\n",
       "    </tr>\n",
       "    <tr>\n",
       "      <th>15</th>\n",
       "      <td>2014-11-06</td>\n",
       "      <td>448</td>\n",
       "      <td>2014-08-05</td>\n",
       "      <td>2014-11-05</td>\n",
       "      <td>ud304-nd</td>\n",
       "      <td>ud304</td>\n",
       "      <td>Intro to HTML and CSS</td>\n",
       "      <td>0.0</td>\n",
       "      <td>0.000000</td>\n",
       "      <td>0.0</td>\n",
       "      <td>0.0</td>\n",
       "      <td>2257038596</td>\n",
       "    </tr>\n",
       "    <tr>\n",
       "      <th>16</th>\n",
       "      <td>2014-11-06</td>\n",
       "      <td>448</td>\n",
       "      <td>2014-08-05</td>\n",
       "      <td>2014-11-05</td>\n",
       "      <td>ud120-nd</td>\n",
       "      <td>ud120</td>\n",
       "      <td>Intro to Machine Learning</td>\n",
       "      <td>0.0</td>\n",
       "      <td>0.000000</td>\n",
       "      <td>0.0</td>\n",
       "      <td>0.0</td>\n",
       "      <td>2257038596</td>\n",
       "    </tr>\n",
       "    <tr>\n",
       "      <th>17</th>\n",
       "      <td>2014-11-06</td>\n",
       "      <td>448</td>\n",
       "      <td>2014-08-05</td>\n",
       "      <td>2014-11-05</td>\n",
       "      <td>ud507-nd</td>\n",
       "      <td>ud507</td>\n",
       "      <td>Data Visualization and D3.js</td>\n",
       "      <td>0.0</td>\n",
       "      <td>0.000000</td>\n",
       "      <td>0.0</td>\n",
       "      <td>0.0</td>\n",
       "      <td>2257038596</td>\n",
       "    </tr>\n",
       "    <tr>\n",
       "      <th>18</th>\n",
       "      <td>2014-11-06</td>\n",
       "      <td>448</td>\n",
       "      <td>2014-08-05</td>\n",
       "      <td>2014-11-05</td>\n",
       "      <td>ud032-nd</td>\n",
       "      <td>ud032</td>\n",
       "      <td>Data Wrangling with MongoDB</td>\n",
       "      <td>0.0</td>\n",
       "      <td>0.000000</td>\n",
       "      <td>0.0</td>\n",
       "      <td>0.0</td>\n",
       "      <td>2257038596</td>\n",
       "    </tr>\n",
       "    <tr>\n",
       "      <th>19</th>\n",
       "      <td>2014-11-06</td>\n",
       "      <td>448</td>\n",
       "      <td>2014-08-05</td>\n",
       "      <td>2014-11-05</td>\n",
       "      <td>ud359-nd</td>\n",
       "      <td>ud359</td>\n",
       "      <td>Intro to Data Science</td>\n",
       "      <td>0.0</td>\n",
       "      <td>0.000000</td>\n",
       "      <td>0.0</td>\n",
       "      <td>0.0</td>\n",
       "      <td>2257038596</td>\n",
       "    </tr>\n",
       "    <tr>\n",
       "      <th>20</th>\n",
       "      <td>2014-11-06</td>\n",
       "      <td>448</td>\n",
       "      <td>2014-08-05</td>\n",
       "      <td>2014-11-05</td>\n",
       "      <td>ud651-nd</td>\n",
       "      <td>ud651</td>\n",
       "      <td>Data Analysis with R</td>\n",
       "      <td>0.0</td>\n",
       "      <td>0.000000</td>\n",
       "      <td>0.0</td>\n",
       "      <td>0.0</td>\n",
       "      <td>2257038596</td>\n",
       "    </tr>\n",
       "    <tr>\n",
       "      <th>21</th>\n",
       "      <td>2014-11-06</td>\n",
       "      <td>448</td>\n",
       "      <td>2014-08-05</td>\n",
       "      <td>2014-11-05</td>\n",
       "      <td>ud651</td>\n",
       "      <td>ud651</td>\n",
       "      <td>Data Analysis with R</td>\n",
       "      <td>0.0</td>\n",
       "      <td>0.000000</td>\n",
       "      <td>0.0</td>\n",
       "      <td>0.0</td>\n",
       "      <td>2257038596</td>\n",
       "    </tr>\n",
       "    <tr>\n",
       "      <th>22</th>\n",
       "      <td>2014-11-06</td>\n",
       "      <td>448</td>\n",
       "      <td>2014-08-05</td>\n",
       "      <td>2014-11-05</td>\n",
       "      <td>ud120</td>\n",
       "      <td>ud120</td>\n",
       "      <td>Intro to Machine Learning</td>\n",
       "      <td>0.0</td>\n",
       "      <td>0.000000</td>\n",
       "      <td>0.0</td>\n",
       "      <td>0.0</td>\n",
       "      <td>2257038596</td>\n",
       "    </tr>\n",
       "    <tr>\n",
       "      <th>23</th>\n",
       "      <td>2014-11-06</td>\n",
       "      <td>448</td>\n",
       "      <td>2014-08-05</td>\n",
       "      <td>2014-11-05</td>\n",
       "      <td>ud359</td>\n",
       "      <td>ud359</td>\n",
       "      <td>Intro to Data Science</td>\n",
       "      <td>0.0</td>\n",
       "      <td>0.000000</td>\n",
       "      <td>0.0</td>\n",
       "      <td>0.0</td>\n",
       "      <td>2257038596</td>\n",
       "    </tr>\n",
       "    <tr>\n",
       "      <th>24</th>\n",
       "      <td>2014-11-06</td>\n",
       "      <td>448</td>\n",
       "      <td>2014-08-05</td>\n",
       "      <td>2014-11-05</td>\n",
       "      <td>ud032</td>\n",
       "      <td>ud032</td>\n",
       "      <td>Data Wrangling with MongoDB</td>\n",
       "      <td>0.0</td>\n",
       "      <td>0.000000</td>\n",
       "      <td>0.0</td>\n",
       "      <td>0.0</td>\n",
       "      <td>2257038596</td>\n",
       "    </tr>\n",
       "    <tr>\n",
       "      <th>25</th>\n",
       "      <td>2014-11-06</td>\n",
       "      <td>448</td>\n",
       "      <td>2014-08-05</td>\n",
       "      <td>2014-11-05</td>\n",
       "      <td>ud804-nd</td>\n",
       "      <td>ud804</td>\n",
       "      <td>JavaScript Basics</td>\n",
       "      <td>0.0</td>\n",
       "      <td>0.000000</td>\n",
       "      <td>0.0</td>\n",
       "      <td>0.0</td>\n",
       "      <td>2257038596</td>\n",
       "    </tr>\n",
       "    <tr>\n",
       "      <th>26</th>\n",
       "      <td>2014-11-06</td>\n",
       "      <td>448</td>\n",
       "      <td>2014-08-05</td>\n",
       "      <td>2014-11-05</td>\n",
       "      <td>ud507</td>\n",
       "      <td>ud507</td>\n",
       "      <td>Data Visualization and D3.js</td>\n",
       "      <td>0.0</td>\n",
       "      <td>0.000000</td>\n",
       "      <td>0.0</td>\n",
       "      <td>0.0</td>\n",
       "      <td>2257038596</td>\n",
       "    </tr>\n",
       "    <tr>\n",
       "      <th>27</th>\n",
       "      <td>2014-11-06</td>\n",
       "      <td>448</td>\n",
       "      <td>2014-08-05</td>\n",
       "      <td>2014-11-05</td>\n",
       "      <td>ud304</td>\n",
       "      <td>ud304</td>\n",
       "      <td>Intro to HTML and CSS</td>\n",
       "      <td>0.0</td>\n",
       "      <td>0.000000</td>\n",
       "      <td>0.0</td>\n",
       "      <td>0.0</td>\n",
       "      <td>2257038596</td>\n",
       "    </tr>\n",
       "    <tr>\n",
       "      <th>28</th>\n",
       "      <td>2014-11-06</td>\n",
       "      <td>448</td>\n",
       "      <td>2014-08-05</td>\n",
       "      <td>2014-11-05</td>\n",
       "      <td>ud804</td>\n",
       "      <td>ud804</td>\n",
       "      <td>JavaScript Basics</td>\n",
       "      <td>0.0</td>\n",
       "      <td>0.000000</td>\n",
       "      <td>0.0</td>\n",
       "      <td>0.0</td>\n",
       "      <td>2257038596</td>\n",
       "    </tr>\n",
       "    <tr>\n",
       "      <th>29</th>\n",
       "      <td>2014-11-06</td>\n",
       "      <td>448</td>\n",
       "      <td>2014-08-05</td>\n",
       "      <td>2014-11-05</td>\n",
       "      <td>nd002</td>\n",
       "      <td>nd002</td>\n",
       "      <td>Data Analyst Nanodegree</td>\n",
       "      <td>0.0</td>\n",
       "      <td>0.000000</td>\n",
       "      <td>0.0</td>\n",
       "      <td>0.0</td>\n",
       "      <td>2257038596</td>\n",
       "    </tr>\n",
       "    <tr>\n",
       "      <th>...</th>\n",
       "      <td>...</td>\n",
       "      <td>...</td>\n",
       "      <td>...</td>\n",
       "      <td>...</td>\n",
       "      <td>...</td>\n",
       "      <td>...</td>\n",
       "      <td>...</td>\n",
       "      <td>...</td>\n",
       "      <td>...</td>\n",
       "      <td>...</td>\n",
       "      <td>...</td>\n",
       "      <td>...</td>\n",
       "    </tr>\n",
       "    <tr>\n",
       "      <th>2309209</th>\n",
       "      <td>2015-08-25</td>\n",
       "      <td>854</td>\n",
       "      <td>2012-10-12</td>\n",
       "      <td>2015-08-23</td>\n",
       "      <td>ud304-nd</td>\n",
       "      <td>ud304</td>\n",
       "      <td>Intro to HTML and CSS</td>\n",
       "      <td>0.0</td>\n",
       "      <td>0.000000</td>\n",
       "      <td>0.0</td>\n",
       "      <td>0.0</td>\n",
       "      <td>u26334020</td>\n",
       "    </tr>\n",
       "    <tr>\n",
       "      <th>2309210</th>\n",
       "      <td>2015-08-25</td>\n",
       "      <td>854</td>\n",
       "      <td>2012-10-12</td>\n",
       "      <td>2015-08-23</td>\n",
       "      <td>ud804-nd</td>\n",
       "      <td>ud804</td>\n",
       "      <td>JavaScript Basics</td>\n",
       "      <td>0.0</td>\n",
       "      <td>0.000000</td>\n",
       "      <td>0.0</td>\n",
       "      <td>0.0</td>\n",
       "      <td>u26334020</td>\n",
       "    </tr>\n",
       "    <tr>\n",
       "      <th>2309211</th>\n",
       "      <td>2015-08-25</td>\n",
       "      <td>854</td>\n",
       "      <td>2012-10-12</td>\n",
       "      <td>2015-08-23</td>\n",
       "      <td>ud359</td>\n",
       "      <td>ud359</td>\n",
       "      <td>Intro to Data Science</td>\n",
       "      <td>0.0</td>\n",
       "      <td>0.000000</td>\n",
       "      <td>0.0</td>\n",
       "      <td>0.0</td>\n",
       "      <td>u26334020</td>\n",
       "    </tr>\n",
       "    <tr>\n",
       "      <th>2309212</th>\n",
       "      <td>2015-08-25</td>\n",
       "      <td>854</td>\n",
       "      <td>2012-10-12</td>\n",
       "      <td>2015-08-23</td>\n",
       "      <td>ud120</td>\n",
       "      <td>ud120</td>\n",
       "      <td>Intro to Machine Learning</td>\n",
       "      <td>0.0</td>\n",
       "      <td>0.000000</td>\n",
       "      <td>0.0</td>\n",
       "      <td>0.0</td>\n",
       "      <td>u26334020</td>\n",
       "    </tr>\n",
       "    <tr>\n",
       "      <th>2309213</th>\n",
       "      <td>2015-08-25</td>\n",
       "      <td>854</td>\n",
       "      <td>2012-10-12</td>\n",
       "      <td>2015-08-23</td>\n",
       "      <td>ud507</td>\n",
       "      <td>ud507</td>\n",
       "      <td>Data Visualization and D3.js</td>\n",
       "      <td>0.0</td>\n",
       "      <td>0.000000</td>\n",
       "      <td>0.0</td>\n",
       "      <td>0.0</td>\n",
       "      <td>u26334020</td>\n",
       "    </tr>\n",
       "    <tr>\n",
       "      <th>2309214</th>\n",
       "      <td>2015-08-25</td>\n",
       "      <td>854</td>\n",
       "      <td>2012-10-12</td>\n",
       "      <td>2015-08-23</td>\n",
       "      <td>ud257</td>\n",
       "      <td>ud257</td>\n",
       "      <td>A/B Testing</td>\n",
       "      <td>0.0</td>\n",
       "      <td>0.000000</td>\n",
       "      <td>0.0</td>\n",
       "      <td>0.0</td>\n",
       "      <td>u26334020</td>\n",
       "    </tr>\n",
       "    <tr>\n",
       "      <th>2309215</th>\n",
       "      <td>2015-08-25</td>\n",
       "      <td>854</td>\n",
       "      <td>2012-10-12</td>\n",
       "      <td>2015-08-23</td>\n",
       "      <td>nd002</td>\n",
       "      <td>nd002</td>\n",
       "      <td>Data Analyst Nanodegree</td>\n",
       "      <td>1.0</td>\n",
       "      <td>22.077159</td>\n",
       "      <td>1.0</td>\n",
       "      <td>0.0</td>\n",
       "      <td>u26334020</td>\n",
       "    </tr>\n",
       "    <tr>\n",
       "      <th>2309216</th>\n",
       "      <td>2015-08-25</td>\n",
       "      <td>854</td>\n",
       "      <td>2012-10-12</td>\n",
       "      <td>2015-08-23</td>\n",
       "      <td>ud304</td>\n",
       "      <td>ud304</td>\n",
       "      <td>Intro to HTML and CSS</td>\n",
       "      <td>0.0</td>\n",
       "      <td>0.000000</td>\n",
       "      <td>0.0</td>\n",
       "      <td>0.0</td>\n",
       "      <td>u26334020</td>\n",
       "    </tr>\n",
       "    <tr>\n",
       "      <th>2309217</th>\n",
       "      <td>2015-08-25</td>\n",
       "      <td>854</td>\n",
       "      <td>2012-10-12</td>\n",
       "      <td>2015-08-23</td>\n",
       "      <td>ud651</td>\n",
       "      <td>ud651</td>\n",
       "      <td>Data Analysis with R</td>\n",
       "      <td>0.0</td>\n",
       "      <td>0.000000</td>\n",
       "      <td>0.0</td>\n",
       "      <td>0.0</td>\n",
       "      <td>u26334020</td>\n",
       "    </tr>\n",
       "    <tr>\n",
       "      <th>2309218</th>\n",
       "      <td>2015-08-25</td>\n",
       "      <td>854</td>\n",
       "      <td>2012-10-12</td>\n",
       "      <td>2015-08-23</td>\n",
       "      <td>ud804</td>\n",
       "      <td>ud804</td>\n",
       "      <td>JavaScript Basics</td>\n",
       "      <td>0.0</td>\n",
       "      <td>0.000000</td>\n",
       "      <td>0.0</td>\n",
       "      <td>0.0</td>\n",
       "      <td>u26334020</td>\n",
       "    </tr>\n",
       "    <tr>\n",
       "      <th>2309219</th>\n",
       "      <td>2015-08-25</td>\n",
       "      <td>854</td>\n",
       "      <td>2012-10-12</td>\n",
       "      <td>2015-08-23</td>\n",
       "      <td>ud032</td>\n",
       "      <td>ud032</td>\n",
       "      <td>Data Wrangling with MongoDB</td>\n",
       "      <td>0.0</td>\n",
       "      <td>0.000000</td>\n",
       "      <td>0.0</td>\n",
       "      <td>0.0</td>\n",
       "      <td>u26334020</td>\n",
       "    </tr>\n",
       "    <tr>\n",
       "      <th>2309220</th>\n",
       "      <td>2015-08-26</td>\n",
       "      <td>854</td>\n",
       "      <td>2012-10-12</td>\n",
       "      <td>2015-08-23</td>\n",
       "      <td>ud651-nd</td>\n",
       "      <td>ud651</td>\n",
       "      <td>Data Analysis with R</td>\n",
       "      <td>0.0</td>\n",
       "      <td>0.000000</td>\n",
       "      <td>0.0</td>\n",
       "      <td>0.0</td>\n",
       "      <td>u26334020</td>\n",
       "    </tr>\n",
       "    <tr>\n",
       "      <th>2309221</th>\n",
       "      <td>2015-08-26</td>\n",
       "      <td>854</td>\n",
       "      <td>2012-10-12</td>\n",
       "      <td>2015-08-23</td>\n",
       "      <td>ud120-nd</td>\n",
       "      <td>ud120</td>\n",
       "      <td>Intro to Machine Learning</td>\n",
       "      <td>0.0</td>\n",
       "      <td>0.000000</td>\n",
       "      <td>0.0</td>\n",
       "      <td>0.0</td>\n",
       "      <td>u26334020</td>\n",
       "    </tr>\n",
       "    <tr>\n",
       "      <th>2309222</th>\n",
       "      <td>2015-08-26</td>\n",
       "      <td>854</td>\n",
       "      <td>2012-10-12</td>\n",
       "      <td>2015-08-23</td>\n",
       "      <td>ud032-nd</td>\n",
       "      <td>ud032</td>\n",
       "      <td>Data Wrangling with MongoDB</td>\n",
       "      <td>0.0</td>\n",
       "      <td>0.000000</td>\n",
       "      <td>0.0</td>\n",
       "      <td>0.0</td>\n",
       "      <td>u26334020</td>\n",
       "    </tr>\n",
       "    <tr>\n",
       "      <th>2309223</th>\n",
       "      <td>2015-08-26</td>\n",
       "      <td>854</td>\n",
       "      <td>2012-10-12</td>\n",
       "      <td>2015-08-23</td>\n",
       "      <td>ud507-nd</td>\n",
       "      <td>ud507</td>\n",
       "      <td>Data Visualization and D3.js</td>\n",
       "      <td>0.0</td>\n",
       "      <td>0.000000</td>\n",
       "      <td>0.0</td>\n",
       "      <td>0.0</td>\n",
       "      <td>u26334020</td>\n",
       "    </tr>\n",
       "    <tr>\n",
       "      <th>2309224</th>\n",
       "      <td>2015-08-26</td>\n",
       "      <td>854</td>\n",
       "      <td>2012-10-12</td>\n",
       "      <td>2015-08-23</td>\n",
       "      <td>ud359-nd</td>\n",
       "      <td>ud359</td>\n",
       "      <td>Intro to Data Science</td>\n",
       "      <td>0.0</td>\n",
       "      <td>0.000000</td>\n",
       "      <td>0.0</td>\n",
       "      <td>0.0</td>\n",
       "      <td>u26334020</td>\n",
       "    </tr>\n",
       "    <tr>\n",
       "      <th>2309225</th>\n",
       "      <td>2015-08-26</td>\n",
       "      <td>854</td>\n",
       "      <td>2012-10-12</td>\n",
       "      <td>2015-08-23</td>\n",
       "      <td>ud304-nd</td>\n",
       "      <td>ud304</td>\n",
       "      <td>Intro to HTML and CSS</td>\n",
       "      <td>0.0</td>\n",
       "      <td>0.000000</td>\n",
       "      <td>0.0</td>\n",
       "      <td>0.0</td>\n",
       "      <td>u26334020</td>\n",
       "    </tr>\n",
       "    <tr>\n",
       "      <th>2309226</th>\n",
       "      <td>2015-08-26</td>\n",
       "      <td>854</td>\n",
       "      <td>2012-10-12</td>\n",
       "      <td>2015-08-23</td>\n",
       "      <td>ud134-nd</td>\n",
       "      <td>ud134</td>\n",
       "      <td>ud134-nd</td>\n",
       "      <td>0.0</td>\n",
       "      <td>0.000000</td>\n",
       "      <td>0.0</td>\n",
       "      <td>0.0</td>\n",
       "      <td>u26334020</td>\n",
       "    </tr>\n",
       "    <tr>\n",
       "      <th>2309227</th>\n",
       "      <td>2015-08-26</td>\n",
       "      <td>854</td>\n",
       "      <td>2012-10-12</td>\n",
       "      <td>2015-08-23</td>\n",
       "      <td>ud032</td>\n",
       "      <td>ud032</td>\n",
       "      <td>Data Wrangling with MongoDB</td>\n",
       "      <td>0.0</td>\n",
       "      <td>0.000000</td>\n",
       "      <td>0.0</td>\n",
       "      <td>0.0</td>\n",
       "      <td>u26334020</td>\n",
       "    </tr>\n",
       "    <tr>\n",
       "      <th>2309228</th>\n",
       "      <td>2015-08-26</td>\n",
       "      <td>854</td>\n",
       "      <td>2012-10-12</td>\n",
       "      <td>2015-08-23</td>\n",
       "      <td>ud257-nd</td>\n",
       "      <td>ud257</td>\n",
       "      <td>A/B Testing</td>\n",
       "      <td>0.0</td>\n",
       "      <td>0.000000</td>\n",
       "      <td>0.0</td>\n",
       "      <td>0.0</td>\n",
       "      <td>u26334020</td>\n",
       "    </tr>\n",
       "    <tr>\n",
       "      <th>2309229</th>\n",
       "      <td>2015-08-26</td>\n",
       "      <td>854</td>\n",
       "      <td>2012-10-12</td>\n",
       "      <td>2015-08-23</td>\n",
       "      <td>ud257</td>\n",
       "      <td>ud257</td>\n",
       "      <td>A/B Testing</td>\n",
       "      <td>0.0</td>\n",
       "      <td>0.000000</td>\n",
       "      <td>0.0</td>\n",
       "      <td>0.0</td>\n",
       "      <td>u26334020</td>\n",
       "    </tr>\n",
       "    <tr>\n",
       "      <th>2309230</th>\n",
       "      <td>2015-08-26</td>\n",
       "      <td>854</td>\n",
       "      <td>2012-10-12</td>\n",
       "      <td>2015-08-23</td>\n",
       "      <td>ud804-nd</td>\n",
       "      <td>ud804</td>\n",
       "      <td>JavaScript Basics</td>\n",
       "      <td>0.0</td>\n",
       "      <td>0.000000</td>\n",
       "      <td>0.0</td>\n",
       "      <td>0.0</td>\n",
       "      <td>u26334020</td>\n",
       "    </tr>\n",
       "    <tr>\n",
       "      <th>2309231</th>\n",
       "      <td>2015-08-26</td>\n",
       "      <td>854</td>\n",
       "      <td>2012-10-12</td>\n",
       "      <td>2015-08-23</td>\n",
       "      <td>ud120</td>\n",
       "      <td>ud120</td>\n",
       "      <td>Intro to Machine Learning</td>\n",
       "      <td>0.0</td>\n",
       "      <td>0.000000</td>\n",
       "      <td>0.0</td>\n",
       "      <td>0.0</td>\n",
       "      <td>u26334020</td>\n",
       "    </tr>\n",
       "    <tr>\n",
       "      <th>2309232</th>\n",
       "      <td>2015-08-26</td>\n",
       "      <td>854</td>\n",
       "      <td>2012-10-12</td>\n",
       "      <td>2015-08-23</td>\n",
       "      <td>ud507</td>\n",
       "      <td>ud507</td>\n",
       "      <td>Data Visualization and D3.js</td>\n",
       "      <td>0.0</td>\n",
       "      <td>0.000000</td>\n",
       "      <td>0.0</td>\n",
       "      <td>0.0</td>\n",
       "      <td>u26334020</td>\n",
       "    </tr>\n",
       "    <tr>\n",
       "      <th>2309233</th>\n",
       "      <td>2015-08-26</td>\n",
       "      <td>854</td>\n",
       "      <td>2012-10-12</td>\n",
       "      <td>2015-08-23</td>\n",
       "      <td>ud134a-nd</td>\n",
       "      <td>ud134a</td>\n",
       "      <td>ud134a-nd</td>\n",
       "      <td>1.0</td>\n",
       "      <td>42.222797</td>\n",
       "      <td>1.0</td>\n",
       "      <td>0.0</td>\n",
       "      <td>u26334020</td>\n",
       "    </tr>\n",
       "    <tr>\n",
       "      <th>2309234</th>\n",
       "      <td>2015-08-26</td>\n",
       "      <td>854</td>\n",
       "      <td>2012-10-12</td>\n",
       "      <td>2015-08-23</td>\n",
       "      <td>ud359</td>\n",
       "      <td>ud359</td>\n",
       "      <td>Intro to Data Science</td>\n",
       "      <td>0.0</td>\n",
       "      <td>0.000000</td>\n",
       "      <td>0.0</td>\n",
       "      <td>0.0</td>\n",
       "      <td>u26334020</td>\n",
       "    </tr>\n",
       "    <tr>\n",
       "      <th>2309235</th>\n",
       "      <td>2015-08-26</td>\n",
       "      <td>854</td>\n",
       "      <td>2012-10-12</td>\n",
       "      <td>2015-08-23</td>\n",
       "      <td>ud804</td>\n",
       "      <td>ud804</td>\n",
       "      <td>JavaScript Basics</td>\n",
       "      <td>0.0</td>\n",
       "      <td>0.000000</td>\n",
       "      <td>0.0</td>\n",
       "      <td>0.0</td>\n",
       "      <td>u26334020</td>\n",
       "    </tr>\n",
       "    <tr>\n",
       "      <th>2309236</th>\n",
       "      <td>2015-08-26</td>\n",
       "      <td>854</td>\n",
       "      <td>2012-10-12</td>\n",
       "      <td>2015-08-23</td>\n",
       "      <td>ud651</td>\n",
       "      <td>ud651</td>\n",
       "      <td>Data Analysis with R</td>\n",
       "      <td>0.0</td>\n",
       "      <td>0.000000</td>\n",
       "      <td>0.0</td>\n",
       "      <td>0.0</td>\n",
       "      <td>u26334020</td>\n",
       "    </tr>\n",
       "    <tr>\n",
       "      <th>2309237</th>\n",
       "      <td>2015-08-26</td>\n",
       "      <td>854</td>\n",
       "      <td>2012-10-12</td>\n",
       "      <td>2015-08-23</td>\n",
       "      <td>ud304</td>\n",
       "      <td>ud304</td>\n",
       "      <td>Intro to HTML and CSS</td>\n",
       "      <td>0.0</td>\n",
       "      <td>0.000000</td>\n",
       "      <td>0.0</td>\n",
       "      <td>0.0</td>\n",
       "      <td>u26334020</td>\n",
       "    </tr>\n",
       "    <tr>\n",
       "      <th>2309238</th>\n",
       "      <td>2015-08-26</td>\n",
       "      <td>854</td>\n",
       "      <td>2012-10-12</td>\n",
       "      <td>2015-08-23</td>\n",
       "      <td>nd002</td>\n",
       "      <td>nd002</td>\n",
       "      <td>Data Analyst Nanodegree</td>\n",
       "      <td>0.0</td>\n",
       "      <td>0.000000</td>\n",
       "      <td>0.0</td>\n",
       "      <td>0.0</td>\n",
       "      <td>u26334020</td>\n",
       "    </tr>\n",
       "  </tbody>\n",
       "</table>\n",
       "<p>2309239 rows × 12 columns</p>\n",
       "</div>"
      ],
      "text/plain": [
       "           utc_date  acct registration_date subscription_start course_key  \\\n",
       "0        2014-11-05   448        2014-08-05         2014-11-05   ud359-nd   \n",
       "1        2014-11-05   448        2014-08-05         2014-11-05   ud120-nd   \n",
       "2        2014-11-05   448        2014-08-05         2014-11-05   ud651-nd   \n",
       "3        2014-11-05   448        2014-08-05         2014-11-05   ud507-nd   \n",
       "4        2014-11-05   448        2014-08-05         2014-11-05      ud651   \n",
       "5        2014-11-05   448        2014-08-05         2014-11-05   ud804-nd   \n",
       "6        2014-11-05   448        2014-08-05         2014-11-05   ud032-nd   \n",
       "7        2014-11-05   448        2014-08-05         2014-11-05   ud304-nd   \n",
       "8        2014-11-05   448        2014-08-05         2014-11-05      ud120   \n",
       "9        2014-11-05   448        2014-08-05         2014-11-05      ud359   \n",
       "10       2014-11-05   448        2014-08-05         2014-11-05      ud032   \n",
       "11       2014-11-05   448        2014-08-05         2014-11-05      ud507   \n",
       "12       2014-11-05   448        2014-08-05         2014-11-05      ud304   \n",
       "13       2014-11-05   448        2014-08-05         2014-11-05      ud804   \n",
       "14       2014-11-05   448        2014-08-05         2014-11-05      nd002   \n",
       "15       2014-11-06   448        2014-08-05         2014-11-05   ud304-nd   \n",
       "16       2014-11-06   448        2014-08-05         2014-11-05   ud120-nd   \n",
       "17       2014-11-06   448        2014-08-05         2014-11-05   ud507-nd   \n",
       "18       2014-11-06   448        2014-08-05         2014-11-05   ud032-nd   \n",
       "19       2014-11-06   448        2014-08-05         2014-11-05   ud359-nd   \n",
       "20       2014-11-06   448        2014-08-05         2014-11-05   ud651-nd   \n",
       "21       2014-11-06   448        2014-08-05         2014-11-05      ud651   \n",
       "22       2014-11-06   448        2014-08-05         2014-11-05      ud120   \n",
       "23       2014-11-06   448        2014-08-05         2014-11-05      ud359   \n",
       "24       2014-11-06   448        2014-08-05         2014-11-05      ud032   \n",
       "25       2014-11-06   448        2014-08-05         2014-11-05   ud804-nd   \n",
       "26       2014-11-06   448        2014-08-05         2014-11-05      ud507   \n",
       "27       2014-11-06   448        2014-08-05         2014-11-05      ud304   \n",
       "28       2014-11-06   448        2014-08-05         2014-11-05      ud804   \n",
       "29       2014-11-06   448        2014-08-05         2014-11-05      nd002   \n",
       "...             ...   ...               ...                ...        ...   \n",
       "2309209  2015-08-25   854        2012-10-12         2015-08-23   ud304-nd   \n",
       "2309210  2015-08-25   854        2012-10-12         2015-08-23   ud804-nd   \n",
       "2309211  2015-08-25   854        2012-10-12         2015-08-23      ud359   \n",
       "2309212  2015-08-25   854        2012-10-12         2015-08-23      ud120   \n",
       "2309213  2015-08-25   854        2012-10-12         2015-08-23      ud507   \n",
       "2309214  2015-08-25   854        2012-10-12         2015-08-23      ud257   \n",
       "2309215  2015-08-25   854        2012-10-12         2015-08-23      nd002   \n",
       "2309216  2015-08-25   854        2012-10-12         2015-08-23      ud304   \n",
       "2309217  2015-08-25   854        2012-10-12         2015-08-23      ud651   \n",
       "2309218  2015-08-25   854        2012-10-12         2015-08-23      ud804   \n",
       "2309219  2015-08-25   854        2012-10-12         2015-08-23      ud032   \n",
       "2309220  2015-08-26   854        2012-10-12         2015-08-23   ud651-nd   \n",
       "2309221  2015-08-26   854        2012-10-12         2015-08-23   ud120-nd   \n",
       "2309222  2015-08-26   854        2012-10-12         2015-08-23   ud032-nd   \n",
       "2309223  2015-08-26   854        2012-10-12         2015-08-23   ud507-nd   \n",
       "2309224  2015-08-26   854        2012-10-12         2015-08-23   ud359-nd   \n",
       "2309225  2015-08-26   854        2012-10-12         2015-08-23   ud304-nd   \n",
       "2309226  2015-08-26   854        2012-10-12         2015-08-23   ud134-nd   \n",
       "2309227  2015-08-26   854        2012-10-12         2015-08-23      ud032   \n",
       "2309228  2015-08-26   854        2012-10-12         2015-08-23   ud257-nd   \n",
       "2309229  2015-08-26   854        2012-10-12         2015-08-23      ud257   \n",
       "2309230  2015-08-26   854        2012-10-12         2015-08-23   ud804-nd   \n",
       "2309231  2015-08-26   854        2012-10-12         2015-08-23      ud120   \n",
       "2309232  2015-08-26   854        2012-10-12         2015-08-23      ud507   \n",
       "2309233  2015-08-26   854        2012-10-12         2015-08-23  ud134a-nd   \n",
       "2309234  2015-08-26   854        2012-10-12         2015-08-23      ud359   \n",
       "2309235  2015-08-26   854        2012-10-12         2015-08-23      ud804   \n",
       "2309236  2015-08-26   854        2012-10-12         2015-08-23      ud651   \n",
       "2309237  2015-08-26   854        2012-10-12         2015-08-23      ud304   \n",
       "2309238  2015-08-26   854        2012-10-12         2015-08-23      nd002   \n",
       "\n",
       "        sibling_key                  course_title  has_visited  \\\n",
       "0             ud359         Intro to Data Science          0.0   \n",
       "1             ud120     Intro to Machine Learning          0.0   \n",
       "2             ud651          Data Analysis with R          0.0   \n",
       "3             ud507  Data Visualization and D3.js          0.0   \n",
       "4             ud651          Data Analysis with R          0.0   \n",
       "5             ud804             JavaScript Basics          0.0   \n",
       "6             ud032   Data Wrangling with MongoDB          0.0   \n",
       "7             ud304         Intro to HTML and CSS          0.0   \n",
       "8             ud120     Intro to Machine Learning          0.0   \n",
       "9             ud359         Intro to Data Science          0.0   \n",
       "10            ud032   Data Wrangling with MongoDB          0.0   \n",
       "11            ud507  Data Visualization and D3.js          0.0   \n",
       "12            ud304         Intro to HTML and CSS          0.0   \n",
       "13            ud804             JavaScript Basics          0.0   \n",
       "14            nd002       Data Analyst Nanodegree          0.0   \n",
       "15            ud304         Intro to HTML and CSS          0.0   \n",
       "16            ud120     Intro to Machine Learning          0.0   \n",
       "17            ud507  Data Visualization and D3.js          0.0   \n",
       "18            ud032   Data Wrangling with MongoDB          0.0   \n",
       "19            ud359         Intro to Data Science          0.0   \n",
       "20            ud651          Data Analysis with R          0.0   \n",
       "21            ud651          Data Analysis with R          0.0   \n",
       "22            ud120     Intro to Machine Learning          0.0   \n",
       "23            ud359         Intro to Data Science          0.0   \n",
       "24            ud032   Data Wrangling with MongoDB          0.0   \n",
       "25            ud804             JavaScript Basics          0.0   \n",
       "26            ud507  Data Visualization and D3.js          0.0   \n",
       "27            ud304         Intro to HTML and CSS          0.0   \n",
       "28            ud804             JavaScript Basics          0.0   \n",
       "29            nd002       Data Analyst Nanodegree          0.0   \n",
       "...             ...                           ...          ...   \n",
       "2309209       ud304         Intro to HTML and CSS          0.0   \n",
       "2309210       ud804             JavaScript Basics          0.0   \n",
       "2309211       ud359         Intro to Data Science          0.0   \n",
       "2309212       ud120     Intro to Machine Learning          0.0   \n",
       "2309213       ud507  Data Visualization and D3.js          0.0   \n",
       "2309214       ud257                   A/B Testing          0.0   \n",
       "2309215       nd002       Data Analyst Nanodegree          1.0   \n",
       "2309216       ud304         Intro to HTML and CSS          0.0   \n",
       "2309217       ud651          Data Analysis with R          0.0   \n",
       "2309218       ud804             JavaScript Basics          0.0   \n",
       "2309219       ud032   Data Wrangling with MongoDB          0.0   \n",
       "2309220       ud651          Data Analysis with R          0.0   \n",
       "2309221       ud120     Intro to Machine Learning          0.0   \n",
       "2309222       ud032   Data Wrangling with MongoDB          0.0   \n",
       "2309223       ud507  Data Visualization and D3.js          0.0   \n",
       "2309224       ud359         Intro to Data Science          0.0   \n",
       "2309225       ud304         Intro to HTML and CSS          0.0   \n",
       "2309226       ud134                      ud134-nd          0.0   \n",
       "2309227       ud032   Data Wrangling with MongoDB          0.0   \n",
       "2309228       ud257                   A/B Testing          0.0   \n",
       "2309229       ud257                   A/B Testing          0.0   \n",
       "2309230       ud804             JavaScript Basics          0.0   \n",
       "2309231       ud120     Intro to Machine Learning          0.0   \n",
       "2309232       ud507  Data Visualization and D3.js          0.0   \n",
       "2309233      ud134a                     ud134a-nd          1.0   \n",
       "2309234       ud359         Intro to Data Science          0.0   \n",
       "2309235       ud804             JavaScript Basics          0.0   \n",
       "2309236       ud651          Data Analysis with R          0.0   \n",
       "2309237       ud304         Intro to HTML and CSS          0.0   \n",
       "2309238       nd002       Data Analyst Nanodegree          0.0   \n",
       "\n",
       "         total_minutes_visited  lessons_completed  projects_completed  \\\n",
       "0                     0.000000                0.0                 0.0   \n",
       "1                     0.000000                0.0                 0.0   \n",
       "2                     0.000000                0.0                 0.0   \n",
       "3                     0.000000                0.0                 0.0   \n",
       "4                     0.000000                0.0                 0.0   \n",
       "5                     0.000000                0.0                 0.0   \n",
       "6                     0.000000                0.0                 0.0   \n",
       "7                     0.000000                0.0                 0.0   \n",
       "8                     0.000000                0.0                 0.0   \n",
       "9                     0.000000                0.0                 0.0   \n",
       "10                    0.000000                0.0                 0.0   \n",
       "11                    0.000000                0.0                 0.0   \n",
       "12                    0.000000                0.0                 0.0   \n",
       "13                    0.000000                0.0                 0.0   \n",
       "14                    0.000000                0.0                 0.0   \n",
       "15                    0.000000                0.0                 0.0   \n",
       "16                    0.000000                0.0                 0.0   \n",
       "17                    0.000000                0.0                 0.0   \n",
       "18                    0.000000                0.0                 0.0   \n",
       "19                    0.000000                0.0                 0.0   \n",
       "20                    0.000000                0.0                 0.0   \n",
       "21                    0.000000                0.0                 0.0   \n",
       "22                    0.000000                0.0                 0.0   \n",
       "23                    0.000000                0.0                 0.0   \n",
       "24                    0.000000                0.0                 0.0   \n",
       "25                    0.000000                0.0                 0.0   \n",
       "26                    0.000000                0.0                 0.0   \n",
       "27                    0.000000                0.0                 0.0   \n",
       "28                    0.000000                0.0                 0.0   \n",
       "29                    0.000000                0.0                 0.0   \n",
       "...                        ...                ...                 ...   \n",
       "2309209               0.000000                0.0                 0.0   \n",
       "2309210               0.000000                0.0                 0.0   \n",
       "2309211               0.000000                0.0                 0.0   \n",
       "2309212               0.000000                0.0                 0.0   \n",
       "2309213               0.000000                0.0                 0.0   \n",
       "2309214               0.000000                0.0                 0.0   \n",
       "2309215              22.077159                1.0                 0.0   \n",
       "2309216               0.000000                0.0                 0.0   \n",
       "2309217               0.000000                0.0                 0.0   \n",
       "2309218               0.000000                0.0                 0.0   \n",
       "2309219               0.000000                0.0                 0.0   \n",
       "2309220               0.000000                0.0                 0.0   \n",
       "2309221               0.000000                0.0                 0.0   \n",
       "2309222               0.000000                0.0                 0.0   \n",
       "2309223               0.000000                0.0                 0.0   \n",
       "2309224               0.000000                0.0                 0.0   \n",
       "2309225               0.000000                0.0                 0.0   \n",
       "2309226               0.000000                0.0                 0.0   \n",
       "2309227               0.000000                0.0                 0.0   \n",
       "2309228               0.000000                0.0                 0.0   \n",
       "2309229               0.000000                0.0                 0.0   \n",
       "2309230               0.000000                0.0                 0.0   \n",
       "2309231               0.000000                0.0                 0.0   \n",
       "2309232               0.000000                0.0                 0.0   \n",
       "2309233              42.222797                1.0                 0.0   \n",
       "2309234               0.000000                0.0                 0.0   \n",
       "2309235               0.000000                0.0                 0.0   \n",
       "2309236               0.000000                0.0                 0.0   \n",
       "2309237               0.000000                0.0                 0.0   \n",
       "2309238               0.000000                0.0                 0.0   \n",
       "\n",
       "        account_key  \n",
       "0        2257038596  \n",
       "1        2257038596  \n",
       "2        2257038596  \n",
       "3        2257038596  \n",
       "4        2257038596  \n",
       "5        2257038596  \n",
       "6        2257038596  \n",
       "7        2257038596  \n",
       "8        2257038596  \n",
       "9        2257038596  \n",
       "10       2257038596  \n",
       "11       2257038596  \n",
       "12       2257038596  \n",
       "13       2257038596  \n",
       "14       2257038596  \n",
       "15       2257038596  \n",
       "16       2257038596  \n",
       "17       2257038596  \n",
       "18       2257038596  \n",
       "19       2257038596  \n",
       "20       2257038596  \n",
       "21       2257038596  \n",
       "22       2257038596  \n",
       "23       2257038596  \n",
       "24       2257038596  \n",
       "25       2257038596  \n",
       "26       2257038596  \n",
       "27       2257038596  \n",
       "28       2257038596  \n",
       "29       2257038596  \n",
       "...             ...  \n",
       "2309209   u26334020  \n",
       "2309210   u26334020  \n",
       "2309211   u26334020  \n",
       "2309212   u26334020  \n",
       "2309213   u26334020  \n",
       "2309214   u26334020  \n",
       "2309215   u26334020  \n",
       "2309216   u26334020  \n",
       "2309217   u26334020  \n",
       "2309218   u26334020  \n",
       "2309219   u26334020  \n",
       "2309220   u26334020  \n",
       "2309221   u26334020  \n",
       "2309222   u26334020  \n",
       "2309223   u26334020  \n",
       "2309224   u26334020  \n",
       "2309225   u26334020  \n",
       "2309226   u26334020  \n",
       "2309227   u26334020  \n",
       "2309228   u26334020  \n",
       "2309229   u26334020  \n",
       "2309230   u26334020  \n",
       "2309231   u26334020  \n",
       "2309232   u26334020  \n",
       "2309233   u26334020  \n",
       "2309234   u26334020  \n",
       "2309235   u26334020  \n",
       "2309236   u26334020  \n",
       "2309237   u26334020  \n",
       "2309238   u26334020  \n",
       "\n",
       "[2309239 rows x 12 columns]"
      ]
     },
     "execution_count": 112,
     "metadata": {},
     "output_type": "execute_result"
    }
   ],
   "source": [
    "daily_engagement_full"
   ]
  },
  {
   "cell_type": "markdown",
   "metadata": {},
   "source": [
    "### pandas unique function()"
   ]
  },
  {
   "cell_type": "code",
   "execution_count": 113,
   "metadata": {},
   "outputs": [
    {
     "data": {
      "text/plain": [
       "1237"
      ]
     },
     "execution_count": 113,
     "metadata": {},
     "output_type": "execute_result"
    }
   ],
   "source": [
    "unique_engagement_students = daily_engagement_full['acct'].unique()\n",
    "len(unique_engagement_students)"
   ]
  },
  {
   "cell_type": "code",
   "execution_count": 114,
   "metadata": {},
   "outputs": [
    {
     "data": {
      "text/plain": [
       "948"
      ]
     },
     "execution_count": 114,
     "metadata": {},
     "output_type": "execute_result"
    }
   ],
   "source": [
    "unique_engagement_students.argmax()"
   ]
  },
  {
   "cell_type": "code",
   "execution_count": 115,
   "metadata": {},
   "outputs": [
    {
     "data": {
      "text/plain": [
       "(array([948], dtype=int64),)"
      ]
     },
     "execution_count": 115,
     "metadata": {},
     "output_type": "execute_result"
    }
   ],
   "source": [
    "np.where(unique_engagement_students==unique_engagement_students.max())"
   ]
  },
  {
   "cell_type": "code",
   "execution_count": 127,
   "metadata": {},
   "outputs": [
    {
     "data": {
      "text/plain": [
       "2.8722813232690143"
      ]
     },
     "execution_count": 127,
     "metadata": {},
     "output_type": "execute_result"
    }
   ],
   "source": [
    "np.arange(10).std()"
   ]
  },
  {
   "cell_type": "code",
   "execution_count": 128,
   "metadata": {
    "collapsed": true
   },
   "outputs": [],
   "source": [
    "a=pd.Series([1, 2, 3, 4])\n",
    "b=pd.Series([4, 5, 6, 7])"
   ]
  },
  {
   "cell_type": "code",
   "execution_count": 129,
   "metadata": {
    "collapsed": true
   },
   "outputs": [],
   "source": [
    "aminus = a < a.mean()\n",
    "bminus = b < b.mean()\n",
    "aplus = a > a.mean()\n",
    "bplus = b > b.mean()\n"
   ]
  },
  {
   "cell_type": "code",
   "execution_count": 130,
   "metadata": {},
   "outputs": [
    {
     "name": "stdout",
     "output_type": "stream",
     "text": [
      "0    True\n",
      "1    True\n",
      "2    True\n",
      "3    True\n",
      "dtype: bool\n"
     ]
    }
   ],
   "source": [
    "print (aminus & bminus) | (aplus & bplus)"
   ]
  },
  {
   "cell_type": "code",
   "execution_count": 131,
   "metadata": {},
   "outputs": [
    {
     "data": {
      "text/plain": [
       "0    False\n",
       "1    False\n",
       "2     True\n",
       "3     True\n",
       "dtype: bool"
      ]
     },
     "execution_count": 131,
     "metadata": {},
     "output_type": "execute_result"
    }
   ],
   "source": [
    "True ^ aminus"
   ]
  },
  {
   "cell_type": "code",
   "execution_count": 132,
   "metadata": {
    "collapsed": true
   },
   "outputs": [],
   "source": [
    "b=pd.Series([13, 12, 11, 10])"
   ]
  },
  {
   "cell_type": "code",
   "execution_count": 133,
   "metadata": {
    "collapsed": true
   },
   "outputs": [],
   "source": [
    "aminus = a < a.mean()\n",
    "bminus = b < b.mean()\n",
    "aplus = a > a.mean()\n",
    "bplus = b > b.mean()"
   ]
  },
  {
   "cell_type": "code",
   "execution_count": 134,
   "metadata": {
    "collapsed": true
   },
   "outputs": [],
   "source": [
    "indices = (aminus & bminus) | (aplus & bplus)"
   ]
  },
  {
   "cell_type": "code",
   "execution_count": 135,
   "metadata": {},
   "outputs": [
    {
     "name": "stdout",
     "output_type": "stream",
     "text": [
      "0\n",
      "0\n"
     ]
    }
   ],
   "source": [
    "print indices[indices].size\n",
    "print indices.sum()"
   ]
  },
  {
   "cell_type": "code",
   "execution_count": 138,
   "metadata": {},
   "outputs": [
    {
     "data": {
      "text/plain": [
       "0    1\n",
       "1    2\n",
       "2    3\n",
       "3    4\n",
       "dtype: int64"
      ]
     },
     "execution_count": 138,
     "metadata": {},
     "output_type": "execute_result"
    }
   ],
   "source": [
    "a"
   ]
  },
  {
   "cell_type": "code",
   "execution_count": 136,
   "metadata": {},
   "outputs": [
    {
     "data": {
      "text/plain": [
       "4"
      ]
     },
     "execution_count": 136,
     "metadata": {},
     "output_type": "execute_result"
    }
   ],
   "source": [
    "a.iloc[a.argmax()]"
   ]
  },
  {
   "cell_type": "code",
   "execution_count": 139,
   "metadata": {},
   "outputs": [
    {
     "data": {
      "text/plain": [
       "4"
      ]
     },
     "execution_count": 139,
     "metadata": {},
     "output_type": "execute_result"
    }
   ],
   "source": [
    "a.loc[a.argmax()]"
   ]
  },
  {
   "cell_type": "code",
   "execution_count": 137,
   "metadata": {
    "collapsed": true
   },
   "outputs": [],
   "source": [
    "b=pd.Series([13, 12, 11, 10], index=('a','b','c','d'))"
   ]
  },
  {
   "cell_type": "code",
   "execution_count": 140,
   "metadata": {},
   "outputs": [
    {
     "data": {
      "text/plain": [
       "'a'"
      ]
     },
     "execution_count": 140,
     "metadata": {},
     "output_type": "execute_result"
    }
   ],
   "source": [
    "b.argmax()"
   ]
  },
  {
   "cell_type": "code",
   "execution_count": 141,
   "metadata": {},
   "outputs": [
    {
     "name": "stdout",
     "output_type": "stream",
     "text": [
      "a     NaN\n",
      "b     NaN\n",
      "c    13.0\n",
      "d    24.0\n",
      "e     NaN\n",
      "f     NaN\n",
      "dtype: float64\n"
     ]
    }
   ],
   "source": [
    "s1 = pd.Series([1, 2, 3, 4], index=['a', 'b', 'c', 'd'])\n",
    "s2 = pd.Series([10, 20, 30, 40], index=['c', 'd', 'e', 'f'])\n",
    "s=s1+s2\n",
    "print s"
   ]
  },
  {
   "cell_type": "code",
   "execution_count": 142,
   "metadata": {},
   "outputs": [
    {
     "name": "stdout",
     "output_type": "stream",
     "text": [
      "a     1.0\n",
      "b     2.0\n",
      "c    13.0\n",
      "d    24.0\n",
      "e    30.0\n",
      "f    40.0\n",
      "dtype: float64\n"
     ]
    }
   ],
   "source": [
    "szeros = 0.*(s1+s2).fillna(0.)\n",
    "s1b = (s1+szeros).fillna(0.)\n",
    "s2b = (s2+szeros).fillna(0.)\n",
    "print s1b + s2b"
   ]
  },
  {
   "cell_type": "code",
   "execution_count": 143,
   "metadata": {},
   "outputs": [
    {
     "data": {
      "text/plain": [
       "a     1.0\n",
       "b     2.0\n",
       "c    13.0\n",
       "d    24.0\n",
       "e    30.0\n",
       "f    40.0\n",
       "dtype: float64"
      ]
     },
     "execution_count": 143,
     "metadata": {},
     "output_type": "execute_result"
    }
   ],
   "source": [
    "s1.add(s2, fill_value=0.)"
   ]
  },
  {
   "cell_type": "code",
   "execution_count": 144,
   "metadata": {},
   "outputs": [
    {
     "data": {
      "text/plain": [
       "<matplotlib.axes._subplots.AxesSubplot at 0x12b5f4828>"
      ]
     },
     "execution_count": 144,
     "metadata": {},
     "output_type": "execute_result"
    },
    {
     "data": {
      "image/png": "[encoded data removed]",
      "text/plain": [
       "<matplotlib.figure.Figure at 0x127cd2518>"
      ]
     },
     "metadata": {},
     "output_type": "display_data"
    }
   ],
   "source": [
    "s1.plot()"
   ]
  },
  {
   "cell_type": "code",
   "execution_count": 145,
   "metadata": {},
   "outputs": [
    {
     "data": {
      "text/plain": [
       "<matplotlib.axes._subplots.AxesSubplot at 0x1269b2470>"
      ]
     },
     "execution_count": 145,
     "metadata": {},
     "output_type": "execute_result"
    },
    {
     "data": {
      "image/png": "[encoded data removed]",
      "text/plain": [
       "<matplotlib.figure.Figure at 0x1269b2f28>"
      ]
     },
     "metadata": {},
     "output_type": "display_data"
    }
   ],
   "source": [
    "s1.hist()"
   ]
  },
  {
   "cell_type": "code",
   "execution_count": 146,
   "metadata": {
    "collapsed": true
   },
   "outputs": [],
   "source": [
    "df = pd.DataFrame({'A': [0, 1, 2], 'B': [3, 4, 5]})"
   ]
  },
  {
   "cell_type": "code",
   "execution_count": 147,
   "metadata": {},
   "outputs": [
    {
     "data": {
      "text/html": [
       "<div>\n",
       "<style>\n",
       "    .dataframe thead tr:only-child th {\n",
       "        text-align: right;\n",
       "    }\n",
       "\n",
       "    .dataframe thead th {\n",
       "        text-align: left;\n",
       "    }\n",
       "\n",
       "    .dataframe tbody tr th {\n",
       "        vertical-align: top;\n",
       "    }\n",
       "</style>\n",
       "<table border=\"1\" class=\"dataframe\">\n",
       "  <thead>\n",
       "    <tr style=\"text-align: right;\">\n",
       "      <th></th>\n",
       "      <th>A</th>\n",
       "      <th>B</th>\n",
       "    </tr>\n",
       "  </thead>\n",
       "  <tbody>\n",
       "    <tr>\n",
       "      <th>0</th>\n",
       "      <td>0</td>\n",
       "      <td>3</td>\n",
       "    </tr>\n",
       "    <tr>\n",
       "      <th>1</th>\n",
       "      <td>1</td>\n",
       "      <td>4</td>\n",
       "    </tr>\n",
       "    <tr>\n",
       "      <th>2</th>\n",
       "      <td>2</td>\n",
       "      <td>5</td>\n",
       "    </tr>\n",
       "  </tbody>\n",
       "</table>\n",
       "</div>"
      ],
      "text/plain": [
       "   A  B\n",
       "0  0  3\n",
       "1  1  4\n",
       "2  2  5"
      ]
     },
     "execution_count": 147,
     "metadata": {},
     "output_type": "execute_result"
    }
   ],
   "source": [
    "df"
   ]
  },
  {
   "cell_type": "code",
   "execution_count": 148,
   "metadata": {},
   "outputs": [
    {
     "data": {
      "text/plain": [
       "'B'"
      ]
     },
     "execution_count": 148,
     "metadata": {},
     "output_type": "execute_result"
    }
   ],
   "source": [
    "df.max().argmax()"
   ]
  },
  {
   "cell_type": "code",
   "execution_count": 149,
   "metadata": {
    "collapsed": true
   },
   "outputs": [],
   "source": [
    "subway_df = pd.read_csv(os.path.join(csv_path, 'nyc_subway_weather.csv'))"
   ]
  },
  {
   "cell_type": "code",
   "execution_count": 150,
   "metadata": {},
   "outputs": [
    {
     "data": {
      "text/html": [
       "<div>\n",
       "<style>\n",
       "    .dataframe thead tr:only-child th {\n",
       "        text-align: right;\n",
       "    }\n",
       "\n",
       "    .dataframe thead th {\n",
       "        text-align: left;\n",
       "    }\n",
       "\n",
       "    .dataframe tbody tr th {\n",
       "        vertical-align: top;\n",
       "    }\n",
       "</style>\n",
       "<table border=\"1\" class=\"dataframe\">\n",
       "  <thead>\n",
       "    <tr style=\"text-align: right;\">\n",
       "      <th></th>\n",
       "      <th>UNIT</th>\n",
       "      <th>DATEn</th>\n",
       "      <th>TIMEn</th>\n",
       "      <th>ENTRIESn</th>\n",
       "      <th>EXITSn</th>\n",
       "      <th>ENTRIESn_hourly</th>\n",
       "      <th>EXITSn_hourly</th>\n",
       "      <th>datetime</th>\n",
       "      <th>hour</th>\n",
       "      <th>day_week</th>\n",
       "      <th>...</th>\n",
       "      <th>pressurei</th>\n",
       "      <th>rain</th>\n",
       "      <th>tempi</th>\n",
       "      <th>wspdi</th>\n",
       "      <th>meanprecipi</th>\n",
       "      <th>meanpressurei</th>\n",
       "      <th>meantempi</th>\n",
       "      <th>meanwspdi</th>\n",
       "      <th>weather_lat</th>\n",
       "      <th>weather_lon</th>\n",
       "    </tr>\n",
       "  </thead>\n",
       "  <tbody>\n",
       "    <tr>\n",
       "      <th>0</th>\n",
       "      <td>R003</td>\n",
       "      <td>05-01-11</td>\n",
       "      <td>00:00:00</td>\n",
       "      <td>4388333</td>\n",
       "      <td>2911002</td>\n",
       "      <td>0.0</td>\n",
       "      <td>0.0</td>\n",
       "      <td>2011-05-01 00:00:00</td>\n",
       "      <td>0</td>\n",
       "      <td>6</td>\n",
       "      <td>...</td>\n",
       "      <td>30.22</td>\n",
       "      <td>0</td>\n",
       "      <td>55.9</td>\n",
       "      <td>3.5</td>\n",
       "      <td>0.0</td>\n",
       "      <td>30.258</td>\n",
       "      <td>55.98</td>\n",
       "      <td>7.86</td>\n",
       "      <td>40.700348</td>\n",
       "      <td>-73.887177</td>\n",
       "    </tr>\n",
       "    <tr>\n",
       "      <th>1</th>\n",
       "      <td>R003</td>\n",
       "      <td>05-01-11</td>\n",
       "      <td>04:00:00</td>\n",
       "      <td>4388333</td>\n",
       "      <td>2911002</td>\n",
       "      <td>0.0</td>\n",
       "      <td>0.0</td>\n",
       "      <td>2011-05-01 04:00:00</td>\n",
       "      <td>4</td>\n",
       "      <td>6</td>\n",
       "      <td>...</td>\n",
       "      <td>30.25</td>\n",
       "      <td>0</td>\n",
       "      <td>52.0</td>\n",
       "      <td>3.5</td>\n",
       "      <td>0.0</td>\n",
       "      <td>30.258</td>\n",
       "      <td>55.98</td>\n",
       "      <td>7.86</td>\n",
       "      <td>40.700348</td>\n",
       "      <td>-73.887177</td>\n",
       "    </tr>\n",
       "    <tr>\n",
       "      <th>2</th>\n",
       "      <td>R003</td>\n",
       "      <td>05-01-11</td>\n",
       "      <td>12:00:00</td>\n",
       "      <td>4388333</td>\n",
       "      <td>2911002</td>\n",
       "      <td>0.0</td>\n",
       "      <td>0.0</td>\n",
       "      <td>2011-05-01 12:00:00</td>\n",
       "      <td>12</td>\n",
       "      <td>6</td>\n",
       "      <td>...</td>\n",
       "      <td>30.28</td>\n",
       "      <td>0</td>\n",
       "      <td>62.1</td>\n",
       "      <td>6.9</td>\n",
       "      <td>0.0</td>\n",
       "      <td>30.258</td>\n",
       "      <td>55.98</td>\n",
       "      <td>7.86</td>\n",
       "      <td>40.700348</td>\n",
       "      <td>-73.887177</td>\n",
       "    </tr>\n",
       "    <tr>\n",
       "      <th>3</th>\n",
       "      <td>R003</td>\n",
       "      <td>05-01-11</td>\n",
       "      <td>16:00:00</td>\n",
       "      <td>4388333</td>\n",
       "      <td>2911002</td>\n",
       "      <td>0.0</td>\n",
       "      <td>0.0</td>\n",
       "      <td>2011-05-01 16:00:00</td>\n",
       "      <td>16</td>\n",
       "      <td>6</td>\n",
       "      <td>...</td>\n",
       "      <td>30.26</td>\n",
       "      <td>0</td>\n",
       "      <td>57.9</td>\n",
       "      <td>15.0</td>\n",
       "      <td>0.0</td>\n",
       "      <td>30.258</td>\n",
       "      <td>55.98</td>\n",
       "      <td>7.86</td>\n",
       "      <td>40.700348</td>\n",
       "      <td>-73.887177</td>\n",
       "    </tr>\n",
       "    <tr>\n",
       "      <th>4</th>\n",
       "      <td>R003</td>\n",
       "      <td>05-01-11</td>\n",
       "      <td>20:00:00</td>\n",
       "      <td>4388333</td>\n",
       "      <td>2911002</td>\n",
       "      <td>0.0</td>\n",
       "      <td>0.0</td>\n",
       "      <td>2011-05-01 20:00:00</td>\n",
       "      <td>20</td>\n",
       "      <td>6</td>\n",
       "      <td>...</td>\n",
       "      <td>30.28</td>\n",
       "      <td>0</td>\n",
       "      <td>52.0</td>\n",
       "      <td>10.4</td>\n",
       "      <td>0.0</td>\n",
       "      <td>30.258</td>\n",
       "      <td>55.98</td>\n",
       "      <td>7.86</td>\n",
       "      <td>40.700348</td>\n",
       "      <td>-73.887177</td>\n",
       "    </tr>\n",
       "  </tbody>\n",
       "</table>\n",
       "<p>5 rows × 27 columns</p>\n",
       "</div>"
      ],
      "text/plain": [
       "   UNIT     DATEn     TIMEn  ENTRIESn   EXITSn  ENTRIESn_hourly  \\\n",
       "0  R003  05-01-11  00:00:00   4388333  2911002              0.0   \n",
       "1  R003  05-01-11  04:00:00   4388333  2911002              0.0   \n",
       "2  R003  05-01-11  12:00:00   4388333  2911002              0.0   \n",
       "3  R003  05-01-11  16:00:00   4388333  2911002              0.0   \n",
       "4  R003  05-01-11  20:00:00   4388333  2911002              0.0   \n",
       "\n",
       "   EXITSn_hourly             datetime  hour  day_week     ...       pressurei  \\\n",
       "0            0.0  2011-05-01 00:00:00     0         6     ...           30.22   \n",
       "1            0.0  2011-05-01 04:00:00     4         6     ...           30.25   \n",
       "2            0.0  2011-05-01 12:00:00    12         6     ...           30.28   \n",
       "3            0.0  2011-05-01 16:00:00    16         6     ...           30.26   \n",
       "4            0.0  2011-05-01 20:00:00    20         6     ...           30.28   \n",
       "\n",
       "  rain  tempi  wspdi meanprecipi  meanpressurei  meantempi  meanwspdi  \\\n",
       "0    0   55.9    3.5         0.0         30.258      55.98       7.86   \n",
       "1    0   52.0    3.5         0.0         30.258      55.98       7.86   \n",
       "2    0   62.1    6.9         0.0         30.258      55.98       7.86   \n",
       "3    0   57.9   15.0         0.0         30.258      55.98       7.86   \n",
       "4    0   52.0   10.4         0.0         30.258      55.98       7.86   \n",
       "\n",
       "   weather_lat  weather_lon  \n",
       "0    40.700348   -73.887177  \n",
       "1    40.700348   -73.887177  \n",
       "2    40.700348   -73.887177  \n",
       "3    40.700348   -73.887177  \n",
       "4    40.700348   -73.887177  \n",
       "\n",
       "[5 rows x 27 columns]"
      ]
     },
     "execution_count": 150,
     "metadata": {},
     "output_type": "execute_result"
    }
   ],
   "source": [
    "subway_df.head()"
   ]
  },
  {
   "cell_type": "code",
   "execution_count": 151,
   "metadata": {},
   "outputs": [
    {
     "data": {
      "text/html": [
       "<div>\n",
       "<style>\n",
       "    .dataframe thead tr:only-child th {\n",
       "        text-align: right;\n",
       "    }\n",
       "\n",
       "    .dataframe thead th {\n",
       "        text-align: left;\n",
       "    }\n",
       "\n",
       "    .dataframe tbody tr th {\n",
       "        vertical-align: top;\n",
       "    }\n",
       "</style>\n",
       "<table border=\"1\" class=\"dataframe\">\n",
       "  <thead>\n",
       "    <tr style=\"text-align: right;\">\n",
       "      <th></th>\n",
       "      <th>ENTRIESn</th>\n",
       "      <th>EXITSn</th>\n",
       "      <th>ENTRIESn_hourly</th>\n",
       "      <th>EXITSn_hourly</th>\n",
       "      <th>hour</th>\n",
       "      <th>day_week</th>\n",
       "      <th>weekday</th>\n",
       "      <th>latitude</th>\n",
       "      <th>longitude</th>\n",
       "      <th>fog</th>\n",
       "      <th>...</th>\n",
       "      <th>pressurei</th>\n",
       "      <th>rain</th>\n",
       "      <th>tempi</th>\n",
       "      <th>wspdi</th>\n",
       "      <th>meanprecipi</th>\n",
       "      <th>meanpressurei</th>\n",
       "      <th>meantempi</th>\n",
       "      <th>meanwspdi</th>\n",
       "      <th>weather_lat</th>\n",
       "      <th>weather_lon</th>\n",
       "    </tr>\n",
       "  </thead>\n",
       "  <tbody>\n",
       "    <tr>\n",
       "      <th>count</th>\n",
       "      <td>4.264900e+04</td>\n",
       "      <td>4.264900e+04</td>\n",
       "      <td>42649.000000</td>\n",
       "      <td>42649.000000</td>\n",
       "      <td>42649.000000</td>\n",
       "      <td>42649.000000</td>\n",
       "      <td>42649.000000</td>\n",
       "      <td>42649.000000</td>\n",
       "      <td>42649.000000</td>\n",
       "      <td>42649.000000</td>\n",
       "      <td>...</td>\n",
       "      <td>42649.000000</td>\n",
       "      <td>42649.000000</td>\n",
       "      <td>42649.000000</td>\n",
       "      <td>42649.000000</td>\n",
       "      <td>42649.000000</td>\n",
       "      <td>42649.000000</td>\n",
       "      <td>42649.000000</td>\n",
       "      <td>42649.000000</td>\n",
       "      <td>42649.000000</td>\n",
       "      <td>42649.000000</td>\n",
       "    </tr>\n",
       "    <tr>\n",
       "      <th>mean</th>\n",
       "      <td>2.812486e+07</td>\n",
       "      <td>1.986993e+07</td>\n",
       "      <td>1886.589955</td>\n",
       "      <td>1361.487866</td>\n",
       "      <td>10.046754</td>\n",
       "      <td>2.905719</td>\n",
       "      <td>0.714436</td>\n",
       "      <td>40.724647</td>\n",
       "      <td>-73.940364</td>\n",
       "      <td>0.009824</td>\n",
       "      <td>...</td>\n",
       "      <td>29.971096</td>\n",
       "      <td>0.224741</td>\n",
       "      <td>63.103780</td>\n",
       "      <td>6.927872</td>\n",
       "      <td>0.004618</td>\n",
       "      <td>29.971096</td>\n",
       "      <td>63.103780</td>\n",
       "      <td>6.927872</td>\n",
       "      <td>40.728555</td>\n",
       "      <td>-73.938693</td>\n",
       "    </tr>\n",
       "    <tr>\n",
       "      <th>std</th>\n",
       "      <td>3.043607e+07</td>\n",
       "      <td>2.028986e+07</td>\n",
       "      <td>2952.385585</td>\n",
       "      <td>2183.845409</td>\n",
       "      <td>6.938928</td>\n",
       "      <td>2.079231</td>\n",
       "      <td>0.451688</td>\n",
       "      <td>0.071650</td>\n",
       "      <td>0.059713</td>\n",
       "      <td>0.098631</td>\n",
       "      <td>...</td>\n",
       "      <td>0.137942</td>\n",
       "      <td>0.417417</td>\n",
       "      <td>8.455597</td>\n",
       "      <td>4.510178</td>\n",
       "      <td>0.016344</td>\n",
       "      <td>0.131158</td>\n",
       "      <td>6.939011</td>\n",
       "      <td>3.179832</td>\n",
       "      <td>0.065420</td>\n",
       "      <td>0.059582</td>\n",
       "    </tr>\n",
       "    <tr>\n",
       "      <th>min</th>\n",
       "      <td>0.000000e+00</td>\n",
       "      <td>0.000000e+00</td>\n",
       "      <td>0.000000</td>\n",
       "      <td>0.000000</td>\n",
       "      <td>0.000000</td>\n",
       "      <td>0.000000</td>\n",
       "      <td>0.000000</td>\n",
       "      <td>40.576152</td>\n",
       "      <td>-74.073622</td>\n",
       "      <td>0.000000</td>\n",
       "      <td>...</td>\n",
       "      <td>29.550000</td>\n",
       "      <td>0.000000</td>\n",
       "      <td>46.900000</td>\n",
       "      <td>0.000000</td>\n",
       "      <td>0.000000</td>\n",
       "      <td>29.590000</td>\n",
       "      <td>49.400000</td>\n",
       "      <td>0.000000</td>\n",
       "      <td>40.600204</td>\n",
       "      <td>-74.014870</td>\n",
       "    </tr>\n",
       "    <tr>\n",
       "      <th>25%</th>\n",
       "      <td>1.039762e+07</td>\n",
       "      <td>7.613712e+06</td>\n",
       "      <td>274.000000</td>\n",
       "      <td>237.000000</td>\n",
       "      <td>4.000000</td>\n",
       "      <td>1.000000</td>\n",
       "      <td>0.000000</td>\n",
       "      <td>40.677107</td>\n",
       "      <td>-73.987342</td>\n",
       "      <td>0.000000</td>\n",
       "      <td>...</td>\n",
       "      <td>29.890000</td>\n",
       "      <td>0.000000</td>\n",
       "      <td>57.000000</td>\n",
       "      <td>4.600000</td>\n",
       "      <td>0.000000</td>\n",
       "      <td>29.913333</td>\n",
       "      <td>58.283333</td>\n",
       "      <td>4.816667</td>\n",
       "      <td>40.688591</td>\n",
       "      <td>-73.985130</td>\n",
       "    </tr>\n",
       "    <tr>\n",
       "      <th>50%</th>\n",
       "      <td>1.818389e+07</td>\n",
       "      <td>1.331609e+07</td>\n",
       "      <td>905.000000</td>\n",
       "      <td>664.000000</td>\n",
       "      <td>12.000000</td>\n",
       "      <td>3.000000</td>\n",
       "      <td>1.000000</td>\n",
       "      <td>40.717241</td>\n",
       "      <td>-73.953459</td>\n",
       "      <td>0.000000</td>\n",
       "      <td>...</td>\n",
       "      <td>29.960000</td>\n",
       "      <td>0.000000</td>\n",
       "      <td>61.000000</td>\n",
       "      <td>6.900000</td>\n",
       "      <td>0.000000</td>\n",
       "      <td>29.958000</td>\n",
       "      <td>60.950000</td>\n",
       "      <td>6.166667</td>\n",
       "      <td>40.720570</td>\n",
       "      <td>-73.949150</td>\n",
       "    </tr>\n",
       "    <tr>\n",
       "      <th>75%</th>\n",
       "      <td>3.263049e+07</td>\n",
       "      <td>2.393771e+07</td>\n",
       "      <td>2255.000000</td>\n",
       "      <td>1537.000000</td>\n",
       "      <td>16.000000</td>\n",
       "      <td>5.000000</td>\n",
       "      <td>1.000000</td>\n",
       "      <td>40.759123</td>\n",
       "      <td>-73.907733</td>\n",
       "      <td>0.000000</td>\n",
       "      <td>...</td>\n",
       "      <td>30.060000</td>\n",
       "      <td>0.000000</td>\n",
       "      <td>69.100000</td>\n",
       "      <td>9.200000</td>\n",
       "      <td>0.000000</td>\n",
       "      <td>30.060000</td>\n",
       "      <td>67.466667</td>\n",
       "      <td>8.850000</td>\n",
       "      <td>40.755226</td>\n",
       "      <td>-73.912033</td>\n",
       "    </tr>\n",
       "    <tr>\n",
       "      <th>max</th>\n",
       "      <td>2.357746e+08</td>\n",
       "      <td>1.493782e+08</td>\n",
       "      <td>32814.000000</td>\n",
       "      <td>34828.000000</td>\n",
       "      <td>20.000000</td>\n",
       "      <td>6.000000</td>\n",
       "      <td>1.000000</td>\n",
       "      <td>40.889185</td>\n",
       "      <td>-73.755383</td>\n",
       "      <td>1.000000</td>\n",
       "      <td>...</td>\n",
       "      <td>30.320000</td>\n",
       "      <td>1.000000</td>\n",
       "      <td>86.000000</td>\n",
       "      <td>23.000000</td>\n",
       "      <td>0.157500</td>\n",
       "      <td>30.293333</td>\n",
       "      <td>79.800000</td>\n",
       "      <td>17.083333</td>\n",
       "      <td>40.862064</td>\n",
       "      <td>-73.694176</td>\n",
       "    </tr>\n",
       "  </tbody>\n",
       "</table>\n",
       "<p>8 rows × 21 columns</p>\n",
       "</div>"
      ],
      "text/plain": [
       "           ENTRIESn        EXITSn  ENTRIESn_hourly  EXITSn_hourly  \\\n",
       "count  4.264900e+04  4.264900e+04     42649.000000   42649.000000   \n",
       "mean   2.812486e+07  1.986993e+07      1886.589955    1361.487866   \n",
       "std    3.043607e+07  2.028986e+07      2952.385585    2183.845409   \n",
       "min    0.000000e+00  0.000000e+00         0.000000       0.000000   \n",
       "25%    1.039762e+07  7.613712e+06       274.000000     237.000000   \n",
       "50%    1.818389e+07  1.331609e+07       905.000000     664.000000   \n",
       "75%    3.263049e+07  2.393771e+07      2255.000000    1537.000000   \n",
       "max    2.357746e+08  1.493782e+08     32814.000000   34828.000000   \n",
       "\n",
       "               hour      day_week       weekday      latitude     longitude  \\\n",
       "count  42649.000000  42649.000000  42649.000000  42649.000000  42649.000000   \n",
       "mean      10.046754      2.905719      0.714436     40.724647    -73.940364   \n",
       "std        6.938928      2.079231      0.451688      0.071650      0.059713   \n",
       "min        0.000000      0.000000      0.000000     40.576152    -74.073622   \n",
       "25%        4.000000      1.000000      0.000000     40.677107    -73.987342   \n",
       "50%       12.000000      3.000000      1.000000     40.717241    -73.953459   \n",
       "75%       16.000000      5.000000      1.000000     40.759123    -73.907733   \n",
       "max       20.000000      6.000000      1.000000     40.889185    -73.755383   \n",
       "\n",
       "                fog      ...          pressurei          rain         tempi  \\\n",
       "count  42649.000000      ...       42649.000000  42649.000000  42649.000000   \n",
       "mean       0.009824      ...          29.971096      0.224741     63.103780   \n",
       "std        0.098631      ...           0.137942      0.417417      8.455597   \n",
       "min        0.000000      ...          29.550000      0.000000     46.900000   \n",
       "25%        0.000000      ...          29.890000      0.000000     57.000000   \n",
       "50%        0.000000      ...          29.960000      0.000000     61.000000   \n",
       "75%        0.000000      ...          30.060000      0.000000     69.100000   \n",
       "max        1.000000      ...          30.320000      1.000000     86.000000   \n",
       "\n",
       "              wspdi   meanprecipi  meanpressurei     meantempi     meanwspdi  \\\n",
       "count  42649.000000  42649.000000   42649.000000  42649.000000  42649.000000   \n",
       "mean       6.927872      0.004618      29.971096     63.103780      6.927872   \n",
       "std        4.510178      0.016344       0.131158      6.939011      3.179832   \n",
       "min        0.000000      0.000000      29.590000     49.400000      0.000000   \n",
       "25%        4.600000      0.000000      29.913333     58.283333      4.816667   \n",
       "50%        6.900000      0.000000      29.958000     60.950000      6.166667   \n",
       "75%        9.200000      0.000000      30.060000     67.466667      8.850000   \n",
       "max       23.000000      0.157500      30.293333     79.800000     17.083333   \n",
       "\n",
       "        weather_lat   weather_lon  \n",
       "count  42649.000000  42649.000000  \n",
       "mean      40.728555    -73.938693  \n",
       "std        0.065420      0.059582  \n",
       "min       40.600204    -74.014870  \n",
       "25%       40.688591    -73.985130  \n",
       "50%       40.720570    -73.949150  \n",
       "75%       40.755226    -73.912033  \n",
       "max       40.862064    -73.694176  \n",
       "\n",
       "[8 rows x 21 columns]"
      ]
     },
     "execution_count": 151,
     "metadata": {},
     "output_type": "execute_result"
    }
   ],
   "source": [
    "subway_df.describe()"
   ]
  },
  {
   "cell_type": "code",
   "execution_count": 152,
   "metadata": {},
   "outputs": [
    {
     "name": "stdout",
     "output_type": "stream",
     "text": [
      "0.0356485157722\n",
      "-0.0266933483216\n",
      "-0.229034323408\n",
      "0.585895470766\n"
     ]
    }
   ],
   "source": [
    "def correlation(x, y):\n",
    "    '''\n",
    "    Fill in this function to compute the correlation between the two\n",
    "    input variables. Each input is either a NumPy array or a Pandas\n",
    "    Series.\n",
    "    \n",
    "    correlation = average of (x in standard units) times (y in standard units)\n",
    "    \n",
    "    Remember to pass the argument \"ddof=0\" to the Pandas std() function!\n",
    "    '''\n",
    "    \n",
    "    x_zscores = (x - x.mean())/x.std(ddof=0)\n",
    "    y_zscores = (y - y.mean())/y.std(ddof=0)\n",
    "    \n",
    "    person_r = (x_zscores*y_zscores).mean()\n",
    "    return person_r\n",
    "\n",
    "entries = subway_df['ENTRIESn_hourly']\n",
    "cum_entries = subway_df['ENTRIESn']\n",
    "rain = subway_df['meanprecipi']\n",
    "temp = subway_df['meantempi']\n",
    "\n",
    "print correlation(entries, rain)\n",
    "print correlation(entries, temp)\n",
    "print correlation(rain, temp)\n",
    "\n",
    "print correlation(entries, cum_entries)"
   ]
  },
  {
   "cell_type": "code",
   "execution_count": 153,
   "metadata": {},
   "outputs": [
    {
     "data": {
      "text/html": [
       "<div>\n",
       "<style>\n",
       "    .dataframe thead tr:only-child th {\n",
       "        text-align: right;\n",
       "    }\n",
       "\n",
       "    .dataframe thead th {\n",
       "        text-align: left;\n",
       "    }\n",
       "\n",
       "    .dataframe tbody tr th {\n",
       "        vertical-align: top;\n",
       "    }\n",
       "</style>\n",
       "<table border=\"1\" class=\"dataframe\">\n",
       "  <thead>\n",
       "    <tr style=\"text-align: right;\">\n",
       "      <th></th>\n",
       "      <th>A</th>\n",
       "      <th>B</th>\n",
       "    </tr>\n",
       "  </thead>\n",
       "  <tbody>\n",
       "    <tr>\n",
       "      <th>r1</th>\n",
       "      <td>0</td>\n",
       "      <td>3</td>\n",
       "    </tr>\n",
       "    <tr>\n",
       "      <th>r2</th>\n",
       "      <td>1</td>\n",
       "      <td>4</td>\n",
       "    </tr>\n",
       "    <tr>\n",
       "      <th>r3</th>\n",
       "      <td>2</td>\n",
       "      <td>5</td>\n",
       "    </tr>\n",
       "  </tbody>\n",
       "</table>\n",
       "</div>"
      ],
      "text/plain": [
       "    A  B\n",
       "r1  0  3\n",
       "r2  1  4\n",
       "r3  2  5"
      ]
     },
     "execution_count": 153,
     "metadata": {},
     "output_type": "execute_result"
    }
   ],
   "source": [
    "df = pd.DataFrame({'A': [0, 1, 2], 'B': [3, 4, 5]}, index=('r1','r2','r3'))\n",
    "df"
   ]
  },
  {
   "cell_type": "code",
   "execution_count": 154,
   "metadata": {},
   "outputs": [
    {
     "data": {
      "text/html": [
       "<div>\n",
       "<style>\n",
       "    .dataframe thead tr:only-child th {\n",
       "        text-align: right;\n",
       "    }\n",
       "\n",
       "    .dataframe thead th {\n",
       "        text-align: left;\n",
       "    }\n",
       "\n",
       "    .dataframe tbody tr th {\n",
       "        vertical-align: top;\n",
       "    }\n",
       "</style>\n",
       "<table border=\"1\" class=\"dataframe\">\n",
       "  <thead>\n",
       "    <tr style=\"text-align: right;\">\n",
       "      <th></th>\n",
       "      <th>A</th>\n",
       "      <th>B</th>\n",
       "    </tr>\n",
       "  </thead>\n",
       "  <tbody>\n",
       "    <tr>\n",
       "      <th>r1</th>\n",
       "      <td>1.0</td>\n",
       "      <td>4.0</td>\n",
       "    </tr>\n",
       "    <tr>\n",
       "      <th>r2</th>\n",
       "      <td>2.0</td>\n",
       "      <td>5.0</td>\n",
       "    </tr>\n",
       "    <tr>\n",
       "      <th>r3</th>\n",
       "      <td>0.0</td>\n",
       "      <td>0.0</td>\n",
       "    </tr>\n",
       "  </tbody>\n",
       "</table>\n",
       "</div>"
      ],
      "text/plain": [
       "      A    B\n",
       "r1  1.0  4.0\n",
       "r2  2.0  5.0\n",
       "r3  0.0  0.0"
      ]
     },
     "execution_count": 154,
     "metadata": {},
     "output_type": "execute_result"
    }
   ],
   "source": [
    "df.shift(-1).fillna(0)"
   ]
  },
  {
   "cell_type": "code",
   "execution_count": 155,
   "metadata": {},
   "outputs": [
    {
     "data": {
      "text/html": [
       "<div>\n",
       "<style>\n",
       "    .dataframe thead tr:only-child th {\n",
       "        text-align: right;\n",
       "    }\n",
       "\n",
       "    .dataframe thead th {\n",
       "        text-align: left;\n",
       "    }\n",
       "\n",
       "    .dataframe tbody tr th {\n",
       "        vertical-align: top;\n",
       "    }\n",
       "</style>\n",
       "<table border=\"1\" class=\"dataframe\">\n",
       "  <thead>\n",
       "    <tr style=\"text-align: right;\">\n",
       "      <th></th>\n",
       "      <th>A</th>\n",
       "      <th>B</th>\n",
       "    </tr>\n",
       "  </thead>\n",
       "  <tbody>\n",
       "    <tr>\n",
       "      <th>r1</th>\n",
       "      <td>0.0</td>\n",
       "      <td>0.0</td>\n",
       "    </tr>\n",
       "    <tr>\n",
       "      <th>r2</th>\n",
       "      <td>0.0</td>\n",
       "      <td>3.0</td>\n",
       "    </tr>\n",
       "    <tr>\n",
       "      <th>r3</th>\n",
       "      <td>1.0</td>\n",
       "      <td>4.0</td>\n",
       "    </tr>\n",
       "  </tbody>\n",
       "</table>\n",
       "</div>"
      ],
      "text/plain": [
       "      A    B\n",
       "r1  0.0  0.0\n",
       "r2  0.0  3.0\n",
       "r3  1.0  4.0"
      ]
     },
     "execution_count": 155,
     "metadata": {},
     "output_type": "execute_result"
    }
   ],
   "source": [
    "df.shift().fillna(0.)"
   ]
  },
  {
   "cell_type": "code",
   "execution_count": 156,
   "metadata": {},
   "outputs": [
    {
     "data": {
      "text/html": [
       "<div>\n",
       "<style>\n",
       "    .dataframe thead tr:only-child th {\n",
       "        text-align: right;\n",
       "    }\n",
       "\n",
       "    .dataframe thead th {\n",
       "        text-align: left;\n",
       "    }\n",
       "\n",
       "    .dataframe tbody tr th {\n",
       "        vertical-align: top;\n",
       "    }\n",
       "</style>\n",
       "<table border=\"1\" class=\"dataframe\">\n",
       "  <thead>\n",
       "    <tr style=\"text-align: right;\">\n",
       "      <th></th>\n",
       "      <th>A</th>\n",
       "      <th>B</th>\n",
       "    </tr>\n",
       "  </thead>\n",
       "  <tbody>\n",
       "    <tr>\n",
       "      <th>r1</th>\n",
       "      <td>0.0</td>\n",
       "      <td>3.0</td>\n",
       "    </tr>\n",
       "    <tr>\n",
       "      <th>r2</th>\n",
       "      <td>1.0</td>\n",
       "      <td>1.0</td>\n",
       "    </tr>\n",
       "    <tr>\n",
       "      <th>r3</th>\n",
       "      <td>1.0</td>\n",
       "      <td>1.0</td>\n",
       "    </tr>\n",
       "  </tbody>\n",
       "</table>\n",
       "</div>"
      ],
      "text/plain": [
       "      A    B\n",
       "r1  0.0  3.0\n",
       "r2  1.0  1.0\n",
       "r3  1.0  1.0"
      ]
     },
     "execution_count": 156,
     "metadata": {},
     "output_type": "execute_result"
    }
   ],
   "source": [
    "df - df.shift().fillna(0.)"
   ]
  },
  {
   "cell_type": "code",
   "execution_count": 157,
   "metadata": {},
   "outputs": [
    {
     "name": "stdout",
     "output_type": "stream",
     "text": [
      "        exam1 exam2\n",
      "Andre       F     F\n",
      "Barry       B     D\n",
      "Chris       C     F\n",
      "Dan         C     F\n",
      "Emilio      B     D\n",
      "Fred        C     F\n",
      "Greta       A     C\n",
      "Humbert     D     F\n",
      "Ivan        A     C\n",
      "James       B     D\n"
     ]
    }
   ],
   "source": [
    "grades_df = pd.DataFrame(\n",
    "    data={'exam1': [43, 81, 78, 75, 89, 70, 91, 65, 98, 87],\n",
    "          'exam2': [24, 63, 56, 56, 67, 51, 79, 46, 72, 60]},\n",
    "    index=['Andre', 'Barry', 'Chris', 'Dan', 'Emilio', \n",
    "           'Fred', 'Greta', 'Humbert', 'Ivan', 'James']\n",
    ")\n",
    "    \n",
    "def convert_grades(grades):\n",
    "    '''\n",
    "    Fill in this function to convert the given DataFrame of numerical\n",
    "    grades to letter grades. Return a new DataFrame with the converted\n",
    "    grade.\n",
    "    \n",
    "    The conversion rule is:\n",
    "        90-100 -> A\n",
    "        80-89  -> B\n",
    "        70-79  -> C\n",
    "        60-69  -> D\n",
    "        0-59   -> F\n",
    "    '''\n",
    "    def convert(grade):\n",
    "        if   90 <= grade: newgrade='A'\n",
    "        elif 80 <= grade: newgrade='B'\n",
    "        elif 70 <= grade: newgrade='C'\n",
    "        elif 60 <= grade: newgrade='D'\n",
    "        else: newgrade='F'\n",
    "        return newgrade\n",
    "\n",
    "    return grades.applymap(convert)\n",
    "\n",
    "print convert_grades(grades_df)"
   ]
  },
  {
   "cell_type": "code",
   "execution_count": 158,
   "metadata": {},
   "outputs": [
    {
     "name": "stdout",
     "output_type": "stream",
     "text": [
      "Andre      F\n",
      "Barry      B\n",
      "Chris      C\n",
      "Dan        C\n",
      "Emilio     B\n",
      "Fred       C\n",
      "Greta      A\n",
      "Humbert    D\n",
      "Ivan       A\n",
      "James      B\n",
      "Name: exam1, dtype: category\n",
      "Categories (5, object): [F < D < C < B < A]\n",
      "        exam1 exam2\n",
      "Andre       F     F\n",
      "Barry       B     B\n",
      "Chris       C     C\n",
      "Dan         C     C\n",
      "Emilio      B     B\n",
      "Fred        C     C\n",
      "Greta       A     A\n",
      "Humbert     D     D\n",
      "Ivan        A     A\n",
      "James       B     B\n",
      "            exam1     exam2\n",
      "Andre   -2.315341 -2.304599\n",
      "Barry    0.220191  0.386400\n",
      "Chris    0.020017 -0.096600\n",
      "Dan     -0.180156 -0.096600\n",
      "Emilio   0.753987  0.662400\n",
      "Fred    -0.513779 -0.441600\n",
      "Greta    0.887436  1.490400\n",
      "Humbert -0.847401 -0.786600\n",
      "Ivan     1.354508  1.007400\n",
      "James    0.620538  0.179400\n"
     ]
    }
   ],
   "source": [
    "grades_df = pd.DataFrame(\n",
    "    data={'exam1': [43, 81, 78, 75, 89, 70, 91, 65, 98, 87],\n",
    "          'exam2': [24, 63, 56, 56, 67, 51, 79, 46, 72, 60]},\n",
    "    index=['Andre', 'Barry', 'Chris', 'Dan', 'Emilio', \n",
    "           'Fred', 'Greta', 'Humbert', 'Ivan', 'James']\n",
    ")\n",
    "\n",
    "# Change False to True for this block of code to see what it does\n",
    "\n",
    "# DataFrame apply()\n",
    "if True:\n",
    "    def convert_grades_curve(exam_grades):\n",
    "        # Pandas has a bult-in function that will perform this calculation\n",
    "        # This will give the bottom 0% to 10% of students the grade 'F',\n",
    "        # 10% to 20% the grade 'D', and so on. You can read more about\n",
    "        # the qcut() function here:\n",
    "        # http://pandas.pydata.org/pandas-docs/stable/generated/pandas.qcut.html\n",
    "        return pd.qcut(exam_grades,\n",
    "                       [0, 0.1, 0.2, 0.5, 0.8, 1],\n",
    "                       labels=['F', 'D', 'C', 'B', 'A'])\n",
    "        \n",
    "    # qcut() operates on a list, array, or Series. This is the\n",
    "    # result of running the function on a single column of the\n",
    "    # DataFrame.\n",
    "    print convert_grades_curve(grades_df['exam1'])\n",
    "    \n",
    "    # qcut() does not work on DataFrames, but we can use apply()\n",
    "    # to call the function on each column separately\n",
    "    print grades_df.apply(convert_grades_curve)\n",
    "    \n",
    "def standardize(df):\n",
    "    '''\n",
    "    Fill in this function to standardize each column of the given\n",
    "    DataFrame. To standardize a variable, convert each value to the\n",
    "    number of standard deviations it is above or below the mean.\n",
    "    '''\n",
    "    def standardize_serie(s):\n",
    "        return (s - s.mean())/s.std(ddof=0)\n",
    "    \n",
    "    return df.apply(standardize_serie)\n",
    "\n",
    "print standardize(grades_df)"
   ]
  },
  {
   "cell_type": "code",
   "execution_count": 160,
   "metadata": {
    "collapsed": true
   },
   "outputs": [],
   "source": [
    "ds = pd.Series([1, 2, 3, 4], index=['a', 'b', 'c', 'd'])"
   ]
  },
  {
   "cell_type": "code",
   "execution_count": 163,
   "metadata": {},
   "outputs": [
    {
     "data": {
      "text/plain": [
       "'d'"
      ]
     },
     "execution_count": 163,
     "metadata": {},
     "output_type": "execute_result"
    }
   ],
   "source": [
    "ds.argmax()"
   ]
  },
  {
   "cell_type": "code",
   "execution_count": 170,
   "metadata": {},
   "outputs": [
    {
     "data": {
      "text/plain": [
       "True"
      ]
     },
     "execution_count": 170,
     "metadata": {},
     "output_type": "execute_result"
    }
   ],
   "source": [
    "ds.loc[ds.argmax()] == ds.max()"
   ]
  },
  {
   "cell_type": "code",
   "execution_count": 175,
   "metadata": {},
   "outputs": [
    {
     "name": "stdout",
     "output_type": "stream",
     "text": [
      "a    1\n",
      "b    2\n",
      "c    3\n",
      "d    1\n",
      "dtype: int64\n"
     ]
    }
   ],
   "source": [
    "ds2 = ds + 0\n",
    "ds2.loc[ds.argmax()] = ds.min()\n",
    "print ds2"
   ]
  },
  {
   "cell_type": "code",
   "execution_count": null,
   "metadata": {
    "collapsed": true
   },
   "outputs": [],
   "source": []
  },
  {
   "cell_type": "code",
   "execution_count": 183,
   "metadata": {},
   "outputs": [
    {
     "name": "stdout",
     "output_type": "stream",
     "text": [
      "   a   b   c\n",
      "0  4  20  25\n",
      "1  5  10  20\n",
      "2  3  40   5\n",
      "3  1  50  15\n",
      "4  2  30  10\n",
      "a     4\n",
      "b    40\n",
      "c    20\n",
      "dtype: int64\n",
      "<class 'pandas.core.series.Series'>\n"
     ]
    }
   ],
   "source": [
    "df = pd.DataFrame({\n",
    "    'a': [4, 5, 3, 1, 2],\n",
    "    'b': [20, 10, 40, 50, 30],\n",
    "    'c': [25, 20, 5, 15, 10]\n",
    "})\n",
    "\n",
    "# Change False to True for this block of code to see what it does\n",
    "\n",
    "# DataFrame apply() - use case 2\n",
    "if False:   \n",
    "    print df.apply(np.mean)\n",
    "    print df.apply(np.max)\n",
    "    \n",
    "def second_largest(df):\n",
    "    '''\n",
    "    Fill in this function to return the second-largest value of each \n",
    "    column of the input DataFrame.\n",
    "    '''\n",
    "    def get_second_largest(ds):\n",
    "        #ds_tmp = ds + 0\n",
    "        ds_tmp = ds.sort_values(ascending=False)\n",
    "        #ds_tmp.loc[ds.argmax()] = ds.min()\n",
    "        #ds_tmp.argmax()\n",
    "        #return ds.loc[ds_tmp.argmax()]\n",
    "        return ds_tmp.iloc[1]\n",
    "    \n",
    "    return df.apply(get_second_largest)\n",
    "\n",
    "print df\n",
    "print second_largest(df)\n",
    "print type(second_largest(df))\n"
   ]
  },
  {
   "cell_type": "code",
   "execution_count": 184,
   "metadata": {},
   "outputs": [
    {
     "data": {
      "text/html": [
       "<div>\n",
       "<style>\n",
       "    .dataframe thead tr:only-child th {\n",
       "        text-align: right;\n",
       "    }\n",
       "\n",
       "    .dataframe thead th {\n",
       "        text-align: left;\n",
       "    }\n",
       "\n",
       "    .dataframe tbody tr th {\n",
       "        vertical-align: top;\n",
       "    }\n",
       "</style>\n",
       "<table border=\"1\" class=\"dataframe\">\n",
       "  <thead>\n",
       "    <tr style=\"text-align: right;\">\n",
       "      <th></th>\n",
       "      <th>a</th>\n",
       "      <th>b</th>\n",
       "      <th>c</th>\n",
       "    </tr>\n",
       "  </thead>\n",
       "  <tbody>\n",
       "    <tr>\n",
       "      <th>0</th>\n",
       "      <td>4</td>\n",
       "      <td>20</td>\n",
       "      <td>25</td>\n",
       "    </tr>\n",
       "    <tr>\n",
       "      <th>1</th>\n",
       "      <td>5</td>\n",
       "      <td>10</td>\n",
       "      <td>20</td>\n",
       "    </tr>\n",
       "    <tr>\n",
       "      <th>2</th>\n",
       "      <td>3</td>\n",
       "      <td>40</td>\n",
       "      <td>5</td>\n",
       "    </tr>\n",
       "    <tr>\n",
       "      <th>3</th>\n",
       "      <td>1</td>\n",
       "      <td>50</td>\n",
       "      <td>15</td>\n",
       "    </tr>\n",
       "    <tr>\n",
       "      <th>4</th>\n",
       "      <td>2</td>\n",
       "      <td>30</td>\n",
       "      <td>10</td>\n",
       "    </tr>\n",
       "  </tbody>\n",
       "</table>\n",
       "</div>"
      ],
      "text/plain": [
       "   a   b   c\n",
       "0  4  20  25\n",
       "1  5  10  20\n",
       "2  3  40   5\n",
       "3  1  50  15\n",
       "4  2  30  10"
      ]
     },
     "execution_count": 184,
     "metadata": {},
     "output_type": "execute_result"
    }
   ],
   "source": [
    "df"
   ]
  },
  {
   "cell_type": "code",
   "execution_count": 186,
   "metadata": {},
   "outputs": [
    {
     "data": {
      "text/plain": [
       "5"
      ]
     },
     "execution_count": 186,
     "metadata": {},
     "output_type": "execute_result"
    }
   ],
   "source": [
    "df['a'][1]"
   ]
  },
  {
   "cell_type": "code",
   "execution_count": 187,
   "metadata": {},
   "outputs": [
    {
     "name": "stdout",
     "output_type": "stream",
     "text": [
      "    0   1    2    3\n",
      "0  10  50   90  130\n",
      "1  20  60  100  140\n",
      "2  30  70  110  150\n",
      "3  40  80  120  160\n",
      "\n",
      "    0   1    2    3\n",
      "0  11  52   93  134\n",
      "1  21  62  103  144\n",
      "2  31  72  113  154\n",
      "3  41  82  123  164\n",
      "    0   1   2   3\n",
      "0  10  20  30  40\n",
      "\n",
      "    0   1   2   3\n",
      "0  11  22  33  44\n",
      "    0\n",
      "0  10\n",
      "1  20\n",
      "2  30\n",
      "3  40\n",
      "\n",
      "    0   1   2   3\n",
      "0  11 NaN NaN NaN\n",
      "1  21 NaN NaN NaN\n",
      "2  31 NaN NaN NaN\n",
      "3  41 NaN NaN NaN\n",
      "    a   b    c    d\n",
      "0  10  50   90  130\n",
      "1  20  60  100  140\n",
      "2  30  70  110  150\n",
      "3  40  80  120  160\n",
      "\n",
      "    a   b    c    d\n",
      "0  11  52   93  134\n",
      "1  21  62  103  144\n",
      "2  31  72  113  154\n",
      "3  41  82  123  164\n",
      "    a   b    c    d\n",
      "0  10  50   90  130\n",
      "1  20  60  100  140\n",
      "2  30  70  110  150\n",
      "3  40  80  120  160\n",
      "\n",
      "    0   1   2   3   a   b   c   d\n",
      "0 NaN NaN NaN NaN NaN NaN NaN NaN\n",
      "1 NaN NaN NaN NaN NaN NaN NaN NaN\n",
      "2 NaN NaN NaN NaN NaN NaN NaN NaN\n",
      "3 NaN NaN NaN NaN NaN NaN NaN NaN\n"
     ]
    }
   ],
   "source": [
    "import pandas as pd\n",
    "\n",
    "# Change False to True for each block of code to see what it does\n",
    "\n",
    "# Adding a Series to a square DataFrame\n",
    "if True:\n",
    "    s = pd.Series([1, 2, 3, 4])\n",
    "    df = pd.DataFrame({\n",
    "        0: [10, 20, 30, 40],\n",
    "        1: [50, 60, 70, 80],\n",
    "        2: [90, 100, 110, 120],\n",
    "        3: [130, 140, 150, 160]\n",
    "    })\n",
    "    \n",
    "    print df\n",
    "    print '' # Create a blank line between outputs\n",
    "    print df + s\n",
    "    \n",
    "# Adding a Series to a one-row DataFrame \n",
    "if True:\n",
    "    s = pd.Series([1, 2, 3, 4])\n",
    "    df = pd.DataFrame({0: [10], 1: [20], 2: [30], 3: [40]})\n",
    "    \n",
    "    print df\n",
    "    print '' # Create a blank line between outputs\n",
    "    print df + s\n",
    "\n",
    "# Adding a Series to a one-column DataFrame\n",
    "if True:\n",
    "    s = pd.Series([1, 2, 3, 4])\n",
    "    df = pd.DataFrame({0: [10, 20, 30, 40]})\n",
    "    \n",
    "    print df\n",
    "    print '' # Create a blank line between outputs\n",
    "    print df + s\n",
    "    \n",
    "\n",
    "    \n",
    "# Adding when DataFrame column names match Series index\n",
    "if True:\n",
    "    s = pd.Series([1, 2, 3, 4], index=['a', 'b', 'c', 'd'])\n",
    "    df = pd.DataFrame({\n",
    "        'a': [10, 20, 30, 40],\n",
    "        'b': [50, 60, 70, 80],\n",
    "        'c': [90, 100, 110, 120],\n",
    "        'd': [130, 140, 150, 160]\n",
    "    })\n",
    "    \n",
    "    print df\n",
    "    print '' # Create a blank line between outputs\n",
    "    print df + s\n",
    "    \n",
    "# Adding when DataFrame column names don't match Series index\n",
    "if True:\n",
    "    s = pd.Series([1, 2, 3, 4])\n",
    "    df = pd.DataFrame({\n",
    "        'a': [10, 20, 30, 40],\n",
    "        'b': [50, 60, 70, 80],\n",
    "        'c': [90, 100, 110, 120],\n",
    "        'd': [130, 140, 150, 160]\n",
    "    })\n",
    "    \n",
    "    print df\n",
    "    print '' # Create a blank line between outputs\n",
    "    print df + s"
   ]
  },
  {
   "cell_type": "markdown",
   "metadata": {},
   "source": [
    "## important: addition of dataFrames and Series with given axis direction"
   ]
  },
  {
   "cell_type": "code",
   "execution_count": 190,
   "metadata": {},
   "outputs": [
    {
     "name": "stdout",
     "output_type": "stream",
     "text": [
      "    0\n",
      "0  10\n",
      "1  20\n",
      "2  30\n",
      "3  40\n",
      "\n",
      "    0   1   2   3\n",
      "0  11 NaN NaN NaN\n",
      "1  21 NaN NaN NaN\n",
      "2  31 NaN NaN NaN\n",
      "3  41 NaN NaN NaN\n",
      "    0   1   2   3\n",
      "0  11 NaN NaN NaN\n",
      "1  21 NaN NaN NaN\n",
      "2  31 NaN NaN NaN\n",
      "3  41 NaN NaN NaN\n",
      "    0\n",
      "0  11\n",
      "1  22\n",
      "2  33\n",
      "3  44\n"
     ]
    }
   ],
   "source": [
    "    s = pd.Series([1, 2, 3, 4])\n",
    "    df = pd.DataFrame({0: [10, 20, 30, 40]})\n",
    "    \n",
    "    print df\n",
    "    print '' # Create a blank line between outputs\n",
    "    print df + s\n",
    "    print df.add(s, axis='columns')\n",
    "    print df.add(s, axis='index')"
   ]
  },
  {
   "cell_type": "markdown",
   "metadata": {},
   "source": [
    "### Note: In order to get the proper computations, we should actually be setting the value of the \"ddof\" parameter to 0 in the .std() function.\n",
    "\n",
    "### Note that the type of standard deviation calculated by default is different between numpy's .std() and pandas' .std() functions. By default, numpy calculates a population standard deviation, with \"ddof = 0\". On the other hand, pandas calculates a sample standard deviation, with \"ddof = 1\". If we know all of the scores, then we have a population - so to standardize using pandas, we need to set \"ddof = 0\"."
   ]
  },
  {
   "cell_type": "code",
   "execution_count": 222,
   "metadata": {},
   "outputs": [
    {
     "name": "stdout",
     "output_type": "stream",
     "text": [
      "            exam1     exam2\n",
      "Andre   -2.315341 -2.304599\n",
      "Barry    0.220191  0.386400\n",
      "Chris    0.020017 -0.096600\n",
      "Dan     -0.180156 -0.096600\n",
      "Emilio   0.753987  0.662400\n",
      "Fred    -0.513779 -0.441600\n",
      "Greta    0.887436  1.490400\n",
      "Humbert -0.847401 -0.786600\n",
      "Ivan     1.354508  1.007400\n",
      "James    0.620538  0.179400\n",
      "\n",
      "            exam1     exam2\n",
      "Andre   -2.315341 -2.304599\n",
      "Barry    0.220191  0.386400\n",
      "Chris    0.020017 -0.096600\n",
      "Dan     -0.180156 -0.096600\n",
      "Emilio   0.753987  0.662400\n",
      "Fred    -0.513779 -0.441600\n",
      "Greta    0.887436  1.490400\n",
      "Humbert -0.847401 -0.786600\n",
      "Ivan     1.354508  1.007400\n",
      "James    0.620538  0.179400\n",
      "\n"
     ]
    }
   ],
   "source": [
    "import pandas as pd\n",
    "\n",
    "# Adding using +\n",
    "if False:\n",
    "    s = pd.Series([1, 2, 3, 4])\n",
    "    df = pd.DataFrame({\n",
    "        0: [10, 20, 30, 40],\n",
    "        1: [50, 60, 70, 80],\n",
    "        2: [90, 100, 110, 120],\n",
    "        3: [130, 140, 150, 160]\n",
    "    })\n",
    "    \n",
    "    print df\n",
    "    print '' # Create a blank line between outputs\n",
    "    print df + s\n",
    "    \n",
    "# Adding with axis='index'\n",
    "if False:\n",
    "    s = pd.Series([1, 2, 3, 4])\n",
    "    df = pd.DataFrame({\n",
    "        0: [10, 20, 30, 40],\n",
    "        1: [50, 60, 70, 80],\n",
    "        2: [90, 100, 110, 120],\n",
    "        3: [130, 140, 150, 160]\n",
    "    })\n",
    "    \n",
    "    print df\n",
    "    print '' # Create a blank line between outputs\n",
    "    print df.add(s, axis='index')\n",
    "    # The functions sub(), mul(), and div() work similarly to add()\n",
    "    \n",
    "# Adding with axis='columns'\n",
    "if False:\n",
    "    s = pd.Series([1, 2, 3, 4])\n",
    "    df = pd.DataFrame({\n",
    "        0: [10, 20, 30, 40],\n",
    "        1: [50, 60, 70, 80],\n",
    "        2: [90, 100, 110, 120],\n",
    "        3: [130, 140, 150, 160]\n",
    "    })\n",
    "    \n",
    "    print df\n",
    "    print '' # Create a blank line between outputs\n",
    "    print df.add(s, axis='columns')\n",
    "    # The functions sub(), mul(), and div() work similarly to add()\n",
    "    \n",
    "grades_df = pd.DataFrame(\n",
    "    data={'exam1': [43, 81, 78, 75, 89, 70, 91, 65, 98, 87],\n",
    "          'exam2': [24, 63, 56, 56, 67, 51, 79, 46, 72, 60]},\n",
    "    index=['Andre', 'Barry', 'Chris', 'Dan', 'Emilio', \n",
    "           'Fred', 'Greta', 'Humbert', 'Ivan', 'James']\n",
    ")\n",
    "\n",
    "def standardize_serie(s):\n",
    "        return (s - s.mean())/s.std(ddof=0)\n",
    "\n",
    "\n",
    "def standardize_with_apply(df):\n",
    "    return df.apply(standardize_serie)\n",
    "\n",
    "def standardize(df):\n",
    "    '''\n",
    "    Fill in this function to standardize each column of the given\n",
    "    DataFrame. To standardize a variable, convert each value to the\n",
    "    number of standard deviations it is above or below the mean.\n",
    "    \n",
    "    This time, try to use vectorized operations instead of apply().\n",
    "    You should get the same results as you did before.\n",
    "    '''\n",
    "    s_mean = df.mean()\n",
    "    s_std = df.std(ddof=0)\n",
    "    df_dev = df.sub(s_mean)\n",
    "    df_std = df_dev.div(s_std, axis='columns')\n",
    "    return df_std\n",
    "\n",
    "print standardize_with_apply(grades_df)\n",
    "print ''\n",
    "print standardize(grades_df)\n",
    "print ''\n",
    "\n",
    "\n",
    "def standardize_rows(df):\n",
    "    '''\n",
    "    Optional: Fill in this function to standardize each row of the given\n",
    "    DataFrame. Again, try not to use apply().\n",
    "    \n",
    "    This one is more challenging than standardizing each column!\n",
    "    '''\n",
    "    s_mean = df.mean(axis='columns')\n",
    "    s_std = df.std(ddof=0, axis='columns')\n",
    "    df_dev = df.sub(s_mean, axis='index')\n",
    "    df_std = df_dev.div(s_std, axis='index')\n",
    "    #grades_df.sub(grades_df.mean(axis='columns'), axis='index').div(grades_df.std(ddof=0, axis='columns'), axis='index')\n",
    "    return df_std"
   ]
  },
  {
   "cell_type": "code",
   "execution_count": 206,
   "metadata": {},
   "outputs": [
    {
     "name": "stdout",
     "output_type": "stream",
     "text": [
      "False\n"
     ]
    }
   ],
   "source": [
    "print standardize(grades_df).equals(standardize_with_apply(grades_df))"
   ]
  },
  {
   "cell_type": "code",
   "execution_count": 207,
   "metadata": {},
   "outputs": [
    {
     "data": {
      "text/plain": [
       "Andre     -2.315341\n",
       "Barry      0.220191\n",
       "Chris      0.020017\n",
       "Dan       -0.180156\n",
       "Emilio     0.753987\n",
       "Fred      -0.513779\n",
       "Greta      0.887436\n",
       "Humbert   -0.847401\n",
       "Ivan       1.354508\n",
       "James      0.620538\n",
       "Name: exam1, dtype: float64"
      ]
     },
     "execution_count": 207,
     "metadata": {},
     "output_type": "execute_result"
    }
   ],
   "source": [
    "standardize(grades_df)['exam1']"
   ]
  },
  {
   "cell_type": "code",
   "execution_count": 208,
   "metadata": {},
   "outputs": [
    {
     "data": {
      "text/plain": [
       "Andre     -2.315341\n",
       "Barry      0.220191\n",
       "Chris      0.020017\n",
       "Dan       -0.180156\n",
       "Emilio     0.753987\n",
       "Fred      -0.513779\n",
       "Greta      0.887436\n",
       "Humbert   -0.847401\n",
       "Ivan       1.354508\n",
       "James      0.620538\n",
       "Name: exam1, dtype: float64"
      ]
     },
     "execution_count": 208,
     "metadata": {},
     "output_type": "execute_result"
    }
   ],
   "source": [
    "standardize_with_apply(grades_df)['exam1']"
   ]
  },
  {
   "cell_type": "code",
   "execution_count": 209,
   "metadata": {},
   "outputs": [
    {
     "data": {
      "text/plain": [
       "Andre      False\n",
       "Barry      False\n",
       "Chris      False\n",
       "Dan        False\n",
       "Emilio      True\n",
       "Fred       False\n",
       "Greta      False\n",
       "Humbert    False\n",
       "Ivan        True\n",
       "James      False\n",
       "Name: exam1, dtype: bool"
      ]
     },
     "execution_count": 209,
     "metadata": {},
     "output_type": "execute_result"
    }
   ],
   "source": [
    "standardize(grades_df)['exam1'] == standardize_with_apply(grades_df)['exam1']"
   ]
  },
  {
   "cell_type": "code",
   "execution_count": 210,
   "metadata": {},
   "outputs": [
    {
     "data": {
      "text/plain": [
       "-0.18015620309337854"
      ]
     },
     "execution_count": 210,
     "metadata": {},
     "output_type": "execute_result"
    }
   ],
   "source": [
    "standardize(grades_df)['exam1']['Dan']"
   ]
  },
  {
   "cell_type": "code",
   "execution_count": 211,
   "metadata": {},
   "outputs": [
    {
     "data": {
      "text/plain": [
       "-0.18015620309337851"
      ]
     },
     "execution_count": 211,
     "metadata": {},
     "output_type": "execute_result"
    }
   ],
   "source": [
    "standardize_with_apply(grades_df)['exam1']['Dan']"
   ]
  },
  {
   "cell_type": "code",
   "execution_count": 214,
   "metadata": {},
   "outputs": [
    {
     "data": {
      "text/html": [
       "<div>\n",
       "<style>\n",
       "    .dataframe thead tr:only-child th {\n",
       "        text-align: right;\n",
       "    }\n",
       "\n",
       "    .dataframe thead th {\n",
       "        text-align: left;\n",
       "    }\n",
       "\n",
       "    .dataframe tbody tr th {\n",
       "        vertical-align: top;\n",
       "    }\n",
       "</style>\n",
       "<table border=\"1\" class=\"dataframe\">\n",
       "  <thead>\n",
       "    <tr style=\"text-align: right;\">\n",
       "      <th></th>\n",
       "      <th>exam1</th>\n",
       "      <th>exam2</th>\n",
       "    </tr>\n",
       "  </thead>\n",
       "  <tbody>\n",
       "    <tr>\n",
       "      <th>Andre</th>\n",
       "      <td>43</td>\n",
       "      <td>24</td>\n",
       "    </tr>\n",
       "    <tr>\n",
       "      <th>Barry</th>\n",
       "      <td>81</td>\n",
       "      <td>63</td>\n",
       "    </tr>\n",
       "    <tr>\n",
       "      <th>Chris</th>\n",
       "      <td>78</td>\n",
       "      <td>56</td>\n",
       "    </tr>\n",
       "    <tr>\n",
       "      <th>Dan</th>\n",
       "      <td>75</td>\n",
       "      <td>56</td>\n",
       "    </tr>\n",
       "    <tr>\n",
       "      <th>Emilio</th>\n",
       "      <td>89</td>\n",
       "      <td>67</td>\n",
       "    </tr>\n",
       "    <tr>\n",
       "      <th>Fred</th>\n",
       "      <td>70</td>\n",
       "      <td>51</td>\n",
       "    </tr>\n",
       "    <tr>\n",
       "      <th>Greta</th>\n",
       "      <td>91</td>\n",
       "      <td>79</td>\n",
       "    </tr>\n",
       "    <tr>\n",
       "      <th>Humbert</th>\n",
       "      <td>65</td>\n",
       "      <td>46</td>\n",
       "    </tr>\n",
       "    <tr>\n",
       "      <th>Ivan</th>\n",
       "      <td>98</td>\n",
       "      <td>72</td>\n",
       "    </tr>\n",
       "    <tr>\n",
       "      <th>James</th>\n",
       "      <td>87</td>\n",
       "      <td>60</td>\n",
       "    </tr>\n",
       "  </tbody>\n",
       "</table>\n",
       "</div>"
      ],
      "text/plain": [
       "         exam1  exam2\n",
       "Andre       43     24\n",
       "Barry       81     63\n",
       "Chris       78     56\n",
       "Dan         75     56\n",
       "Emilio      89     67\n",
       "Fred        70     51\n",
       "Greta       91     79\n",
       "Humbert     65     46\n",
       "Ivan        98     72\n",
       "James       87     60"
      ]
     },
     "execution_count": 214,
     "metadata": {},
     "output_type": "execute_result"
    }
   ],
   "source": [
    "grades_df"
   ]
  },
  {
   "cell_type": "code",
   "execution_count": 215,
   "metadata": {},
   "outputs": [
    {
     "data": {
      "text/plain": [
       "Andre      33.5\n",
       "Barry      72.0\n",
       "Chris      67.0\n",
       "Dan        65.5\n",
       "Emilio     78.0\n",
       "Fred       60.5\n",
       "Greta      85.0\n",
       "Humbert    55.5\n",
       "Ivan       85.0\n",
       "James      73.5\n",
       "dtype: float64"
      ]
     },
     "execution_count": 215,
     "metadata": {},
     "output_type": "execute_result"
    }
   ],
   "source": [
    "grades_df.mean(axis='columns')"
   ]
  },
  {
   "cell_type": "code",
   "execution_count": 224,
   "metadata": {},
   "outputs": [
    {
     "data": {
      "text/html": [
       "<div>\n",
       "<style>\n",
       "    .dataframe thead tr:only-child th {\n",
       "        text-align: right;\n",
       "    }\n",
       "\n",
       "    .dataframe thead th {\n",
       "        text-align: left;\n",
       "    }\n",
       "\n",
       "    .dataframe tbody tr th {\n",
       "        vertical-align: top;\n",
       "    }\n",
       "</style>\n",
       "<table border=\"1\" class=\"dataframe\">\n",
       "  <thead>\n",
       "    <tr style=\"text-align: right;\">\n",
       "      <th></th>\n",
       "      <th>exam1</th>\n",
       "      <th>exam2</th>\n",
       "    </tr>\n",
       "  </thead>\n",
       "  <tbody>\n",
       "    <tr>\n",
       "      <th>Andre</th>\n",
       "      <td>9.5</td>\n",
       "      <td>-9.5</td>\n",
       "    </tr>\n",
       "    <tr>\n",
       "      <th>Barry</th>\n",
       "      <td>9.0</td>\n",
       "      <td>-9.0</td>\n",
       "    </tr>\n",
       "    <tr>\n",
       "      <th>Chris</th>\n",
       "      <td>11.0</td>\n",
       "      <td>-11.0</td>\n",
       "    </tr>\n",
       "    <tr>\n",
       "      <th>Dan</th>\n",
       "      <td>9.5</td>\n",
       "      <td>-9.5</td>\n",
       "    </tr>\n",
       "    <tr>\n",
       "      <th>Emilio</th>\n",
       "      <td>11.0</td>\n",
       "      <td>-11.0</td>\n",
       "    </tr>\n",
       "    <tr>\n",
       "      <th>Fred</th>\n",
       "      <td>9.5</td>\n",
       "      <td>-9.5</td>\n",
       "    </tr>\n",
       "    <tr>\n",
       "      <th>Greta</th>\n",
       "      <td>6.0</td>\n",
       "      <td>-6.0</td>\n",
       "    </tr>\n",
       "    <tr>\n",
       "      <th>Humbert</th>\n",
       "      <td>9.5</td>\n",
       "      <td>-9.5</td>\n",
       "    </tr>\n",
       "    <tr>\n",
       "      <th>Ivan</th>\n",
       "      <td>13.0</td>\n",
       "      <td>-13.0</td>\n",
       "    </tr>\n",
       "    <tr>\n",
       "      <th>James</th>\n",
       "      <td>13.5</td>\n",
       "      <td>-13.5</td>\n",
       "    </tr>\n",
       "  </tbody>\n",
       "</table>\n",
       "</div>"
      ],
      "text/plain": [
       "         exam1  exam2\n",
       "Andre      9.5   -9.5\n",
       "Barry      9.0   -9.0\n",
       "Chris     11.0  -11.0\n",
       "Dan        9.5   -9.5\n",
       "Emilio    11.0  -11.0\n",
       "Fred       9.5   -9.5\n",
       "Greta      6.0   -6.0\n",
       "Humbert    9.5   -9.5\n",
       "Ivan      13.0  -13.0\n",
       "James     13.5  -13.5"
      ]
     },
     "execution_count": 224,
     "metadata": {},
     "output_type": "execute_result"
    }
   ],
   "source": [
    "grades_df.sub(grades_df.mean(axis='columns'), axis='index')"
   ]
  },
  {
   "cell_type": "code",
   "execution_count": 226,
   "metadata": {},
   "outputs": [
    {
     "data": {
      "text/html": [
       "<div>\n",
       "<style>\n",
       "    .dataframe thead tr:only-child th {\n",
       "        text-align: right;\n",
       "    }\n",
       "\n",
       "    .dataframe thead th {\n",
       "        text-align: left;\n",
       "    }\n",
       "\n",
       "    .dataframe tbody tr th {\n",
       "        vertical-align: top;\n",
       "    }\n",
       "</style>\n",
       "<table border=\"1\" class=\"dataframe\">\n",
       "  <thead>\n",
       "    <tr style=\"text-align: right;\">\n",
       "      <th></th>\n",
       "      <th>exam1</th>\n",
       "      <th>exam2</th>\n",
       "    </tr>\n",
       "  </thead>\n",
       "  <tbody>\n",
       "    <tr>\n",
       "      <th>Andre</th>\n",
       "      <td>1.0</td>\n",
       "      <td>-1.0</td>\n",
       "    </tr>\n",
       "    <tr>\n",
       "      <th>Barry</th>\n",
       "      <td>1.0</td>\n",
       "      <td>-1.0</td>\n",
       "    </tr>\n",
       "    <tr>\n",
       "      <th>Chris</th>\n",
       "      <td>1.0</td>\n",
       "      <td>-1.0</td>\n",
       "    </tr>\n",
       "    <tr>\n",
       "      <th>Dan</th>\n",
       "      <td>1.0</td>\n",
       "      <td>-1.0</td>\n",
       "    </tr>\n",
       "    <tr>\n",
       "      <th>Emilio</th>\n",
       "      <td>1.0</td>\n",
       "      <td>-1.0</td>\n",
       "    </tr>\n",
       "    <tr>\n",
       "      <th>Fred</th>\n",
       "      <td>1.0</td>\n",
       "      <td>-1.0</td>\n",
       "    </tr>\n",
       "    <tr>\n",
       "      <th>Greta</th>\n",
       "      <td>1.0</td>\n",
       "      <td>-1.0</td>\n",
       "    </tr>\n",
       "    <tr>\n",
       "      <th>Humbert</th>\n",
       "      <td>1.0</td>\n",
       "      <td>-1.0</td>\n",
       "    </tr>\n",
       "    <tr>\n",
       "      <th>Ivan</th>\n",
       "      <td>1.0</td>\n",
       "      <td>-1.0</td>\n",
       "    </tr>\n",
       "    <tr>\n",
       "      <th>James</th>\n",
       "      <td>1.0</td>\n",
       "      <td>-1.0</td>\n",
       "    </tr>\n",
       "  </tbody>\n",
       "</table>\n",
       "</div>"
      ],
      "text/plain": [
       "         exam1  exam2\n",
       "Andre      1.0   -1.0\n",
       "Barry      1.0   -1.0\n",
       "Chris      1.0   -1.0\n",
       "Dan        1.0   -1.0\n",
       "Emilio     1.0   -1.0\n",
       "Fred       1.0   -1.0\n",
       "Greta      1.0   -1.0\n",
       "Humbert    1.0   -1.0\n",
       "Ivan       1.0   -1.0\n",
       "James      1.0   -1.0"
      ]
     },
     "execution_count": 226,
     "metadata": {},
     "output_type": "execute_result"
    }
   ],
   "source": [
    "grades_df.sub(grades_df.mean(axis='columns'), axis='index').div(grades_df.std(ddof=0, axis='columns'), axis='index')"
   ]
  },
  {
   "cell_type": "code",
   "execution_count": 223,
   "metadata": {},
   "outputs": [
    {
     "data": {
      "text/html": [
       "<div>\n",
       "<style>\n",
       "    .dataframe thead tr:only-child th {\n",
       "        text-align: right;\n",
       "    }\n",
       "\n",
       "    .dataframe thead th {\n",
       "        text-align: left;\n",
       "    }\n",
       "\n",
       "    .dataframe tbody tr th {\n",
       "        vertical-align: top;\n",
       "    }\n",
       "</style>\n",
       "<table border=\"1\" class=\"dataframe\">\n",
       "  <thead>\n",
       "    <tr style=\"text-align: right;\">\n",
       "      <th></th>\n",
       "      <th>exam1</th>\n",
       "      <th>exam2</th>\n",
       "    </tr>\n",
       "  </thead>\n",
       "  <tbody>\n",
       "    <tr>\n",
       "      <th>Andre</th>\n",
       "      <td>1.0</td>\n",
       "      <td>-1.0</td>\n",
       "    </tr>\n",
       "    <tr>\n",
       "      <th>Barry</th>\n",
       "      <td>1.0</td>\n",
       "      <td>-1.0</td>\n",
       "    </tr>\n",
       "    <tr>\n",
       "      <th>Chris</th>\n",
       "      <td>1.0</td>\n",
       "      <td>-1.0</td>\n",
       "    </tr>\n",
       "    <tr>\n",
       "      <th>Dan</th>\n",
       "      <td>1.0</td>\n",
       "      <td>-1.0</td>\n",
       "    </tr>\n",
       "    <tr>\n",
       "      <th>Emilio</th>\n",
       "      <td>1.0</td>\n",
       "      <td>-1.0</td>\n",
       "    </tr>\n",
       "    <tr>\n",
       "      <th>Fred</th>\n",
       "      <td>1.0</td>\n",
       "      <td>-1.0</td>\n",
       "    </tr>\n",
       "    <tr>\n",
       "      <th>Greta</th>\n",
       "      <td>1.0</td>\n",
       "      <td>-1.0</td>\n",
       "    </tr>\n",
       "    <tr>\n",
       "      <th>Humbert</th>\n",
       "      <td>1.0</td>\n",
       "      <td>-1.0</td>\n",
       "    </tr>\n",
       "    <tr>\n",
       "      <th>Ivan</th>\n",
       "      <td>1.0</td>\n",
       "      <td>-1.0</td>\n",
       "    </tr>\n",
       "    <tr>\n",
       "      <th>James</th>\n",
       "      <td>1.0</td>\n",
       "      <td>-1.0</td>\n",
       "    </tr>\n",
       "  </tbody>\n",
       "</table>\n",
       "</div>"
      ],
      "text/plain": [
       "         exam1  exam2\n",
       "Andre      1.0   -1.0\n",
       "Barry      1.0   -1.0\n",
       "Chris      1.0   -1.0\n",
       "Dan        1.0   -1.0\n",
       "Emilio     1.0   -1.0\n",
       "Fred       1.0   -1.0\n",
       "Greta      1.0   -1.0\n",
       "Humbert    1.0   -1.0\n",
       "Ivan       1.0   -1.0\n",
       "James      1.0   -1.0"
      ]
     },
     "execution_count": 223,
     "metadata": {},
     "output_type": "execute_result"
    }
   ],
   "source": [
    "standardize_rows(grades_df)"
   ]
  },
  {
   "cell_type": "code",
   "execution_count": null,
   "metadata": {
    "collapsed": true
   },
   "outputs": [],
   "source": []
  }
 ],
 "metadata": {
  "kernelspec": {
   "display_name": "Python [default]",
   "language": "python",
   "name": "python2"
  },
  "language_info": {
   "codemirror_mode": {
    "name": "ipython",
    "version": 2
   },
   "file_extension": ".py",
   "mimetype": "text/x-python",
   "name": "python",
   "nbconvert_exporter": "python",
   "pygments_lexer": "ipython2",
   "version": "2.7.13"
  }
 },
 "nbformat": 4,
 "nbformat_minor": 1
}
