{
 "cells": [
  {
   "cell_type": "markdown",
   "metadata": {},
   "source": [
    "The important thing about the optimization suggestion is to make sure that my_function() is only invoked in a subprocess. The deepcopy and del are irrelevant — once you create five million distinct integers in a process, holding onto all of them at the same time, it's game over. Even if you stop referring to those objects, Python will free them by keeping references to five million empty integer-object-sized fields in a limbo where they await reuse for the next function that wants to create five million integers. This is the free list mentioned in the other answer, and it buys blindingly fast allocation and deallocation of ints and floats. It is only fair to Python to note that this is not a memory leak since the memory is definitely made available for further allocations. However, that memory will not get returned to the system until the process ends, nor will it be reused for anything other than allocating numbers of the same type.\n",
    "\n",
    "Most programs don't have this problem because most programs do not create pathologically huge lists of numbers, free them, and then expect to reuse that memory for other objects. Programs using numpy are also safe because numpy stores numeric data of its arrays in tightly packed native format. For programs that do follow this usage pattern, the way to mitigate the problem is by not creating a large number of the integers at the same time in the first place, at least not in the process which needs to return memory to the system. It is unclear what exact use case you have, but a real-world solution will likely require more than a \"magic decorator\".\n",
    "\n",
    "This is where subprocess come in: if the list of numbers is created in another process, then all the memory associated with the list, including but not limited to storage of ints, is both freed and returned to the system by the mere act of terminating the subprocess. Of course, you must design your program so that the list can be both created and processed in the subsystem, without requiring the transfer of all these numbers. The subprocess can receive information needed to create the data set, and can send back the information obtained from processing the list.\n",
    "\n",
    "To illustrate the principle, let's upgrade your example so that the whole list actually needs to exist - say we're benchmarking sorting algorithms. We want to create a huge list of integers, sort it, and reliably free the memory associated with the list, so that the next benchmark can allocate memory for its own needs without worrying of running out of RAM. To spawn the subprocess and communicate, this uses the multiprocessing module:\n"
   ]
  },
  {
   "cell_type": "code",
   "execution_count": null,
   "metadata": {},
   "outputs": [],
   "source": [
    "\n",
    "# To run this, save it to a file that looks like a valid Python module, e.g.\n",
    "# \"foo.py\" - multiprocessing requires being able to import the main module.\n",
    "# Then run it with \"python foo.py\".\n",
    "\n",
    "import multiprocessing, random, sys, os, time\n",
    "\n",
    "def create_list(size):\n",
    "    # utility function for clarity - runs in subprocess\n",
    "    maxint = sys.maxint\n",
    "    randrange = random.randrange\n",
    "    return [randrange(maxint) for i in xrange(size)]\n",
    "\n",
    "def run_test(state):\n",
    "    # this function is run in a separate process\n",
    "    size = state['list_size']\n",
    "    print 'creating a list with %d random elements - this can take a while... ' % size,\n",
    "    sys.stdout.flush()\n",
    "    lst = create_list(size)\n",
    "    print 'done'\n",
    "    t0 = time.time()\n",
    "    lst.sort()\n",
    "    t1 = time.time()\n",
    "    state['time'] = t1 - t0\n",
    "\n",
    "if __name__ == '__main__':\n",
    "    manager = multiprocessing.Manager()\n",
    "    state = manager.dict(list_size=5*1000*1000)  # shared state\n",
    "    p = multiprocessing.Process(target=run_test, args=(state,))\n",
    "    p.start()\n",
    "    p.join()\n",
    "    print 'time to sort: %.3f' % state['time']\n",
    "    print 'my PID is %d, sleeping for a minute...' % os.getpid()\n",
    "    time.sleep(60)\n",
    "    # at this point you can inspect the running process to see that it\n",
    "    # does not consume excess memory"
   ]
  }
 ],
 "metadata": {
  "kernelspec": {
   "display_name": "Python 2",
   "language": "python",
   "name": "python2"
  },
  "language_info": {
   "codemirror_mode": {
    "name": "ipython",
    "version": 2
   },
   "file_extension": ".py",
   "mimetype": "text/x-python",
   "name": "python",
   "nbconvert_exporter": "python",
   "pygments_lexer": "ipython2",
   "version": "2.7.14"
  }
 },
 "nbformat": 4,
 "nbformat_minor": 2
}
