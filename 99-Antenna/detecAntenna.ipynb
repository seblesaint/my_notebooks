{
 "cells": [
  {
   "cell_type": "code",
   "execution_count": 1,
   "metadata": {
    "collapsed": true
   },
   "outputs": [],
   "source": [
    "import os, re\n",
    "import numpy as np\n",
    "import pandas as pd\n",
    "import matplotlib.pyplot as plt"
   ]
  },
  {
   "cell_type": "code",
   "execution_count": 2,
   "metadata": {
    "collapsed": true
   },
   "outputs": [],
   "source": [
    "%matplotlib inline"
   ]
  },
  {
   "cell_type": "code",
   "execution_count": 3,
   "metadata": {
    "collapsed": true
   },
   "outputs": [],
   "source": [
    "folder = ('\\\\\\\\10.122.80.198\\\\anm_exchange\\\\ENFT\\\\SEB\\\\CSV\\\\')"
   ]
  },
  {
   "cell_type": "code",
   "execution_count": 4,
   "metadata": {
    "collapsed": true
   },
   "outputs": [],
   "source": [
    "df_list = list()\n",
    "for traj_file in os.listdir(folder):\n",
    "    df_list.append(pd.read_csv(os.path.join(folder, traj_file)))\n",
    "    break"
   ]
  },
  {
   "cell_type": "code",
   "execution_count": 5,
   "metadata": {},
   "outputs": [
    {
     "data": {
      "text/html": [
       "<div>\n",
       "<style>\n",
       "    .dataframe thead tr:only-child th {\n",
       "        text-align: right;\n",
       "    }\n",
       "\n",
       "    .dataframe thead th {\n",
       "        text-align: left;\n",
       "    }\n",
       "\n",
       "    .dataframe tbody tr th {\n",
       "        vertical-align: top;\n",
       "    }\n",
       "</style>\n",
       "<table border=\"1\" class=\"dataframe\">\n",
       "  <thead>\n",
       "    <tr style=\"text-align: right;\">\n",
       "      <th></th>\n",
       "      <th>Unnamed: 0</th>\n",
       "      <th>GMTs_of_year</th>\n",
       "      <th>GMTs_of_day</th>\n",
       "      <th>LATITUDE</th>\n",
       "      <th>LONGITUDE</th>\n",
       "      <th>DX_AC2ANTENNA</th>\n",
       "      <th>DY_AC2ANTENNA</th>\n",
       "      <th>PNT</th>\n",
       "      <th>RWY</th>\n",
       "      <th>MAXOG</th>\n",
       "      <th>...</th>\n",
       "      <th>M1TCCH</th>\n",
       "      <th>M1TCCI</th>\n",
       "      <th>M1TCCL</th>\n",
       "      <th>M2TCCH</th>\n",
       "      <th>M2TCCI</th>\n",
       "      <th>M2TCCL</th>\n",
       "      <th>M1NAI</th>\n",
       "      <th>M2NAI</th>\n",
       "      <th>M1PC</th>\n",
       "      <th>M2PC</th>\n",
       "    </tr>\n",
       "  </thead>\n",
       "  <tbody>\n",
       "    <tr>\n",
       "      <th>0</th>\n",
       "      <td>30847</td>\n",
       "      <td>29443298.0</td>\n",
       "      <td>67298.0</td>\n",
       "      <td>43.519719</td>\n",
       "      <td>1.624209</td>\n",
       "      <td>9291.652180</td>\n",
       "      <td>3724.972506</td>\n",
       "      <td>TP</td>\n",
       "      <td>LFBO32L</td>\n",
       "      <td>-21058.777344</td>\n",
       "      <td>...</td>\n",
       "      <td>3.689110</td>\n",
       "      <td>3.925217</td>\n",
       "      <td>0</td>\n",
       "      <td>3.026307</td>\n",
       "      <td>3.200385</td>\n",
       "      <td>0</td>\n",
       "      <td>0</td>\n",
       "      <td>0</td>\n",
       "      <td>0</td>\n",
       "      <td>0</td>\n",
       "    </tr>\n",
       "    <tr>\n",
       "      <th>1</th>\n",
       "      <td>30848</td>\n",
       "      <td>29443299.0</td>\n",
       "      <td>67299.0</td>\n",
       "      <td>43.518785</td>\n",
       "      <td>1.624050</td>\n",
       "      <td>9278.890185</td>\n",
       "      <td>3621.083379</td>\n",
       "      <td>TP</td>\n",
       "      <td>LFBO32L</td>\n",
       "      <td>-21137.494141</td>\n",
       "      <td>...</td>\n",
       "      <td>3.722859</td>\n",
       "      <td>3.925237</td>\n",
       "      <td>0</td>\n",
       "      <td>3.028857</td>\n",
       "      <td>3.210670</td>\n",
       "      <td>0</td>\n",
       "      <td>0</td>\n",
       "      <td>0</td>\n",
       "      <td>0</td>\n",
       "      <td>0</td>\n",
       "    </tr>\n",
       "    <tr>\n",
       "      <th>2</th>\n",
       "      <td>30849</td>\n",
       "      <td>29443300.0</td>\n",
       "      <td>67300.0</td>\n",
       "      <td>43.517777</td>\n",
       "      <td>1.623836</td>\n",
       "      <td>9261.751218</td>\n",
       "      <td>3508.967546</td>\n",
       "      <td>TP</td>\n",
       "      <td>LFBO32L</td>\n",
       "      <td>-21213.906250</td>\n",
       "      <td>...</td>\n",
       "      <td>3.709905</td>\n",
       "      <td>3.896832</td>\n",
       "      <td>0</td>\n",
       "      <td>3.054619</td>\n",
       "      <td>3.236532</td>\n",
       "      <td>0</td>\n",
       "      <td>0</td>\n",
       "      <td>0</td>\n",
       "      <td>0</td>\n",
       "      <td>0</td>\n",
       "    </tr>\n",
       "    <tr>\n",
       "      <th>3</th>\n",
       "      <td>30850</td>\n",
       "      <td>29443301.0</td>\n",
       "      <td>67301.0</td>\n",
       "      <td>43.516850</td>\n",
       "      <td>1.623604</td>\n",
       "      <td>9243.114495</td>\n",
       "      <td>3405.918054</td>\n",
       "      <td>TP</td>\n",
       "      <td>LFBO32L</td>\n",
       "      <td>-21288.144531</td>\n",
       "      <td>...</td>\n",
       "      <td>3.702044</td>\n",
       "      <td>3.938025</td>\n",
       "      <td>0</td>\n",
       "      <td>3.082944</td>\n",
       "      <td>3.249460</td>\n",
       "      <td>0</td>\n",
       "      <td>0</td>\n",
       "      <td>0</td>\n",
       "      <td>0</td>\n",
       "      <td>0</td>\n",
       "    </tr>\n",
       "    <tr>\n",
       "      <th>4</th>\n",
       "      <td>30851</td>\n",
       "      <td>29443302.0</td>\n",
       "      <td>67302.0</td>\n",
       "      <td>43.515851</td>\n",
       "      <td>1.623319</td>\n",
       "      <td>9220.179284</td>\n",
       "      <td>3294.784500</td>\n",
       "      <td>TP</td>\n",
       "      <td>LFBO32L</td>\n",
       "      <td>-21360.357422</td>\n",
       "      <td>...</td>\n",
       "      <td>3.714978</td>\n",
       "      <td>3.893977</td>\n",
       "      <td>0</td>\n",
       "      <td>3.049473</td>\n",
       "      <td>3.252115</td>\n",
       "      <td>0</td>\n",
       "      <td>0</td>\n",
       "      <td>0</td>\n",
       "      <td>0</td>\n",
       "      <td>0</td>\n",
       "    </tr>\n",
       "  </tbody>\n",
       "</table>\n",
       "<p>5 rows × 80 columns</p>\n",
       "</div>"
      ],
      "text/plain": [
       "   Unnamed: 0  GMTs_of_year  GMTs_of_day   LATITUDE  LONGITUDE  DX_AC2ANTENNA  \\\n",
       "0       30847    29443298.0      67298.0  43.519719   1.624209    9291.652180   \n",
       "1       30848    29443299.0      67299.0  43.518785   1.624050    9278.890185   \n",
       "2       30849    29443300.0      67300.0  43.517777   1.623836    9261.751218   \n",
       "3       30850    29443301.0      67301.0  43.516850   1.623604    9243.114495   \n",
       "4       30851    29443302.0      67302.0  43.515851   1.623319    9220.179284   \n",
       "\n",
       "   DY_AC2ANTENNA PNT      RWY         MAXOG  ...     M1TCCH    M1TCCI  M1TCCL  \\\n",
       "0    3724.972506  TP  LFBO32L -21058.777344  ...   3.689110  3.925217       0   \n",
       "1    3621.083379  TP  LFBO32L -21137.494141  ...   3.722859  3.925237       0   \n",
       "2    3508.967546  TP  LFBO32L -21213.906250  ...   3.709905  3.896832       0   \n",
       "3    3405.918054  TP  LFBO32L -21288.144531  ...   3.702044  3.938025       0   \n",
       "4    3294.784500  TP  LFBO32L -21360.357422  ...   3.714978  3.893977       0   \n",
       "\n",
       "     M2TCCH    M2TCCI  M2TCCL  M1NAI  M2NAI  M1PC  M2PC  \n",
       "0  3.026307  3.200385       0      0      0     0     0  \n",
       "1  3.028857  3.210670       0      0      0     0     0  \n",
       "2  3.054619  3.236532       0      0      0     0     0  \n",
       "3  3.082944  3.249460       0      0      0     0     0  \n",
       "4  3.049473  3.252115       0      0      0     0     0  \n",
       "\n",
       "[5 rows x 80 columns]"
      ]
     },
     "execution_count": 5,
     "metadata": {},
     "output_type": "execute_result"
    }
   ],
   "source": [
    "df0 = df_list[0]\n",
    "df0.head()"
   ]
  },
  {
   "cell_type": "code",
   "execution_count": 6,
   "metadata": {},
   "outputs": [
    {
     "data": {
      "text/plain": [
       "['LFBO32L']"
      ]
     },
     "execution_count": 6,
     "metadata": {},
     "output_type": "execute_result"
    }
   ],
   "source": [
    "df0.groupby('RWY').groups.keys()"
   ]
  },
  {
   "cell_type": "code",
   "execution_count": 7,
   "metadata": {
    "scrolled": true
   },
   "outputs": [
    {
     "name": "stdout",
     "output_type": "stream",
     "text": [
      "{'LFBO32L': 1}\n"
     ]
    }
   ],
   "source": [
    "from pprint import pprint\n",
    "rwy_dict = dict()\n",
    "for df in df_list:\n",
    "    if len(df.groupby('RWY').groups.keys()) > 1: pprint(df.groupby('RWY').groups)\n",
    "    for rwy in df.groupby('RWY').groups.keys():\n",
    "        if not rwy_dict.has_key(rwy): rwy_dict[rwy] = 0\n",
    "        rwy_dict[rwy] += 1\n",
    "pprint(rwy_dict)"
   ]
  },
  {
   "cell_type": "code",
   "execution_count": 8,
   "metadata": {},
   "outputs": [
    {
     "name": "stdout",
     "output_type": "stream",
     "text": [
      "1\n"
     ]
    }
   ],
   "source": [
    "i=0\n",
    "for k,v in rwy_dict.iteritems(): i+= v\n",
    "print i"
   ]
  },
  {
   "cell_type": "code",
   "execution_count": 9,
   "metadata": {},
   "outputs": [
    {
     "data": {
      "text/plain": [
       "3346620.0"
      ]
     },
     "execution_count": 9,
     "metadata": {},
     "output_type": "execute_result"
    }
   ],
   "source": [
    "YEAR=2017\n",
    "GMTs=3.34662E+12 / 1000000\n",
    "GMTs"
   ]
  },
  {
   "cell_type": "code",
   "execution_count": 10,
   "metadata": {
    "collapsed": true
   },
   "outputs": [],
   "source": [
    "import datetime"
   ]
  },
  {
   "cell_type": "code",
   "execution_count": 11,
   "metadata": {},
   "outputs": [
    {
     "data": {
      "text/plain": [
       "datetime.date(2017, 1, 1)"
      ]
     },
     "execution_count": 11,
     "metadata": {},
     "output_type": "execute_result"
    }
   ],
   "source": [
    "date = datetime.date(YEAR, 1, 1)\n",
    "date"
   ]
  },
  {
   "cell_type": "code",
   "execution_count": 12,
   "metadata": {},
   "outputs": [
    {
     "data": {
      "text/plain": [
       "3346620.0"
      ]
     },
     "execution_count": 12,
     "metadata": {},
     "output_type": "execute_result"
    }
   ],
   "source": [
    "td = datetime.timedelta(seconds=GMTs)\n",
    "td.total_seconds()"
   ]
  },
  {
   "cell_type": "code",
   "execution_count": 13,
   "metadata": {},
   "outputs": [
    {
     "data": {
      "text/plain": [
       "31536000.0"
      ]
     },
     "execution_count": 13,
     "metadata": {},
     "output_type": "execute_result"
    }
   ],
   "source": [
    "year = datetime.timedelta(days=365)\n",
    "year.total_seconds()\n"
   ]
  },
  {
   "cell_type": "code",
   "execution_count": 14,
   "metadata": {
    "collapsed": true
   },
   "outputs": [],
   "source": [
    "d = date + td"
   ]
  },
  {
   "cell_type": "code",
   "execution_count": 15,
   "metadata": {},
   "outputs": [
    {
     "data": {
      "text/plain": [
       "'2017-02-08'"
      ]
     },
     "execution_count": 15,
     "metadata": {},
     "output_type": "execute_result"
    }
   ],
   "source": [
    "d.isoformat()"
   ]
  },
  {
   "cell_type": "code",
   "execution_count": 16,
   "metadata": {},
   "outputs": [
    {
     "data": {
      "text/plain": [
       "'170208'"
      ]
     },
     "execution_count": 16,
     "metadata": {},
     "output_type": "execute_result"
    }
   ],
   "source": [
    "d.strftime(\"%y%m%d\")\n"
   ]
  },
  {
   "cell_type": "code",
   "execution_count": 17,
   "metadata": {},
   "outputs": [
    {
     "name": "stdout",
     "output_type": "stream",
     "text": [
      "C:\\Users\\TO72078\\Anaconda2\\envs\\seb_env\\lib\\site-packages\n"
     ]
    }
   ],
   "source": [
    "import os, matplotlib\n",
    "print os.path.dirname(matplotlib.__path__[0])"
   ]
  },
  {
   "cell_type": "code",
   "execution_count": 18,
   "metadata": {},
   "outputs": [
    {
     "name": "stdout",
     "output_type": "stream",
     "text": [
      "[[ 29443298.]\n",
      " [ 29443299.]\n",
      " [ 29443300.]\n",
      " [ 29443301.]\n",
      " [ 29443302.]]\n",
      "   Unnamed: 0  GMTs_of_year  GMTs_of_day   LATITUDE  LONGITUDE  DX_AC2ANTENNA  \\\n",
      "0       30847    25234582.5      67298.0  43.519719   1.624209    9291.652180   \n",
      "1       30848    25234583.5      67299.0  43.518785   1.624050    9278.890185   \n",
      "2       30849    29443300.0      67300.0  43.517777   1.623836    9261.751218   \n",
      "\n",
      "   DY_AC2ANTENNA PNT      RWY         MAXOG  ...     M1TCCH    M1TCCI  M1TCCL  \\\n",
      "0    3724.972506  TP  LFBO32L -21058.777344  ...   3.689110  3.925217       0   \n",
      "1    3621.083379  TP  LFBO32L -21137.494141  ...   3.722859  3.925237       0   \n",
      "2    3508.967546  TP  LFBO32L -21213.906250  ...   3.709905  3.896832       0   \n",
      "\n",
      "     M2TCCH    M2TCCI  M2TCCL  M1NAI  M2NAI  M1PC  M2PC  \n",
      "0  3.026307  3.200385       0      0      0     0     0  \n",
      "1  3.028857  3.210670       0      0      0     0     0  \n",
      "2  3.054619  3.236532       0      0      0     0     0  \n",
      "\n",
      "[3 rows x 80 columns]\n",
      "   Unnamed: 0  GMTs_of_year  GMTs_of_day   LATITUDE  LONGITUDE  DX_AC2ANTENNA  \\\n",
      "0       30847    25234582.5      67298.0  43.519719   1.624209    9291.652180   \n",
      "1       30848    25234583.5      67299.0  43.518785   1.624050    9278.890185   \n",
      "2       30849    29443300.0      67300.0  43.517777   1.623836    9261.751218   \n",
      "3       30850    29443301.0      67301.0  43.516850   1.623604    9243.114495   \n",
      "\n",
      "   DY_AC2ANTENNA PNT      RWY         MAXOG  ...     M1TCCH    M1TCCI  M1TCCL  \\\n",
      "0    3724.972506  TP  LFBO32L -21058.777344  ...   3.689110  3.925217       0   \n",
      "1    3621.083379  TP  LFBO32L -21137.494141  ...   3.722859  3.925237       0   \n",
      "2    3508.967546  TP  LFBO32L -21213.906250  ...   3.709905  3.896832       0   \n",
      "3    3405.918054  TP  LFBO32L -21288.144531  ...   3.702044  3.938025       0   \n",
      "\n",
      "     M2TCCH    M2TCCI  M2TCCL  M1NAI  M2NAI  M1PC  M2PC  \n",
      "0  3.026307  3.200385       0      0      0     0     0  \n",
      "1  3.028857  3.210670       0      0      0     0     0  \n",
      "2  3.054619  3.236532       0      0      0     0     0  \n",
      "3  3.082944  3.249460       0      0      0     0     0  \n",
      "\n",
      "[4 rows x 80 columns]\n"
     ]
    }
   ],
   "source": [
    "print df0[['GMTs_of_year']].values[:5]\n",
    "df0.loc[:1,'GMTs_of_year'] = np.array([[25234582.5],[25234583.5]])\n",
    "print df0.iloc[:3]\n",
    "print df0.loc[:3]"
   ]
  },
  {
   "cell_type": "code",
   "execution_count": 19,
   "metadata": {
    "collapsed": true
   },
   "outputs": [],
   "source": [
    "df0.loc[:,'new'] = df0['GMTs_of_year']\n",
    "df0['new'] = df0['GMTs_of_year'] # idem!"
   ]
  },
  {
   "cell_type": "code",
   "execution_count": 47,
   "metadata": {},
   "outputs": [],
   "source": [
    "#df0.loc[:,('LATITUDE','LONGITUDE')].values.tolist()"
   ]
  },
  {
   "cell_type": "code",
   "execution_count": null,
   "metadata": {
    "collapsed": true
   },
   "outputs": [],
   "source": []
  },
  {
   "cell_type": "code",
   "execution_count": null,
   "metadata": {
    "collapsed": true
   },
   "outputs": [],
   "source": []
  },
  {
   "cell_type": "code",
   "execution_count": 21,
   "metadata": {
    "collapsed": true
   },
   "outputs": [],
   "source": [
    "gmts=df0[['GMTs_of_year']]/1.e6"
   ]
  },
  {
   "cell_type": "code",
   "execution_count": 22,
   "metadata": {
    "collapsed": true
   },
   "outputs": [],
   "source": [
    "gmt_start=df0[['GMTs_of_year']].values[0][0]/1.e6"
   ]
  },
  {
   "cell_type": "code",
   "execution_count": 23,
   "metadata": {},
   "outputs": [
    {
     "data": {
      "text/plain": [
       "25.234582499999998"
      ]
     },
     "execution_count": 23,
     "metadata": {},
     "output_type": "execute_result"
    }
   ],
   "source": [
    "gmt_start"
   ]
  },
  {
   "cell_type": "code",
   "execution_count": 34,
   "metadata": {
    "collapsed": true
   },
   "outputs": [],
   "source": [
    "YEAR=2016"
   ]
  },
  {
   "cell_type": "code",
   "execution_count": 46,
   "metadata": {},
   "outputs": [],
   "source": [
    "year_dt_zero = datetime.datetime(int(YEAR), 1, 1)\n",
    "gmts = pd.to_timedelta(df0['GMTs_of_year'], unit='s')\n",
    "#print pd.to_datetime('01/01/2016', dayfirst=True) + gmts\n",
    "\n",
    "#flight_dt = year_dt_zero + datetime.timedelta(seconds=gmts)\n",
    "#flight_dt_start = year_dt_zero + datetime.timedelta(seconds=gmts_start)\n",
    "#DAY_DATE = flight_dt_start.strftime(\"%y%m%d\")"
   ]
  },
  {
   "cell_type": "code",
   "execution_count": 38,
   "metadata": {},
   "outputs": [
    {
     "name": "stdout",
     "output_type": "stream",
     "text": [
      "160101000025\n"
     ]
    }
   ],
   "source": [
    "year_dt_zero = datetime.datetime(YEAR, 1, 1)\n",
    "flight_dt_start = year_dt_zero + datetime.timedelta(seconds=gmt_start)\n",
    "DATE = flight_dt_start.strftime(\"%y%m%d%H%M%S\")\n",
    "\n",
    "print DATE"
   ]
  },
  {
   "cell_type": "code",
   "execution_count": 43,
   "metadata": {},
   "outputs": [
    {
     "name": "stdout",
     "output_type": "stream",
     "text": [
      "2016-01-01 00:00:25\n"
     ]
    }
   ],
   "source": [
    "flight_dt_zero = datetime.datetime.strptime(DATE, \"%y%m%d%H%M%S\")\n",
    "print flight_dt_zero"
   ]
  },
  {
   "cell_type": "code",
   "execution_count": 44,
   "metadata": {},
   "outputs": [],
   "source": [
    "gmt_zero = (flight_dt_start - flight_dt_zero).total_seconds()"
   ]
  },
  {
   "cell_type": "code",
   "execution_count": 45,
   "metadata": {},
   "outputs": [
    {
     "data": {
      "text/plain": [
       "0.234582"
      ]
     },
     "execution_count": 45,
     "metadata": {},
     "output_type": "execute_result"
    }
   ],
   "source": [
    "gmt_zero"
   ]
  },
  {
   "cell_type": "code",
   "execution_count": null,
   "metadata": {
    "collapsed": true
   },
   "outputs": [],
   "source": []
  }
 ],
 "metadata": {
  "kernelspec": {
   "display_name": "Python [default]",
   "language": "python",
   "name": "python2"
  },
  "language_info": {
   "codemirror_mode": {
    "name": "ipython",
    "version": 2
   },
   "file_extension": ".py",
   "mimetype": "text/x-python",
   "name": "python",
   "nbconvert_exporter": "python",
   "pygments_lexer": "ipython2",
   "version": "2.7.13"
  }
 },
 "nbformat": 4,
 "nbformat_minor": 2
}
