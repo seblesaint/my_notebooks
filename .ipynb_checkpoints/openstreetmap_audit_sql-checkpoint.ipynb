{
 "cells": [
  {
   "cell_type": "markdown",
   "metadata": {},
   "source": [
    "# SQLite database audit"
   ]
  },
  {
   "cell_type": "code",
   "execution_count": 1,
   "metadata": {},
   "outputs": [],
   "source": [
    "import sys, os, sqlite3, pandas, pprint, re\n",
    "import numpy as np\n",
    "project_path = \"C:\\\\Users\\\\TO72078\\\\Documents\\\\BIG_DATA\\\\UDACITY\\\\projects\\\\openstreetmap\"\n",
    "if project_path not in sys.path: sys.path.append(project_path)\n",
    "from myeasysql import db_query\n",
    "db_name = 'toulouse'\n",
    "db_conn = sqlite3.connect(os.path.join(project_path, '%s.db' % db_name))\n",
    "c = db_conn.cursor()"
   ]
  },
  {
   "cell_type": "markdown",
   "metadata": {},
   "source": [
    "Let's start with checking the database consistency in terms of nodes and way_nodes. For example let's check that every way_node does exist as node"
   ]
  },
  {
   "cell_type": "code",
   "execution_count": 69,
   "metadata": {},
   "outputs": [],
   "source": [
    "way_nodes_ids = db_query(c, \"SELECT id, node_id FROM way_nodes GROUP BY node_id;\")\n",
    "for (wid,nid) in way_nodes_ids:\n",
    "    result = db_query(c, \"SELECT id FROM nodes WHERE id = %d;\" % nid)\n",
    "    if len(result) ==  0: print 'no match for node_id %d referenced by way %d!' % (nid,wid)"
   ]
  },
  {
   "cell_type": "markdown",
   "metadata": {},
   "source": [
    "Database is consistent in terms of way_nodes/nodes id attributes"
   ]
  },
  {
   "cell_type": "markdown",
   "metadata": {},
   "source": [
    "Now let's look for unvalid tags as detected by `openstreetmap_osm2csv` step (key `valid` with value `no`)"
   ]
  },
  {
   "cell_type": "code",
   "execution_count": 70,
   "metadata": {},
   "outputs": [
    {
     "data": {
      "text/plain": [
       "[(0,)]"
      ]
     },
     "execution_count": 70,
     "metadata": {},
     "output_type": "execute_result"
    }
   ],
   "source": [
    "db_query(c, 'SELECT COUNT(*) FROM (SELECT * FROM node_tags UNION ALL SELECT * FROM way_tags) as u WHERE u.valid=\"no\";')"
   ]
  },
  {
   "cell_type": "markdown",
   "metadata": {},
   "source": [
    "None of the node/way tags seems to include the following unwanted characters `=\\+/&<>;\\'\"\\?%#$@\\,\\. \\t\\r\\n`.\n",
    "\n",
    "We may assume that other trainees have already chosen Toulouse as udacity openstreetmap project and have fixed bad tags ;-). Or more likely some active contributors already did the cleaning job."
   ]
  },
  {
   "cell_type": "markdown",
   "metadata": {},
   "source": [
    "Let's have a look on specific tag types that have been captured (\"specific\" means \"not equal to `regular`\")"
   ]
  },
  {
   "cell_type": "code",
   "execution_count": 71,
   "metadata": {},
   "outputs": [
    {
     "name": "stdout",
     "output_type": "stream",
     "text": [
      "Number of different tag types for nodes is 83, first types, sorted by frequency, are:\n",
      "addr:100254\n",
      "source:58016\n",
      "fire_hydrant:1141\n",
      "recycling:791\n",
      "contact:544\n",
      "post_box:241\n",
      "name:198\n",
      "fuel:139\n",
      "operator:126\n",
      "surveillance:104\n"
     ]
    }
   ],
   "source": [
    "QUERY = \"SELECT COUNT(*) FROM (SELECT type FROM node_tags WHERE type!='regular' GROUP BY type);\"\n",
    "nb_node_tags_types = db_query(c, QUERY)[0][0]\n",
    "print 'Number of different tag types for nodes is %d, first types, sorted by frequency, are:' % nb_node_tags_types\n",
    "QUERY = \"\"\"\n",
    "SELECT type, count(*) as num FROM node_tags\n",
    "WHERE type!='regular'\n",
    "GROUP BY type\n",
    "ORDER BY num DESC LIMIT 10;\n",
    "\"\"\"\n",
    "for (k,v) in db_query(c, QUERY): print '%s:%d' % (k,v)"
   ]
  },
  {
   "cell_type": "code",
   "execution_count": 72,
   "metadata": {},
   "outputs": [
    {
     "name": "stdout",
     "output_type": "stream",
     "text": [
      "Number of different tag types for ways is 79, first types, sorted by frequency, are:\n",
      "addr:3364\n",
      "roof:2481\n",
      "building:1787\n",
      "source:922\n",
      "name:692\n",
      "zone:510\n",
      "cycleway:389\n",
      "turn:261\n",
      "maxspeed:216\n",
      "parking:191\n"
     ]
    }
   ],
   "source": [
    "QUERY = \"SELECT COUNT(*) FROM (SELECT type FROM way_tags WHERE type!='regular' GROUP BY type);\"\n",
    "nb_way_tags_types = db_query(c, QUERY)[0][0]\n",
    "print 'Number of different tag types for ways is %d, first types, sorted by frequency, are:' % nb_way_tags_types\n",
    "QUERY = \"\"\"\n",
    "SELECT type, count(*) as num FROM way_tags\n",
    "WHERE type!='regular'\n",
    "GROUP BY type\n",
    "ORDER BY num DESC LIMIT 10;\n",
    "\"\"\"\n",
    "for (k,v) in db_query(c, QUERY): print '%s:%d' % (k,v)"
   ]
  },
  {
   "cell_type": "markdown",
   "metadata": {},
   "source": [
    "Since tag type `addr` is far much often than others, for both nodes and ways, let's focus on this tag type for our cleaning step."
   ]
  },
  {
   "cell_type": "markdown",
   "metadata": {},
   "source": [
    "### Auditing `addr` fields"
   ]
  },
  {
   "cell_type": "markdown",
   "metadata": {},
   "source": [
    "Let's extract and sort by frequency all the keys used by the tag `addr`:"
   ]
  },
  {
   "cell_type": "code",
   "execution_count": 73,
   "metadata": {},
   "outputs": [
    {
     "name": "stdout",
     "output_type": "stream",
     "text": [
      "housenumber:77351\n",
      "street:14089\n",
      "city:5195\n",
      "country:4778\n",
      "postcode:2008\n",
      "housename:169\n",
      "unit:14\n",
      "street_:7\n",
      "full:5\n",
      "interpolation:1\n",
      "place:1\n"
     ]
    }
   ],
   "source": [
    "QUERY = \"\"\"\n",
    "SELECT key, count(*) as num FROM (\n",
    "    SELECT key, type FROM node_tags UNION ALL SELECT key, type FROM way_tags\n",
    "    ) WHERE type='addr' GROUP BY key ORDER by num DESC;\n",
    "\"\"\"\n",
    "for (k,v) in db_query(c, QUERY): print '%s:%d' % (k,v)"
   ]
  },
  {
   "cell_type": "markdown",
   "metadata": {},
   "source": [
    "The key `street_` seems weird, why adding an underscore character? Let's display an object using this tag:"
   ]
  },
  {
   "cell_type": "code",
   "execution_count": 2,
   "metadata": {
    "scrolled": true
   },
   "outputs": [
    {
     "name": "stdout",
     "output_type": "stream",
     "text": [
      "3172251261\n",
      "city:Portet-sur-Garonne\n",
      "country:FR\n",
      "full:ZI de Toulouse Sud - 3 allée Pablo PicassoRoute d'Espagne\n",
      "housenumber:3\n",
      "postcode:31120\n",
      "street:allée Pablo Picasso\n",
      "street_:ZI de Toulouse Sud - Route d'Espagne\n",
      "air_conditioning:yes\n",
      "amenity:restaurant\n",
      "phone:+33561448019\n",
      "name:Ristorante Del Arte\n",
      "opening_hours:Mo-Su 11:30-14:30, 18:30-22:30\n",
      "credit_cards:yes\n",
      "website:http://www.delarte.fr/restaurant-italien-pizzeria-toulouse-portet-sur-garonne.html\n",
      "wheelchair:yes\n"
     ]
    }
   ],
   "source": [
    "QUERY = \"\"\"\n",
    "SELECT id FROM (\n",
    "    SELECT id, key, type FROM node_tags UNION ALL SELECT id, key, type FROM way_tags\n",
    "    ) WHERE type='addr' AND key='street_' LIMIT 1;\n",
    "\"\"\"\n",
    "wnid = db_query(c, QUERY)[0][0]\n",
    "print wnid\n",
    "QUERY = \"\"\"\n",
    "SELECT key, value FROM (\n",
    "    SELECT * FROM node_tags UNION ALL SELECT * FROM way_tags\n",
    "    ) WHERE id = %d;\n",
    "\"\"\" % wnid\n",
    "for (k,v) in db_query(c, QUERY): print '%s:%s' % (k,v)"
   ]
  },
  {
   "cell_type": "markdown",
   "metadata": {},
   "source": [
    "The key `street_` is in fact a simple extension of the existing `street` key to cover aditionnal fields in adresses."
   ]
  },
  {
   "cell_type": "markdown",
   "metadata": {},
   "source": [
    "## street tag type\n",
    "Now let's focus on key `street` which is the most often used:"
   ]
  },
  {
   "cell_type": "code",
   "execution_count": 75,
   "metadata": {},
   "outputs": [],
   "source": [
    "QUERY = \"\"\"\n",
    "SELECT value FROM (\n",
    "    SELECT * FROM node_tags UNION ALL SELECT * FROM way_tags\n",
    "    ) WHERE type='addr' AND key='street' GROUP BY value;\n",
    "\"\"\"\n",
    "street_names = db_query(c, QUERY)"
   ]
  },
  {
   "cell_type": "code",
   "execution_count": 76,
   "metadata": {},
   "outputs": [
    {
     "name": "stdout",
     "output_type": "stream",
     "text": [
      "Allée Gabriel Biénès\n",
      "Allée Gabriel Faure\n",
      "Allée Henri Sellier\n",
      "Allée Jacques Chaban-Delmas\n",
      "Allée Jean Griffon\n"
     ]
    }
   ],
   "source": [
    "for (v,) in street_names[10:15]: print v"
   ]
  },
  {
   "cell_type": "markdown",
   "metadata": {},
   "source": [
    "## street type\n",
    "Let's extract the street type as first field of the street name:"
   ]
  },
  {
   "cell_type": "code",
   "execution_count": 77,
   "metadata": {},
   "outputs": [
    {
     "name": "stdout",
     "output_type": "stream",
     "text": [
      "set([u'rte', u'Boulevard', u'Angle', u'La', u'ROUTE', u'esplanade', u'Passage', u'Cheminement', u'Chemin', u'Sur', u'Savary', u'bvd', u'R.n.', u'Mail', u'Port', u'AVENUE', u'all\\xe9e', u'Bd', u'Fr\\xe9d\\xe9ric', u'boulevard', u'Centre', u'C.c.', u'avenue', u'Voie', u'ALLEE', u'Rue', u'Promenade', u'Av.', u'Quai', u'7', u'chemin', u'BIS', u'Barri\\xe8re', u'All\\xe9es', u'CC', u'Lotissement', u'voie', u'rue', u'Route', u'Impasse', u'Place', u'Grande', u'Rond-Point', u'10', u'Square', u'all\\xe9es', u'face', u'la', u'route', u'Descente', u'Esplanade', u'Bis', u'impasse', u'RUE', u'place', u'Clos', u'Avenue', u'Andr\\xe9', u'All\\xe9e'])\n"
     ]
    }
   ],
   "source": [
    "street_types = set()\n",
    "for (street,) in street_names:\n",
    "    street_types.add(street.split()[0])\n",
    "print street_types"
   ]
  },
  {
   "cell_type": "markdown",
   "metadata": {},
   "source": [
    "For the sake of readability, let's encode the unicode strings and build a sorted list of street types:"
   ]
  },
  {
   "cell_type": "code",
   "execution_count": 78,
   "metadata": {},
   "outputs": [
    {
     "name": "stdout",
     "output_type": "stream",
     "text": [
      "10, 7, ALLEE, allée, Allée, Allées, allées, André, Angle, Av., AVENUE, avenue, Avenue, Barrière, Bd, BIS, Bis, Boulevard, boulevard, bvd, C.c., CC, Centre, Chemin, chemin, Cheminement, Clos, Descente, esplanade, Esplanade, face, Frédéric, Grande, Impasse, impasse, La, la, Lotissement, Mail, Passage, Place, place, Port, Promenade, Quai, R.n., Rond-Point, ROUTE, Route, route, rte, Rue, rue, RUE, Savary, Square, Sur, Voie, voie\n"
     ]
    }
   ],
   "source": [
    "def str_encode(v):\n",
    "    \"\"\"Return string object properly encoded if necessary\"\"\"\n",
    "    return v.encode('utf-8') if isinstance(v, unicode) else str(v)\n",
    "pretty_street_types = sorted([str_encode(stype) for stype in street_types], key=str.lower)\n",
    "print ', '.join(pretty_street_types)"
   ]
  },
  {
   "cell_type": "markdown",
   "metadata": {},
   "source": [
    "Now it's easy to list the defects or redundancies:\n",
    "- the numbers or \"Bis\" terms should be hosted by `housenumber` type\n",
    "- the case should be standardized, e.g. \"Allée\" instead of \"ALLEE\" or \"allée\"\n",
    "- the abbreviates should be removed, e.g \"rte\" replaced by \"Route\"\n",
    "- some other values are clearly not street types (\"La\", \"Sur\", \"face\"...), let's display these weird values:"
   ]
  },
  {
   "cell_type": "code",
   "execution_count": 79,
   "metadata": {},
   "outputs": [
    {
     "name": "stdout",
     "output_type": "stream",
     "text": [
      "Frédéric Petit\n",
      "Grande Rue Nazareth\n",
      "Grande Rue Saint-Michel\n",
      "Grande rue Saint-Michel\n",
      "La Pyrénéenne\n",
      "Sur facade du Théâtre face 1 place du Capitole\n",
      "Sur parking face à la rue Porte Sardane\n",
      "face 5 place du Capitole\n",
      "la lauragaise\n"
     ]
    }
   ],
   "source": [
    "weird_values = list()\n",
    "for (v,) in street_names:\n",
    "    st = v.split()[0]\n",
    "    st = str_encode(st)\n",
    "    if st.lower() in ('sur', 'face', 'la', 'grande', 'frédéric'):\n",
    "        weird_values.append(v)\n",
    "        print v"
   ]
  },
  {
   "cell_type": "markdown",
   "metadata": {},
   "source": [
    "- Some street names miss the street type: should be \"Rue Frédéric Petit\" instead of \"Frédéric Petit\", \n",
    "- Extracting the first field is not enough for the type \"Grande Rue\"\n",
    "- A local usage in Toulouse gives street names without street types: \"La Lauragaise\", \"La Pyrénéenne\"\n",
    "- Some other values like those starting with \"Sur\" need full display to be interpreted:"
   ]
  },
  {
   "cell_type": "code",
   "execution_count": 80,
   "metadata": {},
   "outputs": [
    {
     "name": "stdout",
     "output_type": "stream",
     "text": [
      "************************\n",
      "name:Municipale-20\n",
      "man_made:surveillance\n",
      "street:Sur facade du Théâtre face 1 place du Capitole\n",
      "************************\n",
      "name:Municipale-13\n",
      "man_made:surveillance\n",
      "street:Sur parking face à la rue Porte Sardane\n",
      "************************\n",
      "name:Municipale-18\n",
      "man_made:surveillance\n",
      "street:face 5 place du Capitole\n"
     ]
    }
   ],
   "source": [
    "for value in weird_values:\n",
    "    # looping only on unexplained values:\n",
    "    if value.split()[0].lower() not in ('sur', 'face'): continue\n",
    "    print '************************'\n",
    "    QUERY = \"\"\"\n",
    "    SELECT id FROM (\n",
    "        SELECT id, value, type FROM node_tags UNION ALL SELECT id, value, type FROM way_tags\n",
    "        ) WHERE type='addr' AND value='%s';\n",
    "    \"\"\" % value\n",
    "    wnid = db_query(c, QUERY)[0][0]\n",
    "    QUERY = \"\"\"\n",
    "    SELECT key, value FROM (\n",
    "        SELECT * FROM node_tags UNION ALL SELECT * FROM way_tags\n",
    "        ) WHERE id = %d;\n",
    "    \"\"\" % wnid\n",
    "    for (k,v) in db_query(c, QUERY): print '%s:%s' % (k,v)"
   ]
  },
  {
   "cell_type": "markdown",
   "metadata": {},
   "source": [
    "Got it! The above tags should have been recorded as `surveillance` tag type and not as `addr`"
   ]
  },
  {
   "cell_type": "markdown",
   "metadata": {},
   "source": [
    "## street names\n",
    "Now let's hunt the unicity defects within street names list:"
   ]
  },
  {
   "cell_type": "code",
   "execution_count": 81,
   "metadata": {},
   "outputs": [
    {
     "name": "stdout",
     "output_type": "stream",
     "text": [
      "[u'Crampel', u'Debat-Ponsan', u'Didier Daurat', u'Eisenhower', u'Etienne Billi\\xe8res']\n"
     ]
    }
   ],
   "source": [
    "# building street names without street type\n",
    "names_list = list()\n",
    "for (value,) in street_names:\n",
    "    stype = value.split()[0]\n",
    "    sname = ' '.join(value.split()[1:])\n",
    "    names_list.append(sname)\n",
    "print names_list[100:105]"
   ]
  },
  {
   "cell_type": "code",
   "execution_count": 82,
   "metadata": {},
   "outputs": [],
   "source": [
    "# some helper function for strings comparison, looking for small discrepancies from one string to another\n",
    "def diff_strings(a,b):\n",
    "    ''' computes number of unequal characters between both input strings'''\n",
    "    a = a.strip()\n",
    "    b = b.strip()\n",
    "    diff_len = min(len(a), len(b))\n",
    "    diff_array = np.array([char for char in a[:diff_len]]) != np.array([char for char in b[:diff_len]])\n",
    "    return np.where(diff_array==True)[0].size\n",
    "\n",
    "# testing function, expecting result=1\n",
    "a=\"Rue d'Alsace Lorraine\"\n",
    "b=\"   Rue d'Alsace-Lorraine   \"\n",
    "assert diff_strings(a,b) == 1 # difference is the dash character instead of whitespace\n",
    "a=\"Rue d'Alsace Lorraine\"\n",
    "b=\"Rue d'alsace\"\n",
    "assert diff_strings(a,b) == 1 # case difference"
   ]
  },
  {
   "cell_type": "markdown",
   "metadata": {},
   "source": [
    "Now we are able to compare two neighbours in the street names list and detect same street with duplicate naming:"
   ]
  },
  {
   "cell_type": "code",
   "execution_count": 83,
   "metadata": {},
   "outputs": [
    {
     "data": {
      "text/html": [
       "<div>\n",
       "<style scoped>\n",
       "    .dataframe tbody tr th:only-of-type {\n",
       "        vertical-align: middle;\n",
       "    }\n",
       "\n",
       "    .dataframe tbody tr th {\n",
       "        vertical-align: top;\n",
       "    }\n",
       "\n",
       "    .dataframe thead th {\n",
       "        text-align: right;\n",
       "    }\n",
       "</style>\n",
       "<table border=\"1\" class=\"dataframe\">\n",
       "  <thead>\n",
       "    <tr style=\"text-align: right;\">\n",
       "      <th></th>\n",
       "      <th>N</th>\n",
       "      <th>N-1</th>\n",
       "    </tr>\n",
       "  </thead>\n",
       "  <tbody>\n",
       "    <tr>\n",
       "      <th>0</th>\n",
       "      <td>Jean Jaurès</td>\n",
       "      <td>Jean Jaures</td>\n",
       "    </tr>\n",
       "    <tr>\n",
       "      <th>1</th>\n",
       "      <td>de Grand-Selve</td>\n",
       "      <td>de Grand Selve</td>\n",
       "    </tr>\n",
       "    <tr>\n",
       "      <th>2</th>\n",
       "      <td>Jean rieux</td>\n",
       "      <td>Jean Rieux</td>\n",
       "    </tr>\n",
       "    <tr>\n",
       "      <th>3</th>\n",
       "      <td>Saint-Exupéry</td>\n",
       "      <td>Saint Exupéry</td>\n",
       "    </tr>\n",
       "    <tr>\n",
       "      <th>4</th>\n",
       "      <td>des États-Unis</td>\n",
       "      <td>des États Unis</td>\n",
       "    </tr>\n",
       "    <tr>\n",
       "      <th>5</th>\n",
       "      <td>du Château d’Eau</td>\n",
       "      <td>du Château d'Eau</td>\n",
       "    </tr>\n",
       "    <tr>\n",
       "      <th>6</th>\n",
       "      <td>Étienne Billières</td>\n",
       "      <td>Étienne Billieres</td>\n",
       "    </tr>\n",
       "    <tr>\n",
       "      <th>7</th>\n",
       "      <td>du professeur Léopold Escande</td>\n",
       "      <td>du Professeur Léopold Escande</td>\n",
       "    </tr>\n",
       "    <tr>\n",
       "      <th>8</th>\n",
       "      <td>Leclerc - Rue du commerce</td>\n",
       "      <td>leclerc</td>\n",
       "    </tr>\n",
       "    <tr>\n",
       "      <th>9</th>\n",
       "      <td>rue Saint-Michel</td>\n",
       "      <td>Rue Saint-Michel</td>\n",
       "    </tr>\n",
       "    <tr>\n",
       "      <th>10</th>\n",
       "      <td>Barbara</td>\n",
       "      <td>Bara</td>\n",
       "    </tr>\n",
       "    <tr>\n",
       "      <th>11</th>\n",
       "      <td>Salinié</td>\n",
       "      <td>Salinie</td>\n",
       "    </tr>\n",
       "    <tr>\n",
       "      <th>12</th>\n",
       "      <td>Benoît Arzac</td>\n",
       "      <td>Benoit Arzac</td>\n",
       "    </tr>\n",
       "    <tr>\n",
       "      <th>13</th>\n",
       "      <td>de la Trinité</td>\n",
       "      <td>de la Trinite</td>\n",
       "    </tr>\n",
       "    <tr>\n",
       "      <th>14</th>\n",
       "      <td>Descoins-Tinard</td>\n",
       "      <td>Descoins Tinard</td>\n",
       "    </tr>\n",
       "    <tr>\n",
       "      <th>15</th>\n",
       "      <td>Françoise D'eaubonne</td>\n",
       "      <td>Françoise D'Eaubonne</td>\n",
       "    </tr>\n",
       "    <tr>\n",
       "      <th>16</th>\n",
       "      <td>Ginette Neveu</td>\n",
       "      <td>Gilet</td>\n",
       "    </tr>\n",
       "    <tr>\n",
       "      <th>17</th>\n",
       "      <td>Henriot</td>\n",
       "      <td>Henriette Achiary</td>\n",
       "    </tr>\n",
       "    <tr>\n",
       "      <th>18</th>\n",
       "      <td>Hermès</td>\n",
       "      <td>Hermes</td>\n",
       "    </tr>\n",
       "    <tr>\n",
       "      <th>19</th>\n",
       "      <td>Jean Paya</td>\n",
       "      <td>Jean Palaprat</td>\n",
       "    </tr>\n",
       "    <tr>\n",
       "      <th>20</th>\n",
       "      <td>Maury</td>\n",
       "      <td>Maurice Jacquier</td>\n",
       "    </tr>\n",
       "    <tr>\n",
       "      <th>21</th>\n",
       "      <td>Paul Mesplé</td>\n",
       "      <td>Paul Mesple</td>\n",
       "    </tr>\n",
       "    <tr>\n",
       "      <th>22</th>\n",
       "      <td>Romiguières</td>\n",
       "      <td>Romiguieres</td>\n",
       "    </tr>\n",
       "    <tr>\n",
       "      <th>23</th>\n",
       "      <td>d'Alsace-Lorraine</td>\n",
       "      <td>d'Alsace Lorraine</td>\n",
       "    </tr>\n",
       "    <tr>\n",
       "      <th>24</th>\n",
       "      <td>de la Chaîne</td>\n",
       "      <td>de la Chaine</td>\n",
       "    </tr>\n",
       "    <tr>\n",
       "      <th>25</th>\n",
       "      <td>du May</td>\n",
       "      <td>du Maréchal Niel</td>\n",
       "    </tr>\n",
       "    <tr>\n",
       "      <th>26</th>\n",
       "      <td>du Poids de l'huile</td>\n",
       "      <td>du Poids de l'Huile</td>\n",
       "    </tr>\n",
       "    <tr>\n",
       "      <th>27</th>\n",
       "      <td>du Salé</td>\n",
       "      <td>du Salat</td>\n",
       "    </tr>\n",
       "    <tr>\n",
       "      <th>28</th>\n",
       "      <td>Jean-Rieux</td>\n",
       "      <td>Jean Rieux</td>\n",
       "    </tr>\n",
       "  </tbody>\n",
       "</table>\n",
       "</div>"
      ],
      "text/plain": [
       "                                N                            N-1\n",
       "0                     Jean Jaurès                    Jean Jaures\n",
       "1                  de Grand-Selve                 de Grand Selve\n",
       "2                      Jean rieux                     Jean Rieux\n",
       "3                   Saint-Exupéry                  Saint Exupéry\n",
       "4                  des États-Unis                 des États Unis\n",
       "5                du Château d’Eau               du Château d'Eau\n",
       "6               Étienne Billières              Étienne Billieres\n",
       "7   du professeur Léopold Escande  du Professeur Léopold Escande\n",
       "8       Leclerc - Rue du commerce                        leclerc\n",
       "9                rue Saint-Michel               Rue Saint-Michel\n",
       "10                        Barbara                           Bara\n",
       "11                        Salinié                        Salinie\n",
       "12                   Benoît Arzac                   Benoit Arzac\n",
       "13                  de la Trinité                  de la Trinite\n",
       "14                Descoins-Tinard                Descoins Tinard\n",
       "15           Françoise D'eaubonne           Françoise D'Eaubonne\n",
       "16                  Ginette Neveu                          Gilet\n",
       "17                        Henriot              Henriette Achiary\n",
       "18                         Hermès                         Hermes\n",
       "19                      Jean Paya                  Jean Palaprat\n",
       "20                          Maury               Maurice Jacquier\n",
       "21                    Paul Mesplé                    Paul Mesple\n",
       "22                    Romiguières                    Romiguieres\n",
       "23              d'Alsace-Lorraine              d'Alsace Lorraine\n",
       "24                   de la Chaîne                   de la Chaine\n",
       "25                         du May               du Maréchal Niel\n",
       "26            du Poids de l'huile            du Poids de l'Huile\n",
       "27                        du Salé                       du Salat\n",
       "28                     Jean-Rieux                     Jean Rieux"
      ]
     },
     "execution_count": 83,
     "metadata": {},
     "output_type": "execute_result"
    }
   ],
   "source": [
    "# comparing Nth vs. (N-1)th, displaying names with at most 2 different characters\n",
    "arr1 = names_list[:-1]\n",
    "arr2 = names_list[1:]\n",
    "vect_diff_strings = np.vectorize(diff_strings)\n",
    "diff_strings_array = vect_diff_strings(arr1, arr2)\n",
    "arr1_diff = np.array(arr1)[diff_strings_array==1]\n",
    "arr2_diff = np.array(arr2)[diff_strings_array==1]\n",
    "pandas.DataFrame({'N-1':arr1_diff, 'N':arr2_diff})"
   ]
  },
  {
   "cell_type": "markdown",
   "metadata": {},
   "source": [
    "The same street can be written in different ways for the following reasons:\n",
    "- whitespace instead of dash\n",
    "- lower instead of upper case\n",
    "- missing french accents `éèàîâ`..."
   ]
  },
  {
   "cell_type": "markdown",
   "metadata": {},
   "source": [
    "## zipcodes / cities\n",
    "Now let's check the zipcodes and the cities:"
   ]
  },
  {
   "cell_type": "code",
   "execution_count": 84,
   "metadata": {},
   "outputs": [],
   "source": [
    "QUERY = \"\"\"\n",
    "SELECT value FROM (\n",
    "    SELECT * FROM node_tags UNION ALL SELECT * FROM way_tags\n",
    "    ) WHERE type='addr' AND key='postcode' GROUP BY value;\n",
    "\"\"\"\n",
    "zipcodes = db_query(c, QUERY)"
   ]
  },
  {
   "cell_type": "code",
   "execution_count": 85,
   "metadata": {},
   "outputs": [
    {
     "name": "stdout",
     "output_type": "stream",
     "text": [
      "[(u'31000',), (u'31000;31100;31200;31300;31400;31500',), (u'31015',), (u'31018',), (u'31020',), (u'31021',), (u'31022',), (u'31024',), (u'31026',), (u'31027',), (u'31028',), (u'31035',), (u'31036',), (u'31037',), (u'31047',), (u'31053',), (u'31055',), (u'31060',), (u'31062',), (u'31065',), (u'31070',), (u'31076',), (u'31079',), (u'31081',), (u'31094',), (u'31100',), (u'31120',), (u'31127',), (u'31130',), (u'31140',), (u'31150',), (u'31170',), (u'31180',), (u'31200',), (u'31200\\u200e',), (u'31240',), (u'31242',), (u'31270',), (u'31300',), (u'31320',), (u'3140',), (u'31400',), (u'31432',), (u'31500',), (u'31506',), (u'31520',), (u'31520 Ramonville Saint Agne',), (u'31650',), (u'31670',), (u'31700',), (u'31700 BLAGNAC',), (u'31701',), (u'31750',), (u'31770',), (u'31776',), (u'31840',), (u'31850',), (u'31901',), (u'68199',)]\n"
     ]
    }
   ],
   "source": [
    "print zipcodes"
   ]
  },
  {
   "cell_type": "markdown",
   "metadata": {},
   "source": [
    "Let's display zipcodes which are not 5-digits standardized:"
   ]
  },
  {
   "cell_type": "code",
   "execution_count": 86,
   "metadata": {},
   "outputs": [
    {
     "name": "stdout",
     "output_type": "stream",
     "text": [
      "u'31000;31100;31200;31300;31400;31500'\n",
      "u'31200\\u200e'\n",
      "u'3140'\n",
      "u'31520 Ramonville Saint Agne'\n",
      "u'31700 BLAGNAC'\n"
     ]
    }
   ],
   "source": [
    "for (zc,) in zipcodes:\n",
    "    if not re.match(r'^\\d{5}$', zc):\n",
    "        print repr(zc)"
   ]
  },
  {
   "cell_type": "markdown",
   "metadata": {},
   "source": [
    "Some zipcodes are clearly badly shaped, mixing both city name and code or simply wrongly written.\n",
    "Furthermore it appears than cities outside of Toulouse are part of our OSM, let's display them:"
   ]
  },
  {
   "cell_type": "code",
   "execution_count": 88,
   "metadata": {},
   "outputs": [
    {
     "name": "stdout",
     "output_type": "stream",
     "text": [
      "Aucamville\n",
      "Auzeville-Tolosane\n",
      "Balma\n",
      "Beauzelle\n",
      "Blagnac\n",
      "Castanet-Tolosan\n",
      "Colomiers\n",
      "Cornebarrieu\n",
      "Cugnaux\n",
      "Fenouillet\n",
      "L'Union\n",
      "Labège\n",
      "Montrabé\n",
      "Portet-sur-Garonne\n",
      "Quint-Fonsegrives\n",
      "Ramonville\n",
      "Ramonville ST Agne\n",
      "Ramonville Saint Agne\n",
      "Ramonville Saint-Agne\n",
      "Ramonville-Saint-Agne\n",
      "Rouffiac\n",
      "Rouffiac-Tolosan\n",
      "Saint-Jean\n",
      "Saint-Orens-de-Gameville\n",
      "Tournefeuille\n",
      "Villeneuve-Tolosane\n",
      "saint orens\n"
     ]
    }
   ],
   "source": [
    "QUERY = \"\"\"\n",
    "    SELECT DISTINCT(value) FROM (\n",
    "    SELECT * FROM node_tags UNION ALL SELECT * FROM way_tags\n",
    "    ) WHERE type='addr' AND key='city' AND value NOT LIKE '%toulouse%' ORDER BY value;\n",
    "\"\"\"\n",
    "for (c,) in db_query(c, QUERY): print c"
   ]
  },
  {
   "cell_type": "markdown",
   "metadata": {},
   "source": [
    "First observation: some city names are redundant and require some cleaning.\n",
    "Second observation: the openstreetmap extraction of Toulouse references some nodes/ways which stand beyond the city boundaries. It is not surprising since there is no \"dead zone\" between the big Toulouse and the small or mid cities around it.\n",
    "Let's display an example of tag referencing a neighbour city:"
   ]
  },
  {
   "cell_type": "code",
   "execution_count": 22,
   "metadata": {},
   "outputs": [
    {
     "name": "stdout",
     "output_type": "stream",
     "text": [
      "[64403963] city: Blagnac (addr)\n",
      "[64403963] housenumber: 10 bis (addr)\n",
      "[64403963] postcode: 31700 (addr)\n",
      "[64403963] street: Avenue du Général Compans (addr)\n",
      "[64403963] amenity: restaurant (regular)\n",
      "[64403963] building: yes (regular)\n",
      "[64403963] cuisine: regional (regular)\n",
      "[64403963] name: Terre bretonne (regular)\n",
      "[64403963] opening_hours: 11:45-14:00,19:00-21:30 (regular)\n",
      "[64403963] takeaway: no (regular)\n",
      "[64403963] website: http://www.creperie-terre-bretonne.fr/ (regular)\n"
     ]
    }
   ],
   "source": [
    "QUERY = \"\"\"\n",
    "    SELECT id, key, value, type FROM way_tags\n",
    "    WHERE id IN\n",
    "    (SELECT DISTINCT(ID) FROM way_tags\n",
    "    WHERE type='addr' AND key='city' AND value='Blagnac' LIMIT 1)\n",
    "    ;\n",
    "\"\"\"\n",
    "for (a,b,c,d) in db_query(c, QUERY): print '[%s] %s: %s (%s)' % (a,b,c,d)"
   ]
  },
  {
   "cell_type": "markdown",
   "metadata": {},
   "source": [
    "This particular way object (amenity) has clearly nothing to do with Toulouse city. Thus we may assume that its presence in our OSM is due to the method used for extraction. For example, since some specific objects, such as bus or metro lines, may cross the city limits, we may assume that the extraction avoids to split this kind of objects and thus increases the extracted area..."
   ]
  }
 ],
 "metadata": {
  "kernelspec": {
   "display_name": "Python 2",
   "language": "python",
   "name": "python2"
  },
  "language_info": {
   "codemirror_mode": {
    "name": "ipython",
    "version": 2
   },
   "file_extension": ".py",
   "mimetype": "text/x-python",
   "name": "python",
   "nbconvert_exporter": "python",
   "pygments_lexer": "ipython2",
   "version": "2.7.14"
  }
 },
 "nbformat": 4,
 "nbformat_minor": 2
}
