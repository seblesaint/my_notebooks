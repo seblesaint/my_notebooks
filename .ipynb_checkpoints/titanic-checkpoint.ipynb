{
 "cells": [
  {
   "cell_type": "markdown",
   "metadata": {
    "collapsed": true
   },
   "source": [
    "# TITANIC dataset exploration - who survived?\n",
    "---\n",
    "\n",
    "![title](img/titanic/Stöwer_Titanic.jpg)\n",
    "<center>Willy Stöwer, died on 31st May 1931 — Magazine Die Gartenlaube</center>\n",
    "\n",
    "\n",
    "\n",
    "## Table of Contents\n",
    "<ul>\n",
    "<li><a href=\"#intro\">Dataset description and first set of questions</a></li>\n",
    "<li><a href=\"#set-up\">Project set-up</a></li>\n",
    "<li><a href=\"#acquisition\">Data acquisition</a></li>\n",
    "<li><a href=\"#check\">Data check</a></li>\n",
    "<li><a href=\"#cleaning\">Data cleaning</a></li>\n",
    "<li><a href=\"#exploration\">Data exploration</a></li>\n",
    "<li><a href=\"#prediction\">Data prediction</a></li>\n",
    "<li><a href=\"#conclusion\">Conclusion</a></li>\n",
    "</ul>"
   ]
  },
  {
   "cell_type": "markdown",
   "metadata": {},
   "source": [
    "<a id='intro'></a>\n",
    "## Dataset description and first set of questions\n",
    "----"
   ]
  },
  {
   "cell_type": "markdown",
   "metadata": {},
   "source": [
    "The description of the dataset and its parameters are available at:\n",
    "https://www.kaggle.com/c/titanic"
   ]
  },
  {
   "cell_type": "markdown",
   "metadata": {},
   "source": [
    "Some simple questions raise first:\n",
    "- what kind of people travelled on giant boats early last century?\n",
    "- among the recorded passengers, how many survived?\n",
    "- which country was the most affected?\n",
    "- is there a category of passenger more represented in survivors population?\n",
    "- in other terms, are there some parameters acting on survival chances?\n",
    "\n",
    "Some questions of second order:\n",
    "- what was the price of a Titanic ticket depending of the departure place?\n",
    "\n",
    "Some questions a bit more complex:\n",
    "- is the location of the cabin within the Titanic a driving factor?\n",
    "- what can we extract from social conditions (age, family, budget...)"
   ]
  },
  {
   "cell_type": "markdown",
   "metadata": {},
   "source": [
    "<a id='set-up'></a>\n",
    "## Project set-up\n",
    "--------------------"
   ]
  },
  {
   "cell_type": "markdown",
   "metadata": {},
   "source": [
    "let's import necessary modules"
   ]
  },
  {
   "cell_type": "code",
   "execution_count": 375,
   "metadata": {
    "collapsed": true
   },
   "outputs": [],
   "source": [
    "import os, re\n",
    "import numpy as np\n",
    "import pandas as pd\n",
    "import matplotlib.pyplot as plt\n",
    "import seaborn as sb"
   ]
  },
  {
   "cell_type": "markdown",
   "metadata": {},
   "source": [
    "some notebook-related configuration..."
   ]
  },
  {
   "cell_type": "code",
   "execution_count": 376,
   "metadata": {
    "collapsed": true
   },
   "outputs": [],
   "source": [
    "%matplotlib inline\n",
    "sb.set_context(\"notebook\", font_scale=1.25)"
   ]
  },
  {
   "cell_type": "markdown",
   "metadata": {},
   "source": [
    "collecting project input"
   ]
  },
  {
   "cell_type": "code",
   "execution_count": 377,
   "metadata": {
    "collapsed": true
   },
   "outputs": [],
   "source": [
    "titanic_folder   = os.path.join('data', 'titanic')\n",
    "titanic_filename = 'titanic-data.csv'\n",
    "titanic_file     = os.path.join(titanic_folder, titanic_filename)\n",
    "assert os.path.exists(titanic_file)"
   ]
  },
  {
   "cell_type": "markdown",
   "metadata": {},
   "source": [
    "<a id='acquisition'></a>\n",
    "## Data acquisition\n",
    "---------------------"
   ]
  },
  {
   "cell_type": "markdown",
   "metadata": {},
   "source": [
    "loading the input dataset as DataFrame"
   ]
  },
  {
   "cell_type": "code",
   "execution_count": 378,
   "metadata": {
    "collapsed": true
   },
   "outputs": [],
   "source": [
    "\n",
    "titanic_df = pd.read_csv(titanic_file)"
   ]
  },
  {
   "cell_type": "markdown",
   "metadata": {},
   "source": [
    "first sight at available columns"
   ]
  },
  {
   "cell_type": "code",
   "execution_count": 379,
   "metadata": {},
   "outputs": [
    {
     "data": {
      "text/html": [
       "<div>\n",
       "<style>\n",
       "    .dataframe thead tr:only-child th {\n",
       "        text-align: right;\n",
       "    }\n",
       "\n",
       "    .dataframe thead th {\n",
       "        text-align: left;\n",
       "    }\n",
       "\n",
       "    .dataframe tbody tr th {\n",
       "        vertical-align: top;\n",
       "    }\n",
       "</style>\n",
       "<table border=\"1\" class=\"dataframe\">\n",
       "  <thead>\n",
       "    <tr style=\"text-align: right;\">\n",
       "      <th></th>\n",
       "      <th>PassengerId</th>\n",
       "      <th>Survived</th>\n",
       "      <th>Pclass</th>\n",
       "      <th>Name</th>\n",
       "      <th>Sex</th>\n",
       "      <th>Age</th>\n",
       "      <th>SibSp</th>\n",
       "      <th>Parch</th>\n",
       "      <th>Ticket</th>\n",
       "      <th>Fare</th>\n",
       "      <th>Cabin</th>\n",
       "      <th>Embarked</th>\n",
       "    </tr>\n",
       "  </thead>\n",
       "  <tbody>\n",
       "    <tr>\n",
       "      <th>0</th>\n",
       "      <td>1</td>\n",
       "      <td>0</td>\n",
       "      <td>3</td>\n",
       "      <td>Braund, Mr. Owen Harris</td>\n",
       "      <td>male</td>\n",
       "      <td>22.0</td>\n",
       "      <td>1</td>\n",
       "      <td>0</td>\n",
       "      <td>A/5 21171</td>\n",
       "      <td>7.2500</td>\n",
       "      <td>NaN</td>\n",
       "      <td>S</td>\n",
       "    </tr>\n",
       "    <tr>\n",
       "      <th>1</th>\n",
       "      <td>2</td>\n",
       "      <td>1</td>\n",
       "      <td>1</td>\n",
       "      <td>Cumings, Mrs. John Bradley (Florence Briggs Th...</td>\n",
       "      <td>female</td>\n",
       "      <td>38.0</td>\n",
       "      <td>1</td>\n",
       "      <td>0</td>\n",
       "      <td>PC 17599</td>\n",
       "      <td>71.2833</td>\n",
       "      <td>C85</td>\n",
       "      <td>C</td>\n",
       "    </tr>\n",
       "    <tr>\n",
       "      <th>2</th>\n",
       "      <td>3</td>\n",
       "      <td>1</td>\n",
       "      <td>3</td>\n",
       "      <td>Heikkinen, Miss. Laina</td>\n",
       "      <td>female</td>\n",
       "      <td>26.0</td>\n",
       "      <td>0</td>\n",
       "      <td>0</td>\n",
       "      <td>STON/O2. 3101282</td>\n",
       "      <td>7.9250</td>\n",
       "      <td>NaN</td>\n",
       "      <td>S</td>\n",
       "    </tr>\n",
       "    <tr>\n",
       "      <th>3</th>\n",
       "      <td>4</td>\n",
       "      <td>1</td>\n",
       "      <td>1</td>\n",
       "      <td>Futrelle, Mrs. Jacques Heath (Lily May Peel)</td>\n",
       "      <td>female</td>\n",
       "      <td>35.0</td>\n",
       "      <td>1</td>\n",
       "      <td>0</td>\n",
       "      <td>113803</td>\n",
       "      <td>53.1000</td>\n",
       "      <td>C123</td>\n",
       "      <td>S</td>\n",
       "    </tr>\n",
       "    <tr>\n",
       "      <th>4</th>\n",
       "      <td>5</td>\n",
       "      <td>0</td>\n",
       "      <td>3</td>\n",
       "      <td>Allen, Mr. William Henry</td>\n",
       "      <td>male</td>\n",
       "      <td>35.0</td>\n",
       "      <td>0</td>\n",
       "      <td>0</td>\n",
       "      <td>373450</td>\n",
       "      <td>8.0500</td>\n",
       "      <td>NaN</td>\n",
       "      <td>S</td>\n",
       "    </tr>\n",
       "  </tbody>\n",
       "</table>\n",
       "</div>"
      ],
      "text/plain": [
       "   PassengerId  Survived  Pclass  \\\n",
       "0            1         0       3   \n",
       "1            2         1       1   \n",
       "2            3         1       3   \n",
       "3            4         1       1   \n",
       "4            5         0       3   \n",
       "\n",
       "                                                Name     Sex   Age  SibSp  \\\n",
       "0                            Braund, Mr. Owen Harris    male  22.0      1   \n",
       "1  Cumings, Mrs. John Bradley (Florence Briggs Th...  female  38.0      1   \n",
       "2                             Heikkinen, Miss. Laina  female  26.0      0   \n",
       "3       Futrelle, Mrs. Jacques Heath (Lily May Peel)  female  35.0      1   \n",
       "4                           Allen, Mr. William Henry    male  35.0      0   \n",
       "\n",
       "   Parch            Ticket     Fare Cabin Embarked  \n",
       "0      0         A/5 21171   7.2500   NaN        S  \n",
       "1      0          PC 17599  71.2833   C85        C  \n",
       "2      0  STON/O2. 3101282   7.9250   NaN        S  \n",
       "3      0            113803  53.1000  C123        S  \n",
       "4      0            373450   8.0500   NaN        S  "
      ]
     },
     "execution_count": 379,
     "metadata": {},
     "output_type": "execute_result"
    }
   ],
   "source": [
    "titanic_df.head()"
   ]
  },
  {
   "cell_type": "markdown",
   "metadata": {},
   "source": [
    "now let's jump into the dataset for a wrangling session"
   ]
  },
  {
   "cell_type": "code",
   "execution_count": 380,
   "metadata": {},
   "outputs": [
    {
     "data": {
      "text/plain": [
       "(891, 12)"
      ]
     },
     "execution_count": 380,
     "metadata": {},
     "output_type": "execute_result"
    }
   ],
   "source": [
    "titanic_df.shape"
   ]
  },
  {
   "cell_type": "markdown",
   "metadata": {},
   "source": [
    "891 passengers data have been collected, each with 12 columns"
   ]
  },
  {
   "cell_type": "code",
   "execution_count": 381,
   "metadata": {},
   "outputs": [
    {
     "data": {
      "text/plain": [
       "Index([u'PassengerId', u'Survived', u'Pclass', u'Name', u'Sex', u'Age',\n",
       "       u'SibSp', u'Parch', u'Ticket', u'Fare', u'Cabin', u'Embarked'],\n",
       "      dtype='object')"
      ]
     },
     "execution_count": 381,
     "metadata": {},
     "output_type": "execute_result"
    }
   ],
   "source": [
    "titanic_df.columns"
   ]
  },
  {
   "cell_type": "markdown",
   "metadata": {},
   "source": [
    "<a id='check'></a>\n",
    "## Data check\n",
    "---"
   ]
  },
  {
   "cell_type": "markdown",
   "metadata": {},
   "source": [
    "let's build a convenient way of tracking missing or negative values down"
   ]
  },
  {
   "cell_type": "code",
   "execution_count": 382,
   "metadata": {},
   "outputs": [],
   "source": [
    "def count_missing(s):\n",
    "    '''counts missing values in the input serie'''\n",
    "    return len(np.where(s.isnull())[0])\n",
    "\n",
    "def count_negative(s):\n",
    "    '''counts negative floats'''\n",
    "    return len(np.where(s<0)[0]) if s.dtype in (int,float) else 0\n",
    "\n",
    "def remove_negative(df):\n",
    "    '''replaces negative floats with NaN (in-place modification)'''\n",
    "    for col in df.columns:\n",
    "        if df[col].dtype not in (int,float): continue\n",
    "        nb_missing_before = count_missing(df[col])\n",
    "        df.loc[df[col]<0, col] = np.nan\n",
    "        nb_missing_after = count_missing(df[col])\n",
    "        nb_removed = nb_missing_after - nb_missing_before\n",
    "        print '%d negative values of column %s have been replaced by Nan' % (nb_removed, col)"
   ]
  },
  {
   "cell_type": "markdown",
   "metadata": {},
   "source": [
    "validating previous functions:"
   ]
  },
  {
   "cell_type": "code",
   "execution_count": 383,
   "metadata": {},
   "outputs": [
    {
     "name": "stdout",
     "output_type": "stream",
     "text": [
      "        one       two     three\n",
      "a  0.271939  0.594817  0.089546\n",
      "c -0.233383  0.231440 -0.326757\n",
      "e -1.326225 -0.067872 -1.709182\n",
      "f  1.911389  0.649843  0.896472\n",
      "h -0.037120 -2.046135 -0.558225\n",
      "number of negative values:\n",
      "one      3\n",
      "two      2\n",
      "three    3\n",
      "dtype: int64\n",
      "3 negative values of column one have been replaced by Nan\n",
      "2 negative values of column two have been replaced by Nan\n",
      "3 negative values of column three have been replaced by Nan\n",
      "number of missing values:\n",
      "one      3\n",
      "two      2\n",
      "three    3\n",
      "dtype: int64\n"
     ]
    }
   ],
   "source": [
    "df = pd.DataFrame(np.random.randn(5, 3), index=['a', 'c', 'e', 'f', 'h'],columns=['one', 'two', 'three'])\n",
    "print df\n",
    "print 'number of negative values:'\n",
    "print df.apply(count_negative)\n",
    "remove_negative(df)\n",
    "print 'number of missing values:'\n",
    "print df.apply(count_missing)\n"
   ]
  },
  {
   "cell_type": "markdown",
   "metadata": {},
   "source": [
    "Applying count_negative and count_missing values on titanic_df"
   ]
  },
  {
   "cell_type": "code",
   "execution_count": 384,
   "metadata": {},
   "outputs": [
    {
     "name": "stdout",
     "output_type": "stream",
     "text": [
      "number of negative values:\n"
     ]
    },
    {
     "data": {
      "text/plain": [
       "PassengerId    0\n",
       "Survived       0\n",
       "Pclass         0\n",
       "Name           0\n",
       "Sex            0\n",
       "Age            0\n",
       "SibSp          0\n",
       "Parch          0\n",
       "Ticket         0\n",
       "Fare           0\n",
       "Cabin          0\n",
       "Embarked       0\n",
       "dtype: int64"
      ]
     },
     "execution_count": 384,
     "metadata": {},
     "output_type": "execute_result"
    }
   ],
   "source": [
    "print 'number of negative values:'\n",
    "titanic_df.apply(count_negative)"
   ]
  },
  {
   "cell_type": "markdown",
   "metadata": {},
   "source": [
    "No issues with negative floats or integers"
   ]
  },
  {
   "cell_type": "code",
   "execution_count": 385,
   "metadata": {},
   "outputs": [
    {
     "name": "stdout",
     "output_type": "stream",
     "text": [
      "number of missing values:\n"
     ]
    },
    {
     "data": {
      "text/plain": [
       "PassengerId      0\n",
       "Survived         0\n",
       "Pclass           0\n",
       "Name             0\n",
       "Sex              0\n",
       "Age            177\n",
       "SibSp            0\n",
       "Parch            0\n",
       "Ticket           0\n",
       "Fare             0\n",
       "Cabin          687\n",
       "Embarked         2\n",
       "dtype: int64"
      ]
     },
     "execution_count": 385,
     "metadata": {},
     "output_type": "execute_result"
    }
   ],
   "source": [
    "print 'number of missing values:'\n",
    "titanic_df.apply(count_missing)"
   ]
  },
  {
   "cell_type": "markdown",
   "metadata": {},
   "source": [
    "Some information related to passenger ages and cabins is missing."
   ]
  },
  {
   "cell_type": "markdown",
   "metadata": {},
   "source": [
    "check that each passenger is unique"
   ]
  },
  {
   "cell_type": "code",
   "execution_count": 386,
   "metadata": {},
   "outputs": [
    {
     "data": {
      "text/plain": [
       "True"
      ]
     },
     "execution_count": 386,
     "metadata": {},
     "output_type": "execute_result"
    }
   ],
   "source": [
    "titanic_df['PassengerId'].unique().size == titanic_df.shape[0]"
   ]
  },
  {
   "cell_type": "markdown",
   "metadata": {},
   "source": [
    "check that only two values are available for 'Survived' column"
   ]
  },
  {
   "cell_type": "code",
   "execution_count": 387,
   "metadata": {},
   "outputs": [
    {
     "data": {
      "text/plain": [
       "[0, 1]"
      ]
     },
     "execution_count": 387,
     "metadata": {},
     "output_type": "execute_result"
    }
   ],
   "source": [
    "titanic_df.groupby('Survived').groups.keys() # display available values"
   ]
  },
  {
   "cell_type": "markdown",
   "metadata": {},
   "source": [
    "get number of cabin class levels"
   ]
  },
  {
   "cell_type": "code",
   "execution_count": 388,
   "metadata": {},
   "outputs": [
    {
     "data": {
      "text/plain": [
       "[1, 2, 3]"
      ]
     },
     "execution_count": 388,
     "metadata": {},
     "output_type": "execute_result"
    }
   ],
   "source": [
    "titanic_df.groupby('Pclass').groups.keys() # display available values"
   ]
  },
  {
   "cell_type": "markdown",
   "metadata": {},
   "source": [
    "check that names are string"
   ]
  },
  {
   "cell_type": "code",
   "execution_count": 389,
   "metadata": {
    "collapsed": true
   },
   "outputs": [],
   "source": [
    "for name in titanic_df['Name']:\n",
    "    if type(name) != str: print name"
   ]
  },
  {
   "cell_type": "markdown",
   "metadata": {},
   "source": [
    "names entries seem ok"
   ]
  },
  {
   "cell_type": "markdown",
   "metadata": {},
   "source": [
    "check gender entries"
   ]
  },
  {
   "cell_type": "code",
   "execution_count": 390,
   "metadata": {},
   "outputs": [
    {
     "data": {
      "text/plain": [
       "['male', 'female']"
      ]
     },
     "execution_count": 390,
     "metadata": {},
     "output_type": "execute_result"
    }
   ],
   "source": [
    "titanic_df.groupby('Sex').groups.keys() # display available values"
   ]
  },
  {
   "cell_type": "markdown",
   "metadata": {},
   "source": [
    "number of other passengers of same family and generation (sibling or spouse):"
   ]
  },
  {
   "cell_type": "code",
   "execution_count": 391,
   "metadata": {},
   "outputs": [
    {
     "data": {
      "text/plain": [
       "[0, 1, 2, 3, 4, 5, 8]"
      ]
     },
     "execution_count": 391,
     "metadata": {},
     "output_type": "execute_result"
    }
   ],
   "source": [
    "titanic_df.groupby('SibSp').groups.keys() # display possible values"
   ]
  },
  {
   "cell_type": "markdown",
   "metadata": {},
   "source": [
    "A maximum of 8 siblings! It means that at least 9 passengers should have 8 brothers or sisters, let's find them"
   ]
  },
  {
   "cell_type": "code",
   "execution_count": 392,
   "metadata": {},
   "outputs": [
    {
     "data": {
      "text/plain": [
       "7"
      ]
     },
     "execution_count": 392,
     "metadata": {},
     "output_type": "execute_result"
    }
   ],
   "source": [
    "titanic_df.groupby('SibSp').groups[8].size"
   ]
  },
  {
   "cell_type": "markdown",
   "metadata": {},
   "source": [
    "They are only 7 passengers with 8 brothers or sisters, some of them must be missing in the dataset records..."
   ]
  },
  {
   "cell_type": "markdown",
   "metadata": {},
   "source": [
    "number of other passengers of same family and previous or next generation (children or parent):"
   ]
  },
  {
   "cell_type": "code",
   "execution_count": 393,
   "metadata": {},
   "outputs": [
    {
     "data": {
      "text/plain": [
       "[0, 1, 2, 3, 4, 5, 6]"
      ]
     },
     "execution_count": 393,
     "metadata": {},
     "output_type": "execute_result"
    }
   ],
   "source": [
    "titanic_df.groupby('Parch').groups.keys() # display available values"
   ]
  },
  {
   "cell_type": "markdown",
   "metadata": {},
   "source": [
    "checking Ticket parameter, seems to be an integer:"
   ]
  },
  {
   "cell_type": "code",
   "execution_count": 394,
   "metadata": {
    "collapsed": true
   },
   "outputs": [],
   "source": [
    "def str2int(ticket_string):\n",
    "    '''transforms a string into an integer'''\n",
    "    try:\n",
    "        return int(ticket_string)\n",
    "    except:\n",
    "        return np.nan"
   ]
  },
  {
   "cell_type": "markdown",
   "metadata": {},
   "source": [
    "Let's see which fields failed while converted into integers"
   ]
  },
  {
   "cell_type": "code",
   "execution_count": 395,
   "metadata": {},
   "outputs": [
    {
     "name": "stdout",
     "output_type": "stream",
     "text": [
      "0            A/5 21171\n",
      "1             PC 17599\n",
      "2     STON/O2. 3101282\n",
      "10             PP 9549\n",
      "12           A/5. 2151\n",
      "Name: Ticket, dtype: object\n",
      "230\n"
     ]
    }
   ],
   "source": [
    "non_integer_tickets = titanic_df['Ticket'][np.isnan(titanic_df['Ticket'].apply(str2int))]\n",
    "print non_integer_tickets.head()\n",
    "print non_integer_tickets.size"
   ]
  },
  {
   "cell_type": "markdown",
   "metadata": {},
   "source": [
    " 230 tickets entries seem to not correspond to an integer, since including characters corresponding to place of ticklet purchase"
   ]
  },
  {
   "cell_type": "markdown",
   "metadata": {},
   "source": [
    "checking Fare parameter:"
   ]
  },
  {
   "cell_type": "code",
   "execution_count": 396,
   "metadata": {},
   "outputs": [
    {
     "data": {
      "text/plain": [
       "count    891.000000\n",
       "mean      32.204208\n",
       "std       49.693429\n",
       "min        0.000000\n",
       "25%        7.910400\n",
       "50%       14.454200\n",
       "75%       31.000000\n",
       "max      512.329200\n",
       "Name: Fare, dtype: float64"
      ]
     },
     "execution_count": 396,
     "metadata": {},
     "output_type": "execute_result"
    }
   ],
   "source": [
    "titanic_df['Fare'].describe()"
   ]
  },
  {
   "cell_type": "markdown",
   "metadata": {},
   "source": [
    "checking Cabin parameter:"
   ]
  },
  {
   "cell_type": "code",
   "execution_count": 397,
   "metadata": {
    "scrolled": true
   },
   "outputs": [
    {
     "data": {
      "text/plain": [
       "['E36',\n",
       " 'D17',\n",
       " 'D50',\n",
       " 'E77',\n",
       " 'C30',\n",
       " 'D56',\n",
       " 'C32',\n",
       " 'G6',\n",
       " 'B50',\n",
       " 'C62 C64',\n",
       " 'D',\n",
       " 'B102',\n",
       " 'B101',\n",
       " 'E68',\n",
       " 'F33',\n",
       " 'T',\n",
       " 'F38',\n",
       " 'A24',\n",
       " 'E63',\n",
       " 'E67']"
      ]
     },
     "execution_count": 397,
     "metadata": {},
     "output_type": "execute_result"
    }
   ],
   "source": [
    "titanic_df.groupby('Cabin').groups.keys()[:20]"
   ]
  },
  {
   "cell_type": "markdown",
   "metadata": {},
   "source": [
    "**_WARNING_**: some passengers have several cabins"
   ]
  },
  {
   "cell_type": "markdown",
   "metadata": {},
   "source": [
    "<a id='cleaning'></a>\n",
    "## Data cleaning\n",
    "---"
   ]
  },
  {
   "cell_type": "markdown",
   "metadata": {},
   "source": [
    "The parameter \"Cabin\" seems not easy to handle, would be great to convert it to the number of cabins linked to a single given passenger, and the deck number where the cabins stand"
   ]
  },
  {
   "cell_type": "markdown",
   "metadata": {},
   "source": [
    "Let's build some functions that convert the cabin parameter into new parameters 'ncabins' and 'deck'\n",
    "accepts only cabin names with pattern \"one letter + several digits\""
   ]
  },
  {
   "cell_type": "code",
   "execution_count": 398,
   "metadata": {
    "collapsed": true
   },
   "outputs": [],
   "source": [
    "# check that cabin description is exploitable, with pattern B25, Z3 or T\n",
    "def is_cabin(cabin_str):\n",
    "    '''checks that input string matches some specific pattern'''\n",
    "    # at least one letter, 0 or N numbers\n",
    "    if re.match(r'[aA-zZ]{1}[0-9]*', cabin_str.strip()):\n",
    "        return True\n",
    "    else:\n",
    "        return False\n",
    "\n",
    "# extract list of strings inside cabin_field\n",
    "def extract_cabin_list(cabin_field):\n",
    "    '''lists cabins'''\n",
    "    if isinstance(cabin_field, str):\n",
    "        candidate_cabins = re.split(r'[ ,;-]', cabin_field)\n",
    "        cabin_list = list(filter(is_cabin, candidate_cabins))\n",
    "        return cabin_list\n",
    "    else:\n",
    "        return list()\n",
    "    \n",
    "def count_cabins(cabin_field):\n",
    "    '''counts cabins'''\n",
    "    cabin_list = extract_cabin_list(cabin_field)\n",
    "    return len(cabin_list)\n",
    "\n",
    "def extract_deck(cabin_field):\n",
    "    '''get deck level of cabin input'''\n",
    "    cabin_list = extract_cabin_list(cabin_field)\n",
    "    deck_level = np.nan\n",
    "    for cabin in cabin_list:\n",
    "        if re.match(r'[aA-zZ]{1}[0-9]*', cabin.strip()):\n",
    "            # overwriting deck value if available (assuming that cabins share the same deck)\n",
    "            deck_letter = re.sub(r'([aA-zZ]{1})[0-9]*', r'\\1', cabin.strip())\n",
    "            # converting 'A' to 0, 'B' to 1, etc.\n",
    "            deck_level = int(ord(deck_letter) - 65)\n",
    "    return deck_level"
   ]
  },
  {
   "cell_type": "markdown",
   "metadata": {},
   "source": [
    "testing the function:"
   ]
  },
  {
   "cell_type": "code",
   "execution_count": 399,
   "metadata": {},
   "outputs": [
    {
     "name": "stdout",
     "output_type": "stream",
     "text": [
      "3\n",
      "0 2\n"
     ]
    }
   ],
   "source": [
    "print count_cabins('A13 b456, Z5')\n",
    "print extract_deck('A1 A2, A3'), extract_deck('C23'), "
   ]
  },
  {
   "cell_type": "markdown",
   "metadata": {},
   "source": [
    "Applying this convert function to the column \"Cabin\" and create the new columns \"nbCabins\" and \"deck\""
   ]
  },
  {
   "cell_type": "code",
   "execution_count": 400,
   "metadata": {
    "collapsed": true
   },
   "outputs": [],
   "source": [
    "titanic_df['nbCabins'] = titanic_df['Cabin'].apply(count_cabins)\n",
    "titanic_df['deck']     = titanic_df['Cabin'].apply(extract_deck)"
   ]
  },
  {
   "cell_type": "markdown",
   "metadata": {},
   "source": [
    "checking the passenger with max number of cabins"
   ]
  },
  {
   "cell_type": "code",
   "execution_count": 401,
   "metadata": {},
   "outputs": [
    {
     "name": "stdout",
     "output_type": "stream",
     "text": [
      "4\n",
      "B57 B59 B63 B66\n"
     ]
    }
   ],
   "source": [
    "print titanic_df['nbCabins'].max()\n",
    "print titanic_df['Cabin'].iloc[titanic_df['nbCabins'].argmax()]"
   ]
  },
  {
   "cell_type": "markdown",
   "metadata": {},
   "source": [
    "let's have a look on raw statistics on the dataset:"
   ]
  },
  {
   "cell_type": "code",
   "execution_count": 402,
   "metadata": {},
   "outputs": [
    {
     "data": {
      "text/html": [
       "<div>\n",
       "<style>\n",
       "    .dataframe thead tr:only-child th {\n",
       "        text-align: right;\n",
       "    }\n",
       "\n",
       "    .dataframe thead th {\n",
       "        text-align: left;\n",
       "    }\n",
       "\n",
       "    .dataframe tbody tr th {\n",
       "        vertical-align: top;\n",
       "    }\n",
       "</style>\n",
       "<table border=\"1\" class=\"dataframe\">\n",
       "  <thead>\n",
       "    <tr style=\"text-align: right;\">\n",
       "      <th></th>\n",
       "      <th>PassengerId</th>\n",
       "      <th>Survived</th>\n",
       "      <th>Pclass</th>\n",
       "      <th>Age</th>\n",
       "      <th>SibSp</th>\n",
       "      <th>Parch</th>\n",
       "      <th>Fare</th>\n",
       "      <th>nbCabins</th>\n",
       "      <th>deck</th>\n",
       "    </tr>\n",
       "  </thead>\n",
       "  <tbody>\n",
       "    <tr>\n",
       "      <th>count</th>\n",
       "      <td>891.000000</td>\n",
       "      <td>891.000000</td>\n",
       "      <td>891.000000</td>\n",
       "      <td>714.000000</td>\n",
       "      <td>891.000000</td>\n",
       "      <td>891.000000</td>\n",
       "      <td>891.000000</td>\n",
       "      <td>891.000000</td>\n",
       "      <td>204.000000</td>\n",
       "    </tr>\n",
       "    <tr>\n",
       "      <th>mean</th>\n",
       "      <td>446.000000</td>\n",
       "      <td>0.383838</td>\n",
       "      <td>2.308642</td>\n",
       "      <td>29.699118</td>\n",
       "      <td>0.523008</td>\n",
       "      <td>0.381594</td>\n",
       "      <td>32.204208</td>\n",
       "      <td>0.267116</td>\n",
       "      <td>2.460784</td>\n",
       "    </tr>\n",
       "    <tr>\n",
       "      <th>std</th>\n",
       "      <td>257.353842</td>\n",
       "      <td>0.486592</td>\n",
       "      <td>0.836071</td>\n",
       "      <td>14.526497</td>\n",
       "      <td>1.102743</td>\n",
       "      <td>0.806057</td>\n",
       "      <td>49.693429</td>\n",
       "      <td>0.547134</td>\n",
       "      <td>1.871074</td>\n",
       "    </tr>\n",
       "    <tr>\n",
       "      <th>min</th>\n",
       "      <td>1.000000</td>\n",
       "      <td>0.000000</td>\n",
       "      <td>1.000000</td>\n",
       "      <td>0.420000</td>\n",
       "      <td>0.000000</td>\n",
       "      <td>0.000000</td>\n",
       "      <td>0.000000</td>\n",
       "      <td>0.000000</td>\n",
       "      <td>0.000000</td>\n",
       "    </tr>\n",
       "    <tr>\n",
       "      <th>25%</th>\n",
       "      <td>223.500000</td>\n",
       "      <td>0.000000</td>\n",
       "      <td>2.000000</td>\n",
       "      <td>20.125000</td>\n",
       "      <td>0.000000</td>\n",
       "      <td>0.000000</td>\n",
       "      <td>7.910400</td>\n",
       "      <td>0.000000</td>\n",
       "      <td>1.000000</td>\n",
       "    </tr>\n",
       "    <tr>\n",
       "      <th>50%</th>\n",
       "      <td>446.000000</td>\n",
       "      <td>0.000000</td>\n",
       "      <td>3.000000</td>\n",
       "      <td>28.000000</td>\n",
       "      <td>0.000000</td>\n",
       "      <td>0.000000</td>\n",
       "      <td>14.454200</td>\n",
       "      <td>0.000000</td>\n",
       "      <td>2.000000</td>\n",
       "    </tr>\n",
       "    <tr>\n",
       "      <th>75%</th>\n",
       "      <td>668.500000</td>\n",
       "      <td>1.000000</td>\n",
       "      <td>3.000000</td>\n",
       "      <td>38.000000</td>\n",
       "      <td>1.000000</td>\n",
       "      <td>0.000000</td>\n",
       "      <td>31.000000</td>\n",
       "      <td>0.000000</td>\n",
       "      <td>3.000000</td>\n",
       "    </tr>\n",
       "    <tr>\n",
       "      <th>max</th>\n",
       "      <td>891.000000</td>\n",
       "      <td>1.000000</td>\n",
       "      <td>3.000000</td>\n",
       "      <td>80.000000</td>\n",
       "      <td>8.000000</td>\n",
       "      <td>6.000000</td>\n",
       "      <td>512.329200</td>\n",
       "      <td>4.000000</td>\n",
       "      <td>19.000000</td>\n",
       "    </tr>\n",
       "  </tbody>\n",
       "</table>\n",
       "</div>"
      ],
      "text/plain": [
       "       PassengerId    Survived      Pclass         Age       SibSp  \\\n",
       "count   891.000000  891.000000  891.000000  714.000000  891.000000   \n",
       "mean    446.000000    0.383838    2.308642   29.699118    0.523008   \n",
       "std     257.353842    0.486592    0.836071   14.526497    1.102743   \n",
       "min       1.000000    0.000000    1.000000    0.420000    0.000000   \n",
       "25%     223.500000    0.000000    2.000000   20.125000    0.000000   \n",
       "50%     446.000000    0.000000    3.000000   28.000000    0.000000   \n",
       "75%     668.500000    1.000000    3.000000   38.000000    1.000000   \n",
       "max     891.000000    1.000000    3.000000   80.000000    8.000000   \n",
       "\n",
       "            Parch        Fare    nbCabins        deck  \n",
       "count  891.000000  891.000000  891.000000  204.000000  \n",
       "mean     0.381594   32.204208    0.267116    2.460784  \n",
       "std      0.806057   49.693429    0.547134    1.871074  \n",
       "min      0.000000    0.000000    0.000000    0.000000  \n",
       "25%      0.000000    7.910400    0.000000    1.000000  \n",
       "50%      0.000000   14.454200    0.000000    2.000000  \n",
       "75%      0.000000   31.000000    0.000000    3.000000  \n",
       "max      6.000000  512.329200    4.000000   19.000000  "
      ]
     },
     "execution_count": 402,
     "metadata": {},
     "output_type": "execute_result"
    }
   ],
   "source": [
    "titanic_df.describe()"
   ]
  },
  {
   "cell_type": "markdown",
   "metadata": {},
   "source": [
    "The statistics \"count\" seems a convenient way to detect the NaN values, since we concluded previously that only 714 passengers had their age collected in the dataset. Let's see the other columns:"
   ]
  },
  {
   "cell_type": "code",
   "execution_count": 403,
   "metadata": {},
   "outputs": [
    {
     "data": {
      "text/plain": [
       "PassengerId    891\n",
       "Survived       891\n",
       "Pclass         891\n",
       "Name           891\n",
       "Sex            891\n",
       "Age            714\n",
       "SibSp          891\n",
       "Parch          891\n",
       "Ticket         891\n",
       "Fare           891\n",
       "Cabin          204\n",
       "Embarked       889\n",
       "nbCabins       891\n",
       "deck           204\n",
       "dtype: int64"
      ]
     },
     "execution_count": 403,
     "metadata": {},
     "output_type": "execute_result"
    }
   ],
   "source": [
    "titanic_df.count()"
   ]
  },
  {
   "cell_type": "markdown",
   "metadata": {},
   "source": [
    "Only three columns deviate from number of passengers (or have missing values): Age, Cabin, Embarked. The two first have already been analyzed, let's focus on Embarked for which 2 values seem missing:"
   ]
  },
  {
   "cell_type": "code",
   "execution_count": 404,
   "metadata": {},
   "outputs": [
    {
     "data": {
      "text/plain": [
       "['Q', 'C', 'S']"
      ]
     },
     "execution_count": 404,
     "metadata": {},
     "output_type": "execute_result"
    }
   ],
   "source": [
    "titanic_df.groupby('Embarked').groups.keys()"
   ]
  },
  {
   "cell_type": "markdown",
   "metadata": {},
   "source": [
    "The values found within dataset matches with the description in kaggle website: \tC = Cherbourg, Q = Queenstown, S = Southampton"
   ]
  },
  {
   "cell_type": "code",
   "execution_count": 405,
   "metadata": {},
   "outputs": [
    {
     "data": {
      "text/html": [
       "<div>\n",
       "<style>\n",
       "    .dataframe thead tr:only-child th {\n",
       "        text-align: right;\n",
       "    }\n",
       "\n",
       "    .dataframe thead th {\n",
       "        text-align: left;\n",
       "    }\n",
       "\n",
       "    .dataframe tbody tr th {\n",
       "        vertical-align: top;\n",
       "    }\n",
       "</style>\n",
       "<table border=\"1\" class=\"dataframe\">\n",
       "  <thead>\n",
       "    <tr style=\"text-align: right;\">\n",
       "      <th></th>\n",
       "      <th>PassengerId</th>\n",
       "      <th>Survived</th>\n",
       "      <th>Pclass</th>\n",
       "      <th>Name</th>\n",
       "      <th>Sex</th>\n",
       "      <th>Age</th>\n",
       "      <th>SibSp</th>\n",
       "      <th>Parch</th>\n",
       "      <th>Ticket</th>\n",
       "      <th>Fare</th>\n",
       "      <th>Cabin</th>\n",
       "      <th>Embarked</th>\n",
       "      <th>nbCabins</th>\n",
       "      <th>deck</th>\n",
       "    </tr>\n",
       "  </thead>\n",
       "  <tbody>\n",
       "    <tr>\n",
       "      <th>61</th>\n",
       "      <td>62</td>\n",
       "      <td>1</td>\n",
       "      <td>1</td>\n",
       "      <td>Icard, Miss. Amelie</td>\n",
       "      <td>female</td>\n",
       "      <td>38.0</td>\n",
       "      <td>0</td>\n",
       "      <td>0</td>\n",
       "      <td>113572</td>\n",
       "      <td>80.0</td>\n",
       "      <td>B28</td>\n",
       "      <td>NaN</td>\n",
       "      <td>1</td>\n",
       "      <td>1.0</td>\n",
       "    </tr>\n",
       "    <tr>\n",
       "      <th>829</th>\n",
       "      <td>830</td>\n",
       "      <td>1</td>\n",
       "      <td>1</td>\n",
       "      <td>Stone, Mrs. George Nelson (Martha Evelyn)</td>\n",
       "      <td>female</td>\n",
       "      <td>62.0</td>\n",
       "      <td>0</td>\n",
       "      <td>0</td>\n",
       "      <td>113572</td>\n",
       "      <td>80.0</td>\n",
       "      <td>B28</td>\n",
       "      <td>NaN</td>\n",
       "      <td>1</td>\n",
       "      <td>1.0</td>\n",
       "    </tr>\n",
       "  </tbody>\n",
       "</table>\n",
       "</div>"
      ],
      "text/plain": [
       "     PassengerId  Survived  Pclass                                       Name  \\\n",
       "61            62         1       1                        Icard, Miss. Amelie   \n",
       "829          830         1       1  Stone, Mrs. George Nelson (Martha Evelyn)   \n",
       "\n",
       "        Sex   Age  SibSp  Parch  Ticket  Fare Cabin Embarked  nbCabins  deck  \n",
       "61   female  38.0      0      0  113572  80.0   B28      NaN         1   1.0  \n",
       "829  female  62.0      0      0  113572  80.0   B28      NaN         1   1.0  "
      ]
     },
     "execution_count": 405,
     "metadata": {},
     "output_type": "execute_result"
    }
   ],
   "source": [
    "missing_bools = True ^ ((titanic_df['Embarked'] == 'Q') | (titanic_df['Embarked'] == 'C') | (titanic_df['Embarked'] == 'S'))\n",
    "titanic_df[missing_bools]"
   ]
  },
  {
   "cell_type": "markdown",
   "metadata": {},
   "source": [
    "Once again, the missing values are NaN, corresponding to passengers who booked the same cabin. Since both passengers survived, let's assume that they simply did not embark on the Titanic, lucky guys! To make it fun, let's try later to predict their chance to survive if they could embark.<li><a href=\"#prediction\">(link)</a></li>"
   ]
  },
  {
   "cell_type": "markdown",
   "metadata": {},
   "source": [
    "### The dataset seems clean enough to start exploration!"
   ]
  },
  {
   "cell_type": "markdown",
   "metadata": {},
   "source": [
    "<a id='exploration'></a>\n",
    "## Data exploration\n",
    "---"
   ]
  },
  {
   "cell_type": "markdown",
   "metadata": {},
   "source": [
    "Let's try to refine and answer some of the questions raised at the beginning of the project:"
   ]
  },
  {
   "cell_type": "markdown",
   "metadata": {},
   "source": [
    "- among the recorded passengers, how many survived?\n",
    "- which country was the most affected?\n",
    "- is there a category of passenger more represented in survivors population?\n",
    "- in other terms, are there some parameters acting on survival chances? such as deck level?\n",
    "- what was the price of a Titanic ticket depending of the departure place and the cabin class level?\n",
    "- is the location of the cabin within the Titanic a driving factor?\n",
    "- what can we extract from social conditions (age, family, budget...)"
   ]
  },
  {
   "cell_type": "markdown",
   "metadata": {},
   "source": [
    "### survival rate\n",
    "---"
   ]
  },
  {
   "cell_type": "markdown",
   "metadata": {},
   "source": [
    "First obvious question: how many people did survive?"
   ]
  },
  {
   "cell_type": "code",
   "execution_count": 406,
   "metadata": {},
   "outputs": [
    {
     "name": "stdout",
     "output_type": "stream",
     "text": [
      "342 0.383838383838\n"
     ]
    }
   ],
   "source": [
    "print titanic_df['Survived'].sum(), titanic_df['Survived'].mean()"
   ]
  },
  {
   "cell_type": "markdown",
   "metadata": {},
   "source": [
    "342 of 891 passengers were rescued, which gives a rate of only 38% !"
   ]
  },
  {
   "cell_type": "markdown",
   "metadata": {},
   "source": [
    "### country\n",
    "---"
   ]
  },
  {
   "cell_type": "code",
   "execution_count": 407,
   "metadata": {},
   "outputs": [
    {
     "data": {
      "text/plain": [
       "Embarked\n",
       "C    168\n",
       "Q     77\n",
       "S    644\n",
       "Name: PassengerId, dtype: int64"
      ]
     },
     "execution_count": 407,
     "metadata": {},
     "output_type": "execute_result"
    }
   ],
   "source": [
    "titanic_df.groupby('Embarked')['PassengerId'].count()"
   ]
  },
  {
   "cell_type": "markdown",
   "metadata": {},
   "source": [
    "The distribution over counties of boarding is not homogeneous at all, is it the same for survival rate? Let's answer with a graph:"
   ]
  },
  {
   "cell_type": "code",
   "execution_count": 408,
   "metadata": {},
   "outputs": [
    {
     "data": {
      "image/png": "[encoded data removed]",
      "text/plain": [
       "<matplotlib.figure.Figure at 0x15608240>"
      ]
     },
     "metadata": {},
     "output_type": "display_data"
    }
   ],
   "source": [
    "by_country_survived = titanic_df[titanic_df['Survived']==1].groupby('Embarked')['PassengerId'].count()\n",
    "by_country_deceased = titanic_df[titanic_df['Survived']==0].groupby('Embarked')['PassengerId'].count()\n",
    "plot_df = pd.concat([by_country_survived, by_country_deceased], axis=1)\n",
    "plot_df.columns=['Survived', 'Deceased']\n",
    "ax = plot_df.plot.bar(stacked=True, rot=0)\n",
    "ax.set_xticklabels(('Cherbourg','Queenstown','Southampton'))\n",
    "ax.set_xlabel('')\n",
    "ax.set_ylabel('Passengers')\n",
    "t = ax.set_title('Passengers distribution over boarding harbors')"
   ]
  },
  {
   "cell_type": "markdown",
   "metadata": {},
   "source": [
    "The survival rate seem unequal pending the country of boarding!"
   ]
  },
  {
   "cell_type": "markdown",
   "metadata": {},
   "source": [
    "### cabin fare\n",
    "---"
   ]
  },
  {
   "cell_type": "markdown",
   "metadata": {},
   "source": [
    "What was the price of a Titanic ticket depending of the departure place and the cabin class level?\n",
    "Since a given passenger may have paid several cabins, we should first compute the price per cabin"
   ]
  },
  {
   "cell_type": "code",
   "execution_count": 409,
   "metadata": {
    "collapsed": true
   },
   "outputs": [],
   "source": [
    "titanic_df['cabinFare'] = titanic_df['Fare'].div(titanic_df['nbCabins'])\n",
    "# division by zero cabins leads to infinite value, replacing by NaN\n",
    "titanic_df['cabinFare'].replace(np.inf, np.nan, inplace=True)"
   ]
  },
  {
   "cell_type": "code",
   "execution_count": 410,
   "metadata": {},
   "outputs": [
    {
     "data": {
      "text/plain": [
       "count    204.000000\n",
       "mean      64.561486\n",
       "std       54.980588\n",
       "min        0.000000\n",
       "25%       29.453125\n",
       "50%       54.050000\n",
       "75%       83.158300\n",
       "max      512.329200\n",
       "Name: cabinFare, dtype: float64"
      ]
     },
     "execution_count": 410,
     "metadata": {},
     "output_type": "execute_result"
    }
   ],
   "source": [
    "titanic_df['cabinFare'].describe()"
   ]
  },
  {
   "cell_type": "markdown",
   "metadata": {},
   "source": [
    "Min value seems a bit strange, were some passengers with cabins invited by the Titanic company? Or are they from the crew?"
   ]
  },
  {
   "cell_type": "code",
   "execution_count": 441,
   "metadata": {},
   "outputs": [
    {
     "data": {
      "text/html": [
       "<div>\n",
       "<style>\n",
       "    .dataframe thead tr:only-child th {\n",
       "        text-align: right;\n",
       "    }\n",
       "\n",
       "    .dataframe thead th {\n",
       "        text-align: left;\n",
       "    }\n",
       "\n",
       "    .dataframe tbody tr th {\n",
       "        vertical-align: top;\n",
       "    }\n",
       "</style>\n",
       "<table border=\"1\" class=\"dataframe\">\n",
       "  <thead>\n",
       "    <tr style=\"text-align: right;\">\n",
       "      <th></th>\n",
       "      <th>PassengerId</th>\n",
       "      <th>Survived</th>\n",
       "      <th>Pclass</th>\n",
       "      <th>Name</th>\n",
       "      <th>Sex</th>\n",
       "      <th>Age</th>\n",
       "      <th>SibSp</th>\n",
       "      <th>Parch</th>\n",
       "      <th>Ticket</th>\n",
       "      <th>Fare</th>\n",
       "      <th>Cabin</th>\n",
       "      <th>Embarked</th>\n",
       "      <th>nbCabins</th>\n",
       "      <th>deck</th>\n",
       "      <th>cabinFare</th>\n",
       "      <th>ageInterval</th>\n",
       "    </tr>\n",
       "  </thead>\n",
       "  <tbody>\n",
       "    <tr>\n",
       "      <th>263</th>\n",
       "      <td>264</td>\n",
       "      <td>0</td>\n",
       "      <td>1</td>\n",
       "      <td>Harrison, Mr. William</td>\n",
       "      <td>male</td>\n",
       "      <td>40.0</td>\n",
       "      <td>0</td>\n",
       "      <td>0</td>\n",
       "      <td>112059</td>\n",
       "      <td>0.0</td>\n",
       "      <td>B94</td>\n",
       "      <td>S</td>\n",
       "      <td>1</td>\n",
       "      <td>1.0</td>\n",
       "      <td>0.0</td>\n",
       "      <td>adult</td>\n",
       "    </tr>\n",
       "    <tr>\n",
       "      <th>806</th>\n",
       "      <td>807</td>\n",
       "      <td>0</td>\n",
       "      <td>1</td>\n",
       "      <td>Andrews, Mr. Thomas Jr</td>\n",
       "      <td>male</td>\n",
       "      <td>39.0</td>\n",
       "      <td>0</td>\n",
       "      <td>0</td>\n",
       "      <td>112050</td>\n",
       "      <td>0.0</td>\n",
       "      <td>A36</td>\n",
       "      <td>S</td>\n",
       "      <td>1</td>\n",
       "      <td>0.0</td>\n",
       "      <td>0.0</td>\n",
       "      <td>adult</td>\n",
       "    </tr>\n",
       "    <tr>\n",
       "      <th>815</th>\n",
       "      <td>816</td>\n",
       "      <td>0</td>\n",
       "      <td>1</td>\n",
       "      <td>Fry, Mr. Richard</td>\n",
       "      <td>male</td>\n",
       "      <td>NaN</td>\n",
       "      <td>0</td>\n",
       "      <td>0</td>\n",
       "      <td>112058</td>\n",
       "      <td>0.0</td>\n",
       "      <td>B102</td>\n",
       "      <td>S</td>\n",
       "      <td>1</td>\n",
       "      <td>1.0</td>\n",
       "      <td>0.0</td>\n",
       "      <td>NaN</td>\n",
       "    </tr>\n",
       "  </tbody>\n",
       "</table>\n",
       "</div>"
      ],
      "text/plain": [
       "     PassengerId  Survived  Pclass                    Name   Sex   Age  SibSp  \\\n",
       "263          264         0       1   Harrison, Mr. William  male  40.0      0   \n",
       "806          807         0       1  Andrews, Mr. Thomas Jr  male  39.0      0   \n",
       "815          816         0       1        Fry, Mr. Richard  male   NaN      0   \n",
       "\n",
       "     Parch  Ticket  Fare Cabin Embarked  nbCabins  deck  cabinFare ageInterval  \n",
       "263      0  112059   0.0   B94        S         1   1.0        0.0       adult  \n",
       "806      0  112050   0.0   A36        S         1   0.0        0.0       adult  \n",
       "815      0  112058   0.0  B102        S         1   1.0        0.0         NaN  "
      ]
     },
     "execution_count": 441,
     "metadata": {},
     "output_type": "execute_result"
    }
   ],
   "source": [
    "titanic_df[(titanic_df['Fare']==0) & (titanic_df['cabinFare']==0)]"
   ]
  },
  {
   "cell_type": "markdown",
   "metadata": {},
   "source": [
    "Three people did not pay their ticket! But in the end this was a poisoned gift since none of the three did survive...\n",
    "Now let's focus on paying passengers"
   ]
  },
  {
   "cell_type": "code",
   "execution_count": 412,
   "metadata": {
    "scrolled": true
   },
   "outputs": [
    {
     "name": "stdout",
     "output_type": "stream",
     "text": [
      "201\n"
     ]
    },
    {
     "data": {
      "text/html": [
       "<div>\n",
       "<style>\n",
       "    .dataframe thead tr:only-child th {\n",
       "        text-align: right;\n",
       "    }\n",
       "\n",
       "    .dataframe thead th {\n",
       "        text-align: left;\n",
       "    }\n",
       "\n",
       "    .dataframe tbody tr th {\n",
       "        vertical-align: top;\n",
       "    }\n",
       "</style>\n",
       "<table border=\"1\" class=\"dataframe\">\n",
       "  <thead>\n",
       "    <tr style=\"text-align: right;\">\n",
       "      <th></th>\n",
       "      <th>PassengerId</th>\n",
       "      <th>Survived</th>\n",
       "      <th>Pclass</th>\n",
       "      <th>Name</th>\n",
       "      <th>Sex</th>\n",
       "      <th>Age</th>\n",
       "      <th>SibSp</th>\n",
       "      <th>Parch</th>\n",
       "      <th>Ticket</th>\n",
       "      <th>Fare</th>\n",
       "      <th>Cabin</th>\n",
       "      <th>Embarked</th>\n",
       "      <th>nbCabins</th>\n",
       "      <th>deck</th>\n",
       "      <th>cabinFare</th>\n",
       "    </tr>\n",
       "  </thead>\n",
       "  <tbody>\n",
       "    <tr>\n",
       "      <th>1</th>\n",
       "      <td>2</td>\n",
       "      <td>1</td>\n",
       "      <td>1</td>\n",
       "      <td>Cumings, Mrs. John Bradley (Florence Briggs Th...</td>\n",
       "      <td>female</td>\n",
       "      <td>38.0</td>\n",
       "      <td>1</td>\n",
       "      <td>0</td>\n",
       "      <td>PC 17599</td>\n",
       "      <td>71.2833</td>\n",
       "      <td>C85</td>\n",
       "      <td>C</td>\n",
       "      <td>1</td>\n",
       "      <td>2.0</td>\n",
       "      <td>71.2833</td>\n",
       "    </tr>\n",
       "    <tr>\n",
       "      <th>3</th>\n",
       "      <td>4</td>\n",
       "      <td>1</td>\n",
       "      <td>1</td>\n",
       "      <td>Futrelle, Mrs. Jacques Heath (Lily May Peel)</td>\n",
       "      <td>female</td>\n",
       "      <td>35.0</td>\n",
       "      <td>1</td>\n",
       "      <td>0</td>\n",
       "      <td>113803</td>\n",
       "      <td>53.1000</td>\n",
       "      <td>C123</td>\n",
       "      <td>S</td>\n",
       "      <td>1</td>\n",
       "      <td>2.0</td>\n",
       "      <td>53.1000</td>\n",
       "    </tr>\n",
       "    <tr>\n",
       "      <th>6</th>\n",
       "      <td>7</td>\n",
       "      <td>0</td>\n",
       "      <td>1</td>\n",
       "      <td>McCarthy, Mr. Timothy J</td>\n",
       "      <td>male</td>\n",
       "      <td>54.0</td>\n",
       "      <td>0</td>\n",
       "      <td>0</td>\n",
       "      <td>17463</td>\n",
       "      <td>51.8625</td>\n",
       "      <td>E46</td>\n",
       "      <td>S</td>\n",
       "      <td>1</td>\n",
       "      <td>4.0</td>\n",
       "      <td>51.8625</td>\n",
       "    </tr>\n",
       "    <tr>\n",
       "      <th>10</th>\n",
       "      <td>11</td>\n",
       "      <td>1</td>\n",
       "      <td>3</td>\n",
       "      <td>Sandstrom, Miss. Marguerite Rut</td>\n",
       "      <td>female</td>\n",
       "      <td>4.0</td>\n",
       "      <td>1</td>\n",
       "      <td>1</td>\n",
       "      <td>PP 9549</td>\n",
       "      <td>16.7000</td>\n",
       "      <td>G6</td>\n",
       "      <td>S</td>\n",
       "      <td>1</td>\n",
       "      <td>6.0</td>\n",
       "      <td>16.7000</td>\n",
       "    </tr>\n",
       "    <tr>\n",
       "      <th>11</th>\n",
       "      <td>12</td>\n",
       "      <td>1</td>\n",
       "      <td>1</td>\n",
       "      <td>Bonnell, Miss. Elizabeth</td>\n",
       "      <td>female</td>\n",
       "      <td>58.0</td>\n",
       "      <td>0</td>\n",
       "      <td>0</td>\n",
       "      <td>113783</td>\n",
       "      <td>26.5500</td>\n",
       "      <td>C103</td>\n",
       "      <td>S</td>\n",
       "      <td>1</td>\n",
       "      <td>2.0</td>\n",
       "      <td>26.5500</td>\n",
       "    </tr>\n",
       "  </tbody>\n",
       "</table>\n",
       "</div>"
      ],
      "text/plain": [
       "    PassengerId  Survived  Pclass  \\\n",
       "1             2         1       1   \n",
       "3             4         1       1   \n",
       "6             7         0       1   \n",
       "10           11         1       3   \n",
       "11           12         1       1   \n",
       "\n",
       "                                                 Name     Sex   Age  SibSp  \\\n",
       "1   Cumings, Mrs. John Bradley (Florence Briggs Th...  female  38.0      1   \n",
       "3        Futrelle, Mrs. Jacques Heath (Lily May Peel)  female  35.0      1   \n",
       "6                             McCarthy, Mr. Timothy J    male  54.0      0   \n",
       "10                    Sandstrom, Miss. Marguerite Rut  female   4.0      1   \n",
       "11                           Bonnell, Miss. Elizabeth  female  58.0      0   \n",
       "\n",
       "    Parch    Ticket     Fare Cabin Embarked  nbCabins  deck  cabinFare  \n",
       "1       0  PC 17599  71.2833   C85        C         1   2.0    71.2833  \n",
       "3       0    113803  53.1000  C123        S         1   2.0    53.1000  \n",
       "6       0     17463  51.8625   E46        S         1   4.0    51.8625  \n",
       "10      1   PP 9549  16.7000    G6        S         1   6.0    16.7000  \n",
       "11      0    113783  26.5500  C103        S         1   2.0    26.5500  "
      ]
     },
     "execution_count": 412,
     "metadata": {},
     "output_type": "execute_result"
    }
   ],
   "source": [
    "paying_df = titanic_df[titanic_df['cabinFare'] > 0.]\n",
    "print paying_df.index.size\n",
    "paying_df.head()"
   ]
  },
  {
   "cell_type": "markdown",
   "metadata": {},
   "source": [
    "Let's analyze the population of 201 paying passengers"
   ]
  },
  {
   "cell_type": "markdown",
   "metadata": {},
   "source": [
    "Who is the passenger with the most expensive cabin?"
   ]
  },
  {
   "cell_type": "code",
   "execution_count": 413,
   "metadata": {},
   "outputs": [
    {
     "data": {
      "text/plain": [
       "PassengerId                       738\n",
       "Survived                            1\n",
       "Pclass                              1\n",
       "Name           Lesurer, Mr. Gustave J\n",
       "Sex                              male\n",
       "Age                                35\n",
       "SibSp                               0\n",
       "Parch                               0\n",
       "Ticket                       PC 17755\n",
       "Fare                          512.329\n",
       "Cabin                            B101\n",
       "Embarked                            C\n",
       "nbCabins                            1\n",
       "deck                                1\n",
       "cabinFare                     512.329\n",
       "Name: 737, dtype: object"
      ]
     },
     "execution_count": 413,
     "metadata": {},
     "output_type": "execute_result"
    }
   ],
   "source": [
    "paying_df.loc[paying_df['cabinFare'].argmax()]"
   ]
  },
  {
   "cell_type": "markdown",
   "metadata": {},
   "source": [
    "Gustave Lesurer was a french passenger who embarked in Cherbourg, travelled in a luxurious cabin... and survived. Let's then see if rich passengers were more numerous among survivors:"
   ]
  },
  {
   "cell_type": "code",
   "execution_count": 414,
   "metadata": {},
   "outputs": [
    {
     "data": {
      "text/html": [
       "<div>\n",
       "<style>\n",
       "    .dataframe thead tr:only-child th {\n",
       "        text-align: right;\n",
       "    }\n",
       "\n",
       "    .dataframe thead th {\n",
       "        text-align: left;\n",
       "    }\n",
       "\n",
       "    .dataframe tbody tr th {\n",
       "        vertical-align: top;\n",
       "    }\n",
       "</style>\n",
       "<table border=\"1\" class=\"dataframe\">\n",
       "  <thead>\n",
       "    <tr style=\"text-align: right;\">\n",
       "      <th></th>\n",
       "      <th>count</th>\n",
       "      <th>mean</th>\n",
       "      <th>std</th>\n",
       "      <th>min</th>\n",
       "      <th>25%</th>\n",
       "      <th>50%</th>\n",
       "      <th>75%</th>\n",
       "      <th>max</th>\n",
       "    </tr>\n",
       "    <tr>\n",
       "      <th>Survived</th>\n",
       "      <th></th>\n",
       "      <th></th>\n",
       "      <th></th>\n",
       "      <th></th>\n",
       "      <th></th>\n",
       "      <th></th>\n",
       "      <th></th>\n",
       "      <th></th>\n",
       "    </tr>\n",
       "  </thead>\n",
       "  <tbody>\n",
       "    <tr>\n",
       "      <th>0</th>\n",
       "      <td>65.0</td>\n",
       "      <td>55.101377</td>\n",
       "      <td>43.690786</td>\n",
       "      <td>1.666667</td>\n",
       "      <td>27.750</td>\n",
       "      <td>40.1250</td>\n",
       "      <td>77.2875</td>\n",
       "      <td>221.7792</td>\n",
       "    </tr>\n",
       "    <tr>\n",
       "      <th>1</th>\n",
       "      <td>136.0</td>\n",
       "      <td>70.507013</td>\n",
       "      <td>58.900030</td>\n",
       "      <td>8.050000</td>\n",
       "      <td>30.375</td>\n",
       "      <td>58.9896</td>\n",
       "      <td>86.5000</td>\n",
       "      <td>512.3292</td>\n",
       "    </tr>\n",
       "  </tbody>\n",
       "</table>\n",
       "</div>"
      ],
      "text/plain": [
       "          count       mean        std       min     25%      50%      75%  \\\n",
       "Survived                                                                    \n",
       "0          65.0  55.101377  43.690786  1.666667  27.750  40.1250  77.2875   \n",
       "1         136.0  70.507013  58.900030  8.050000  30.375  58.9896  86.5000   \n",
       "\n",
       "               max  \n",
       "Survived            \n",
       "0         221.7792  \n",
       "1         512.3292  "
      ]
     },
     "execution_count": 414,
     "metadata": {},
     "output_type": "execute_result"
    }
   ],
   "source": [
    "paying_df.groupby('Survived')['cabinFare'].describe()"
   ]
  },
  {
   "cell_type": "markdown",
   "metadata": {},
   "source": [
    "The cabin fare mean value of survivors is a bit higher than the one of deceased people, let's plot the cabin fare distribution of both populations"
   ]
  },
  {
   "cell_type": "code",
   "execution_count": 415,
   "metadata": {},
   "outputs": [
    {
     "data": {
      "image/png": "[encoded data removed]",
      "text/plain": [
       "<matplotlib.figure.Figure at 0xd4d2588>"
      ]
     },
     "metadata": {},
     "output_type": "display_data"
    }
   ],
   "source": [
    "paying_survivors = paying_df[paying_df['Survived']==1]\n",
    "paying_deceased = paying_df[paying_df['Survived']==0]\n",
    "labels = ('survivors', 'deceased')\n",
    "for serie, label in zip([paying_survivors['cabinFare'],paying_deceased['cabinFare']], labels):\n",
    "          serie.plot.hist(label=label, bins=np.arange(0,601,25), alpha=0.75,edgecolor='k')\n",
    "plt.xlabel('Cabin fare')\n",
    "plt.ylabel('Number of passengers')\n",
    "plt.title('Cabin fares distribution')\n",
    "l = plt.legend()\n"
   ]
  },
  {
   "cell_type": "markdown",
   "metadata": {},
   "source": [
    "Let's remove the outliers who paid much more than the other passengers, and verify these mean values.\n",
    "The third quartile is around 77\\$ whereas the maximum value is over 500\\$. Let's remove tickets above 200$"
   ]
  },
  {
   "cell_type": "code",
   "execution_count": 416,
   "metadata": {
    "collapsed": true
   },
   "outputs": [],
   "source": [
    "filtered_paying_survivors = paying_survivors[paying_survivors['cabinFare']<200]\n",
    "filtered_paying_deceased = paying_deceased[paying_deceased['cabinFare']<200]"
   ]
  },
  {
   "cell_type": "code",
   "execution_count": 417,
   "metadata": {},
   "outputs": [
    {
     "name": "stdout",
     "output_type": "stream",
     "text": [
      "63\n",
      "50\n"
     ]
    }
   ],
   "source": [
    "print ('%.0f' % filtered_paying_survivors['cabinFare'].mean())\n",
    "print ('%.0f' % filtered_paying_deceased['cabinFare'].mean())"
   ]
  },
  {
   "cell_type": "markdown",
   "metadata": {},
   "source": [
    "The mean cabin fare of survivors is still about 25% above the mean cabin fare of deceased people, therefore the price of the cabin seems to be some advantaging factor. At this stage, impossible to validate this statement since other factors may be coupled."
   ]
  },
  {
   "cell_type": "markdown",
   "metadata": {},
   "source": [
    "Let's check at least that the cabin fare, class level and deck level are well correlated, as expected."
   ]
  },
  {
   "cell_type": "code",
   "execution_count": 418,
   "metadata": {},
   "outputs": [
    {
     "data": {
      "text/html": [
       "<div>\n",
       "<style>\n",
       "    .dataframe thead tr:only-child th {\n",
       "        text-align: right;\n",
       "    }\n",
       "\n",
       "    .dataframe thead th {\n",
       "        text-align: left;\n",
       "    }\n",
       "\n",
       "    .dataframe tbody tr th {\n",
       "        vertical-align: top;\n",
       "    }\n",
       "</style>\n",
       "<table border=\"1\" class=\"dataframe\">\n",
       "  <thead>\n",
       "    <tr style=\"text-align: right;\">\n",
       "      <th></th>\n",
       "      <th>deck</th>\n",
       "      <th>cabinFare</th>\n",
       "    </tr>\n",
       "    <tr>\n",
       "      <th>Pclass</th>\n",
       "      <th></th>\n",
       "      <th></th>\n",
       "    </tr>\n",
       "  </thead>\n",
       "  <tbody>\n",
       "    <tr>\n",
       "      <th>1</th>\n",
       "      <td>2.107955</td>\n",
       "      <td>72.521576</td>\n",
       "    </tr>\n",
       "    <tr>\n",
       "      <th>2</th>\n",
       "      <td>4.250000</td>\n",
       "      <td>18.063544</td>\n",
       "    </tr>\n",
       "    <tr>\n",
       "      <th>3</th>\n",
       "      <td>5.250000</td>\n",
       "      <td>9.810762</td>\n",
       "    </tr>\n",
       "  </tbody>\n",
       "</table>\n",
       "</div>"
      ],
      "text/plain": [
       "            deck  cabinFare\n",
       "Pclass                     \n",
       "1       2.107955  72.521576\n",
       "2       4.250000  18.063544\n",
       "3       5.250000   9.810762"
      ]
     },
     "execution_count": 418,
     "metadata": {},
     "output_type": "execute_result"
    }
   ],
   "source": [
    "titanic_df.groupby('Pclass')['deck','cabinFare'].mean()"
   ]
  },
  {
   "cell_type": "markdown",
   "metadata": {},
   "source": [
    "Cabin fare, class and deck level seem correlated: the higher the level, the higher the deck, the higher fare. "
   ]
  },
  {
   "cell_type": "markdown",
   "metadata": {},
   "source": [
    "'Class' parameter or 'deck' are more convenient ways to extract chance to survive than \"cabin fare\" since data can be easily grouped by these fields which are of type integer. On top of that, extracting mean value of \"Survived\" field gives direct access to the survival rate of a passenger group since this parameter is a boolean (whose mean is a rate)"
   ]
  },
  {
   "cell_type": "markdown",
   "metadata": {},
   "source": [
    "### Survival rate vs. cabin class & deck level\n",
    "---"
   ]
  },
  {
   "cell_type": "markdown",
   "metadata": {},
   "source": [
    "We might assume that the deeper the deck the more difficult to evacuate the ship. Let's analyse deck level associated to cabin class parameters."
   ]
  },
  {
   "cell_type": "markdown",
   "metadata": {},
   "source": [
    "![title](img/titanic/titanic_decks.gif)\n",
    "<center>Titanic decks By Anonymous [Public domain]</center>"
   ]
  },
  {
   "cell_type": "markdown",
   "metadata": {},
   "source": [
    "Let's display the survival rate against class level and deck. 'Count' column gives the number of passengers and 'Mean' the survival rate:"
   ]
  },
  {
   "cell_type": "code",
   "execution_count": 419,
   "metadata": {},
   "outputs": [
    {
     "data": {
      "text/html": [
       "<div>\n",
       "<style>\n",
       "    .dataframe thead tr:only-child th {\n",
       "        text-align: right;\n",
       "    }\n",
       "\n",
       "    .dataframe thead th {\n",
       "        text-align: left;\n",
       "    }\n",
       "\n",
       "    .dataframe tbody tr th {\n",
       "        vertical-align: top;\n",
       "    }\n",
       "</style>\n",
       "<table border=\"1\" class=\"dataframe\">\n",
       "  <thead>\n",
       "    <tr style=\"text-align: right;\">\n",
       "      <th></th>\n",
       "      <th>count</th>\n",
       "      <th>mean</th>\n",
       "      <th>std</th>\n",
       "      <th>min</th>\n",
       "      <th>25%</th>\n",
       "      <th>50%</th>\n",
       "      <th>75%</th>\n",
       "      <th>max</th>\n",
       "    </tr>\n",
       "    <tr>\n",
       "      <th>Pclass</th>\n",
       "      <th></th>\n",
       "      <th></th>\n",
       "      <th></th>\n",
       "      <th></th>\n",
       "      <th></th>\n",
       "      <th></th>\n",
       "      <th></th>\n",
       "      <th></th>\n",
       "    </tr>\n",
       "  </thead>\n",
       "  <tbody>\n",
       "    <tr>\n",
       "      <th>1</th>\n",
       "      <td>216.0</td>\n",
       "      <td>0.629630</td>\n",
       "      <td>0.484026</td>\n",
       "      <td>0.0</td>\n",
       "      <td>0.0</td>\n",
       "      <td>1.0</td>\n",
       "      <td>1.0</td>\n",
       "      <td>1.0</td>\n",
       "    </tr>\n",
       "    <tr>\n",
       "      <th>2</th>\n",
       "      <td>184.0</td>\n",
       "      <td>0.472826</td>\n",
       "      <td>0.500623</td>\n",
       "      <td>0.0</td>\n",
       "      <td>0.0</td>\n",
       "      <td>0.0</td>\n",
       "      <td>1.0</td>\n",
       "      <td>1.0</td>\n",
       "    </tr>\n",
       "    <tr>\n",
       "      <th>3</th>\n",
       "      <td>491.0</td>\n",
       "      <td>0.242363</td>\n",
       "      <td>0.428949</td>\n",
       "      <td>0.0</td>\n",
       "      <td>0.0</td>\n",
       "      <td>0.0</td>\n",
       "      <td>0.0</td>\n",
       "      <td>1.0</td>\n",
       "    </tr>\n",
       "  </tbody>\n",
       "</table>\n",
       "</div>"
      ],
      "text/plain": [
       "        count      mean       std  min  25%  50%  75%  max\n",
       "Pclass                                                    \n",
       "1       216.0  0.629630  0.484026  0.0  0.0  1.0  1.0  1.0\n",
       "2       184.0  0.472826  0.500623  0.0  0.0  0.0  1.0  1.0\n",
       "3       491.0  0.242363  0.428949  0.0  0.0  0.0  0.0  1.0"
      ]
     },
     "execution_count": 419,
     "metadata": {},
     "output_type": "execute_result"
    }
   ],
   "source": [
    "titanic_df.groupby('Pclass')['Survived'].describe()"
   ]
  },
  {
   "cell_type": "code",
   "execution_count": 420,
   "metadata": {},
   "outputs": [
    {
     "data": {
      "text/html": [
       "<div>\n",
       "<style>\n",
       "    .dataframe thead tr:only-child th {\n",
       "        text-align: right;\n",
       "    }\n",
       "\n",
       "    .dataframe thead th {\n",
       "        text-align: left;\n",
       "    }\n",
       "\n",
       "    .dataframe tbody tr th {\n",
       "        vertical-align: top;\n",
       "    }\n",
       "</style>\n",
       "<table border=\"1\" class=\"dataframe\">\n",
       "  <thead>\n",
       "    <tr style=\"text-align: right;\">\n",
       "      <th></th>\n",
       "      <th>count</th>\n",
       "      <th>mean</th>\n",
       "      <th>std</th>\n",
       "      <th>min</th>\n",
       "      <th>25%</th>\n",
       "      <th>50%</th>\n",
       "      <th>75%</th>\n",
       "      <th>max</th>\n",
       "    </tr>\n",
       "    <tr>\n",
       "      <th>deck</th>\n",
       "      <th></th>\n",
       "      <th></th>\n",
       "      <th></th>\n",
       "      <th></th>\n",
       "      <th></th>\n",
       "      <th></th>\n",
       "      <th></th>\n",
       "      <th></th>\n",
       "    </tr>\n",
       "  </thead>\n",
       "  <tbody>\n",
       "    <tr>\n",
       "      <th>0.0</th>\n",
       "      <td>15.0</td>\n",
       "      <td>0.466667</td>\n",
       "      <td>0.516398</td>\n",
       "      <td>0.0</td>\n",
       "      <td>0.0</td>\n",
       "      <td>0.0</td>\n",
       "      <td>1.0</td>\n",
       "      <td>1.0</td>\n",
       "    </tr>\n",
       "    <tr>\n",
       "      <th>1.0</th>\n",
       "      <td>47.0</td>\n",
       "      <td>0.744681</td>\n",
       "      <td>0.440755</td>\n",
       "      <td>0.0</td>\n",
       "      <td>0.5</td>\n",
       "      <td>1.0</td>\n",
       "      <td>1.0</td>\n",
       "      <td>1.0</td>\n",
       "    </tr>\n",
       "    <tr>\n",
       "      <th>2.0</th>\n",
       "      <td>59.0</td>\n",
       "      <td>0.593220</td>\n",
       "      <td>0.495450</td>\n",
       "      <td>0.0</td>\n",
       "      <td>0.0</td>\n",
       "      <td>1.0</td>\n",
       "      <td>1.0</td>\n",
       "      <td>1.0</td>\n",
       "    </tr>\n",
       "    <tr>\n",
       "      <th>3.0</th>\n",
       "      <td>33.0</td>\n",
       "      <td>0.757576</td>\n",
       "      <td>0.435194</td>\n",
       "      <td>0.0</td>\n",
       "      <td>1.0</td>\n",
       "      <td>1.0</td>\n",
       "      <td>1.0</td>\n",
       "      <td>1.0</td>\n",
       "    </tr>\n",
       "    <tr>\n",
       "      <th>4.0</th>\n",
       "      <td>33.0</td>\n",
       "      <td>0.757576</td>\n",
       "      <td>0.435194</td>\n",
       "      <td>0.0</td>\n",
       "      <td>1.0</td>\n",
       "      <td>1.0</td>\n",
       "      <td>1.0</td>\n",
       "      <td>1.0</td>\n",
       "    </tr>\n",
       "    <tr>\n",
       "      <th>5.0</th>\n",
       "      <td>9.0</td>\n",
       "      <td>0.777778</td>\n",
       "      <td>0.440959</td>\n",
       "      <td>0.0</td>\n",
       "      <td>1.0</td>\n",
       "      <td>1.0</td>\n",
       "      <td>1.0</td>\n",
       "      <td>1.0</td>\n",
       "    </tr>\n",
       "    <tr>\n",
       "      <th>6.0</th>\n",
       "      <td>7.0</td>\n",
       "      <td>0.285714</td>\n",
       "      <td>0.487950</td>\n",
       "      <td>0.0</td>\n",
       "      <td>0.0</td>\n",
       "      <td>0.0</td>\n",
       "      <td>0.5</td>\n",
       "      <td>1.0</td>\n",
       "    </tr>\n",
       "    <tr>\n",
       "      <th>19.0</th>\n",
       "      <td>1.0</td>\n",
       "      <td>0.000000</td>\n",
       "      <td>NaN</td>\n",
       "      <td>0.0</td>\n",
       "      <td>0.0</td>\n",
       "      <td>0.0</td>\n",
       "      <td>0.0</td>\n",
       "      <td>0.0</td>\n",
       "    </tr>\n",
       "  </tbody>\n",
       "</table>\n",
       "</div>"
      ],
      "text/plain": [
       "      count      mean       std  min  25%  50%  75%  max\n",
       "deck                                                    \n",
       "0.0    15.0  0.466667  0.516398  0.0  0.0  0.0  1.0  1.0\n",
       "1.0    47.0  0.744681  0.440755  0.0  0.5  1.0  1.0  1.0\n",
       "2.0    59.0  0.593220  0.495450  0.0  0.0  1.0  1.0  1.0\n",
       "3.0    33.0  0.757576  0.435194  0.0  1.0  1.0  1.0  1.0\n",
       "4.0    33.0  0.757576  0.435194  0.0  1.0  1.0  1.0  1.0\n",
       "5.0     9.0  0.777778  0.440959  0.0  1.0  1.0  1.0  1.0\n",
       "6.0     7.0  0.285714  0.487950  0.0  0.0  0.0  0.5  1.0\n",
       "19.0    1.0  0.000000       NaN  0.0  0.0  0.0  0.0  0.0"
      ]
     },
     "execution_count": 420,
     "metadata": {},
     "output_type": "execute_result"
    }
   ],
   "source": [
    "titanic_df.groupby('deck')['Survived'].describe()"
   ]
  },
  {
   "cell_type": "markdown",
   "metadata": {},
   "source": [
    "For easier analysis, let's display these figures. We shall remove the deck level -19 which concerns a single passenger and seems not relevant in terms of boat location."
   ]
  },
  {
   "cell_type": "code",
   "execution_count": 421,
   "metadata": {},
   "outputs": [
    {
     "data": {
      "image/png": "[encoded data removed]",
      "text/plain": [
       "<matplotlib.figure.Figure at 0xda0ed30>"
      ]
     },
     "metadata": {},
     "output_type": "display_data"
    }
   ],
   "source": [
    "# first axis\n",
    "ax1 = plt.subplot(111)\n",
    "ax1.set_title('Survival rate against cabin (red) or deck (blue) levels')\n",
    "plt.xticks([1,2,3], ['1st class', '2d class', '3rd class'], rotation=45)\n",
    "ax1.plot(100*titanic_df.groupby('Pclass')['Survived'].mean(), marker='o', color='r', label='vs. cabin class')\n",
    "ax1.tick_params(axis='x', colors='red')\n",
    "# twin axis\n",
    "ax2 = ax1.twiny()\n",
    "ax2.plot(100*titanic_df.groupby('deck')['Survived'].mean(), marker='o', color='b', label='vs. deck level')\n",
    "ax2.set_xlim(-0.5,6.5)\n",
    "ax2.set_xticklabels(['#%d'%l for l in ax2.get_xticks()], y=0.85)\n",
    "ax2.tick_params(axis='x', colors='blue', direction='in')\n",
    "# shared y axis\n",
    "ax1.set_ylabel('survival rate (%)')\n",
    "t = ax1.set_ylim(0,99)"
   ]
  },
  {
   "cell_type": "markdown",
   "metadata": {
    "scrolled": true
   },
   "source": [
    "'deck' field does teach almost nothing, chances to survive only drop for the deck #6, for which the population is too small for relevant findings. On the contrary, grouping by 'Pclass' column shows significant decrease in 'Survived' mean value while going down the cabin classes. People from first class survived, in average, almost three times more than people from third class! Since the deck level seems not the cause for better survival rate, one may assume that people from first class simply had the priority for boarding on safety crafts... unless some other factors such as sex and gender played a role in the priority rules? Let's switch to these other parameters."
   ]
  },
  {
   "cell_type": "markdown",
   "metadata": {},
   "source": [
    "### Survival rate vs. gender & age\n",
    "---"
   ]
  },
  {
   "cell_type": "markdown",
   "metadata": {},
   "source": [
    "'gender' field takes only two values which gives a natural grouping feature. On the contrary the age is a continuous variable, which prevents from easy grouping unless moving to age intervals. Let's do it:"
   ]
  },
  {
   "cell_type": "code",
   "execution_count": 422,
   "metadata": {
    "collapsed": true
   },
   "outputs": [],
   "source": [
    "def to_age_interval(age):\n",
    "    '''associates age (as float) to age category (as string)'''\n",
    "    if age < 3: return 'baby'\n",
    "    elif age < 16: return 'child'\n",
    "    elif age < 50: return 'adult'\n",
    "    elif age >= 50: return 'senior'\n",
    "    else: return np.nan"
   ]
  },
  {
   "cell_type": "code",
   "execution_count": 423,
   "metadata": {
    "collapsed": true
   },
   "outputs": [],
   "source": [
    "titanic_df['ageInterval'] = titanic_df['Age'].apply(to_age_interval)"
   ]
  },
  {
   "cell_type": "markdown",
   "metadata": {},
   "source": [
    "Now let's group the dataset by age intervals and gender:"
   ]
  },
  {
   "cell_type": "code",
   "execution_count": 424,
   "metadata": {},
   "outputs": [
    {
     "data": {
      "text/html": [
       "<div>\n",
       "<style>\n",
       "    .dataframe thead tr:only-child th {\n",
       "        text-align: right;\n",
       "    }\n",
       "\n",
       "    .dataframe thead th {\n",
       "        text-align: left;\n",
       "    }\n",
       "\n",
       "    .dataframe tbody tr th {\n",
       "        vertical-align: top;\n",
       "    }\n",
       "</style>\n",
       "<table border=\"1\" class=\"dataframe\">\n",
       "  <thead>\n",
       "    <tr style=\"text-align: right;\">\n",
       "      <th></th>\n",
       "      <th></th>\n",
       "      <th>count</th>\n",
       "      <th>mean</th>\n",
       "      <th>std</th>\n",
       "      <th>min</th>\n",
       "      <th>25%</th>\n",
       "      <th>50%</th>\n",
       "      <th>75%</th>\n",
       "      <th>max</th>\n",
       "    </tr>\n",
       "    <tr>\n",
       "      <th>ageInterval</th>\n",
       "      <th>Sex</th>\n",
       "      <th></th>\n",
       "      <th></th>\n",
       "      <th></th>\n",
       "      <th></th>\n",
       "      <th></th>\n",
       "      <th></th>\n",
       "      <th></th>\n",
       "      <th></th>\n",
       "    </tr>\n",
       "  </thead>\n",
       "  <tbody>\n",
       "    <tr>\n",
       "      <th rowspan=\"2\" valign=\"top\">adult</th>\n",
       "      <th>female</th>\n",
       "      <td>196.0</td>\n",
       "      <td>0.760204</td>\n",
       "      <td>0.428052</td>\n",
       "      <td>0.0</td>\n",
       "      <td>1.0</td>\n",
       "      <td>1.0</td>\n",
       "      <td>1.0</td>\n",
       "      <td>1.0</td>\n",
       "    </tr>\n",
       "    <tr>\n",
       "      <th>male</th>\n",
       "      <td>361.0</td>\n",
       "      <td>0.180055</td>\n",
       "      <td>0.384767</td>\n",
       "      <td>0.0</td>\n",
       "      <td>0.0</td>\n",
       "      <td>0.0</td>\n",
       "      <td>0.0</td>\n",
       "      <td>1.0</td>\n",
       "    </tr>\n",
       "    <tr>\n",
       "      <th rowspan=\"2\" valign=\"top\">baby</th>\n",
       "      <th>female</th>\n",
       "      <td>10.0</td>\n",
       "      <td>0.600000</td>\n",
       "      <td>0.516398</td>\n",
       "      <td>0.0</td>\n",
       "      <td>0.0</td>\n",
       "      <td>1.0</td>\n",
       "      <td>1.0</td>\n",
       "      <td>1.0</td>\n",
       "    </tr>\n",
       "    <tr>\n",
       "      <th>male</th>\n",
       "      <td>14.0</td>\n",
       "      <td>0.642857</td>\n",
       "      <td>0.497245</td>\n",
       "      <td>0.0</td>\n",
       "      <td>0.0</td>\n",
       "      <td>1.0</td>\n",
       "      <td>1.0</td>\n",
       "      <td>1.0</td>\n",
       "    </tr>\n",
       "    <tr>\n",
       "      <th rowspan=\"2\" valign=\"top\">child</th>\n",
       "      <th>female</th>\n",
       "      <td>33.0</td>\n",
       "      <td>0.666667</td>\n",
       "      <td>0.478714</td>\n",
       "      <td>0.0</td>\n",
       "      <td>0.0</td>\n",
       "      <td>1.0</td>\n",
       "      <td>1.0</td>\n",
       "      <td>1.0</td>\n",
       "    </tr>\n",
       "    <tr>\n",
       "      <th>male</th>\n",
       "      <td>26.0</td>\n",
       "      <td>0.461538</td>\n",
       "      <td>0.508391</td>\n",
       "      <td>0.0</td>\n",
       "      <td>0.0</td>\n",
       "      <td>0.0</td>\n",
       "      <td>1.0</td>\n",
       "      <td>1.0</td>\n",
       "    </tr>\n",
       "    <tr>\n",
       "      <th rowspan=\"2\" valign=\"top\">senior</th>\n",
       "      <th>female</th>\n",
       "      <td>22.0</td>\n",
       "      <td>0.909091</td>\n",
       "      <td>0.294245</td>\n",
       "      <td>0.0</td>\n",
       "      <td>1.0</td>\n",
       "      <td>1.0</td>\n",
       "      <td>1.0</td>\n",
       "      <td>1.0</td>\n",
       "    </tr>\n",
       "    <tr>\n",
       "      <th>male</th>\n",
       "      <td>52.0</td>\n",
       "      <td>0.134615</td>\n",
       "      <td>0.344642</td>\n",
       "      <td>0.0</td>\n",
       "      <td>0.0</td>\n",
       "      <td>0.0</td>\n",
       "      <td>0.0</td>\n",
       "      <td>1.0</td>\n",
       "    </tr>\n",
       "  </tbody>\n",
       "</table>\n",
       "</div>"
      ],
      "text/plain": [
       "                    count      mean       std  min  25%  50%  75%  max\n",
       "ageInterval Sex                                                       \n",
       "adult       female  196.0  0.760204  0.428052  0.0  1.0  1.0  1.0  1.0\n",
       "            male    361.0  0.180055  0.384767  0.0  0.0  0.0  0.0  1.0\n",
       "baby        female   10.0  0.600000  0.516398  0.0  0.0  1.0  1.0  1.0\n",
       "            male     14.0  0.642857  0.497245  0.0  0.0  1.0  1.0  1.0\n",
       "child       female   33.0  0.666667  0.478714  0.0  0.0  1.0  1.0  1.0\n",
       "            male     26.0  0.461538  0.508391  0.0  0.0  0.0  1.0  1.0\n",
       "senior      female   22.0  0.909091  0.294245  0.0  1.0  1.0  1.0  1.0\n",
       "            male     52.0  0.134615  0.344642  0.0  0.0  0.0  0.0  1.0"
      ]
     },
     "execution_count": 424,
     "metadata": {},
     "output_type": "execute_result"
    }
   ],
   "source": [
    "titanic_df.groupby(('ageInterval', 'Sex'))['Survived'].describe()"
   ]
  },
  {
   "cell_type": "markdown",
   "metadata": {},
   "source": [
    "Some interesting findings raises there, even if they could have been anticipated:\n",
    "- young people gender did not influence the survival rate\n",
    "- adults and seniors were split in two groups during evacuation: ladies first\n",
    "\n",
    "In conclusion, this statistics confirms the well-known rule \"Ladies and children first!\" Fortunately, a higher rank in society did not give priority to safety boats. This hypothesis needs some deeper analysis, by cross-checking class level and gender:"
   ]
  },
  {
   "cell_type": "markdown",
   "metadata": {},
   "source": [
    "### Cabin class vs. gender\n",
    "---"
   ]
  },
  {
   "cell_type": "markdown",
   "metadata": {},
   "source": [
    "It has been shown previously that both cabin class and passenger gender parameter did play a positive role for survival rate. How do they combine? Does it simply mean that more ladies travelled in first class? Let's focus on people above 16 years, interval which shows some discrepancies between male and female."
   ]
  },
  {
   "cell_type": "code",
   "execution_count": 425,
   "metadata": {
    "collapsed": true
   },
   "outputs": [],
   "source": [
    "#adults_df = titanic_df[titanic_df['Age']>16.][['Survived', 'Pclass', 'Sex']]\n",
    "adults_df = titanic_df[titanic_df['Age'] > 16.]"
   ]
  },
  {
   "cell_type": "code",
   "execution_count": 426,
   "metadata": {},
   "outputs": [
    {
     "data": {
      "image/png": "[encoded data removed]",
      "text/plain": [
       "<matplotlib.figure.Figure at 0xc5008d0>"
      ]
     },
     "metadata": {},
     "output_type": "display_data"
    }
   ],
   "source": [
    "#g = sb.factorplot(x=\"Sex\", hue=\"Pclass\", data=adults_df, kind='count')\n",
    "g = sb.factorplot(x=\"Pclass\", col=\"Sex\", data=adults_df, kind='count')\n",
    "g.set_axis_labels('', 'Number of passengers')\n",
    "g.set_xticklabels(('1st class','2d class','3rd class'))\n",
    "g.set_titles('{col_name} passengers')\n",
    "t = plt.suptitle('Distribution over gender and cabin class', y=1.05)"
   ]
  },
  {
   "cell_type": "markdown",
   "metadata": {},
   "source": [
    "Where did come all these men in third class come from? Were they travelling alone?\n",
    "Except this over-representation of men in 3rd class, men and women population seem quite homogeneous among the three class levels. Let's see if we have the same observation for survivors population:"
   ]
  },
  {
   "cell_type": "code",
   "execution_count": 461,
   "metadata": {},
   "outputs": [
    {
     "data": {
      "image/png": "[encoded data removed]",
      "text/plain": [
       "<matplotlib.figure.Figure at 0xc3beef0>"
      ]
     },
     "metadata": {},
     "output_type": "display_data"
    }
   ],
   "source": [
    "g = sb.factorplot(x=\"Sex\", y=\"Survived\", col=\"Pclass\", data=adults_df, saturation=.2, kind=\"bar\", ci=None, aspect=.5)\n",
    "g.set_titles('class #{col_name}')\n",
    "t = g.set_axis_labels('', 'Survival rate')"
   ]
  },
  {
   "cell_type": "markdown",
   "metadata": {},
   "source": [
    "Wow! It seems that the rule 'Ladies first' could be mitigated by another rule '1st class first'! Does this second awful law apply as well to children??? Let's replace children \"Sex\" values by \"child\" and display population and survivors again:"
   ]
  },
  {
   "cell_type": "code",
   "execution_count": 462,
   "metadata": {},
   "outputs": [
    {
     "data": {
      "image/png": "[encoded data removed]",
      "text/plain": [
       "<matplotlib.figure.Figure at 0x141c6240>"
      ]
     },
     "metadata": {},
     "output_type": "display_data"
    },
    {
     "data": {
      "image/png": "[encoded data removed]",
      "text/plain": [
       "<matplotlib.figure.Figure at 0x16708fd0>"
      ]
     },
     "metadata": {},
     "output_type": "display_data"
    }
   ],
   "source": [
    "titanic_df.loc[titanic_df['Age']<16., 'Sex'] = \"child\"\n",
    "g = sb.factorplot(x=\"Sex\", col=\"Pclass\",data=titanic_df, saturation=.2, kind=\"count\", ci=None, aspect=.7)\n",
    "g.set_axis_labels('', 'Number of passengers')\n",
    "g.set_titles('class #{col_name}')\n",
    "g.set_xticklabels(('Men', 'Women', 'Children'))\n",
    "plt.suptitle('Passengers distribution', y=1.05)\n",
    "g = sb.factorplot(x=\"Sex\", y=\"Survived\", col=\"Pclass\",data=titanic_df, saturation=.2, kind=\"bar\", ci=None, aspect=.7)\n",
    "plt.suptitle('Survivors distribution', y=1.05)\n",
    "g.set_axis_labels('', 'Survival rate')\n",
    "g.set_titles('class #{col_name}')\n",
    "t = g.set_xticklabels(('Men', 'Women', 'Children'))"
   ]
  },
  {
   "cell_type": "markdown",
   "metadata": {},
   "source": [
    "Almost all children from first and second class were rescued whereas more than half of children from third class deceased... awful finding..."
   ]
  },
  {
   "cell_type": "markdown",
   "metadata": {},
   "source": [
    "### Men in third class?\n",
    "---"
   ]
  },
  {
   "cell_type": "markdown",
   "metadata": {},
   "source": [
    "Where did these 3rd class passengers come from?"
   ]
  },
  {
   "cell_type": "code",
   "execution_count": 429,
   "metadata": {},
   "outputs": [
    {
     "data": {
      "image/png": "[encoded data removed]",
      "text/plain": [
       "<matplotlib.figure.Figure at 0x15ad4828>"
      ]
     },
     "metadata": {},
     "output_type": "display_data"
    }
   ],
   "source": [
    "ax = plt.subplot(111)\n",
    "bar_index = np.arange(3)\n",
    "ax.bar(bar_index, titanic_df.groupby('Embarked')['PassengerId'].count(), width=0.25)\n",
    "ax.set_xticks(bar_index)\n",
    "ax.set_xticklabels(('Cherbourg','Queenstown','Southampton'))\n",
    "ax.set_ylabel('Number of passengers')\n",
    "t = ax.set_title('Boarding Harbors')"
   ]
  },
  {
   "cell_type": "markdown",
   "metadata": {},
   "source": [
    "The most represented town is Southampton. Are men and women equally distributed?"
   ]
  },
  {
   "cell_type": "code",
   "execution_count": 430,
   "metadata": {},
   "outputs": [
    {
     "data": {
      "text/plain": [
       "Embarked\n",
       "C     90\n",
       "Q     37\n",
       "S    410\n",
       "Name: PassengerId, dtype: int64"
      ]
     },
     "execution_count": 430,
     "metadata": {},
     "output_type": "execute_result"
    }
   ],
   "source": [
    "titanic_df[titanic_df['Sex']=='male'].groupby('Embarked')['PassengerId'].count()"
   ]
  },
  {
   "cell_type": "code",
   "execution_count": 431,
   "metadata": {},
   "outputs": [
    {
     "data": {
      "image/png": "[encoded data removed]",
      "text/plain": [
       "<matplotlib.figure.Figure at 0x1119deb8>"
      ]
     },
     "metadata": {},
     "output_type": "display_data"
    }
   ],
   "source": [
    "ax=plt.subplot(111)\n",
    "bar_index = np.arange(3)\n",
    "bar_width = 0.125\n",
    "y1 = titanic_df[titanic_df['Sex']=='male'].groupby('Embarked')['PassengerId'].count()\n",
    "y2 = titanic_df[titanic_df['Sex']=='female'].groupby('Embarked')['PassengerId'].count()\n",
    "rects1 = ax.bar(bar_index-0.5*bar_width, y1, width=bar_width, color='r', label='men')\n",
    "rects2 = ax.bar(bar_index+0.5*bar_width, y2, width=bar_width, color='y', label='women')\n",
    "ax.set_xticks(bar_index)\n",
    "ax.set_xticklabels(('Cherbourg','Queenstown','Southampton'))\n",
    "ax.set_ylabel('Number of passengers')\n",
    "ax.set_title('Boarding Harbors')\n",
    "l = ax.legend()"
   ]
  },
  {
   "cell_type": "markdown",
   "metadata": {},
   "source": [
    "At Southampton harbor, a very big proportion of men embarked in third class. Now let's see if this unbalance is the same for the three cabin classes:"
   ]
  },
  {
   "cell_type": "code",
   "execution_count": 439,
   "metadata": {},
   "outputs": [
    {
     "data": {
      "image/png": "[encoded data removed]",
      "text/plain": [
       "<matplotlib.figure.Figure at 0x17191fd0>"
      ]
     },
     "metadata": {},
     "output_type": "display_data"
    }
   ],
   "source": [
    "g = sb.factorplot(x=\"Embarked\", hue=\"Pclass\", col=\"Sex\", data=titanic_df, kind='count')\n",
    "g.set_xticklabels(('Southampton', 'Cherbourg','Queenstown'))\n",
    "g.set_axis_labels('', 'Number of passengers')\n",
    "g.set_titles('{col_name} passengers')\n",
    "t = plt.suptitle('Detailed distribution over harbor, class & gender', y=1.05)"
   ]
  },
  {
   "cell_type": "markdown",
   "metadata": {},
   "source": [
    "Were these male passengers from Southampton paying or crew passengers?"
   ]
  },
  {
   "cell_type": "code",
   "execution_count": 458,
   "metadata": {},
   "outputs": [
    {
     "name": "stdout",
     "output_type": "stream",
     "text": [
      "4 male passengers from Southampton did not pay any fare\n"
     ]
    }
   ],
   "source": [
    "southampton_thirdclass_men = titanic_df.loc[(titanic_df['Pclass']==3) & (titanic_df['Sex']=='male')]\n",
    "nb_paying = len(np.where(southampton_thirdclass_men['Fare'] == 0.)[0])\n",
    "print '%d male passengers from Southampton did not pay any fare' % nb_paying"
   ]
  },
  {
   "cell_type": "markdown",
   "metadata": {},
   "source": [
    "Almost all the men registered as third-class passengers from Southampton seem to be real passenger, not crew."
   ]
  },
  {
   "cell_type": "markdown",
   "metadata": {},
   "source": [
    "Conclusion:\n",
    "The low survival overall rate observed for third-class passengers is partly related to the male population who embarked in Southampton"
   ]
  },
  {
   "cell_type": "markdown",
   "metadata": {},
   "source": [
    "### siblings, spouses, parents & children?\n",
    "---"
   ]
  },
  {
   "cell_type": "code",
   "execution_count": 433,
   "metadata": {},
   "outputs": [
    {
     "data": {
      "text/html": [
       "<div>\n",
       "<style>\n",
       "    .dataframe thead tr:only-child th {\n",
       "        text-align: right;\n",
       "    }\n",
       "\n",
       "    .dataframe thead th {\n",
       "        text-align: left;\n",
       "    }\n",
       "\n",
       "    .dataframe tbody tr th {\n",
       "        vertical-align: top;\n",
       "    }\n",
       "</style>\n",
       "<table border=\"1\" class=\"dataframe\">\n",
       "  <thead>\n",
       "    <tr>\n",
       "      <th></th>\n",
       "      <th colspan=\"8\" halign=\"left\">SibSp</th>\n",
       "      <th colspan=\"8\" halign=\"left\">Parch</th>\n",
       "    </tr>\n",
       "    <tr>\n",
       "      <th></th>\n",
       "      <th>count</th>\n",
       "      <th>mean</th>\n",
       "      <th>std</th>\n",
       "      <th>min</th>\n",
       "      <th>25%</th>\n",
       "      <th>50%</th>\n",
       "      <th>75%</th>\n",
       "      <th>max</th>\n",
       "      <th>count</th>\n",
       "      <th>mean</th>\n",
       "      <th>std</th>\n",
       "      <th>min</th>\n",
       "      <th>25%</th>\n",
       "      <th>50%</th>\n",
       "      <th>75%</th>\n",
       "      <th>max</th>\n",
       "    </tr>\n",
       "    <tr>\n",
       "      <th>Survived</th>\n",
       "      <th></th>\n",
       "      <th></th>\n",
       "      <th></th>\n",
       "      <th></th>\n",
       "      <th></th>\n",
       "      <th></th>\n",
       "      <th></th>\n",
       "      <th></th>\n",
       "      <th></th>\n",
       "      <th></th>\n",
       "      <th></th>\n",
       "      <th></th>\n",
       "      <th></th>\n",
       "      <th></th>\n",
       "      <th></th>\n",
       "      <th></th>\n",
       "    </tr>\n",
       "  </thead>\n",
       "  <tbody>\n",
       "    <tr>\n",
       "      <th>0</th>\n",
       "      <td>549.0</td>\n",
       "      <td>0.553734</td>\n",
       "      <td>1.288399</td>\n",
       "      <td>0.0</td>\n",
       "      <td>0.0</td>\n",
       "      <td>0.0</td>\n",
       "      <td>1.0</td>\n",
       "      <td>8.0</td>\n",
       "      <td>549.0</td>\n",
       "      <td>0.329690</td>\n",
       "      <td>0.823166</td>\n",
       "      <td>0.0</td>\n",
       "      <td>0.0</td>\n",
       "      <td>0.0</td>\n",
       "      <td>0.0</td>\n",
       "      <td>6.0</td>\n",
       "    </tr>\n",
       "    <tr>\n",
       "      <th>1</th>\n",
       "      <td>342.0</td>\n",
       "      <td>0.473684</td>\n",
       "      <td>0.708688</td>\n",
       "      <td>0.0</td>\n",
       "      <td>0.0</td>\n",
       "      <td>0.0</td>\n",
       "      <td>1.0</td>\n",
       "      <td>4.0</td>\n",
       "      <td>342.0</td>\n",
       "      <td>0.464912</td>\n",
       "      <td>0.771712</td>\n",
       "      <td>0.0</td>\n",
       "      <td>0.0</td>\n",
       "      <td>0.0</td>\n",
       "      <td>1.0</td>\n",
       "      <td>5.0</td>\n",
       "    </tr>\n",
       "  </tbody>\n",
       "</table>\n",
       "</div>"
      ],
      "text/plain": [
       "          SibSp                                               Parch            \\\n",
       "          count      mean       std  min  25%  50%  75%  max  count      mean   \n",
       "Survived                                                                        \n",
       "0         549.0  0.553734  1.288399  0.0  0.0  0.0  1.0  8.0  549.0  0.329690   \n",
       "1         342.0  0.473684  0.708688  0.0  0.0  0.0  1.0  4.0  342.0  0.464912   \n",
       "\n",
       "                                             \n",
       "               std  min  25%  50%  75%  max  \n",
       "Survived                                     \n",
       "0         0.823166  0.0  0.0  0.0  0.0  6.0  \n",
       "1         0.771712  0.0  0.0  0.0  1.0  5.0  "
      ]
     },
     "execution_count": 433,
     "metadata": {},
     "output_type": "execute_result"
    }
   ],
   "source": [
    "titanic_df.groupby(('Survived'))[('SibSp', 'Parch')].describe()"
   ]
  },
  {
   "cell_type": "markdown",
   "metadata": {},
   "source": [
    "At first sight, no trend seems to link survival rate and number of persons per family. Some further investigation may reveal correlations..."
   ]
  },
  {
   "cell_type": "markdown",
   "metadata": {},
   "source": [
    "<a id='prediction'></a>\n",
    "## Data prediction\n",
    "---"
   ]
  },
  {
   "cell_type": "markdown",
   "metadata": {
    "collapsed": true
   },
   "source": [
    "Can we predict the survival propability for the two missing ladies if they did embark?"
   ]
  },
  {
   "cell_type": "code",
   "execution_count": 434,
   "metadata": {},
   "outputs": [
    {
     "data": {
      "text/html": [
       "<div>\n",
       "<style>\n",
       "    .dataframe thead tr:only-child th {\n",
       "        text-align: right;\n",
       "    }\n",
       "\n",
       "    .dataframe thead th {\n",
       "        text-align: left;\n",
       "    }\n",
       "\n",
       "    .dataframe tbody tr th {\n",
       "        vertical-align: top;\n",
       "    }\n",
       "</style>\n",
       "<table border=\"1\" class=\"dataframe\">\n",
       "  <thead>\n",
       "    <tr style=\"text-align: right;\">\n",
       "      <th></th>\n",
       "      <th>Name</th>\n",
       "      <th>Age</th>\n",
       "      <th>ageInterval</th>\n",
       "    </tr>\n",
       "  </thead>\n",
       "  <tbody>\n",
       "    <tr>\n",
       "      <th>61</th>\n",
       "      <td>Icard, Miss. Amelie</td>\n",
       "      <td>38.0</td>\n",
       "      <td>adult</td>\n",
       "    </tr>\n",
       "    <tr>\n",
       "      <th>829</th>\n",
       "      <td>Stone, Mrs. George Nelson (Martha Evelyn)</td>\n",
       "      <td>62.0</td>\n",
       "      <td>senior</td>\n",
       "    </tr>\n",
       "  </tbody>\n",
       "</table>\n",
       "</div>"
      ],
      "text/plain": [
       "                                          Name   Age ageInterval\n",
       "61                         Icard, Miss. Amelie  38.0       adult\n",
       "829  Stone, Mrs. George Nelson (Martha Evelyn)  62.0      senior"
      ]
     },
     "execution_count": 434,
     "metadata": {},
     "output_type": "execute_result"
    }
   ],
   "source": [
    "missing_bools = True ^ ((titanic_df['Embarked'] == 'Q') | (titanic_df['Embarked'] == 'C') | (titanic_df['Embarked'] == 'S'))\n",
    "titanic_df[missing_bools][['Name', 'Age', 'ageInterval']]"
   ]
  },
  {
   "cell_type": "markdown",
   "metadata": {},
   "source": [
    "Let's base our prediction on factors age and gender:"
   ]
  },
  {
   "cell_type": "code",
   "execution_count": 435,
   "metadata": {},
   "outputs": [
    {
     "data": {
      "text/html": [
       "<div>\n",
       "<style>\n",
       "    .dataframe thead tr:only-child th {\n",
       "        text-align: right;\n",
       "    }\n",
       "\n",
       "    .dataframe thead th {\n",
       "        text-align: left;\n",
       "    }\n",
       "\n",
       "    .dataframe tbody tr th {\n",
       "        vertical-align: top;\n",
       "    }\n",
       "</style>\n",
       "<table border=\"1\" class=\"dataframe\">\n",
       "  <thead>\n",
       "    <tr style=\"text-align: right;\">\n",
       "      <th></th>\n",
       "      <th>count</th>\n",
       "      <th>mean</th>\n",
       "      <th>std</th>\n",
       "      <th>min</th>\n",
       "      <th>25%</th>\n",
       "      <th>50%</th>\n",
       "      <th>75%</th>\n",
       "      <th>max</th>\n",
       "    </tr>\n",
       "    <tr>\n",
       "      <th>ageInterval</th>\n",
       "      <th></th>\n",
       "      <th></th>\n",
       "      <th></th>\n",
       "      <th></th>\n",
       "      <th></th>\n",
       "      <th></th>\n",
       "      <th></th>\n",
       "      <th></th>\n",
       "    </tr>\n",
       "  </thead>\n",
       "  <tbody>\n",
       "    <tr>\n",
       "      <th>adult</th>\n",
       "      <td>196.0</td>\n",
       "      <td>0.760204</td>\n",
       "      <td>0.428052</td>\n",
       "      <td>0.0</td>\n",
       "      <td>1.0</td>\n",
       "      <td>1.0</td>\n",
       "      <td>1.0</td>\n",
       "      <td>1.0</td>\n",
       "    </tr>\n",
       "    <tr>\n",
       "      <th>senior</th>\n",
       "      <td>22.0</td>\n",
       "      <td>0.909091</td>\n",
       "      <td>0.294245</td>\n",
       "      <td>0.0</td>\n",
       "      <td>1.0</td>\n",
       "      <td>1.0</td>\n",
       "      <td>1.0</td>\n",
       "      <td>1.0</td>\n",
       "    </tr>\n",
       "  </tbody>\n",
       "</table>\n",
       "</div>"
      ],
      "text/plain": [
       "             count      mean       std  min  25%  50%  75%  max\n",
       "ageInterval                                                    \n",
       "adult        196.0  0.760204  0.428052  0.0  1.0  1.0  1.0  1.0\n",
       "senior        22.0  0.909091  0.294245  0.0  1.0  1.0  1.0  1.0"
      ]
     },
     "execution_count": 435,
     "metadata": {},
     "output_type": "execute_result"
    }
   ],
   "source": [
    "ladies_df = titanic_df.groupby('Sex').get_group(('female'))\n",
    "ladies_df.groupby('ageInterval')['Survived'].describe()"
   ]
  },
  {
   "cell_type": "markdown",
   "metadata": {},
   "source": [
    "Miss Amelie Icard, as an adult, got a survival probability of 76% whereas Mrs Martha Stone, as a senior, would have likely survived, with a probability of 91%!"
   ]
  },
  {
   "cell_type": "markdown",
   "metadata": {},
   "source": [
    "<a id='conclusion'></a>\n",
    "# Conclusion\n",
    "---"
   ]
  },
  {
   "cell_type": "markdown",
   "metadata": {},
   "source": [
    "The Titanic passengers dataset taught us that on the sea, the rule for choosing passengers to be saved first is the classical one: 'Ladies and children first!'.\n",
    "Unfortunately for them, the women and children from third-class did not benefit at all from this basic rule, what a shame!\n",
    "\n",
    "Deeper analysis could be performed to figure out what role could have played the family structure during rescue...\n",
    "\n",
    "The proposed conclusion shall be mitigated by the facts that less than 800 passengers were registered in the titanic database whereas more than 1300 paying passengers embarked on this dream (nightmare) boat, and that some information is missing within this sample of 800 people."
   ]
  }
 ],
 "metadata": {
  "kernelspec": {
   "display_name": "Python [default]",
   "language": "python",
   "name": "python2"
  },
  "language_info": {
   "codemirror_mode": {
    "name": "ipython",
    "version": 2
   },
   "file_extension": ".py",
   "mimetype": "text/x-python",
   "name": "python",
   "nbconvert_exporter": "python",
   "pygments_lexer": "ipython2",
   "version": "2.7.13"
  }
 },
 "nbformat": 4,
 "nbformat_minor": 2
}
