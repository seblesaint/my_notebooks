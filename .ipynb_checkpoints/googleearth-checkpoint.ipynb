{
 "cells": [
  {
   "cell_type": "code",
   "execution_count": 1,
   "metadata": {
    "collapsed": true
   },
   "outputs": [],
   "source": [
    "import sys\n",
    "sys.path.append('\\\\\\\\10.122.80.198\\\\anm_exchange\\\\ENFT\\\\SEB\\\\site-packages\\\\')"
   ]
  },
  {
   "cell_type": "code",
   "execution_count": 2,
   "metadata": {
    "collapsed": true
   },
   "outputs": [],
   "source": [
    "import os\n",
    "from simplekml import Kml, Snippet, Types\n",
    "\n",
    "# Data for the track\n",
    "when = [\"2010-05-28T02:02:09Z\",\n",
    "    \"2010-05-28T02:02:35Z\",\n",
    "    \"2010-05-28T02:02:44Z\",\n",
    "    \"2010-05-28T02:02:53Z\",\n",
    "    \"2010-05-28T02:02:54Z\",\n",
    "    \"2010-05-28T02:02:55Z\",\n",
    "    \"2010-05-28T02:02:56Z\"]\n",
    "\n",
    "coord = [(-122.207881,37.371915,156.000000),\n",
    "    (-122.205712,37.373288,152.000000),\n",
    "    (-122.204678,37.373939,147.000000),\n",
    "    (-122.203572,37.374630,142.199997),\n",
    "    (-122.203451,37.374706,141.800003),\n",
    "    (-122.203329,37.374780,141.199997),\n",
    "    (-122.203207,37.374857,140.199997)]\n",
    "\n",
    "cadence = [86, 103, 108, 113, 113, 113, 113]\n",
    "heartrate = [181, 177, 175, 173, 173, 173, 173]\n",
    "power = [327.0, 177.0, 179.0, 162.0, 166.0, 177.0, 183.0]\n",
    "\n",
    "# Create the KML document\n",
    "kml = Kml(name=\"Tracks\", open=1)\n",
    "doc = kml.newdocument(name='GPS device', snippet=Snippet('Created Wed Jun 2 15:33:39 2010'))\n",
    "doc.lookat.gxtimespan.begin = '2010-05-28T02:02:09Z'\n",
    "doc.lookat.gxtimespan.end = '2010-05-28T02:02:56Z'\n",
    "doc.lookat.longitude = -122.205544\n",
    "doc.lookat.latitude = 37.373386\n",
    "doc.lookat.range = 1300.000000\n",
    "\n",
    "# Create a folder\n",
    "fol = doc.newfolder(name='Tracks')\n",
    "\n",
    "# Create a schema for extended data: heart rate, cadence and power\n",
    "schema = kml.newschema()\n",
    "schema.newgxsimplearrayfield(name='heartrate', type=Types.int, displayname='Heart Rate')\n",
    "schema.newgxsimplearrayfield(name='cadence', type=Types.int, displayname='Cadence')\n",
    "schema.newgxsimplearrayfield(name='power', type=Types.float, displayname='Power')\n",
    "\n",
    "# Create a new track in the folder\n",
    "trk = fol.newgxtrack(name='2010-05-28T01:16:35.000Z')\n",
    "\n",
    "# Apply the above schema to this track\n",
    "trk.extendeddata.schemadata.schemaurl = schema.id\n",
    "\n",
    "# Add all the information to the track\n",
    "trk.newwhen(when) # Each item in the give nlist will become a new <when> tag\n",
    "trk.newgxcoord(coord) # Ditto\n",
    "trk.extendeddata.schemadata.newgxsimplearraydata('heartrate', heartrate) # Ditto\n",
    "trk.extendeddata.schemadata.newgxsimplearraydata('cadence', cadence) # Ditto\n",
    "trk.extendeddata.schemadata.newgxsimplearraydata('power', power) # Ditto\n",
    "\n",
    "# Styling\n",
    "trk.stylemap.normalstyle.iconstyle.icon.href = 'http://earth.google.com/images/kml-icons/track-directional/track-0.png'\n",
    "trk.stylemap.normalstyle.linestyle.color = '99ffac59'\n",
    "trk.stylemap.normalstyle.linestyle.width = 6\n",
    "trk.stylemap.highlightstyle.iconstyle.icon.href = 'http://earth.google.com/images/kml-icons/track-directional/track-0.png'\n",
    "trk.stylemap.highlightstyle.iconstyle.scale = 1.2\n",
    "trk.stylemap.highlightstyle.linestyle.color = '99ffac59'\n",
    "trk.stylemap.highlightstyle.linestyle.width = 8\n",
    "\n",
    "# Save the kml to file\n",
    "kml.save(\"GxTrack.kml\")"
   ]
  },
  {
   "cell_type": "code",
   "execution_count": null,
   "metadata": {
    "collapsed": true
   },
   "outputs": [],
   "source": []
  }
 ],
 "metadata": {
  "kernelspec": {
   "display_name": "Python [conda env:seb_env]",
   "language": "python",
   "name": "conda-env-seb_env-py"
  },
  "language_info": {
   "codemirror_mode": {
    "name": "ipython",
    "version": 2
   },
   "file_extension": ".py",
   "mimetype": "text/x-python",
   "name": "python",
   "nbconvert_exporter": "python",
   "pygments_lexer": "ipython2",
   "version": "2.7.13"
  }
 },
 "nbformat": 4,
 "nbformat_minor": 2
}
