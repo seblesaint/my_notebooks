{
 "cells": [
  {
   "cell_type": "code",
   "execution_count": 116,
   "metadata": {
    "collapsed": true
   },
   "outputs": [],
   "source": [
    "import pandas as pd\n",
    "pkl = 'V0065_V0065_LAR_LDG.csv'\n",
    "csv = 'V0071_V0069_PIN_LDG_1.csv'\n",
    "\n",
    "#df = pd.read_pickle(pkl)\n",
    "df = pd.read_csv(csv)"
   ]
  },
  {
   "cell_type": "code",
   "execution_count": 117,
   "metadata": {},
   "outputs": [
    {
     "data": {
      "text/html": [
       "<div>\n",
       "<style>\n",
       "    .dataframe thead tr:only-child th {\n",
       "        text-align: right;\n",
       "    }\n",
       "\n",
       "    .dataframe thead th {\n",
       "        text-align: left;\n",
       "    }\n",
       "\n",
       "    .dataframe tbody tr th {\n",
       "        vertical-align: top;\n",
       "    }\n",
       "</style>\n",
       "<table border=\"1\" class=\"dataframe\">\n",
       "  <thead>\n",
       "    <tr style=\"text-align: right;\">\n",
       "      <th></th>\n",
       "      <th>Unnamed: 0</th>\n",
       "      <th>GMTs</th>\n",
       "      <th>GPIR_HYBLATNFINE_1</th>\n",
       "      <th>GPIR_HYBLONGNFINE_1</th>\n",
       "      <th>ANTENNA_DIST_KM</th>\n",
       "      <th>REFPOINT_DIST_KM</th>\n",
       "      <th>ADR_203_STDPALT_1</th>\n",
       "      <th>PNT</th>\n",
       "      <th>RWY</th>\n",
       "      <th>MAXOG</th>\n",
       "      <th>...</th>\n",
       "      <th>M1TCCH</th>\n",
       "      <th>M1TCCI</th>\n",
       "      <th>M1TCCL</th>\n",
       "      <th>M2TCCH</th>\n",
       "      <th>M2TCCI</th>\n",
       "      <th>M2TCCL</th>\n",
       "      <th>M1NAI</th>\n",
       "      <th>M2NAI</th>\n",
       "      <th>M1PC</th>\n",
       "      <th>M2PC</th>\n",
       "    </tr>\n",
       "  </thead>\n",
       "  <tbody>\n",
       "    <tr>\n",
       "      <th>0</th>\n",
       "      <td>9652</td>\n",
       "      <td>11092192000000</td>\n",
       "      <td>43.441527</td>\n",
       "      <td>1.512424</td>\n",
       "      <td>4.977302</td>\n",
       "      <td>4.994811</td>\n",
       "      <td>3019</td>\n",
       "      <td>TP</td>\n",
       "      <td>LFBO32L</td>\n",
       "      <td>-22580.994141</td>\n",
       "      <td>...</td>\n",
       "      <td>23.469719</td>\n",
       "      <td>21.513716</td>\n",
       "      <td>0</td>\n",
       "      <td>23.787199</td>\n",
       "      <td>12.323072</td>\n",
       "      <td>0</td>\n",
       "      <td>0</td>\n",
       "      <td>0</td>\n",
       "      <td>1</td>\n",
       "      <td>1</td>\n",
       "    </tr>\n",
       "    <tr>\n",
       "      <th>1</th>\n",
       "      <td>9653</td>\n",
       "      <td>11092193000000</td>\n",
       "      <td>43.442100</td>\n",
       "      <td>1.513320</td>\n",
       "      <td>4.918303</td>\n",
       "      <td>4.935000</td>\n",
       "      <td>3020</td>\n",
       "      <td>TP</td>\n",
       "      <td>LFBO32L</td>\n",
       "      <td>-22574.171875</td>\n",
       "      <td>...</td>\n",
       "      <td>23.603809</td>\n",
       "      <td>21.339994</td>\n",
       "      <td>0</td>\n",
       "      <td>23.822784</td>\n",
       "      <td>12.109423</td>\n",
       "      <td>0</td>\n",
       "      <td>0</td>\n",
       "      <td>0</td>\n",
       "      <td>1</td>\n",
       "      <td>1</td>\n",
       "    </tr>\n",
       "    <tr>\n",
       "      <th>2</th>\n",
       "      <td>9654</td>\n",
       "      <td>11092194000000</td>\n",
       "      <td>43.442738</td>\n",
       "      <td>1.514267</td>\n",
       "      <td>4.853587</td>\n",
       "      <td>4.869398</td>\n",
       "      <td>3019</td>\n",
       "      <td>TP</td>\n",
       "      <td>LFBO32L</td>\n",
       "      <td>-22564.755859</td>\n",
       "      <td>...</td>\n",
       "      <td>23.680143</td>\n",
       "      <td>21.205494</td>\n",
       "      <td>0</td>\n",
       "      <td>23.869560</td>\n",
       "      <td>11.968127</td>\n",
       "      <td>0</td>\n",
       "      <td>0</td>\n",
       "      <td>0</td>\n",
       "      <td>1</td>\n",
       "      <td>1</td>\n",
       "    </tr>\n",
       "    <tr>\n",
       "      <th>3</th>\n",
       "      <td>9655</td>\n",
       "      <td>11092195000000</td>\n",
       "      <td>43.443345</td>\n",
       "      <td>1.515115</td>\n",
       "      <td>4.792955</td>\n",
       "      <td>4.807944</td>\n",
       "      <td>3019</td>\n",
       "      <td>TP</td>\n",
       "      <td>LFBO32L</td>\n",
       "      <td>-22552.591797</td>\n",
       "      <td>...</td>\n",
       "      <td>23.691515</td>\n",
       "      <td>21.176798</td>\n",
       "      <td>0</td>\n",
       "      <td>23.954967</td>\n",
       "      <td>11.844448</td>\n",
       "      <td>0</td>\n",
       "      <td>0</td>\n",
       "      <td>0</td>\n",
       "      <td>1</td>\n",
       "      <td>1</td>\n",
       "    </tr>\n",
       "    <tr>\n",
       "      <th>4</th>\n",
       "      <td>9656</td>\n",
       "      <td>11092196000000</td>\n",
       "      <td>43.444021</td>\n",
       "      <td>1.516002</td>\n",
       "      <td>4.726134</td>\n",
       "      <td>4.740231</td>\n",
       "      <td>3018</td>\n",
       "      <td>TP</td>\n",
       "      <td>LFBO32L</td>\n",
       "      <td>-22537.205078</td>\n",
       "      <td>...</td>\n",
       "      <td>23.675070</td>\n",
       "      <td>21.084747</td>\n",
       "      <td>0</td>\n",
       "      <td>24.010948</td>\n",
       "      <td>11.814426</td>\n",
       "      <td>0</td>\n",
       "      <td>0</td>\n",
       "      <td>0</td>\n",
       "      <td>1</td>\n",
       "      <td>1</td>\n",
       "    </tr>\n",
       "  </tbody>\n",
       "</table>\n",
       "<p>5 rows × 80 columns</p>\n",
       "</div>"
      ],
      "text/plain": [
       "   Unnamed: 0            GMTs  GPIR_HYBLATNFINE_1  GPIR_HYBLONGNFINE_1  \\\n",
       "0        9652  11092192000000           43.441527             1.512424   \n",
       "1        9653  11092193000000           43.442100             1.513320   \n",
       "2        9654  11092194000000           43.442738             1.514267   \n",
       "3        9655  11092195000000           43.443345             1.515115   \n",
       "4        9656  11092196000000           43.444021             1.516002   \n",
       "\n",
       "   ANTENNA_DIST_KM  REFPOINT_DIST_KM  ADR_203_STDPALT_1 PNT      RWY  \\\n",
       "0         4.977302          4.994811               3019  TP  LFBO32L   \n",
       "1         4.918303          4.935000               3020  TP  LFBO32L   \n",
       "2         4.853587          4.869398               3019  TP  LFBO32L   \n",
       "3         4.792955          4.807944               3019  TP  LFBO32L   \n",
       "4         4.726134          4.740231               3018  TP  LFBO32L   \n",
       "\n",
       "          MAXOG  ...      M1TCCH     M1TCCI  M1TCCL     M2TCCH     M2TCCI  \\\n",
       "0 -22580.994141  ...   23.469719  21.513716       0  23.787199  12.323072   \n",
       "1 -22574.171875  ...   23.603809  21.339994       0  23.822784  12.109423   \n",
       "2 -22564.755859  ...   23.680143  21.205494       0  23.869560  11.968127   \n",
       "3 -22552.591797  ...   23.691515  21.176798       0  23.954967  11.844448   \n",
       "4 -22537.205078  ...   23.675070  21.084747       0  24.010948  11.814426   \n",
       "\n",
       "   M2TCCL  M1NAI  M2NAI  M1PC  M2PC  \n",
       "0       0      0      0     1     1  \n",
       "1       0      0      0     1     1  \n",
       "2       0      0      0     1     1  \n",
       "3       0      0      0     1     1  \n",
       "4       0      0      0     1     1  \n",
       "\n",
       "[5 rows x 80 columns]"
      ]
     },
     "execution_count": 117,
     "metadata": {},
     "output_type": "execute_result"
    }
   ],
   "source": [
    "df.head()"
   ]
  },
  {
   "cell_type": "code",
   "execution_count": 118,
   "metadata": {
    "collapsed": true
   },
   "outputs": [],
   "source": [
    "import numpy as np\n",
    "def equi_rect_distance(lat1deg,lon1deg,lat2deg,lon2deg):\n",
    "    lat1rad,lon1rad,lat2rad,lon2rad = tuple(map((lambda x:x*np.pi/180.), (lat1deg,lon1deg,lat2deg,lon2deg)))\n",
    "    R = 6371  #radius of the earth in km\n",
    "    x = (lon2rad - lon1rad) * np.cos( 0.5*(lat2rad + lat1rad) )\n",
    "    y = lat2rad - lat1rad\n",
    "    d = R * np.sqrt( x*x + y*y )\n",
    "    return d, R*x, R*y\n",
    "def dist_from_lar(lat,lon):\n",
    "    return equi_rect_distance(lat,lon,lat2deg=43.7453,lon2deg=1.23995)[0]\n",
    "def dist_from_pin(lat,lon):\n",
    "    return equi_rect_distance(lat,lon,lat2deg=43.48622,lon2deg=1.509005)[0]"
   ]
  },
  {
   "cell_type": "code",
   "execution_count": 119,
   "metadata": {},
   "outputs": [
    {
     "data": {
      "text/plain": [
       "(43.780931, 1.202705, 43.7453, 1.23995)"
      ]
     },
     "execution_count": 119,
     "metadata": {},
     "output_type": "execute_result"
    }
   ],
   "source": [
    "(43.780931,1.202705,43.7453,1.23995)"
   ]
  },
  {
   "cell_type": "code",
   "execution_count": 120,
   "metadata": {},
   "outputs": [
    {
     "data": {
      "text/plain": [
       "4.9642029757200881"
      ]
     },
     "execution_count": 120,
     "metadata": {},
     "output_type": "execute_result"
    }
   ],
   "source": [
    "dist_from_lar(43.780931,1.202705)"
   ]
  },
  {
   "cell_type": "code",
   "execution_count": 121,
   "metadata": {
    "collapsed": true
   },
   "outputs": [],
   "source": [
    "dist_min = dist_from_pin(df['GPIR_HYBLATNFINE_1'], df['GPIR_HYBLONGNFINE_1']).min()"
   ]
  },
  {
   "cell_type": "code",
   "execution_count": 122,
   "metadata": {},
   "outputs": [
    {
     "data": {
      "text/plain": [
       "60"
      ]
     },
     "execution_count": 122,
     "metadata": {},
     "output_type": "execute_result"
    }
   ],
   "source": [
    "dist_min_index = dist_from_pin(df['GPIR_HYBLATNFINE_1'], df['GPIR_HYBLONGNFINE_1']).argmin()\n",
    "dist_min_index"
   ]
  },
  {
   "cell_type": "code",
   "execution_count": 123,
   "metadata": {},
   "outputs": [
    {
     "data": {
      "text/plain": [
       "array([43.486401101700004, 1.5096484023700001], dtype=object)"
      ]
     },
     "execution_count": 123,
     "metadata": {},
     "output_type": "execute_result"
    }
   ],
   "source": [
    "df.iloc[dist_min_index][['GPIR_HYBLATNFINE_1', 'GPIR_HYBLONGNFINE_1']].values"
   ]
  },
  {
   "cell_type": "code",
   "execution_count": 124,
   "metadata": {
    "collapsed": true
   },
   "outputs": [],
   "source": [
    "ref_LAT, ref_LONG = df.iloc[dist_min_index][['GPIR_HYBLATNFINE_1', 'GPIR_HYBLONGNFINE_1']].values"
   ]
  },
  {
   "cell_type": "code",
   "execution_count": 125,
   "metadata": {},
   "outputs": [
    {
     "data": {
      "text/plain": [
       "43.486401101700004"
      ]
     },
     "execution_count": 125,
     "metadata": {},
     "output_type": "execute_result"
    }
   ],
   "source": [
    "ref_LAT"
   ]
  },
  {
   "cell_type": "code",
   "execution_count": 126,
   "metadata": {},
   "outputs": [
    {
     "data": {
      "text/plain": [
       "2"
      ]
     },
     "execution_count": 126,
     "metadata": {},
     "output_type": "execute_result"
    }
   ],
   "source": [
    "df.iloc[2:5]['MAXOG'].argmin()"
   ]
  },
  {
   "cell_type": "code",
   "execution_count": 127,
   "metadata": {
    "scrolled": true
   },
   "outputs": [
    {
     "data": {
      "text/plain": [
       "'0,1,2,3,4,5,6,7,8,9,10,11,12,13,14,15,16,17,18,19,20,21,22,23,24,25,26,27,28,29,30,31,32,33,34,35,36,37,38,39,40,41,42,43,44,45,46,47,48,49,50,51,52,53,54,55,56,57,58,59,60,61,62,63,64,65,66,67,68,69,70,71,72,73,74,75,76,77,78,79,80,81,82,83,84,85,86,87,88,89,90,91,92,93,94,95,96,97,98,99,100,101,102,103,104,105,106,107,108,109,110,111,112,113,114,115'"
      ]
     },
     "execution_count": 127,
     "metadata": {},
     "output_type": "execute_result"
    }
   ],
   "source": [
    "','.join([str(i) for i in df.index.values])"
   ]
  },
  {
   "cell_type": "code",
   "execution_count": 197,
   "metadata": {},
   "outputs": [
    {
     "name": "stdout",
     "output_type": "stream",
     "text": [
      "27    2.989061\n",
      "28    2.902741\n",
      "29    2.822446\n",
      "30    2.734916\n",
      "31    2.653744\n",
      "32    2.565175\n",
      "33    2.482579\n",
      "34    2.392075\n",
      "35    2.307565\n",
      "36    2.214975\n",
      "37    2.128511\n",
      "38    2.033907\n",
      "39    1.945993\n",
      "40    1.850380\n",
      "41    1.761939\n",
      "42    1.666058\n",
      "43    1.577603\n",
      "44    1.481880\n",
      "45    1.393667\n",
      "46    1.298112\n",
      "47    1.209877\n",
      "48    1.114149\n",
      "49    1.025301\n",
      "50    0.928593\n",
      "51    0.838796\n",
      "52    0.741179\n",
      "53    0.651099\n",
      "54    0.553711\n",
      "55    0.464188\n",
      "56    0.367592\n",
      "        ...   \n",
      "63    0.268999\n",
      "64    0.363848\n",
      "65    0.451691\n",
      "66    0.547195\n",
      "67    0.635612\n",
      "68    0.731643\n",
      "69    0.820511\n",
      "70    0.916949\n",
      "71    1.006101\n",
      "72    1.102720\n",
      "73    1.191862\n",
      "74    1.288384\n",
      "75    1.377344\n",
      "76    1.473614\n",
      "77    1.562350\n",
      "78    1.658336\n",
      "79    1.746862\n",
      "80    1.842559\n",
      "81    1.930765\n",
      "82    2.026196\n",
      "83    2.114137\n",
      "84    2.209174\n",
      "85    2.296579\n",
      "86    2.390952\n",
      "87    2.477777\n",
      "88    2.571535\n",
      "89    2.657831\n",
      "90    2.751013\n",
      "91    2.836792\n",
      "92    2.929496\n",
      "Length: 66, dtype: float64\n"
     ]
    }
   ],
   "source": [
    "lat_column='GPIR_HYBLATNFINE_1'\n",
    "long_column='GPIR_HYBLONGNFINE_1'\n",
    "d,dx,dy  = equi_rect_distance(df[lat_column], df[long_column], lat2deg=ref_LAT,lon2deg=ref_LONG)\n",
    "mask = d.values < 3\n",
    "print d[mask]"
   ]
  },
  {
   "cell_type": "code",
   "execution_count": 198,
   "metadata": {
    "collapsed": true
   },
   "outputs": [],
   "source": [
    "import matplotlib.pyplot as plt\n",
    "from matplotlib.patches import Circle\n",
    "from matplotlib.collections import PatchCollection\n",
    "%matplotlib inline"
   ]
  },
  {
   "cell_type": "code",
   "execution_count": 227,
   "metadata": {},
   "outputs": [
    {
     "data": {
      "text/plain": [
       "<matplotlib.legend.Legend at 0x1b5eca90>"
      ]
     },
     "execution_count": 227,
     "metadata": {},
     "output_type": "execute_result"
    },
    {
     "data": {
      "image/png": "[encoded data removed]",
      "text/plain": [
       "<matplotlib.figure.Figure at 0x198cd240>"
      ]
     },
     "metadata": {},
     "output_type": "display_data"
    }
   ],
   "source": [
    "    #lat_column = df.columns[2]\n",
    "    #long_column = df.columns[3]\n",
    "    fig, ax = plt.subplots()\n",
    "    #ax.scatter(1.509005,43.48622, c='r', label='PIN')\n",
    "    #ax.scatter(ref_LONG,ref_LAT, c='b', label='closest')   \n",
    "    #df.plot(long_column, lat_column, label='label', ax=ax)\n",
    "    ax.plot(dx,dy, label='traj', c='steelblue', zorder=0)\n",
    "    ax.scatter(0,0, c='steelblue', label='closest', zorder=1)    \n",
    "    \n",
    "    mask = d.values <= 3\n",
    "      \n",
    "    arrow_dx = dx[mask].values[8]-dx[mask].values[5]\n",
    "    arrow_dy = dy[mask].values[8]-dy[mask].values[5]\n",
    "    arrow_length = (arrow_dx**2 + arrow_dy**2)**0.5\n",
    "    ax.arrow(dx[mask].values[5],dy[mask].values[5], arrow_dx, arrow_dy, head_width=arrow_length, head_length=arrow_length, fc='b', ec='b', zorder=1)\n",
    "    arrow_dx = dx[mask].values[-5]-dx[mask].values[-8]\n",
    "    arrow_dy = dy[mask].values[-5]-dy[mask].values[-8]\n",
    "    arrow_length = (arrow_dx**2 + arrow_dy**2)**0.5\n",
    "    ax.arrow(dx[mask].values[-8],dy[mask].values[-8], arrow_dx, arrow_dy, head_width=arrow_length, head_length=arrow_length, fc='b', ec='b', zorder=1)    \n",
    "    ax.set_title(u'%s over %s (%s)' % ('V0071', 'PIN', 'LDG'), fontsize=14, position=(1.4, 0.75), ha='center')\n",
    "\n",
    "    headings=u'Aircraft true heading:\\nmean:%.0f$^\\circ$ stdev:%.0f$^\\circ$\\nentry:%.0f$^\\circ$ exit:%.0f$^\\circ$' % (140.3, 11.2, 25., 135.)\n",
    "    \n",
    "    props = dict(boxstyle='round', facecolor='steelblue', alpha=0.5)\n",
    "\n",
    "    # place a text box in upper left in axes coords\n",
    "    ax.text(1.4, 0.7, headings, transform=ax.transAxes, fontsize=12, va='top', ha='center')#,bbox=props)\n",
    "\n",
    "    #patches = [Circle((0,0),1)]\n",
    "    #p = PatchCollection(patches, color='r', zorder=-1)\n",
    "    #ax.add_collection(p)\n",
    "    \n",
    "    detect_rng=1.\n",
    "    \n",
    "    a=dist_from_pin(df['GPIR_HYBLATNFINE_1'].values[0], df['GPIR_HYBLONGNFINE_1'].values[0])\n",
    "    ax.plot(a+detect_rng*np.cos(np.arange(31)*np.pi/15), a+detect_rng*np.sin(np.arange(31)*np.pi/15), color='red', label='detect area')\n",
    "    ax.fill_between(3*np.cos(np.arange(101)*np.pi/50), 0, 3*np.sin(np.arange(101)*np.pi/50), linewidth=0.0, alpha=0.1, color='green', label='extract area')\n",
    "    ax.fill_between(5*np.cos(np.arange(101)*np.pi/50), 0, 5*np.sin(np.arange(101)*np.pi/50), linewidth=0.0, alpha=0.1, color='blue', label='extract area')\n",
    "    \n",
    "    ax.set_xlabel('longitude')\n",
    "    ax.set_ylabel('latitude')\n",
    "    ax.set_xlim([-5,5])\n",
    "    ax.set_ylim([-5,5]) \n",
    "    plt.gca().set_aspect('equal', adjustable='box')\n",
    "   \n",
    "    #ax.set_xlim([df[[long_column]].values.min(), df[[long_column]].values.max()])\n",
    "    #ax.set_ylim([df[[lat_column]].values.min(), df[[lat_column]].values.max()])\n",
    "\n",
    "    handles, labels = ax.get_legend_handles_labels()\n",
    "    ax.legend(handles, labels, loc='lower center', bbox_to_anchor=(1.4, 0.))"
   ]
  },
  {
   "cell_type": "code",
   "execution_count": 131,
   "metadata": {},
   "outputs": [
    {
     "name": "stdout",
     "output_type": "stream",
     "text": [
      "-0.576377837665 4.64089858682 -1.07168870356 3.79729077732\n"
     ]
    }
   ],
   "source": [
    "print dx[5], dy[5], dx[15], dy[15]"
   ]
  },
  {
   "cell_type": "code",
   "execution_count": 132,
   "metadata": {},
   "outputs": [
    {
     "data": {
      "text/plain": [
       "-1.3524420744032946"
      ]
     },
     "execution_count": 132,
     "metadata": {},
     "output_type": "execute_result"
    }
   ],
   "source": [
    "dx.min()"
   ]
  },
  {
   "cell_type": "code",
   "execution_count": 133,
   "metadata": {},
   "outputs": [
    {
     "data": {
      "text/plain": [
       "2.7762967700856889"
      ]
     },
     "execution_count": 133,
     "metadata": {},
     "output_type": "execute_result"
    }
   ],
   "source": [
    "dx.values[-5]"
   ]
  },
  {
   "cell_type": "code",
   "execution_count": 152,
   "metadata": {},
   "outputs": [
    {
     "data": {
      "text/plain": [
       "array([ 1.        ,  0.9781476 ,  0.91354546,  0.80901699,  0.66913061,\n",
       "        0.5       ,  0.30901699,  0.10452846, -0.10452846, -0.30901699,\n",
       "       -0.5       , -0.66913061, -0.80901699, -0.91354546, -0.9781476 ,\n",
       "       -1.        , -0.9781476 , -0.91354546, -0.80901699, -0.66913061,\n",
       "       -0.5       , -0.30901699, -0.10452846,  0.10452846,  0.30901699,\n",
       "        0.5       ,  0.66913061,  0.80901699,  0.91354546,  0.9781476 ])"
      ]
     },
     "execution_count": 152,
     "metadata": {},
     "output_type": "execute_result"
    }
   ],
   "source": [
    "np.cos(np.arange(30)*np.pi/15)"
   ]
  },
  {
   "cell_type": "code",
   "execution_count": 178,
   "metadata": {},
   "outputs": [
    {
     "name": "stdout",
     "output_type": "stream",
     "text": [
      "[ 4.97730223  4.97730223  4.97730223  4.97730223  4.97730223  4.97730223\n",
      "  4.97730223  4.97730223  4.97730223  4.97730223  4.97730223  4.97730223\n",
      "  4.97730223  4.97730223  4.97730223  4.97730223  4.97730223  4.97730223\n",
      "  4.97730223  4.97730223  4.97730223  4.97730223  4.97730223  4.97730223\n",
      "  4.97730223  4.97730223  4.97730223  4.97730223  4.97730223  4.97730223\n",
      "  4.97730223]\n"
     ]
    }
   ],
   "source": [
    "a=dist_from_pin(df['GPIR_HYBLATNFINE_1'].values[0], df['GPIR_HYBLONGNFINE_1'].values[0])\n",
    "print a*np.ones(31)"
   ]
  },
  {
   "cell_type": "code",
   "execution_count": 180,
   "metadata": {},
   "outputs": [
    {
     "data": {
      "text/plain": [
       "numpy.float64"
      ]
     },
     "execution_count": 180,
     "metadata": {},
     "output_type": "execute_result"
    }
   ],
   "source": [
    "type(a)"
   ]
  },
  {
   "cell_type": "code",
   "execution_count": 181,
   "metadata": {},
   "outputs": [
    {
     "data": {
      "text/plain": [
       "array([ 5.97730223,  5.97730223,  5.97730223])"
      ]
     },
     "execution_count": 181,
     "metadata": {},
     "output_type": "execute_result"
    }
   ],
   "source": [
    "a+np.ones(3)"
   ]
  },
  {
   "cell_type": "code",
   "execution_count": 1,
   "metadata": {},
   "outputs": [],
   "source": [
    "import sys\n",
    "sys.path.append('\\\\\\\\10.122.80.198\\\\anm_exchange\\\\ENFT\\\\SEB\\\\src\\\\simplekml130\\\\')\n",
    "#sys.path.remove('\\\\\\\\10.122.80.198\\\\anm_exchange\\\\ENFT\\\\SEB\\\\src\\\\')\n",
    "#sys.path.remove('\\\\\\\\10.122.80.198\\\\anm_exchange\\\\ENFT\\\\SEB\\\\src\\\\simplekml\\\\src2\\\\simplekml\\\\')\n",
    "#sys.path.append('\\\\\\\\10.122.80.198\\\\anm_exchange\\\\ENFT\\\\SEB\\\\src\\\\simplekml\\\\src2\\\\')"
   ]
  },
  {
   "cell_type": "code",
   "execution_count": 2,
   "metadata": {},
   "outputs": [
    {
     "name": "stdout",
     "output_type": "stream",
     "text": [
      "['', 'C:\\\\Users\\\\TO72078\\\\Anaconda2\\\\envs\\\\seb_env\\\\python27.zip', 'C:\\\\Users\\\\TO72078\\\\Anaconda2\\\\envs\\\\seb_env\\\\DLLs', 'C:\\\\Users\\\\TO72078\\\\Anaconda2\\\\envs\\\\seb_env\\\\lib', 'C:\\\\Users\\\\TO72078\\\\Anaconda2\\\\envs\\\\seb_env\\\\lib\\\\plat-win', 'C:\\\\Users\\\\TO72078\\\\Anaconda2\\\\envs\\\\seb_env\\\\lib\\\\lib-tk', 'C:\\\\Users\\\\TO72078\\\\Anaconda2\\\\envs\\\\seb_env', 'C:\\\\Users\\\\TO72078\\\\Anaconda2\\\\envs\\\\seb_env\\\\lib\\\\site-packages', 'C:\\\\Users\\\\TO72078\\\\Anaconda2\\\\envs\\\\seb_env\\\\lib\\\\site-packages\\\\IPython\\\\extensions', 'C:\\\\Users\\\\TO72078\\\\.ipython', '\\\\\\\\10.122.80.198\\\\anm_exchange\\\\ENFT\\\\SEB\\\\src\\\\']\n"
     ]
    }
   ],
   "source": [
    "print sys.path"
   ]
  },
  {
   "cell_type": "code",
   "execution_count": 4,
   "metadata": {},
   "outputs": [
    {
     "ename": "ImportError",
     "evalue": "No module named base",
     "output_type": "error",
     "traceback": [
      "\u001b[1;31m---------------------------------------------------------------------------\u001b[0m",
      "\u001b[1;31mImportError\u001b[0m                               Traceback (most recent call last)",
      "\u001b[1;32m<ipython-input-4-ec96e79afcac>\u001b[0m in \u001b[0;36m<module>\u001b[1;34m()\u001b[0m\n\u001b[1;32m----> 1\u001b[1;33m \u001b[1;32mimport\u001b[0m \u001b[0msimplekml\u001b[0m\u001b[1;33m.\u001b[0m\u001b[0msimplekml\u001b[0m\u001b[1;33m.\u001b[0m\u001b[0mabstractview\u001b[0m\u001b[1;33m\u001b[0m\u001b[0m\n\u001b[0m",
      "\u001b[1;32m\\\\10.122.80.198\\anm_exchange\\ENFT\\SEB\\src\\simplekml\\simplekml\\abstractview.py\u001b[0m in \u001b[0;36m<module>\u001b[1;34m()\u001b[0m\n\u001b[0;32m     18\u001b[0m \"\"\"\n\u001b[0;32m     19\u001b[0m \u001b[1;33m\u001b[0m\u001b[0m\n\u001b[1;32m---> 20\u001b[1;33m \u001b[1;32mfrom\u001b[0m \u001b[0msimplekml\u001b[0m\u001b[1;33m.\u001b[0m\u001b[0mbase\u001b[0m \u001b[1;32mimport\u001b[0m \u001b[0mKmlable\u001b[0m\u001b[1;33m,\u001b[0m \u001b[0mcheck\u001b[0m\u001b[1;33m\u001b[0m\u001b[0m\n\u001b[0m\u001b[0;32m     21\u001b[0m \u001b[1;32mfrom\u001b[0m \u001b[0msimplekml\u001b[0m\u001b[1;33m.\u001b[0m\u001b[0mtimeprimitive\u001b[0m \u001b[1;32mimport\u001b[0m \u001b[0mGxTimeStamp\u001b[0m\u001b[1;33m,\u001b[0m \u001b[0mGxTimeSpan\u001b[0m\u001b[1;33m\u001b[0m\u001b[0m\n\u001b[0;32m     22\u001b[0m \u001b[1;33m\u001b[0m\u001b[0m\n",
      "\u001b[1;31mImportError\u001b[0m: No module named base"
     ]
    }
   ],
   "source": [
    "import simplekml.simplekml.abstractview"
   ]
  },
  {
   "cell_type": "code",
   "execution_count": 13,
   "metadata": {
    "collapsed": true
   },
   "outputs": [],
   "source": [
    "from simplekml import *"
   ]
  },
  {
   "cell_type": "code",
   "execution_count": 17,
   "metadata": {},
   "outputs": [
    {
     "ename": "ImportError",
     "evalue": "No module named base",
     "output_type": "error",
     "traceback": [
      "\u001b[1;31m---------------------------------------------------------------------------\u001b[0m",
      "\u001b[1;31mImportError\u001b[0m                               Traceback (most recent call last)",
      "\u001b[1;32m<ipython-input-17-deb6a29190fd>\u001b[0m in \u001b[0;36m<module>\u001b[1;34m()\u001b[0m\n\u001b[1;32m----> 1\u001b[1;33m \u001b[1;32mimport\u001b[0m \u001b[0msimplekml\u001b[0m\u001b[1;33m.\u001b[0m\u001b[0mkml\u001b[0m\u001b[1;33m\u001b[0m\u001b[0m\n\u001b[0m",
      "\u001b[1;32m\\\\10.122.80.198\\anm_exchange\\ENFT\\SEB\\src\\simplekml\\kml.py\u001b[0m in \u001b[0;36m<module>\u001b[1;34m()\u001b[0m\n\u001b[0;32m     23\u001b[0m \u001b[1;32mimport\u001b[0m \u001b[0mos\u001b[0m\u001b[1;33m\u001b[0m\u001b[0m\n\u001b[0;32m     24\u001b[0m \u001b[1;33m\u001b[0m\u001b[0m\n\u001b[1;32m---> 25\u001b[1;33m \u001b[1;32mfrom\u001b[0m \u001b[0msimplekml\u001b[0m\u001b[1;33m.\u001b[0m\u001b[0mbase\u001b[0m \u001b[1;32mimport\u001b[0m \u001b[0mKmlable\u001b[0m\u001b[1;33m,\u001b[0m \u001b[0mKmlElement\u001b[0m\u001b[1;33m,\u001b[0m \u001b[0mcheck\u001b[0m\u001b[1;33m\u001b[0m\u001b[0m\n\u001b[0m\u001b[0;32m     26\u001b[0m \u001b[1;32mfrom\u001b[0m \u001b[0msimplekml\u001b[0m\u001b[1;33m.\u001b[0m\u001b[0mfeatgeom\u001b[0m \u001b[1;32mimport\u001b[0m \u001b[0mDocument\u001b[0m\u001b[1;33m,\u001b[0m \u001b[0mContainer\u001b[0m\u001b[1;33m\u001b[0m\u001b[0m\n\u001b[0;32m     27\u001b[0m \u001b[1;32mfrom\u001b[0m \u001b[0msimplekml\u001b[0m\u001b[1;33m.\u001b[0m\u001b[0mmakeunicode\u001b[0m \u001b[1;32mimport\u001b[0m \u001b[0mu\u001b[0m\u001b[1;33m\u001b[0m\u001b[0m\n",
      "\u001b[1;31mImportError\u001b[0m: No module named base"
     ]
    }
   ],
   "source": [
    "import simplekml.kml"
   ]
  },
  {
   "cell_type": "code",
   "execution_count": null,
   "metadata": {
    "collapsed": true
   },
   "outputs": [],
   "source": []
  }
 ],
 "metadata": {
  "kernelspec": {
   "display_name": "Python [default]",
   "language": "python",
   "name": "python2"
  },
  "language_info": {
   "codemirror_mode": {
    "name": "ipython",
    "version": 2
   },
   "file_extension": ".py",
   "mimetype": "text/x-python",
   "name": "python",
   "nbconvert_exporter": "python",
   "pygments_lexer": "ipython2",
   "version": "2.7.13"
  }
 },
 "nbformat": 4,
 "nbformat_minor": 2
}
