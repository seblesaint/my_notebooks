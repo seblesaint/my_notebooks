{
 "cells": [
  {
   "cell_type": "code",
   "execution_count": 33,
   "metadata": {},
   "outputs": [],
   "source": [
    "import sys, os, re\n",
    "import sqlite3"
   ]
  },
  {
   "cell_type": "code",
   "execution_count": 34,
   "metadata": {},
   "outputs": [],
   "source": [
    "project_path = \"C:\\\\Users\\\\TO72078\\\\Documents\\\\BIG_DATA\\\\UDACITY\\\\projects\\\\openstreetmap\"\n",
    "sys.path.append(project_path)\n",
    "import myeasysql\n",
    "db_name = 'toulouse'\n",
    "db_conn = sqlite3.connect(os.path.join(project_path, '%s.db' % db_name))\n",
    "c = db_conn.cursor()"
   ]
  },
  {
   "cell_type": "code",
   "execution_count": 36,
   "metadata": {},
   "outputs": [
    {
     "name": "stdout",
     "output_type": "stream",
     "text": [
      "dropping table nodes\n",
      "dropping table node_tags\n",
      "dropping table ways\n",
      "dropping table way_nodes\n",
      "dropping table way_tags\n",
      "Freeing memory on disk\n"
     ]
    }
   ],
   "source": [
    "myeasysql.empty_db(c)\n",
    "myeasysql.create_tables(c)"
   ]
  },
  {
   "cell_type": "code",
   "execution_count": 38,
   "metadata": {},
   "outputs": [
    {
     "data": {
      "text/plain": [
       "[u'nodes', u'node_tags', u'ways', u'way_tags', u'way_nodes']"
      ]
     },
     "execution_count": 38,
     "metadata": {},
     "output_type": "execute_result"
    }
   ],
   "source": [
    "myeasysql.list_tables(c)"
   ]
  },
  {
   "cell_type": "code",
   "execution_count": 39,
   "metadata": {},
   "outputs": [
    {
     "data": {
      "text/plain": [
       "[(u'CREATE TABLE ways\\n(\\n    id INTEGER PRIMARY KEY,\\n    user TEXT,\\n    uid INTEGER,\\n    version TEXT,\\n    changeset INTEGER,\\n    timestamp TEXT,\\n    FOREIGN KEY (uid)  REFERENCES nodes (uid),\\n    FOREIGN KEY (user) REFERENCES nodes (user)\\n)',)]"
      ]
     },
     "execution_count": 39,
     "metadata": {},
     "output_type": "execute_result"
    }
   ],
   "source": [
    "myeasysql.display_schema(c, 'ways')"
   ]
  },
  {
   "cell_type": "code",
   "execution_count": 40,
   "metadata": {},
   "outputs": [
    {
     "data": {
      "text/plain": [
       "[(u'CREATE TABLE nodes\\n(\\n    id INTEGER PRIMARY KEY,\\n    lat REAL,\\n    lon REAL,\\n    user TEXT,\\n    uid INTEGER,\\n    version TEXT,\\n    changeset INTEGER,\\n    timestamp TEXT,\\n    FOREIGN KEY (uid)  REFERENCES ways (uid),\\n    FOREIGN KEY (user) REFERENCES ways (user)\\n)',),\n",
       " (u'CREATE TABLE node_tags\\n(\\n    id INTEGER,\\n    key TEXT PRIMARY KEY,\\n    value TEXT,\\n    type TEXT,\\n    valid TEXT,\\n    FOREIGN KEY (id) REFERENCES nodes (id)\\n)',),\n",
       " (u'CREATE TABLE ways\\n(\\n    id INTEGER PRIMARY KEY,\\n    user TEXT,\\n    uid INTEGER,\\n    version TEXT,\\n    changeset INTEGER,\\n    timestamp TEXT,\\n    FOREIGN KEY (uid)  REFERENCES nodes (uid),\\n    FOREIGN KEY (user) REFERENCES nodes (user)\\n)',),\n",
       " (u'CREATE TABLE way_tags\\n(\\n    id INTEGER,\\n    key TEXT PRIMARY KEY,\\n    value TEXT,\\n    type TEXT,\\n    valid TEXT,\\n    FOREIGN KEY (id) REFERENCES way (id)\\n)',),\n",
       " (u'CREATE TABLE way_nodes\\n(\\n    id INTEGER,\\n    node_id INTEGER PRIMARY KEY,\\n    position INTEGER,\\n    FOREIGN KEY (id)  REFERENCES ways (id),\\n    FOREIGN KEY (node_id) REFERENCES nodes (id)\\n)',)]"
      ]
     },
     "execution_count": 40,
     "metadata": {},
     "output_type": "execute_result"
    }
   ],
   "source": [
    "myeasysql.display_schema(c)"
   ]
  },
  {
   "cell_type": "code",
   "execution_count": 41,
   "metadata": {},
   "outputs": [],
   "source": [
    "db_conn.close()"
   ]
  }
 ],
 "metadata": {
  "kernelspec": {
   "display_name": "Python 2",
   "language": "python",
   "name": "python2"
  },
  "language_info": {
   "codemirror_mode": {
    "name": "ipython",
    "version": 2
   },
   "file_extension": ".py",
   "mimetype": "text/x-python",
   "name": "python",
   "nbconvert_exporter": "python",
   "pygments_lexer": "ipython2",
   "version": "2.7.14"
  }
 },
 "nbformat": 4,
 "nbformat_minor": 2
}
