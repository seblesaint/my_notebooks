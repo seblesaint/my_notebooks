{
 "cells": [
  {
   "cell_type": "code",
   "execution_count": 10,
   "metadata": {
    "collapsed": true
   },
   "outputs": [],
   "source": [
    "import os, re\n",
    "import numpy as np\n",
    "import pandas as pd\n",
    "import matplotlib.pyplot as plt"
   ]
  },
  {
   "cell_type": "code",
   "execution_count": 11,
   "metadata": {
    "collapsed": true
   },
   "outputs": [],
   "source": [
    "%matplotlib inline"
   ]
  },
  {
   "cell_type": "code",
   "execution_count": 12,
   "metadata": {
    "collapsed": true
   },
   "outputs": [],
   "source": [
    "folder = ('\\\\\\\\10.122.80.198\\\\anm_exchange\\\\ENFT\\\\SEB\\\\CSV\\\\')"
   ]
  },
  {
   "cell_type": "code",
   "execution_count": 13,
   "metadata": {
    "collapsed": true
   },
   "outputs": [],
   "source": [
    "df_list = list()\n",
    "for traj_file in os.listdir(folder):\n",
    "    df_list.append(pd.read_csv(os.path.join(folder, traj_file)))\n",
    "    break"
   ]
  },
  {
   "cell_type": "code",
   "execution_count": 14,
   "metadata": {},
   "outputs": [
    {
     "data": {
      "text/html": [
       "<div>\n",
       "<style>\n",
       "    .dataframe thead tr:only-child th {\n",
       "        text-align: right;\n",
       "    }\n",
       "\n",
       "    .dataframe thead th {\n",
       "        text-align: left;\n",
       "    }\n",
       "\n",
       "    .dataframe tbody tr th {\n",
       "        vertical-align: top;\n",
       "    }\n",
       "</style>\n",
       "<table border=\"1\" class=\"dataframe\">\n",
       "  <thead>\n",
       "    <tr style=\"text-align: right;\">\n",
       "      <th></th>\n",
       "      <th>Unnamed: 0</th>\n",
       "      <th>GMTs_of_year</th>\n",
       "      <th>GMTs_of_day</th>\n",
       "      <th>LATITUDE</th>\n",
       "      <th>LONGITUDE</th>\n",
       "      <th>DX_AC2ANTENNA</th>\n",
       "      <th>DY_AC2ANTENNA</th>\n",
       "      <th>PNT</th>\n",
       "      <th>RWY</th>\n",
       "      <th>MAXOG</th>\n",
       "      <th>...</th>\n",
       "      <th>M1TCCH</th>\n",
       "      <th>M1TCCI</th>\n",
       "      <th>M1TCCL</th>\n",
       "      <th>M2TCCH</th>\n",
       "      <th>M2TCCI</th>\n",
       "      <th>M2TCCL</th>\n",
       "      <th>M1NAI</th>\n",
       "      <th>M2NAI</th>\n",
       "      <th>M1PC</th>\n",
       "      <th>M2PC</th>\n",
       "    </tr>\n",
       "  </thead>\n",
       "  <tbody>\n",
       "    <tr>\n",
       "      <th>0</th>\n",
       "      <td>28042</td>\n",
       "      <td>25234582.0</td>\n",
       "      <td>5782.0</td>\n",
       "      <td>43.834497</td>\n",
       "      <td>1.232058</td>\n",
       "      <td>-633.503739</td>\n",
       "      <td>9918.230170</td>\n",
       "      <td>TP</td>\n",
       "      <td>LFBO32L</td>\n",
       "      <td>25905.351562</td>\n",
       "      <td>...</td>\n",
       "      <td>3.537847</td>\n",
       "      <td>3.570437</td>\n",
       "      <td>0</td>\n",
       "      <td>3.569007</td>\n",
       "      <td>3.580014</td>\n",
       "      <td>0</td>\n",
       "      <td>0</td>\n",
       "      <td>0</td>\n",
       "      <td>0</td>\n",
       "      <td>0</td>\n",
       "    </tr>\n",
       "    <tr>\n",
       "      <th>1</th>\n",
       "      <td>28043</td>\n",
       "      <td>25234583.0</td>\n",
       "      <td>5783.0</td>\n",
       "      <td>43.833722</td>\n",
       "      <td>1.231225</td>\n",
       "      <td>-700.319706</td>\n",
       "      <td>9832.130284</td>\n",
       "      <td>TP</td>\n",
       "      <td>LFBO32L</td>\n",
       "      <td>25876.082031</td>\n",
       "      <td>...</td>\n",
       "      <td>3.556298</td>\n",
       "      <td>3.536443</td>\n",
       "      <td>0</td>\n",
       "      <td>3.569007</td>\n",
       "      <td>3.559284</td>\n",
       "      <td>0</td>\n",
       "      <td>0</td>\n",
       "      <td>0</td>\n",
       "      <td>0</td>\n",
       "      <td>0</td>\n",
       "    </tr>\n",
       "    <tr>\n",
       "      <th>2</th>\n",
       "      <td>28044</td>\n",
       "      <td>25234584.0</td>\n",
       "      <td>5784.0</td>\n",
       "      <td>43.832883</td>\n",
       "      <td>1.230324</td>\n",
       "      <td>-772.673303</td>\n",
       "      <td>9738.827248</td>\n",
       "      <td>TP</td>\n",
       "      <td>LFBO32L</td>\n",
       "      <td>25846.765625</td>\n",
       "      <td>...</td>\n",
       "      <td>3.551211</td>\n",
       "      <td>3.534059</td>\n",
       "      <td>0</td>\n",
       "      <td>3.540449</td>\n",
       "      <td>3.564364</td>\n",
       "      <td>0</td>\n",
       "      <td>0</td>\n",
       "      <td>0</td>\n",
       "      <td>0</td>\n",
       "      <td>0</td>\n",
       "    </tr>\n",
       "    <tr>\n",
       "      <th>3</th>\n",
       "      <td>28045</td>\n",
       "      <td>25234585.0</td>\n",
       "      <td>5785.0</td>\n",
       "      <td>43.832108</td>\n",
       "      <td>1.229493</td>\n",
       "      <td>-839.424568</td>\n",
       "      <td>9652.663643</td>\n",
       "      <td>TP</td>\n",
       "      <td>LFBO32L</td>\n",
       "      <td>25817.373047</td>\n",
       "      <td>...</td>\n",
       "      <td>3.574801</td>\n",
       "      <td>3.599776</td>\n",
       "      <td>0</td>\n",
       "      <td>3.548278</td>\n",
       "      <td>3.556536</td>\n",
       "      <td>0</td>\n",
       "      <td>0</td>\n",
       "      <td>0</td>\n",
       "      <td>0</td>\n",
       "      <td>0</td>\n",
       "    </tr>\n",
       "    <tr>\n",
       "      <th>4</th>\n",
       "      <td>28046</td>\n",
       "      <td>25234586.0</td>\n",
       "      <td>5786.0</td>\n",
       "      <td>43.831269</td>\n",
       "      <td>1.228592</td>\n",
       "      <td>-911.699296</td>\n",
       "      <td>9559.272347</td>\n",
       "      <td>TP</td>\n",
       "      <td>LFBO32L</td>\n",
       "      <td>25787.904297</td>\n",
       "      <td>...</td>\n",
       "      <td>3.540999</td>\n",
       "      <td>3.552695</td>\n",
       "      <td>0</td>\n",
       "      <td>3.540449</td>\n",
       "      <td>3.564364</td>\n",
       "      <td>0</td>\n",
       "      <td>0</td>\n",
       "      <td>0</td>\n",
       "      <td>0</td>\n",
       "      <td>0</td>\n",
       "    </tr>\n",
       "  </tbody>\n",
       "</table>\n",
       "<p>5 rows × 80 columns</p>\n",
       "</div>"
      ],
      "text/plain": [
       "   Unnamed: 0  GMTs_of_year  GMTs_of_day   LATITUDE  LONGITUDE  DX_AC2ANTENNA  \\\n",
       "0       28042    25234582.0       5782.0  43.834497   1.232058    -633.503739   \n",
       "1       28043    25234583.0       5783.0  43.833722   1.231225    -700.319706   \n",
       "2       28044    25234584.0       5784.0  43.832883   1.230324    -772.673303   \n",
       "3       28045    25234585.0       5785.0  43.832108   1.229493    -839.424568   \n",
       "4       28046    25234586.0       5786.0  43.831269   1.228592    -911.699296   \n",
       "\n",
       "   DY_AC2ANTENNA PNT      RWY         MAXOG  ...     M1TCCH    M1TCCI  M1TCCL  \\\n",
       "0    9918.230170  TP  LFBO32L  25905.351562  ...   3.537847  3.570437       0   \n",
       "1    9832.130284  TP  LFBO32L  25876.082031  ...   3.556298  3.536443       0   \n",
       "2    9738.827248  TP  LFBO32L  25846.765625  ...   3.551211  3.534059       0   \n",
       "3    9652.663643  TP  LFBO32L  25817.373047  ...   3.574801  3.599776       0   \n",
       "4    9559.272347  TP  LFBO32L  25787.904297  ...   3.540999  3.552695       0   \n",
       "\n",
       "     M2TCCH    M2TCCI  M2TCCL  M1NAI  M2NAI  M1PC  M2PC  \n",
       "0  3.569007  3.580014       0      0      0     0     0  \n",
       "1  3.569007  3.559284       0      0      0     0     0  \n",
       "2  3.540449  3.564364       0      0      0     0     0  \n",
       "3  3.548278  3.556536       0      0      0     0     0  \n",
       "4  3.540449  3.564364       0      0      0     0     0  \n",
       "\n",
       "[5 rows x 80 columns]"
      ]
     },
     "execution_count": 14,
     "metadata": {},
     "output_type": "execute_result"
    }
   ],
   "source": [
    "df0 = df_list[0]\n",
    "df0.head()"
   ]
  },
  {
   "cell_type": "code",
   "execution_count": 15,
   "metadata": {},
   "outputs": [
    {
     "data": {
      "text/plain": [
       "['LFBO32L']"
      ]
     },
     "execution_count": 15,
     "metadata": {},
     "output_type": "execute_result"
    }
   ],
   "source": [
    "df0.groupby('RWY').groups.keys()"
   ]
  },
  {
   "cell_type": "code",
   "execution_count": 16,
   "metadata": {
    "scrolled": true
   },
   "outputs": [
    {
     "name": "stdout",
     "output_type": "stream",
     "text": [
      "{'LFBO32L': 1}\n"
     ]
    }
   ],
   "source": [
    "from pprint import pprint\n",
    "rwy_dict = dict()\n",
    "for df in df_list:\n",
    "    if len(df.groupby('RWY').groups.keys()) > 1: pprint(df.groupby('RWY').groups)\n",
    "    for rwy in df.groupby('RWY').groups.keys():\n",
    "        if not rwy_dict.has_key(rwy): rwy_dict[rwy] = 0\n",
    "        rwy_dict[rwy] += 1\n",
    "pprint(rwy_dict)"
   ]
  },
  {
   "cell_type": "code",
   "execution_count": 17,
   "metadata": {},
   "outputs": [
    {
     "name": "stdout",
     "output_type": "stream",
     "text": [
      "1\n"
     ]
    }
   ],
   "source": [
    "i=0\n",
    "for k,v in rwy_dict.iteritems(): i+= v\n",
    "print i"
   ]
  },
  {
   "cell_type": "code",
   "execution_count": 18,
   "metadata": {},
   "outputs": [
    {
     "data": {
      "text/plain": [
       "3346620.0"
      ]
     },
     "execution_count": 18,
     "metadata": {},
     "output_type": "execute_result"
    }
   ],
   "source": [
    "YEAR=2017\n",
    "GMTs=3.34662E+12 / 1000000\n",
    "GMTs"
   ]
  },
  {
   "cell_type": "code",
   "execution_count": 19,
   "metadata": {
    "collapsed": true
   },
   "outputs": [],
   "source": [
    "import datetime"
   ]
  },
  {
   "cell_type": "code",
   "execution_count": 20,
   "metadata": {},
   "outputs": [
    {
     "data": {
      "text/plain": [
       "datetime.date(2017, 1, 1)"
      ]
     },
     "execution_count": 20,
     "metadata": {},
     "output_type": "execute_result"
    }
   ],
   "source": [
    "date = datetime.date(YEAR, 1, 1)\n",
    "date"
   ]
  },
  {
   "cell_type": "code",
   "execution_count": 21,
   "metadata": {},
   "outputs": [
    {
     "data": {
      "text/plain": [
       "3346620.0"
      ]
     },
     "execution_count": 21,
     "metadata": {},
     "output_type": "execute_result"
    }
   ],
   "source": [
    "td = datetime.timedelta(seconds=GMTs)\n",
    "td.total_seconds()"
   ]
  },
  {
   "cell_type": "code",
   "execution_count": 22,
   "metadata": {},
   "outputs": [
    {
     "data": {
      "text/plain": [
       "31536000.0"
      ]
     },
     "execution_count": 22,
     "metadata": {},
     "output_type": "execute_result"
    }
   ],
   "source": [
    "year = datetime.timedelta(days=365)\n",
    "year.total_seconds()\n"
   ]
  },
  {
   "cell_type": "code",
   "execution_count": 23,
   "metadata": {
    "collapsed": true
   },
   "outputs": [],
   "source": [
    "d = date + td"
   ]
  },
  {
   "cell_type": "code",
   "execution_count": 24,
   "metadata": {},
   "outputs": [
    {
     "data": {
      "text/plain": [
       "'2017-02-08'"
      ]
     },
     "execution_count": 24,
     "metadata": {},
     "output_type": "execute_result"
    }
   ],
   "source": [
    "d.isoformat()"
   ]
  },
  {
   "cell_type": "code",
   "execution_count": 25,
   "metadata": {},
   "outputs": [
    {
     "data": {
      "text/plain": [
       "'170208'"
      ]
     },
     "execution_count": 25,
     "metadata": {},
     "output_type": "execute_result"
    }
   ],
   "source": [
    "d.strftime(\"%y%m%d\")\n"
   ]
  },
  {
   "cell_type": "code",
   "execution_count": 26,
   "metadata": {},
   "outputs": [
    {
     "name": "stdout",
     "output_type": "stream",
     "text": [
      "C:\\Users\\TO72078\\Anaconda2\\envs\\seb_env\\lib\\site-packages\n"
     ]
    }
   ],
   "source": [
    "import os, matplotlib\n",
    "print os.path.dirname(matplotlib.__path__[0])"
   ]
  },
  {
   "cell_type": "code",
   "execution_count": 27,
   "metadata": {},
   "outputs": [
    {
     "name": "stdout",
     "output_type": "stream",
     "text": [
      "[[ 25234582.]\n",
      " [ 25234583.]\n",
      " [ 25234584.]\n",
      " [ 25234585.]\n",
      " [ 25234586.]]\n",
      "   Unnamed: 0  GMTs_of_year  GMTs_of_day   LATITUDE  LONGITUDE  DX_AC2ANTENNA  \\\n",
      "0       28042    25234582.5       5782.0  43.834497   1.232058    -633.503739   \n",
      "1       28043    25234583.5       5783.0  43.833722   1.231225    -700.319706   \n",
      "2       28044    25234584.0       5784.0  43.832883   1.230324    -772.673303   \n",
      "\n",
      "   DY_AC2ANTENNA PNT      RWY         MAXOG  ...     M1TCCH    M1TCCI  M1TCCL  \\\n",
      "0    9918.230170  TP  LFBO32L  25905.351562  ...   3.537847  3.570437       0   \n",
      "1    9832.130284  TP  LFBO32L  25876.082031  ...   3.556298  3.536443       0   \n",
      "2    9738.827248  TP  LFBO32L  25846.765625  ...   3.551211  3.534059       0   \n",
      "\n",
      "     M2TCCH    M2TCCI  M2TCCL  M1NAI  M2NAI  M1PC  M2PC  \n",
      "0  3.569007  3.580014       0      0      0     0     0  \n",
      "1  3.569007  3.559284       0      0      0     0     0  \n",
      "2  3.540449  3.564364       0      0      0     0     0  \n",
      "\n",
      "[3 rows x 80 columns]\n",
      "   Unnamed: 0  GMTs_of_year  GMTs_of_day   LATITUDE  LONGITUDE  DX_AC2ANTENNA  \\\n",
      "0       28042    25234582.5       5782.0  43.834497   1.232058    -633.503739   \n",
      "1       28043    25234583.5       5783.0  43.833722   1.231225    -700.319706   \n",
      "2       28044    25234584.0       5784.0  43.832883   1.230324    -772.673303   \n",
      "3       28045    25234585.0       5785.0  43.832108   1.229493    -839.424568   \n",
      "\n",
      "   DY_AC2ANTENNA PNT      RWY         MAXOG  ...     M1TCCH    M1TCCI  M1TCCL  \\\n",
      "0    9918.230170  TP  LFBO32L  25905.351562  ...   3.537847  3.570437       0   \n",
      "1    9832.130284  TP  LFBO32L  25876.082031  ...   3.556298  3.536443       0   \n",
      "2    9738.827248  TP  LFBO32L  25846.765625  ...   3.551211  3.534059       0   \n",
      "3    9652.663643  TP  LFBO32L  25817.373047  ...   3.574801  3.599776       0   \n",
      "\n",
      "     M2TCCH    M2TCCI  M2TCCL  M1NAI  M2NAI  M1PC  M2PC  \n",
      "0  3.569007  3.580014       0      0      0     0     0  \n",
      "1  3.569007  3.559284       0      0      0     0     0  \n",
      "2  3.540449  3.564364       0      0      0     0     0  \n",
      "3  3.548278  3.556536       0      0      0     0     0  \n",
      "\n",
      "[4 rows x 80 columns]\n"
     ]
    }
   ],
   "source": [
    "print df0[['GMTs_of_year']].values[:5]\n",
    "df0.loc[:1,'GMTs_of_year'] = np.array([[25234582.5],[25234583.5]])\n",
    "print df0.iloc[:3]\n",
    "print df0.loc[:3]"
   ]
  },
  {
   "cell_type": "code",
   "execution_count": 51,
   "metadata": {},
   "outputs": [],
   "source": [
    "df0.loc[:,'new'] = df0['GMTs_of_year']\n",
    "df0['new'] = df0['GMTs_of_year'] # idem!"
   ]
  },
  {
   "cell_type": "code",
   "execution_count": 52,
   "metadata": {},
   "outputs": [
    {
     "data": {
      "text/plain": [
       "0    25234582.5\n",
       "1    25234583.5\n",
       "2    25234584.0\n",
       "3    25234585.0\n",
       "4    25234586.0\n",
       "5    25234587.0\n",
       "Name: GMTs_of_year, dtype: float64"
      ]
     },
     "execution_count": 52,
     "metadata": {},
     "output_type": "execute_result"
    }
   ],
   "source": [
    "df0.loc[:5,'GMTs_of_year']"
   ]
  },
  {
   "cell_type": "code",
   "execution_count": 53,
   "metadata": {},
   "outputs": [
    {
     "data": {
      "text/plain": [
       "0    25234582.5\n",
       "1    25234583.5\n",
       "2    25234584.0\n",
       "3    25234585.0\n",
       "4    25234586.0\n",
       "5    25234587.0\n",
       "Name: new, dtype: float64"
      ]
     },
     "execution_count": 53,
     "metadata": {},
     "output_type": "execute_result"
    }
   ],
   "source": [
    "df0.loc[:5,'new']"
   ]
  },
  {
   "cell_type": "code",
   "execution_count": null,
   "metadata": {
    "collapsed": true
   },
   "outputs": [],
   "source": []
  },
  {
   "cell_type": "code",
   "execution_count": null,
   "metadata": {
    "collapsed": true
   },
   "outputs": [],
   "source": []
  },
  {
   "cell_type": "code",
   "execution_count": null,
   "metadata": {
    "collapsed": true
   },
   "outputs": [],
   "source": []
  },
  {
   "cell_type": "code",
   "execution_count": null,
   "metadata": {
    "collapsed": true
   },
   "outputs": [],
   "source": []
  },
  {
   "cell_type": "code",
   "execution_count": null,
   "metadata": {
    "collapsed": true
   },
   "outputs": [],
   "source": []
  },
  {
   "cell_type": "code",
   "execution_count": null,
   "metadata": {
    "collapsed": true
   },
   "outputs": [],
   "source": []
  },
  {
   "cell_type": "code",
   "execution_count": null,
   "metadata": {
    "collapsed": true
   },
   "outputs": [],
   "source": []
  },
  {
   "cell_type": "code",
   "execution_count": null,
   "metadata": {
    "collapsed": true
   },
   "outputs": [],
   "source": []
  },
  {
   "cell_type": "code",
   "execution_count": 27,
   "metadata": {
    "collapsed": true
   },
   "outputs": [],
   "source": [
    "gmts=df0[['GMTs_of_year']]/1.e6"
   ]
  },
  {
   "cell_type": "code",
   "execution_count": null,
   "metadata": {
    "collapsed": true
   },
   "outputs": [],
   "source": [
    "gmt_start=df0[['GMTs']].values[0][0]/1.e6"
   ]
  },
  {
   "cell_type": "code",
   "execution_count": 18,
   "metadata": {},
   "outputs": [
    {
     "ename": "NameError",
     "evalue": "name 'gmt_start' is not defined",
     "output_type": "error",
     "traceback": [
      "\u001b[1;31m---------------------------------------------------------------------------\u001b[0m",
      "\u001b[1;31mNameError\u001b[0m                                 Traceback (most recent call last)",
      "\u001b[1;32m<ipython-input-18-73dbf69c32b6>\u001b[0m in \u001b[0;36m<module>\u001b[1;34m()\u001b[0m\n\u001b[1;32m----> 1\u001b[1;33m \u001b[0mgmt_start\u001b[0m\u001b[1;33m\u001b[0m\u001b[0m\n\u001b[0m",
      "\u001b[1;31mNameError\u001b[0m: name 'gmt_start' is not defined"
     ]
    }
   ],
   "source": [
    "gmt_start"
   ]
  },
  {
   "cell_type": "code",
   "execution_count": 19,
   "metadata": {
    "collapsed": true
   },
   "outputs": [],
   "source": [
    "YEAR=2017"
   ]
  },
  {
   "cell_type": "code",
   "execution_count": 20,
   "metadata": {},
   "outputs": [
    {
     "ename": "NameError",
     "evalue": "name 'gmt_start' is not defined",
     "output_type": "error",
     "traceback": [
      "\u001b[1;31m---------------------------------------------------------------------------\u001b[0m",
      "\u001b[1;31mNameError\u001b[0m                                 Traceback (most recent call last)",
      "\u001b[1;32m<ipython-input-20-ae1e068155c4>\u001b[0m in \u001b[0;36m<module>\u001b[1;34m()\u001b[0m\n\u001b[0;32m      1\u001b[0m \u001b[0myear_dt_zero\u001b[0m \u001b[1;33m=\u001b[0m \u001b[0mdatetime\u001b[0m\u001b[1;33m.\u001b[0m\u001b[0mdatetime\u001b[0m\u001b[1;33m(\u001b[0m\u001b[0mYEAR\u001b[0m\u001b[1;33m,\u001b[0m \u001b[1;36m1\u001b[0m\u001b[1;33m,\u001b[0m \u001b[1;36m1\u001b[0m\u001b[1;33m)\u001b[0m\u001b[1;33m\u001b[0m\u001b[0m\n\u001b[1;32m----> 2\u001b[1;33m \u001b[0mflight_dt_start\u001b[0m \u001b[1;33m=\u001b[0m \u001b[0myear_dt_zero\u001b[0m \u001b[1;33m+\u001b[0m \u001b[0mdatetime\u001b[0m\u001b[1;33m.\u001b[0m\u001b[0mtimedelta\u001b[0m\u001b[1;33m(\u001b[0m\u001b[0mseconds\u001b[0m\u001b[1;33m=\u001b[0m\u001b[0mgmt_start\u001b[0m\u001b[1;33m)\u001b[0m\u001b[1;33m\u001b[0m\u001b[0m\n\u001b[0m\u001b[0;32m      3\u001b[0m \u001b[0mDATE\u001b[0m \u001b[1;33m=\u001b[0m \u001b[0mflight_dt_start\u001b[0m\u001b[1;33m.\u001b[0m\u001b[0mstrftime\u001b[0m\u001b[1;33m(\u001b[0m\u001b[1;34m\"%y%m%d%H%M%S\"\u001b[0m\u001b[1;33m)\u001b[0m\u001b[1;33m\u001b[0m\u001b[0m\n\u001b[0;32m      4\u001b[0m \u001b[1;33m\u001b[0m\u001b[0m\n\u001b[0;32m      5\u001b[0m \u001b[1;32mprint\u001b[0m \u001b[0mDATE\u001b[0m\u001b[1;33m\u001b[0m\u001b[0m\n",
      "\u001b[1;31mNameError\u001b[0m: name 'gmt_start' is not defined"
     ]
    }
   ],
   "source": [
    "year_dt_zero = datetime.datetime(YEAR, 1, 1)\n",
    "flight_dt_start = year_dt_zero + datetime.timedelta(seconds=gmt_start)\n",
    "DATE = flight_dt_start.strftime(\"%y%m%d%H%M%S\")\n",
    "\n",
    "print DATE"
   ]
  },
  {
   "cell_type": "code",
   "execution_count": 21,
   "metadata": {},
   "outputs": [
    {
     "ename": "NameError",
     "evalue": "name 'DATE' is not defined",
     "output_type": "error",
     "traceback": [
      "\u001b[1;31m---------------------------------------------------------------------------\u001b[0m",
      "\u001b[1;31mNameError\u001b[0m                                 Traceback (most recent call last)",
      "\u001b[1;32m<ipython-input-21-ffe68fcec8a0>\u001b[0m in \u001b[0;36m<module>\u001b[1;34m()\u001b[0m\n\u001b[1;32m----> 1\u001b[1;33m \u001b[0mflight_dt_zero\u001b[0m \u001b[1;33m=\u001b[0m \u001b[0mdatetime\u001b[0m\u001b[1;33m.\u001b[0m\u001b[0mdatetime\u001b[0m\u001b[1;33m.\u001b[0m\u001b[0mstrptime\u001b[0m\u001b[1;33m(\u001b[0m\u001b[0mDATE\u001b[0m\u001b[1;33m,\u001b[0m \u001b[1;34m\"%y%m%d\"\u001b[0m\u001b[1;33m)\u001b[0m\u001b[1;33m\u001b[0m\u001b[0m\n\u001b[0m\u001b[0;32m      2\u001b[0m \u001b[1;32mprint\u001b[0m \u001b[0mflight_dt_zero\u001b[0m\u001b[1;33m\u001b[0m\u001b[0m\n",
      "\u001b[1;31mNameError\u001b[0m: name 'DATE' is not defined"
     ]
    }
   ],
   "source": [
    "flight_dt_zero = datetime.datetime.strptime(DATE, \"%y%m%d\")\n",
    "print flight_dt_zero"
   ]
  },
  {
   "cell_type": "code",
   "execution_count": 22,
   "metadata": {},
   "outputs": [
    {
     "ename": "NameError",
     "evalue": "name 'flight_dt_start' is not defined",
     "output_type": "error",
     "traceback": [
      "\u001b[1;31m---------------------------------------------------------------------------\u001b[0m",
      "\u001b[1;31mNameError\u001b[0m                                 Traceback (most recent call last)",
      "\u001b[1;32m<ipython-input-22-bd0e98e8b717>\u001b[0m in \u001b[0;36m<module>\u001b[1;34m()\u001b[0m\n\u001b[1;32m----> 1\u001b[1;33m \u001b[0mgmt_zero\u001b[0m \u001b[1;33m=\u001b[0m \u001b[1;33m(\u001b[0m\u001b[0mflight_dt_start\u001b[0m \u001b[1;33m-\u001b[0m \u001b[0mflight_dt_zero\u001b[0m\u001b[1;33m)\u001b[0m\u001b[1;33m.\u001b[0m\u001b[0mtotal_seconds\u001b[0m\u001b[1;33m(\u001b[0m\u001b[1;33m)\u001b[0m\u001b[1;33m\u001b[0m\u001b[0m\n\u001b[0m",
      "\u001b[1;31mNameError\u001b[0m: name 'flight_dt_start' is not defined"
     ]
    }
   ],
   "source": [
    "gmt_zero = (flight_dt_start - flight_dt_zero).total_seconds()"
   ]
  },
  {
   "cell_type": "code",
   "execution_count": 23,
   "metadata": {},
   "outputs": [
    {
     "ename": "NameError",
     "evalue": "name 'gmt_zero' is not defined",
     "output_type": "error",
     "traceback": [
      "\u001b[1;31m---------------------------------------------------------------------------\u001b[0m",
      "\u001b[1;31mNameError\u001b[0m                                 Traceback (most recent call last)",
      "\u001b[1;32m<ipython-input-23-abd7881f8937>\u001b[0m in \u001b[0;36m<module>\u001b[1;34m()\u001b[0m\n\u001b[1;32m----> 1\u001b[1;33m \u001b[0mgmt_zero\u001b[0m\u001b[1;33m\u001b[0m\u001b[0m\n\u001b[0m",
      "\u001b[1;31mNameError\u001b[0m: name 'gmt_zero' is not defined"
     ]
    }
   ],
   "source": [
    "gmt_zero"
   ]
  },
  {
   "cell_type": "code",
   "execution_count": null,
   "metadata": {
    "collapsed": true
   },
   "outputs": [],
   "source": [
    "df0[df0['REFPOINT_DIST_KM'] < 3]['REFPOINT_DIST_KM'].values[0]"
   ]
  },
  {
   "cell_type": "code",
   "execution_count": null,
   "metadata": {
    "collapsed": true
   },
   "outputs": [],
   "source": [
    "df0['REFPOINT_DIST_KM'].values[df0['REFPOINT_DIST_KM'] < 3].mean()"
   ]
  },
  {
   "cell_type": "code",
   "execution_count": null,
   "metadata": {
    "collapsed": true
   },
   "outputs": [],
   "source": [
    "df0.head()"
   ]
  },
  {
   "cell_type": "code",
   "execution_count": null,
   "metadata": {
    "collapsed": true
   },
   "outputs": [],
   "source": []
  }
 ],
 "metadata": {
  "kernelspec": {
   "display_name": "Python [default]",
   "language": "python",
   "name": "python2"
  },
  "language_info": {
   "codemirror_mode": {
    "name": "ipython",
    "version": 2
   },
   "file_extension": ".py",
   "mimetype": "text/x-python",
   "name": "python",
   "nbconvert_exporter": "python",
   "pygments_lexer": "ipython2",
   "version": "2.7.13"
  }
 },
 "nbformat": 4,
 "nbformat_minor": 2
}
