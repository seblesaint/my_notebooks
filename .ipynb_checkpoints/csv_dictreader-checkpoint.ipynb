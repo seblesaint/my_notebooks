{
 "cells": [
  {
   "cell_type": "code",
   "execution_count": 27,
   "metadata": {},
   "outputs": [
    {
     "name": "stdout",
     "output_type": "stream",
     "text": [
      "['URI', 'rdf-schema#label', 'rdf-schema#comment', 'assembly_label', 'assembly', 'automobilePlatform_label', 'automobilePlatform', 'bodyStyle_label', 'bodyStyle', 'class_label', 'class', 'designCompany_label', 'designCompany', 'designer_label', 'designer', 'engine_label', 'engine', 'fuelCapacity', 'height', 'layout_label', 'layout', 'length', 'manufacturer_label', 'manufacturer', 'modelEndYear', 'modelStartYear', 'parentCompany_label', 'parentCompany', 'predecessor_label', 'predecessor', 'productionEndDate', 'productionEndYear', 'productionStartDate', 'productionStartYear', 'relatedMeanOfTransportation_label', 'relatedMeanOfTransportation', 'sales_label', 'sales', 'successor_label', 'successor', 'thumbnail_label', 'thumbnail', 'transmission', 'variantOf_label', 'variantOf', 'vehicle_label', 'vehicle', 'weight', 'wheelbase', 'width', 'point', '22-rdf-syntax-ns#type_label', '22-rdf-syntax-ns#type', 'wgs84_pos#lat', 'wgs84_pos#long', 'depiction_label', 'depiction', 'name']\n"
     ]
    }
   ],
   "source": [
    "\"\"\"\n",
    "Your task is to check the \"productionStartYear\" of the DBPedia autos datafile for valid values.\n",
    "The following things should be done:\n",
    "- check if the field \"productionStartYear\" contains a year\n",
    "- check if the year is in range 1886-2014\n",
    "- convert the value of the field to be just a year (not full datetime)\n",
    "- the rest of the fields and values should stay the same\n",
    "- if the value of the field is a valid year in the range as described above,\n",
    "  write that line to the output_good file\n",
    "- if the value of the field is not a valid year as described above, \n",
    "  write that line to the output_bad file\n",
    "- discard rows (neither write to good nor bad) if the URI is not from dbpedia.org\n",
    "- you should use the provided way of reading and writing data (DictReader and DictWriter)\n",
    "  They will take care of dealing with the header.\n",
    "\n",
    "You can write helper functions for checking the data and writing the files, but we will call only the \n",
    "'process_file' with 3 arguments (inputfile, output_good, output_bad).\n",
    "\"\"\"\n",
    "import os, csv, re\n",
    "import pprint\n",
    "from datetime import datetime\n",
    "\n",
    "INPUT_FILE = os.path.join('data', 'DataWrangling', 'autos.csv')\n",
    "OUTPUT_GOOD = 'autos-valid.csv'\n",
    "OUTPUT_BAD = 'FIXME-autos.csv'\n",
    "\n",
    "def process_file(input_file, output_good, output_bad):\n",
    "\n",
    "    with open(input_file, \"r\") as f:\n",
    "        reader = csv.DictReader(f)\n",
    "        header = reader.fieldnames\n",
    "        #COMPLETE THIS FUNCTION\n",
    "        GOODDATA = []\n",
    "        BADDATA = []\n",
    "        print header\n",
    "        for row in reader:\n",
    "            if row['URI'].find(\"dbpedia.org\") < 0:\n",
    "            #if not re.match(r'http://dbpedia.org/.*', row['URI']): continue\n",
    "            dtstr = row[\"productionStartYear\"]\n",
    "            try:\n",
    "                #year = datetime.strptime(dtstr, '%Y-01-01T00:00:00+02:00').strftime('%Y')\n",
    "                year = \n",
    "                row[\"productionStartYear\"] = year\n",
    "                if 1886 <= int(year) <= 2014:\n",
    "                    row[\"productionStartYear\"]\n",
    "                    GOODDATA.append(row)\n",
    "                else:\n",
    "                    BADDATA.append(row)\n",
    "            except ValueError: # datetime format unrecognized\n",
    "                BADDATA.append(row)\n",
    "                \n",
    "    # This is just an example on how you can use csv.DictWriter\n",
    "    # Remember that you have to output 2 files\n",
    "    with open(output_good, \"w\") as g:\n",
    "        writer = csv.DictWriter(g, delimiter=\",\", fieldnames= header)\n",
    "        writer.writeheader()\n",
    "        for row in GOODDATA:\n",
    "            writer.writerow(row)\n",
    "    with open(output_bad, \"w\") as g:\n",
    "        writer = csv.DictWriter(g, delimiter=\",\", fieldnames= header)\n",
    "        writer.writeheader()\n",
    "        for row in BADDATA:\n",
    "            writer.writerow(row)\n",
    "\n",
    "def test():\n",
    "\n",
    "    process_file(INPUT_FILE, OUTPUT_GOOD, OUTPUT_BAD)\n",
    "\n",
    "\n",
    "if __name__ == \"__main__\":\n",
    "    test()"
   ]
  },
  {
   "cell_type": "code",
   "execution_count": 30,
   "metadata": {},
   "outputs": [
    {
     "ename": "ValueError",
     "evalue": "time data 'TUTU1964-01-01T00:00:00+02:00' does not match format '%Y-01-01T00:00:00+02:00'",
     "output_type": "error",
     "traceback": [
      "\u001b[1;31m---------------------------------------------------------------------------\u001b[0m",
      "\u001b[1;31mValueError\u001b[0m                                Traceback (most recent call last)",
      "\u001b[1;32m<ipython-input-30-b50656922443>\u001b[0m in \u001b[0;36m<module>\u001b[1;34m()\u001b[0m\n\u001b[0;32m      1\u001b[0m \u001b[1;32mfrom\u001b[0m \u001b[0mdatetime\u001b[0m \u001b[1;32mimport\u001b[0m \u001b[0mdatetime\u001b[0m\u001b[1;33m\u001b[0m\u001b[0m\n\u001b[0;32m      2\u001b[0m \u001b[0mdtstr\u001b[0m \u001b[1;33m=\u001b[0m \u001b[1;34m'TUTU1964-01-01T00:00:00+02:00'\u001b[0m\u001b[1;33m\u001b[0m\u001b[0m\n\u001b[1;32m----> 3\u001b[1;33m \u001b[0myear\u001b[0m \u001b[1;33m=\u001b[0m \u001b[0mdatetime\u001b[0m\u001b[1;33m.\u001b[0m\u001b[0mstrptime\u001b[0m\u001b[1;33m(\u001b[0m\u001b[0mdtstr\u001b[0m\u001b[1;33m,\u001b[0m \u001b[1;34m'%Y-01-01T00:00:00+02:00'\u001b[0m\u001b[1;33m)\u001b[0m\u001b[1;33m.\u001b[0m\u001b[0mstrftime\u001b[0m\u001b[1;33m(\u001b[0m\u001b[1;34m'%Y'\u001b[0m\u001b[1;33m)\u001b[0m\u001b[1;33m\u001b[0m\u001b[0m\n\u001b[0m\u001b[0;32m      4\u001b[0m \u001b[1;32mprint\u001b[0m \u001b[0myear\u001b[0m\u001b[1;33m\u001b[0m\u001b[0m\n",
      "\u001b[1;32mC:\\Users\\TO72078\\Anaconda2\\Lib\\_strptime.pyc\u001b[0m in \u001b[0;36m_strptime\u001b[1;34m(data_string, format)\u001b[0m\n\u001b[0;32m    330\u001b[0m     \u001b[1;32mif\u001b[0m \u001b[1;32mnot\u001b[0m \u001b[0mfound\u001b[0m\u001b[1;33m:\u001b[0m\u001b[1;33m\u001b[0m\u001b[0m\n\u001b[0;32m    331\u001b[0m         raise ValueError(\"time data %r does not match format %r\" %\n\u001b[1;32m--> 332\u001b[1;33m                          (data_string, format))\n\u001b[0m\u001b[0;32m    333\u001b[0m     \u001b[1;32mif\u001b[0m \u001b[0mlen\u001b[0m\u001b[1;33m(\u001b[0m\u001b[0mdata_string\u001b[0m\u001b[1;33m)\u001b[0m \u001b[1;33m!=\u001b[0m \u001b[0mfound\u001b[0m\u001b[1;33m.\u001b[0m\u001b[0mend\u001b[0m\u001b[1;33m(\u001b[0m\u001b[1;33m)\u001b[0m\u001b[1;33m:\u001b[0m\u001b[1;33m\u001b[0m\u001b[0m\n\u001b[0;32m    334\u001b[0m         raise ValueError(\"unconverted data remains: %s\" %\n",
      "\u001b[1;31mValueError\u001b[0m: time data 'TUTU1964-01-01T00:00:00+02:00' does not match format '%Y-01-01T00:00:00+02:00'"
     ]
    }
   ],
   "source": [
    "from datetime import datetime\n",
    "dtstr = 'TUTU1964-01-01T00:00:00+02:00'\n",
    "year = datetime.strptime(dtstr, '%Y-01-01T00:00:00+02:00').strftime('%Y')\n",
    "print year"
   ]
  },
  {
   "cell_type": "code",
   "execution_count": null,
   "metadata": {
    "collapsed": true
   },
   "outputs": [],
   "source": []
  }
 ],
 "metadata": {
  "kernelspec": {
   "display_name": "Python 2",
   "language": "python",
   "name": "python2"
  },
  "language_info": {
   "codemirror_mode": {
    "name": "ipython",
    "version": 2
   },
   "file_extension": ".py",
   "mimetype": "text/x-python",
   "name": "python",
   "nbconvert_exporter": "python",
   "pygments_lexer": "ipython2",
   "version": "2.7.13"
  }
 },
 "nbformat": 4,
 "nbformat_minor": 2
}
