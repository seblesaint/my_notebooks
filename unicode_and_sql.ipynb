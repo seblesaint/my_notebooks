{
 "cells": [
  {
   "cell_type": "code",
   "execution_count": 6,
   "metadata": {},
   "outputs": [
    {
     "name": "stdout",
     "output_type": "stream",
     "text": [
      "<type 'unicode'>\n",
      "<type 'unicode'>\n",
      "<type 'str'>\n"
     ]
    }
   ],
   "source": [
    "import sqlite3\n",
    "\n",
    "con = sqlite3.connect(\":memory:\")\n",
    "cur = con.cursor()\n",
    "\n",
    "AUSTRIA = u\"\\xd6sterreich\"\n",
    "\n",
    "print type(AUSTRIA)\n",
    "\n",
    "# by default, rows are returned as Unicode\n",
    "cur.execute(\"select ?\", (AUSTRIA,))\n",
    "row = cur.fetchone()\n",
    "assert row[0] == AUSTRIA\n",
    "\n",
    "print type(row[0])\n",
    "\n",
    "# but we can make sqlite3 always return bytestrings ...\n",
    "con.text_factory = str\n",
    "cur.execute(\"select ?\", (AUSTRIA,))\n",
    "row = cur.fetchone()\n",
    "\n",
    "print type(row[0])\n",
    "\n",
    "assert type(row[0]) is str\n",
    "# the bytestrings will be encoded in UTF-8, unless you stored garbage in the\n",
    "# database ...\n",
    "assert row[0] == AUSTRIA.encode(\"utf-8\")"
   ]
  },
  {
   "cell_type": "code",
   "execution_count": 2,
   "metadata": {},
   "outputs": [
    {
     "name": "stdout",
     "output_type": "stream",
     "text": [
      "('\\xc3\\x96sterreich',)\n"
     ]
    }
   ],
   "source": [
    "cur.execute(\"select ?\", (AUSTRIA,))\n",
    "row = cur.fetchone()\n",
    "print row"
   ]
  },
  {
   "cell_type": "code",
   "execution_count": 9,
   "metadata": {},
   "outputs": [
    {
     "data": {
      "text/plain": [
       "str"
      ]
     },
     "execution_count": 9,
     "metadata": {},
     "output_type": "execute_result"
    }
   ],
   "source": [
    "type(AUSTRIA.encode(\"utf-8\"))"
   ]
  }
 ],
 "metadata": {
  "kernelspec": {
   "display_name": "Python 2",
   "language": "python",
   "name": "python2"
  },
  "language_info": {
   "codemirror_mode": {
    "name": "ipython",
    "version": 2
   },
   "file_extension": ".py",
   "mimetype": "text/x-python",
   "name": "python",
   "nbconvert_exporter": "python",
   "pygments_lexer": "ipython2",
   "version": "2.7.14"
  }
 },
 "nbformat": 4,
 "nbformat_minor": 2
}
