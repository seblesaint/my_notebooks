{
 "cells": [
  {
   "cell_type": "markdown",
   "metadata": {},
   "source": [
    "# SQLite database analysis"
   ]
  },
  {
   "cell_type": "code",
   "execution_count": 1,
   "metadata": {},
   "outputs": [],
   "source": [
    "import sys, os, sqlite3, pandas, pprint\n",
    "import numpy as np\n",
    "project_path = \"C:\\\\Users\\\\TO72078\\\\Documents\\\\BIG_DATA\\\\UDACITY\\\\projects\\\\openstreetmap\"\n",
    "if project_path not in sys.path: sys.path.append(project_path)\n",
    "from myeasysql import db_query\n",
    "db_name = 'toulouse'\n",
    "db_conn = sqlite3.connect(os.path.join(project_path, '%s.db' % db_name))\n",
    "c = db_conn.cursor()"
   ]
  },
  {
   "cell_type": "markdown",
   "metadata": {},
   "source": [
    "## Nodes and Ways"
   ]
  },
  {
   "cell_type": "code",
   "execution_count": 3,
   "metadata": {},
   "outputs": [
    {
     "name": "stdout",
     "output_type": "stream",
     "text": [
      "Number of nodes is 1898299\n"
     ]
    }
   ],
   "source": [
    "print 'Number of nodes is %d' % db_query(c, 'SELECT COUNT(*) FROM nodes')[0]"
   ]
  },
  {
   "cell_type": "markdown",
   "metadata": {},
   "source": [
    "Almost 2 millions of nodes within Toulouse OSM, not ridiculous!"
   ]
  },
  {
   "cell_type": "code",
   "execution_count": 22,
   "metadata": {},
   "outputs": [
    {
     "name": "stdout",
     "output_type": "stream",
     "text": [
      "Number of ways is 322102\n"
     ]
    }
   ],
   "source": [
    "print 'Number of ways is %d' % db_query(c, 'SELECT COUNT(*) FROM ways')[0]"
   ]
  },
  {
   "cell_type": "markdown",
   "metadata": {},
   "source": [
    "## Contributors"
   ]
  },
  {
   "cell_type": "code",
   "execution_count": 5,
   "metadata": {},
   "outputs": [
    {
     "name": "stdout",
     "output_type": "stream",
     "text": [
      "Number of unique users is 1360\n"
     ]
    }
   ],
   "source": [
    "# number of unique users\n",
    "QUERY = '''\n",
    "SELECT COUNT(*)\n",
    "FROM\n",
    "    (SELECT e.uid\n",
    "     FROM (SELECT uid FROM nodes UNION ALL SELECT uid FROM ways) e\n",
    "     GROUP BY e.uid) u;\n",
    "'''\n",
    "print 'Number of unique users is %d' % db_query(c, QUERY)[0]"
   ]
  },
  {
   "cell_type": "markdown",
   "metadata": {},
   "source": [
    "Let's try to query the same information without grouping thanks to `DISTINCT` sql function:"
   ]
  },
  {
   "cell_type": "code",
   "execution_count": 6,
   "metadata": {},
   "outputs": [
    {
     "name": "stdout",
     "output_type": "stream",
     "text": [
      "Number of unique users is 1360\n"
     ]
    }
   ],
   "source": [
    "# number of unique users (simpler query)\n",
    "QUERY = '''SELECT COUNT(DISTINCT(e.uid))          \n",
    "FROM (SELECT uid FROM nodes UNION ALL SELECT uid FROM ways) e;'''\n",
    "print 'Number of unique users is %d' % db_query(c, QUERY)[0]"
   ]
  },
  {
   "cell_type": "code",
   "execution_count": 7,
   "metadata": {},
   "outputs": [
    {
     "name": "stdout",
     "output_type": "stream",
     "text": [
      "Number of users with single contribution is 309\n"
     ]
    }
   ],
   "source": [
    "# number of users with single contribution\n",
    "QUERY = '''\n",
    "SELECT COUNT(*)\n",
    "FROM\n",
    "    (SELECT e.user, COUNT(*) as num\n",
    "     FROM (SELECT user FROM nodes UNION ALL SELECT user FROM ways) e\n",
    "     GROUP BY e.user\n",
    "     HAVING num=1)  u;\n",
    "'''\n",
    "print 'Number of users with single contribution is %d' % db_query(c, QUERY)[0]"
   ]
  },
  {
   "cell_type": "markdown",
   "metadata": {},
   "source": [
    "We may assume that people who made only one contribution were rather bystanders than contributors. Unless their single contribution aimed at fixing some defect!"
   ]
  },
  {
   "cell_type": "code",
   "execution_count": 8,
   "metadata": {},
   "outputs": [
    {
     "name": "stdout",
     "output_type": "stream",
     "text": [
      "Pinpin:825803\n",
      "emarsden:221134\n",
      "Sebastien Dinot:125725\n",
      "don-vip:119111\n",
      "PierenBot:105636\n",
      "Spontex:103742\n",
      "Chouloute:55983\n",
      "square:55749\n",
      "FredB:41053\n",
      "Florian Birée:40605\n"
     ]
    }
   ],
   "source": [
    "# users sorted by number of contributions\n",
    "QUERY = '''\n",
    "SELECT e.user, COUNT(*) as num\n",
    "FROM (SELECT user FROM nodes UNION ALL SELECT user FROM ways) e\n",
    "GROUP BY e.user\n",
    "ORDER by num DESC\n",
    "LIMIT 10;\n",
    "'''\n",
    "for (k,v) in db_query(c, QUERY): print '%s:%d' % (k,v)"
   ]
  },
  {
   "cell_type": "markdown",
   "metadata": {},
   "source": [
    "Let's build an intermediate table to ease next queries based on contribution level:"
   ]
  },
  {
   "cell_type": "code",
   "execution_count": 11,
   "metadata": {},
   "outputs": [],
   "source": [
    "# create table with uid, user and number of contributions\n",
    "db_query(c, 'DROP TABLE IF EXISTS contribution_level')\n",
    "QUERY = '''\n",
    "CREATE TABLE contribution_level AS\n",
    "SELECT e.uid as uid, e.user as user, COUNT(*) as num\n",
    "FROM (SELECT user, uid FROM nodes UNION ALL SELECT user, uid FROM ways) e\n",
    "GROUP BY e.uid;\n",
    "'''\n",
    "result = db_query(c, QUERY)"
   ]
  },
  {
   "cell_type": "markdown",
   "metadata": {},
   "source": [
    "Checking this new table:"
   ]
  },
  {
   "cell_type": "code",
   "execution_count": 19,
   "metadata": {},
   "outputs": [
    {
     "name": "stdout",
     "output_type": "stream",
     "text": [
      "Pinpin:825803\n",
      "emarsden:221134\n",
      "Sebastien Dinot:125725\n"
     ]
    }
   ],
   "source": [
    "QUERY = '''\n",
    "select user, num from contribution_level order by num DESC limit 3;\n",
    "'''\n",
    "for (k,v) in db_query(c, QUERY): print '%s:%d' % (k,v)"
   ]
  },
  {
   "cell_type": "markdown",
   "metadata": {},
   "source": [
    "Now let's exploit this new table to extract the number of users with contribution level greater than level average:"
   ]
  },
  {
   "cell_type": "code",
   "execution_count": 20,
   "metadata": {},
   "outputs": [
    {
     "name": "stdout",
     "output_type": "stream",
     "text": [
      "Number of users with contribution level greater than average is 55\n"
     ]
    }
   ],
   "source": [
    "QUERY = '''\n",
    "select count(*) from\n",
    "(select user, num\n",
    "from contribution_level, (select avg(num) as av from contribution_level) as subq\n",
    "where num > av);\n",
    "'''\n",
    "print 'Number of users with contribution level greater than average is %d' % db_query(c, QUERY)[0]"
   ]
  },
  {
   "cell_type": "markdown",
   "metadata": {},
   "source": [
    "Let's figure out how complex would be the same query without the table `contribution_level`:"
   ]
  },
  {
   "cell_type": "code",
   "execution_count": 21,
   "metadata": {},
   "outputs": [
    {
     "name": "stdout",
     "output_type": "stream",
     "text": [
      "Number of users with contribution level greater than average is 55\n"
     ]
    }
   ],
   "source": [
    "QUERY = '''\n",
    "select count(*) from\n",
    "(select user, num from\n",
    "(SELECT e.uid as uid, e.user as user, COUNT(*) as num\n",
    "FROM (SELECT user, uid FROM nodes UNION ALL SELECT user, uid FROM ways) e\n",
    "GROUP BY e.uid) as contribution_level,\n",
    "(select avg(num) as av from contribution_level) as subq\n",
    "where num > av);\n",
    "'''\n",
    "print 'Number of users with contribution level greater than average is %d' % db_query(c, QUERY)[0]"
   ]
  },
  {
   "cell_type": "markdown",
   "metadata": {},
   "source": [
    "Conclusion: possible, but not so easy to build..."
   ]
  },
  {
   "cell_type": "markdown",
   "metadata": {},
   "source": [
    "Let's check that the analysis could be performed as well with pandas module by converting the query result into a pandas dataframe:"
   ]
  },
  {
   "cell_type": "code",
   "execution_count": 15,
   "metadata": {},
   "outputs": [
    {
     "data": {
      "text/html": [
       "<div>\n",
       "<style scoped>\n",
       "    .dataframe tbody tr th:only-of-type {\n",
       "        vertical-align: middle;\n",
       "    }\n",
       "\n",
       "    .dataframe tbody tr th {\n",
       "        vertical-align: top;\n",
       "    }\n",
       "\n",
       "    .dataframe thead th {\n",
       "        text-align: right;\n",
       "    }\n",
       "</style>\n",
       "<table border=\"1\" class=\"dataframe\">\n",
       "  <thead>\n",
       "    <tr style=\"text-align: right;\">\n",
       "      <th></th>\n",
       "      <th>0</th>\n",
       "      <th>1</th>\n",
       "    </tr>\n",
       "  </thead>\n",
       "  <tbody>\n",
       "    <tr>\n",
       "      <th>0</th>\n",
       "      <td>Jean Yves Garinet</td>\n",
       "      <td>27</td>\n",
       "    </tr>\n",
       "    <tr>\n",
       "      <th>1</th>\n",
       "      <td>00seb</td>\n",
       "      <td>1</td>\n",
       "    </tr>\n",
       "    <tr>\n",
       "      <th>2</th>\n",
       "      <td>0120134</td>\n",
       "      <td>21</td>\n",
       "    </tr>\n",
       "    <tr>\n",
       "      <th>3</th>\n",
       "      <td>0live</td>\n",
       "      <td>2</td>\n",
       "    </tr>\n",
       "    <tr>\n",
       "      <th>4</th>\n",
       "      <td>0livier</td>\n",
       "      <td>1</td>\n",
       "    </tr>\n",
       "  </tbody>\n",
       "</table>\n",
       "</div>"
      ],
      "text/plain": [
       "                    0   1\n",
       "0   Jean Yves Garinet  27\n",
       "1               00seb   1\n",
       "2             0120134  21\n",
       "3               0live   2\n",
       "4             0livier   1"
      ]
     },
     "execution_count": 15,
     "metadata": {},
     "output_type": "execute_result"
    }
   ],
   "source": [
    "QUERY = '''\n",
    "SELECT e.user, COUNT(*) as num\n",
    "FROM (SELECT user FROM nodes UNION ALL SELECT user FROM ways) e\n",
    "GROUP BY e.user;\n",
    "'''\n",
    "rows = db_query(c, QUERY)\n",
    "contribution_level_df = pandas.DataFrame(rows)\n",
    "contribution_level_df.head()"
   ]
  },
  {
   "cell_type": "markdown",
   "metadata": {},
   "source": [
    "It works. Now pandas could be used to explore the contributors dataframe..."
   ]
  },
  {
   "cell_type": "markdown",
   "metadata": {},
   "source": [
    "## Sort amenity nodes by occurrence (descending/ascending)"
   ]
  },
  {
   "cell_type": "code",
   "execution_count": 23,
   "metadata": {},
   "outputs": [
    {
     "data": {
      "text/plain": [
       "[(u'bench', 843),\n",
       " (u'restaurant', 773),\n",
       " (u'waste_basket', 454),\n",
       " (u'bicycle_parking', 431),\n",
       " (u'post_box', 415),\n",
       " (u'recycling', 415),\n",
       " (u'fast_food', 333),\n",
       " (u'bicycle_rental', 271),\n",
       " (u'parking', 257),\n",
       " (u'bank', 238)]"
      ]
     },
     "execution_count": 23,
     "metadata": {},
     "output_type": "execute_result"
    }
   ],
   "source": [
    "db_query(c, \"SELECT value, COUNT(*) as num FROM node_tags WHERE key = 'amenity' GROUP BY value ORDER BY num DESC LIMIT 10;\")"
   ]
  },
  {
   "cell_type": "code",
   "execution_count": 25,
   "metadata": {},
   "outputs": [
    {
     "data": {
      "text/plain": [
       "[(u'animal_training', 1),\n",
       " (u'bicycle_repair_station', 1),\n",
       " (u'casino', 1),\n",
       " (u'copyrama', 1),\n",
       " (u'courthouse', 1),\n",
       " (u'dancing_school', 1),\n",
       " (u'financial_advice', 1),\n",
       " (u'library;recycling', 1),\n",
       " (u'memorial', 1),\n",
       " (u'mobile_library', 1),\n",
       " (u'money_transfer', 1),\n",
       " (u'music_school', 1),\n",
       " (u'music_venue', 1),\n",
       " (u'nursing_home', 1),\n",
       " (u'post_pickup', 1),\n",
       " (u'retirement_home', 1),\n",
       " (u'showcase', 1),\n",
       " (u'sloped_curb', 1),\n",
       " (u'smoking_area', 1),\n",
       " (u'social_centre', 1)]"
      ]
     },
     "execution_count": 25,
     "metadata": {},
     "output_type": "execute_result"
    }
   ],
   "source": [
    "db_query(c, \"SELECT value, COUNT(*) as num FROM node_tags WHERE key = 'amenity' GROUP BY value ORDER BY num ASC LIMIT 20;\")"
   ]
  },
  {
   "cell_type": "markdown",
   "metadata": {},
   "source": [
    "There are twice more restaurants than fast food, that's a very good indicator for gastronomy level of the city.\n",
    "Yet Toulouse seems to be a quite \"young\" city since we find there many schools and only one retirement home. Only one??? Is this map really complete? For a city of half a million of people living intra-muros, it seems very low...\n",
    "Let's add way_tags to our query"
   ]
  },
  {
   "cell_type": "code",
   "execution_count": 54,
   "metadata": {},
   "outputs": [
    {
     "data": {
      "text/plain": [
       "[(1,), (5,)]"
      ]
     },
     "execution_count": 54,
     "metadata": {},
     "output_type": "execute_result"
    }
   ],
   "source": [
    "db_query(c, \"SELECT COUNT(*) FROM node_tags WHERE value LIKE '%retire%' UNION ALL SELECT COUNT(*) FROM way_tags WHERE value LIKE '%retire%';\")"
   ]
  },
  {
   "cell_type": "markdown",
   "metadata": {},
   "source": [
    "Now it seems a better estimate of this kind of amenities. Why are some (5) of these locations referenced as ways rather than nodes? Is the single node referenced as retirement home linked with one of the ways objects? Let's investigate."
   ]
  },
  {
   "cell_type": "code",
   "execution_count": 94,
   "metadata": {},
   "outputs": [
    {
     "name": "stdout",
     "output_type": "stream",
     "text": [
      "ways referenced as retirement home: [(64420853,), (70491815,), (74711365,), (105556140,), (186123723,)]\n",
      "*****************\n",
      "way = [(64420853, u'Tiss\\xe9o', 2875126, u'6', 31843590, u'2015-06-09T13:01:21Z')]\n",
      "name = EHPAD Résidence Émeraude, Maison de Retraite Médicalisée\n",
      "source = cadastre-dgi-fr source : Direction Générale des Impôts - Cadastre. Mise à jour : 2010\n",
      "amenity = retirement_home\n",
      "building = yes\n",
      "street = Rue des Amandiers\n",
      "housenumber = 14\n",
      "*****************\n",
      "way = [(70491815, u'Spontex', 115737, u'2', 5385690, u'2010-08-02T22:35:43Z')]\n",
      "name = Résidence Loubayssens\n",
      "source = cadastre-dgi-fr source : Direction Générale des Impôts - Cadastre. Mise à jour : 2010\n",
      "amenity = retirement_home\n",
      "building = yes\n",
      "*****************\n",
      "way = [(74711365, u'Luuuddooo', 388649, u'5', 30824077, u'2015-05-05T21:29:55Z')]\n",
      "name = EHPAD Arc en Ciel\n",
      "source = cadastre-dgi-fr source : Direction Générale des Impôts - Cadastre. Mise à jour : 2010\n",
      "amenity = retirement_home\n",
      "website = http://www.maisonretraite.com/\n",
      "building = yes\n",
      "*****************\n",
      "way = [(105556140, u'Luuuddooo', 388649, u'2', 34151815, u'2015-09-20T23:55:54Z')]\n",
      "name = Maison de retraite\n",
      "source = cadastre-dgi-fr source : Direction Générale des Impôts - Cadastre. Mise à jour : 2011\n",
      "amenity = retirement_home\n",
      "building = yes\n",
      "*****************\n",
      "way = [(186123723, u'lenny32', 1101497, u'2', 15846563, u'2013-04-24T09:11:44Z')]\n",
      "name = L'Edelweiss\n",
      "source = cadastre-dgi-fr source : Direction Générale des Impôts - Cadastre. Mise à jour : 2012\n",
      "amenity = retirement_home\n",
      "building = yes\n",
      "operator = Groupe Edenis\n",
      "street = Allée du Plantaurel\n",
      "email = accueiledelweiss@edenis.fr\n",
      "housenumber = 5\n"
     ]
    }
   ],
   "source": [
    "rh_ways_ids = db_query(c, \"SELECT id FROM way_tags WHERE value LIKE '%retire%';\")\n",
    "print 'ways referenced as retirement home:', rh_ways_ids\n",
    "for (wid,) in rh_ways_ids:\n",
    "    print '*****************'\n",
    "    print 'way =', db_query(c, \"SELECT * FROM ways WHERE id = %d;\" % wid)\n",
    "    for kv in db_query(c, \"SELECT key, value FROM way_tags WHERE id = %d;\" % wid):\n",
    "        print '%s = %s' % kv"
   ]
  },
  {
   "cell_type": "markdown",
   "metadata": {},
   "source": [
    "All these locations described as ways seem valid. The common point within these ways is the key-value building=yes. By reading the wiki https://wiki.openstreetmap.org/wiki/Way we can learn that ways objects, when they are \"closed\" (with the last node corresponding to the first one), can be interpreted as \"polygons\", or \"areas\". That's the case here, the building limits are given by the list of way nodes. Let's confirm it with a screen capture of OSM result for \"L'Edelweiss Toulouse\":\n",
    "\n",
    "![title](img/edelweiss.png)\n",
    "<center>https://www.openstreetmap.org/way/186123723</center>\n"
   ]
  },
  {
   "cell_type": "code",
   "execution_count": 90,
   "metadata": {},
   "outputs": [
    {
     "name": "stdout",
     "output_type": "stream",
     "text": [
      "nodes referenced as retirement home: [(1572879008,)]\n",
      "*****************\n",
      "node = [(1572879008, 43.5357128, 1.4688832, u'Tiss\\xe9o', 2875126, u'2', 35262786, u'2015-11-12T14:45:53Z')]\n",
      "name = EHPAD les Fontenelles\n",
      "amenity = retirement_home\n",
      "emergency = no\n"
     ]
    }
   ],
   "source": [
    "rh_nodes_ids = db_query(c, \"SELECT id FROM node_tags WHERE value LIKE '%retire%';\")\n",
    "print 'nodes referenced as retirement home:', rh_nodes_ids\n",
    "for (nid,) in rh_nodes_ids:\n",
    "    print '*****************'\n",
    "    print 'node =',db_query(c, \"SELECT * FROM nodes WHERE id = %d;\" % nid)\n",
    "    for kv in db_query(c, \"SELECT key, value FROM node_tags WHERE id = %d;\" % nid):\n",
    "        print '%s = %s' % kv"
   ]
  },
  {
   "cell_type": "markdown",
   "metadata": {},
   "source": [
    "As already seen, only one node is referenced as retirement home.\n",
    "\n",
    "Let's check that this node is not referenced by the 5 previous ways:"
   ]
  },
  {
   "cell_type": "code",
   "execution_count": 91,
   "metadata": {},
   "outputs": [
    {
     "name": "stdout",
     "output_type": "stream",
     "text": [
      "no match\n",
      "no match\n",
      "no match\n",
      "no match\n",
      "no match\n"
     ]
    }
   ],
   "source": [
    "for (wid,) in rh_ways_ids:\n",
    "    result = db_query(c, \"SELECT * FROM way_nodes WHERE id = %d AND node_id = %d;\" % (wid, nid))\n",
    "    print 'match!' if len(result) > 0 else 'no match'"
   ]
  },
  {
   "cell_type": "markdown",
   "metadata": {},
   "source": [
    "Now let's see if there is some building in Toulouse defined as closed way and referecing our node:"
   ]
  },
  {
   "cell_type": "code",
   "execution_count": 92,
   "metadata": {},
   "outputs": [
    {
     "name": "stdout",
     "output_type": "stream",
     "text": [
      "no match\n"
     ]
    }
   ],
   "source": [
    "result = db_query(c, \"SELECT * FROM way_nodes WHERE node_id = %d;\" % nid)\n",
    "print 'match!' if len(result) > 0 else 'no match'"
   ]
  },
  {
   "cell_type": "markdown",
   "metadata": {},
   "source": [
    "Failed, there is no relation between our retirement home node and any already existing building?. Do we have to draw this building and inject it into OSM? That's some work, let's try a last shot by comparing lat/lon locations of the existing buildings and our mystery node. For that we need two helper functions:\n",
    "- a function or table that computes the center of gravity of a (closed) way\n",
    "- a function that roughly computes the distance between two points given their lat/lon attributes"
   ]
  },
  {
   "cell_type": "code",
   "execution_count": 157,
   "metadata": {},
   "outputs": [],
   "source": [
    "def compute_cdg(wid):\n",
    "    '''Computes average latitude/longitude of the given way object'''\n",
    "    QUERY = \"\"\"\n",
    "    SELECT avg(lat), avg(lon) FROM\n",
    "    (SELECT lat, lon FROM nodes JOIN way_nodes ON nodes.id=way_nodes.node_id WHERE way_nodes.id=%d)\n",
    "    \"\"\" % wid\n",
    "    (cdg_lat, cdg_lon) = db_query(c, QUERY)[0]\n",
    "    return (cdg_lat, cdg_lon)\n",
    "\n",
    "def equi_rect_distance(lat1deg,lon1deg,lat2deg,lon2deg):\n",
    "    '''\n",
    "    Computes equirectangular distance between two points expressed in (lat, lon) in degrees\n",
    "    '''\n",
    "    lat1rad,lon1rad,lat2rad,lon2rad = tuple(map((lambda x:x*np.pi/180.), (lat1deg,lon1deg,lat2deg,lon2deg)))\n",
    "    R = 6371000.  #radius of the earth in m\n",
    "    dx = (lon1rad - lon2rad) * np.cos( 0.5*(lat1rad + lat2rad) )\n",
    "    dy = lat1rad - lat2rad\n",
    "    d = np.sqrt( dx*dx + dy*dy )\n",
    "    return R*d"
   ]
  },
  {
   "cell_type": "markdown",
   "metadata": {},
   "source": [
    "Let's build a table made of buildings with on-th-fly averaging of referenced nodes, starting from position 1 to avoid over-weighting of duplicated first and last node:"
   ]
  },
  {
   "cell_type": "code",
   "execution_count": 121,
   "metadata": {},
   "outputs": [
    {
     "data": {
      "text/plain": [
       "[]"
      ]
     },
     "execution_count": 121,
     "metadata": {},
     "output_type": "execute_result"
    }
   ],
   "source": [
    "QUERY = \"\"\"\n",
    "CREATE TABLE IF NOT EXISTS buildings AS\n",
    "SELECT wid, avglat, avglon\n",
    "FROM (\n",
    "    SELECT way_nodes.id as wid, avg(lat) as avglat, avg(lon) as avglon\n",
    "    FROM way_tags\n",
    "    JOIN way_nodes ON way_tags.id=way_nodes.id\n",
    "    JOIN nodes ON nodes.id=way_nodes.node_id\n",
    "    WHERE way_nodes.position > 0 AND way_tags.key='building' AND way_tags.value='yes'\n",
    "    GROUP BY wid\n",
    "    )\n",
    "\"\"\"\n",
    "db_query(c, QUERY)"
   ]
  },
  {
   "cell_type": "markdown",
   "metadata": {},
   "source": [
    "Now let's find within buildings table which one is the closest from our orphan retirement home node.\n",
    "Let's use pandas to have some good exercise..."
   ]
  },
  {
   "cell_type": "code",
   "execution_count": 126,
   "metadata": {},
   "outputs": [],
   "source": [
    "df_buildings = pandas.DataFrame(db_query(c, 'select * from buildings'), columns=['id', 'lat', 'lon'])"
   ]
  },
  {
   "cell_type": "code",
   "execution_count": 127,
   "metadata": {},
   "outputs": [
    {
     "data": {
      "text/html": [
       "<div>\n",
       "<style scoped>\n",
       "    .dataframe tbody tr th:only-of-type {\n",
       "        vertical-align: middle;\n",
       "    }\n",
       "\n",
       "    .dataframe tbody tr th {\n",
       "        vertical-align: top;\n",
       "    }\n",
       "\n",
       "    .dataframe thead th {\n",
       "        text-align: right;\n",
       "    }\n",
       "</style>\n",
       "<table border=\"1\" class=\"dataframe\">\n",
       "  <thead>\n",
       "    <tr style=\"text-align: right;\">\n",
       "      <th></th>\n",
       "      <th>id</th>\n",
       "      <th>lat</th>\n",
       "      <th>lon</th>\n",
       "    </tr>\n",
       "  </thead>\n",
       "  <tbody>\n",
       "    <tr>\n",
       "      <th>0</th>\n",
       "      <td>14804388</td>\n",
       "      <td>43.658340</td>\n",
       "      <td>1.427857</td>\n",
       "    </tr>\n",
       "    <tr>\n",
       "      <th>1</th>\n",
       "      <td>17027846</td>\n",
       "      <td>43.563258</td>\n",
       "      <td>1.462690</td>\n",
       "    </tr>\n",
       "    <tr>\n",
       "      <th>2</th>\n",
       "      <td>17027867</td>\n",
       "      <td>43.562830</td>\n",
       "      <td>1.466148</td>\n",
       "    </tr>\n",
       "    <tr>\n",
       "      <th>3</th>\n",
       "      <td>17028232</td>\n",
       "      <td>43.568690</td>\n",
       "      <td>1.465350</td>\n",
       "    </tr>\n",
       "    <tr>\n",
       "      <th>4</th>\n",
       "      <td>17028292</td>\n",
       "      <td>43.567570</td>\n",
       "      <td>1.466419</td>\n",
       "    </tr>\n",
       "  </tbody>\n",
       "</table>\n",
       "</div>"
      ],
      "text/plain": [
       "         id        lat       lon\n",
       "0  14804388  43.658340  1.427857\n",
       "1  17027846  43.563258  1.462690\n",
       "2  17027867  43.562830  1.466148\n",
       "3  17028232  43.568690  1.465350\n",
       "4  17028292  43.567570  1.466419"
      ]
     },
     "execution_count": 127,
     "metadata": {},
     "output_type": "execute_result"
    }
   ],
   "source": [
    "df_buildings.head()"
   ]
  },
  {
   "cell_type": "code",
   "execution_count": 128,
   "metadata": {},
   "outputs": [
    {
     "data": {
      "text/plain": [
       "771174"
      ]
     },
     "execution_count": 128,
     "metadata": {},
     "output_type": "execute_result"
    }
   ],
   "source": [
    "df_buildings.size"
   ]
  },
  {
   "cell_type": "markdown",
   "metadata": {},
   "source": [
    "Let's compute distance between these 771174 buildings and our mystery node, whose lat/lon are:"
   ]
  },
  {
   "cell_type": "code",
   "execution_count": 140,
   "metadata": {},
   "outputs": [
    {
     "name": "stdout",
     "output_type": "stream",
     "text": [
      "43.5357128 1.4688832\n"
     ]
    }
   ],
   "source": [
    "reflat, reflon = db_query(c, \"SELECT lat, lon FROM nodes WHERE id = %d;\" % nid)[0]\n",
    "print reflat, reflon"
   ]
  },
  {
   "cell_type": "code",
   "execution_count": 148,
   "metadata": {},
   "outputs": [
    {
     "data": {
      "text/plain": [
       "(array([], dtype=int64),)"
      ]
     },
     "execution_count": 148,
     "metadata": {},
     "output_type": "execute_result"
    }
   ],
   "source": [
    "np.where(df_buildings['lon'].isnull())"
   ]
  },
  {
   "cell_type": "code",
   "execution_count": 155,
   "metadata": {},
   "outputs": [],
   "source": [
    "df_buildings['distance'] = equi_rect_distance(df_buildings['lat'].values, df_buildings['lon'].values, reflat, reflon) "
   ]
  },
  {
   "cell_type": "code",
   "execution_count": 158,
   "metadata": {},
   "outputs": [
    {
     "data": {
      "text/html": [
       "<div>\n",
       "<style scoped>\n",
       "    .dataframe tbody tr th:only-of-type {\n",
       "        vertical-align: middle;\n",
       "    }\n",
       "\n",
       "    .dataframe tbody tr th {\n",
       "        vertical-align: top;\n",
       "    }\n",
       "\n",
       "    .dataframe thead th {\n",
       "        text-align: right;\n",
       "    }\n",
       "</style>\n",
       "<table border=\"1\" class=\"dataframe\">\n",
       "  <thead>\n",
       "    <tr style=\"text-align: right;\">\n",
       "      <th></th>\n",
       "      <th>id</th>\n",
       "      <th>lat</th>\n",
       "      <th>lon</th>\n",
       "      <th>distance</th>\n",
       "    </tr>\n",
       "  </thead>\n",
       "  <tbody>\n",
       "    <tr>\n",
       "      <th>0</th>\n",
       "      <td>14804388</td>\n",
       "      <td>43.658340</td>\n",
       "      <td>1.427857</td>\n",
       "      <td>14030.102150</td>\n",
       "    </tr>\n",
       "    <tr>\n",
       "      <th>1</th>\n",
       "      <td>17027846</td>\n",
       "      <td>43.563258</td>\n",
       "      <td>1.462690</td>\n",
       "      <td>3103.308960</td>\n",
       "    </tr>\n",
       "    <tr>\n",
       "      <th>2</th>\n",
       "      <td>17027867</td>\n",
       "      <td>43.562830</td>\n",
       "      <td>1.466148</td>\n",
       "      <td>3023.358828</td>\n",
       "    </tr>\n",
       "    <tr>\n",
       "      <th>3</th>\n",
       "      <td>17028232</td>\n",
       "      <td>43.568690</td>\n",
       "      <td>1.465350</td>\n",
       "      <td>3677.982346</td>\n",
       "    </tr>\n",
       "    <tr>\n",
       "      <th>4</th>\n",
       "      <td>17028292</td>\n",
       "      <td>43.567570</td>\n",
       "      <td>1.466419</td>\n",
       "      <td>3547.880663</td>\n",
       "    </tr>\n",
       "  </tbody>\n",
       "</table>\n",
       "</div>"
      ],
      "text/plain": [
       "         id        lat       lon      distance\n",
       "0  14804388  43.658340  1.427857  14030.102150\n",
       "1  17027846  43.563258  1.462690   3103.308960\n",
       "2  17027867  43.562830  1.466148   3023.358828\n",
       "3  17028232  43.568690  1.465350   3677.982346\n",
       "4  17028292  43.567570  1.466419   3547.880663"
      ]
     },
     "execution_count": 158,
     "metadata": {},
     "output_type": "execute_result"
    }
   ],
   "source": [
    "df_buildings.head()"
   ]
  },
  {
   "cell_type": "code",
   "execution_count": 167,
   "metadata": {},
   "outputs": [
    {
     "data": {
      "text/html": [
       "<div>\n",
       "<style scoped>\n",
       "    .dataframe tbody tr th:only-of-type {\n",
       "        vertical-align: middle;\n",
       "    }\n",
       "\n",
       "    .dataframe tbody tr th {\n",
       "        vertical-align: top;\n",
       "    }\n",
       "\n",
       "    .dataframe thead th {\n",
       "        text-align: right;\n",
       "    }\n",
       "</style>\n",
       "<table border=\"1\" class=\"dataframe\">\n",
       "  <thead>\n",
       "    <tr style=\"text-align: right;\">\n",
       "      <th></th>\n",
       "      <th>id</th>\n",
       "      <th>lat</th>\n",
       "      <th>lon</th>\n",
       "      <th>distance</th>\n",
       "    </tr>\n",
       "  </thead>\n",
       "  <tbody>\n",
       "    <tr>\n",
       "      <th>234854</th>\n",
       "      <td>129748161</td>\n",
       "      <td>43.535836</td>\n",
       "      <td>1.469016</td>\n",
       "      <td>17.339462</td>\n",
       "    </tr>\n",
       "  </tbody>\n",
       "</table>\n",
       "</div>"
      ],
      "text/plain": [
       "               id        lat       lon   distance\n",
       "234854  129748161  43.535836  1.469016  17.339462"
      ]
     },
     "execution_count": 167,
     "metadata": {},
     "output_type": "execute_result"
    }
   ],
   "source": [
    "df_buildings[df_buildings['distance']==df_buildings['distance'].min()]"
   ]
  },
  {
   "cell_type": "markdown",
   "metadata": {},
   "source": [
    "The closest building from our retirement home node is referenced with id `129748161`, with center only at 17 meters from our orphan node.\n",
    "Let's check that both `way #129748161` and `node #1572879008` describe both the same place:\n",
    "- [https://www.openstreetmap.org/way/129748161](https://www.openstreetmap.org/way/129748161)\n",
    "- [https://www.openstreetmap.org/node/1572879008](https://www.openstreetmap.org/node/1572879008)\n",
    "\n",
    "Answer: Yes, that's definitely the same place, despite the lack of relation between them!\n",
    "Conclusion: our mystery node could be removed from the database...\n"
   ]
  }
 ],
 "metadata": {
  "kernelspec": {
   "display_name": "Python 2",
   "language": "python",
   "name": "python2"
  },
  "language_info": {
   "codemirror_mode": {
    "name": "ipython",
    "version": 2
   },
   "file_extension": ".py",
   "mimetype": "text/x-python",
   "name": "python",
   "nbconvert_exporter": "python",
   "pygments_lexer": "ipython2",
   "version": "2.7.14"
  }
 },
 "nbformat": 4,
 "nbformat_minor": 2
}
