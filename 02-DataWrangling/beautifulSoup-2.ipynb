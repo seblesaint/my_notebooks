{
 "cells": [
  {
   "cell_type": "code",
   "execution_count": 22,
   "metadata": {
    "collapsed": true
   },
   "outputs": [],
   "source": [
    "#!/usr/bin/env python\n",
    "# -*- coding: utf-8 -*-\n",
    "\"\"\"\n",
    "Your task in this exercise is to modify 'extract_carrier()` to get a list of\n",
    "all airlines. Exclude all of the combination values like \"All U.S. Carriers\"\n",
    "from the data that you return. You should return a list of codes for the\n",
    "carriers.\n",
    "\n",
    "All your changes should be in the 'extract_carrier()' function. The\n",
    "'options.html' file in the tab above is a stripped down version of what is\n",
    "actually on the website, but should provide an example of what you should get\n",
    "from the full file.\n",
    "\n",
    "Please note that the function 'make_request()' is provided for your reference\n",
    "only. You will not be able to to actually use it from within the Udacity web UI.\n",
    "\"\"\"\n",
    "import os\n",
    "from bs4 import BeautifulSoup\n",
    "html_page = os.path.join('data', 'DataWrangling', \"options.html\")\n",
    "\n",
    "\n",
    "def extract_carriers(page):\n",
    "    data = []\n",
    "\n",
    "    with open(page, \"r\") as html:\n",
    "        # do something here to find the necessary values\n",
    "        #soup = BeautifulSoup(html, \"lxml\")\n",
    "        soup = BeautifulSoup(html, \"html5lib\")\n",
    "        \n",
    "    data = list()\n",
    "    carriersTag = soup.find('select', attrs={\"id\":u\"CarrierList\"})\n",
    "    optionsList = carriersTag.find_all('option')\n",
    "    for option in optionsList:\n",
    "        code = option['value']\n",
    "        if not code.startswith('All'): data.append(code)\n",
    "    return data\n",
    "\n",
    "\n",
    "def extract_airports(page):\n",
    "    data = []\n",
    "    with open(page, \"r\") as html:\n",
    "        # do something here to find the necessary values\n",
    "        soup = BeautifulSoup(html, \"html5lib\")\n",
    "        \n",
    "    data = list()\n",
    "    airportsTag = soup.find('select', attrs={\"id\":u\"AirportList\"})\n",
    "    optionsList = airportsTag.find_all('option')\n",
    "    for option in optionsList:\n",
    "        code = option['value']\n",
    "        if not code.startswith('All'): data.append(code)\n",
    "    return data\n",
    "\n",
    "def make_request(data):\n",
    "    eventvalidation = data[\"eventvalidation\"]\n",
    "    viewstate = data[\"viewstate\"]\n",
    "    airport = data[\"airport\"]\n",
    "    carrier = data[\"carrier\"]\n",
    "\n",
    "    r = s.post(\"https://www.transtats.bts.gov/Data_Elements.aspx?Data=2\",\n",
    "               data = ((\"__EVENTTARGET\", \"\"),\n",
    "                       (\"__EVENTARGUMENT\", \"\"),\n",
    "                       (\"__VIEWSTATE\", viewstate),\n",
    "                       (\"__VIEWSTATEGENERATOR\",viewstategenerator),\n",
    "                       (\"__EVENTVALIDATION\", eventvalidation),\n",
    "                       (\"CarrierList\", carrier),\n",
    "                       (\"AirportList\", airport),\n",
    "                       (\"Submit\", \"Submit\")))\n",
    "\n",
    "    return r.text\n",
    "\n",
    "\n",
    "def test():\n",
    "    data = extract_carriers(html_page)\n",
    "    assert len(data) == 16\n",
    "    assert \"FL\" in data\n",
    "    assert \"NK\" in data\n",
    "\n",
    "test()"
   ]
  },
  {
   "cell_type": "code",
   "execution_count": 2,
   "metadata": {
    "collapsed": true
   },
   "outputs": [],
   "source": [
    "import os\n",
    "from bs4 import BeautifulSoup\n",
    "html_page = os.path.join('data', 'DataWrangling', \"options.html\")"
   ]
  },
  {
   "cell_type": "code",
   "execution_count": 4,
   "metadata": {},
   "outputs": [],
   "source": [
    "with open(html_page, \"r\") as html:\n",
    "    soup = BeautifulSoup(html, \"html5lib\")"
   ]
  },
  {
   "cell_type": "code",
   "execution_count": 12,
   "metadata": {},
   "outputs": [],
   "source": [
    "carrierListTag = soup.find('select', attrs={\"id\":u\"CarrierList\"})"
   ]
  },
  {
   "cell_type": "code",
   "execution_count": 15,
   "metadata": {},
   "outputs": [],
   "source": [
    "optionList = carrierListTag.find_all('option')"
   ]
  },
  {
   "cell_type": "code",
   "execution_count": 19,
   "metadata": {},
   "outputs": [],
   "source": [
    "codeList = list()\n",
    "for option in optionList:\n",
    "    code = option['value']\n",
    "    if not code.startswith('All'): codeList.append(code)"
   ]
  },
  {
   "cell_type": "code",
   "execution_count": 20,
   "metadata": {},
   "outputs": [
    {
     "data": {
      "text/plain": [
       "[u'FL',\n",
       " u'AS',\n",
       " u'AA',\n",
       " u'MQ',\n",
       " u'5Y',\n",
       " u'DL',\n",
       " u'EV',\n",
       " u'F9',\n",
       " u'HA',\n",
       " u'B6',\n",
       " u'OO',\n",
       " u'WN',\n",
       " u'NK',\n",
       " u'US',\n",
       " u'UA',\n",
       " u'VX']"
      ]
     },
     "execution_count": 20,
     "metadata": {},
     "output_type": "execute_result"
    }
   ],
   "source": [
    "codeList"
   ]
  },
  {
   "cell_type": "code",
   "execution_count": 23,
   "metadata": {
    "collapsed": true
   },
   "outputs": [],
   "source": [
    "airportsTag = soup.find('select', attrs={\"id\":u\"AirportList\"})"
   ]
  },
  {
   "cell_type": "code",
   "execution_count": 25,
   "metadata": {},
   "outputs": [
    {
     "data": {
      "text/plain": [
       "[<option selected=\"selected\" value=\"All\">All</option>,\n",
       " <option value=\"AllMajors\">All Major Airports</option>,\n",
       " <option value=\"ATL\"> - Atlanta, GA: Hartsfield-Jackson Atlanta International</option>,\n",
       " <option value=\"BWI\"> - Baltimore, MD: Baltimore/Washington International Thurgood Marshall</option>,\n",
       " <option value=\"BOS\"> - Boston, MA: Logan International</option>,\n",
       " <option value=\"CLT\"> - Charlotte, NC: Charlotte Douglas International</option>,\n",
       " <option value=\"MDW\"> - Chicago, IL: Chicago Midway International</option>,\n",
       " <option value=\"ORD\"> - Chicago, IL: Chicago O'Hare International</option>,\n",
       " <option value=\"DFW\"> - Dallas/Fort Worth, TX: Dallas/Fort Worth International</option>,\n",
       " <option value=\"DEN\"> - Denver, CO: Denver International</option>,\n",
       " <option value=\"DTW\"> - Detroit, MI: Detroit Metro Wayne County</option>,\n",
       " <option value=\"FLL\"> - Fort Lauderdale, FL: Fort Lauderdale-Hollywood International</option>,\n",
       " <option value=\"IAH\"> - Houston, TX: George Bush Intercontinental/Houston</option>,\n",
       " <option value=\"LAS\"> - Las Vegas, NV: McCarran International</option>,\n",
       " <option value=\"LAX\"> - Los Angeles, CA: Los Angeles International</option>,\n",
       " <option value=\"AllOthers\">All Other Airports</option>,\n",
       " <option value=\"ABR\"> - Aberdeen, SD: Aberdeen Regional</option>,\n",
       " <option value=\"ABI\"> - Abilene, TX: Abilene Regional</option>]"
      ]
     },
     "execution_count": 25,
     "metadata": {},
     "output_type": "execute_result"
    }
   ],
   "source": [
    "airportsTag.find_all('option')"
   ]
  },
  {
   "cell_type": "code",
   "execution_count": null,
   "metadata": {
    "collapsed": true
   },
   "outputs": [],
   "source": []
  }
 ],
 "metadata": {
  "kernelspec": {
   "display_name": "Python 2",
   "language": "python",
   "name": "python2"
  },
  "language_info": {
   "codemirror_mode": {
    "name": "ipython",
    "version": 2
   },
   "file_extension": ".py",
   "mimetype": "text/x-python",
   "name": "python",
   "nbconvert_exporter": "python",
   "pygments_lexer": "ipython2",
   "version": "2.7.14"
  }
 },
 "nbformat": 4,
 "nbformat_minor": 2
}
