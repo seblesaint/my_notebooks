{
 "cells": [
  {
   "cell_type": "markdown",
   "metadata": {},
   "source": [
    "# from clean CSV files to SQLite database"
   ]
  },
  {
   "cell_type": "code",
   "execution_count": 1,
   "metadata": {},
   "outputs": [],
   "source": [
    "import os, sqlite3, time, pandas, csv\n",
    "project_path = \"C:\\\\Users\\\\TO72078\\\\Documents\\\\BIG_DATA\\\\UDACITY\\\\projects\\\\openstreetmap\"\n",
    "db_name = 'toulouse_clean'"
   ]
  },
  {
   "cell_type": "markdown",
   "metadata": {},
   "source": [
    "Let's import our SQLite helper functions (empty_db, create_tables, list_tables, display_schema, db_query...)"
   ]
  },
  {
   "cell_type": "code",
   "execution_count": 2,
   "metadata": {},
   "outputs": [],
   "source": [
    "import sys\n",
    "sys.path.append(project_path)\n",
    "import myeasysql"
   ]
  },
  {
   "cell_type": "code",
   "execution_count": 3,
   "metadata": {},
   "outputs": [],
   "source": [
    "db_conn = sqlite3.connect(os.path.join(project_path, '%s.db' % db_name))\n",
    "db_conn.text_factory = str\n",
    "db_cursor = db_conn.cursor()\n",
    "myeasysql.create_tables(db_cursor)"
   ]
  },
  {
   "cell_type": "code",
   "execution_count": 4,
   "metadata": {},
   "outputs": [],
   "source": [
    "def lazyread_csv_data(csv_path):\n",
    "    \"\"\"build a CSV row generator\"\"\"\n",
    "    with open(csv_path, 'rU') as data:\n",
    "        reader = csv.DictReader(data)\n",
    "        for row in reader:\n",
    "            # yealding instead of returning avoids in-memory work\n",
    "            yield {k: str_encode(v) for k, v in row.iteritems()}\n",
    "                \n",
    "def str_encode(v):\n",
    "    \"\"\"Return string object properly encoded if necessary\"\"\"\n",
    "    return v.encode('utf-8') if isinstance(v, unicode) else str(v)\n",
    "\n",
    "\n",
    "def insert_data(db_conn, table_name, csv_path):\n",
    "    \"\"\"Insert csv data into SQL\"\"\"\n",
    "    from sqlite3 import OperationalError\n",
    "    db_cursor = db_conn.cursor()\n",
    "    generator = lazyread_csv_data(csv_path)\n",
    "    try:\n",
    "        for i, row in enumerate(generator):\n",
    "            QUERY=\"INSERT INTO %s (%s) VALUES (%s)\" % (table_name, ','.join(row.keys()), ','.join(['?' for k in row.keys()]))\n",
    "            db_cursor.execute(QUERY, row.values())\n",
    "    except OperationalError as e:\n",
    "        print 'Failed while inserting:'\n",
    "        print QUERY\n",
    "        print 'sqlite error:', e\n",
    "        return None\n",
    "    finally:\n",
    "        db_conn.commit()\n"
   ]
  },
  {
   "cell_type": "markdown",
   "metadata": {},
   "source": [
    "Let's apply previous functions to the 5 tables required by our project. Again, memory and CPU are checked or monitored."
   ]
  },
  {
   "cell_type": "code",
   "execution_count": 5,
   "metadata": {},
   "outputs": [
    {
     "name": "stdout",
     "output_type": "stream",
     "text": [
      "Populating nodes with CSV toulouse_nodes.csv\n",
      "Populating node_tags with CSV toulouse_node_tags_clean.csv\n",
      "Populating ways with CSV toulouse_ways.csv\n",
      "Populating way_nodes with CSV toulouse_way_nodes.csv\n",
      "Populating way_tags with CSV toulouse_way_tags_clean.csv\n"
     ]
    }
   ],
   "source": [
    "for name in ('nodes', 'node_tags_clean', 'ways', 'way_nodes', 'way_tags_clean'):\n",
    "    table_name = name.replace('_clean','')\n",
    "    csv_file = os.path.join(project_path, \"toulouse_%s.csv\" % name)\n",
    "    print 'Populating %s with CSV %s' % (table_name, os.path.basename(csv_file))\n",
    "    insert_data(db_conn, table_name, csv_file)"
   ]
  },
  {
   "cell_type": "markdown",
   "metadata": {},
   "source": [
    "### Checking effect of cleaning on street names"
   ]
  },
  {
   "cell_type": "markdown",
   "metadata": {},
   "source": [
    "before:\n",
    "```\n",
    "10, 7, ALLEE, allée, Allée, Allées, allées, André, Angle, Av., AVENUE, avenue, Avenue, Barrière, Bd, BIS, Bis, Boulevard, boulevard, bvd, C.c., CC, Centre, Chemin, chemin, Cheminement, Clos, Descente, esplanade, Esplanade, face, Frédéric, Grande, Impasse, impasse, La, la, Lotissement, Mail, Passage, Place, place, Port, Promenade, Quai, R.n., Rond-Point, ROUTE, Route, route, rte, Rue, rue, RUE, Savary, Square, Sur, Voie, voie\n",
    "```"
   ]
  },
  {
   "cell_type": "code",
   "execution_count": 6,
   "metadata": {},
   "outputs": [],
   "source": [
    "QUERY = \"\"\"\n",
    "SELECT value FROM (\n",
    "    SELECT * FROM node_tags UNION ALL SELECT * FROM way_tags\n",
    "    ) WHERE type='addr' AND key='street' GROUP BY value;\n",
    "\"\"\"\n",
    "street_names = myeasysql.db_query(db_cursor, QUERY)"
   ]
  },
  {
   "cell_type": "code",
   "execution_count": 7,
   "metadata": {},
   "outputs": [],
   "source": [
    "street_types = set()\n",
    "for (street,) in street_names:\n",
    "    street_types.add(street.split()[0])"
   ]
  },
  {
   "cell_type": "code",
   "execution_count": 8,
   "metadata": {},
   "outputs": [
    {
     "name": "stdout",
     "output_type": "stream",
     "text": [
      "10, 7, Allee, Allée, Allées, André, Angle, Av., Avenue, Barrière, Bd, Bis, Boulevard, Bvd, C.C., Cc, Centre, Chemin, Cheminement, Clos, Descente, Esplanade, Face, Frédéric, Grande, Impasse, la, Lotissement, Mail, Passage, Place, Port, Promenade, Quai, R.N., Rond-Point, Route, Rte, Rue, Savary, Square, Sur, Voie\n"
     ]
    }
   ],
   "source": [
    "def str_encode(v):\n",
    "    \"\"\"Return string object properly encoded if necessary\"\"\"\n",
    "    return v.encode('utf-8') if isinstance(v, unicode) else str(v)\n",
    "pretty_street_types = sorted([str_encode(stype) for stype in street_types], key=str.lower)\n",
    "print ', '.join(pretty_street_types)"
   ]
  },
  {
   "cell_type": "markdown",
   "metadata": {},
   "source": [
    "### Checking effect of cleaning on zipcodes"
   ]
  },
  {
   "cell_type": "code",
   "execution_count": 9,
   "metadata": {},
   "outputs": [
    {
     "name": "stdout",
     "output_type": "stream",
     "text": [
      "31500,31700,31140,31130,31200,31000,31170,31270,31240,31320,31120,31180,31850,31670,31400,31300,31650,31100,31024,31770,31520,68199,31055,31701,31776,31076,31028,31020,31242,31015,31065,31062,31150,31127,31901,31094,31070,31432,31047,31036,31081,31026,31027,31035,31022,31060,31079,31018,31750,31053,31840,31506,31021,31037\n"
     ]
    }
   ],
   "source": [
    "QUERY = \"\"\"\n",
    "SELECT DISTINCT(value) FROM (\n",
    "    SELECT * FROM node_tags UNION ALL SELECT * FROM way_tags\n",
    "    ) WHERE type='addr' AND key='postcode';\n",
    "\"\"\"\n",
    "print ','.join([v for (v,) in myeasysql.db_query(db_cursor, QUERY)])"
   ]
  },
  {
   "cell_type": "markdown",
   "metadata": {},
   "source": [
    "### Checking effect of cleaning on city names"
   ]
  },
  {
   "cell_type": "code",
   "execution_count": 10,
   "metadata": {},
   "outputs": [
    {
     "name": "stdout",
     "output_type": "stream",
     "text": [
      "Toulouse,Labège,Montrabé,Tournefeuille,Blagnac,Saint-Orens-de-Gameville,Colomiers,Beauzelle,Ramonville-Saint-Agne,Quint-Fonsegrives,Balma,Cugnaux,L'Union,Castanet-Tolosan,Portet-sur-Garonne,Rouffiac-Tolosan,Aucamville,Auzeville-Tolosane,Saint-Jean,Fenouillet,Villeneuve-Tolosane,Cornebarrieu\n"
     ]
    }
   ],
   "source": [
    "QUERY = \"\"\"\n",
    "SELECT DISTINCT(value) FROM (\n",
    "    SELECT * FROM node_tags UNION ALL SELECT * FROM way_tags\n",
    "    ) WHERE type='addr' AND key='city';\n",
    "\"\"\"\n",
    "print ','.join([v for (v,) in myeasysql.db_query(db_cursor, QUERY)])"
   ]
  },
  {
   "cell_type": "code",
   "execution_count": 11,
   "metadata": {},
   "outputs": [],
   "source": [
    "db_conn.close()"
   ]
  },
  {
   "cell_type": "markdown",
   "metadata": {},
   "source": [
    "## Conclusion: street names, zipcodes and city names are now properly standardized"
   ]
  }
 ],
 "metadata": {
  "kernelspec": {
   "display_name": "Python 2",
   "language": "python",
   "name": "python2"
  },
  "language_info": {
   "codemirror_mode": {
    "name": "ipython",
    "version": 2
   },
   "file_extension": ".py",
   "mimetype": "text/x-python",
   "name": "python",
   "nbconvert_exporter": "python",
   "pygments_lexer": "ipython2",
   "version": "2.7.14"
  }
 },
 "nbformat": 4,
 "nbformat_minor": 2
}
